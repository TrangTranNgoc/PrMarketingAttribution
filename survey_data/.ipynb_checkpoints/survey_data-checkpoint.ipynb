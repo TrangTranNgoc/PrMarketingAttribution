{
 "cells": [
  {
   "cell_type": "code",
   "execution_count": 1,
   "metadata": {},
   "outputs": [],
   "source": [
    "import pandas as pd\n",
    "import numpy as np\n",
    "\n",
    "import matplotlib.pyplot as plt\n",
    "import seaborn as sbn\n",
    "\n",
    "import os\n",
    "import glob\n",
    "import re"
   ]
  },
  {
   "cell_type": "markdown",
   "metadata": {},
   "source": [
    "**Set working dir**"
   ]
  },
  {
   "cell_type": "code",
   "execution_count": 2,
   "metadata": {},
   "outputs": [],
   "source": [
    "current_path = os.getcwd() \n",
    "new_path = current_path + '/data/NPS_3months&yearlycheck'"
   ]
  },
  {
   "cell_type": "code",
   "execution_count": 3,
   "metadata": {},
   "outputs": [],
   "source": [
    "os. chdir(new_path)"
   ]
  },
  {
   "cell_type": "markdown",
   "metadata": {},
   "source": [
    "# 1. Load files"
   ]
  },
  {
   "cell_type": "code",
   "execution_count": 4,
   "metadata": {},
   "outputs": [],
   "source": [
    "files = glob.glob('*.csv')"
   ]
  },
  {
   "cell_type": "code",
   "execution_count": 5,
   "metadata": {},
   "outputs": [
    {
     "data": {
      "text/plain": [
       "['2019-09-23 12-01-24 CEST - MX - 3 Months Check Survey.csv',\n",
       " '2019-09-23 12-03-42 CEST - SE - 3 Months Check Survey.csv',\n",
       " '2019-09-23 11-57-05 CEST - FI - 3 Months Check Survey.csv',\n",
       " '2019-09-23 11-57-46 CEST - FISV - 3 Months Check Survey.csv',\n",
       " '2019-09-23 12-02-46 CEST - NO - 3 Months Check Survey.csv',\n",
       " '2019-09-23 11-55-29 CEST - DK - 3 Months Check Survey.csv',\n",
       " '2019-09-23 12-01-01 CEST - IT - 3 Months Check Survey.csv',\n",
       " '2019-09-23 12-00-23 CEST - GB - 3 Months Check Survey.csv',\n",
       " '2019-09-23 12-02-20 CEST - NL - 3 Months Check Survey.csv',\n",
       " '2019-09-23 11-58-29 CEST - FR - 3 Months Check Survey.csv',\n",
       " '2019-09-23 11-56-21 CEST - ES - 3 Months Check Survey.csv',\n",
       " '2019-09-23 11-52-50 CEST - DE - 3 Months Check Survey.csv']"
      ]
     },
     "execution_count": 5,
     "metadata": {},
     "output_type": "execute_result"
    }
   ],
   "source": [
    "files"
   ]
  },
  {
   "cell_type": "code",
   "execution_count": 6,
   "metadata": {},
   "outputs": [],
   "source": [
    "survey = pd.DataFrame()\n",
    "for market in files:\n",
    "    df = pd.read_csv(market, usecols = [7,11], skiprows = 1, header = 0)\n",
    "    survey = pd.concat([survey, df], ignore_index = True)\n",
    "    "
   ]
  },
  {
   "cell_type": "code",
   "execution_count": 7,
   "metadata": {},
   "outputs": [],
   "source": [
    "survey.columns = ['country_id', 'howdoyouknowiZettle']"
   ]
  },
  {
   "cell_type": "markdown",
   "metadata": {},
   "source": [
    "# 2. Data clean"
   ]
  },
  {
   "cell_type": "code",
   "execution_count": 8,
   "metadata": {},
   "outputs": [
    {
     "name": "stdout",
     "output_type": "stream",
     "text": [
      "<class 'pandas.core.frame.DataFrame'>\n",
      "RangeIndex: 6226 entries, 0 to 6225\n",
      "Data columns (total 2 columns):\n",
      "country_id             6226 non-null object\n",
      "howdoyouknowiZettle    6225 non-null object\n",
      "dtypes: object(2)\n",
      "memory usage: 97.4+ KB\n"
     ]
    }
   ],
   "source": [
    "survey.info()"
   ]
  },
  {
   "cell_type": "code",
   "execution_count": 9,
   "metadata": {},
   "outputs": [
    {
     "data": {
      "text/plain": [
       "11"
      ]
     },
     "execution_count": 9,
     "metadata": {},
     "output_type": "execute_result"
    }
   ],
   "source": [
    "survey.country_id.nunique()"
   ]
  },
  {
   "cell_type": "code",
   "execution_count": 10,
   "metadata": {},
   "outputs": [
    {
     "data": {
      "text/plain": [
       "321"
      ]
     },
     "execution_count": 10,
     "metadata": {},
     "output_type": "execute_result"
    }
   ],
   "source": [
    "survey.howdoyouknowiZettle.nunique()"
   ]
  },
  {
   "cell_type": "markdown",
   "metadata": {},
   "source": [
    "Change data type to category"
   ]
  },
  {
   "cell_type": "code",
   "execution_count": 11,
   "metadata": {},
   "outputs": [],
   "source": [
    "survey.country_id = survey.country_id.astype('category')"
   ]
  },
  {
   "cell_type": "code",
   "execution_count": 12,
   "metadata": {},
   "outputs": [
    {
     "data": {
      "text/plain": [
       "GB    1963\n",
       "MX    1173\n",
       "FR     921\n",
       "NL     701\n",
       "FI     459\n",
       "DE     387\n",
       "SE     238\n",
       "NO     210\n",
       "DK     120\n",
       "ES      36\n",
       "IT      18\n",
       "Name: country_id, dtype: int64"
      ]
     },
     "execution_count": 12,
     "metadata": {},
     "output_type": "execute_result"
    }
   ],
   "source": [
    "survey.country_id.value_counts()"
   ]
  },
  {
   "cell_type": "markdown",
   "metadata": {},
   "source": [
    "# 3. Exploration"
   ]
  },
  {
   "cell_type": "code",
   "execution_count": 13,
   "metadata": {
    "cell_style": "split"
   },
   "outputs": [
    {
     "data": {
      "text/plain": [
       "['MX', 'SE', 'FI', 'NO', 'DK', 'IT', 'GB', 'NL', 'FR', 'ES', 'DE']"
      ]
     },
     "execution_count": 13,
     "metadata": {},
     "output_type": "execute_result"
    }
   ],
   "source": [
    "list(survey.country_id.unique())"
   ]
  },
  {
   "cell_type": "code",
   "execution_count": 14,
   "metadata": {
    "cell_style": "split"
   },
   "outputs": [
    {
     "data": {
      "text/html": [
       "<div>\n",
       "<style scoped>\n",
       "    .dataframe tbody tr th:only-of-type {\n",
       "        vertical-align: middle;\n",
       "    }\n",
       "\n",
       "    .dataframe tbody tr th {\n",
       "        vertical-align: top;\n",
       "    }\n",
       "\n",
       "    .dataframe thead th {\n",
       "        text-align: right;\n",
       "    }\n",
       "</style>\n",
       "<table border=\"1\" class=\"dataframe\">\n",
       "  <thead>\n",
       "    <tr style=\"text-align: right;\">\n",
       "      <th></th>\n",
       "      <th>country_id</th>\n",
       "      <th>howdoyouknowiZettle</th>\n",
       "    </tr>\n",
       "  </thead>\n",
       "  <tbody>\n",
       "    <tr>\n",
       "      <td>0</td>\n",
       "      <td>MX</td>\n",
       "      <td>Ads en la web</td>\n",
       "    </tr>\n",
       "    <tr>\n",
       "      <td>1</td>\n",
       "      <td>MX</td>\n",
       "      <td>Búsqueda en la web (Google)</td>\n",
       "    </tr>\n",
       "    <tr>\n",
       "      <td>2</td>\n",
       "      <td>MX</td>\n",
       "      <td>Búsqueda en la web (Google)</td>\n",
       "    </tr>\n",
       "    <tr>\n",
       "      <td>3</td>\n",
       "      <td>MX</td>\n",
       "      <td>Yo pagué algo con iZettle o vi a alguien hacerlo</td>\n",
       "    </tr>\n",
       "    <tr>\n",
       "      <td>4</td>\n",
       "      <td>MX</td>\n",
       "      <td>Alguien me lo recomendó</td>\n",
       "    </tr>\n",
       "  </tbody>\n",
       "</table>\n",
       "</div>"
      ],
      "text/plain": [
       "  country_id                               howdoyouknowiZettle\n",
       "0         MX                                     Ads en la web\n",
       "1         MX                       Búsqueda en la web (Google)\n",
       "2         MX                       Búsqueda en la web (Google)\n",
       "3         MX  Yo pagué algo con iZettle o vi a alguien hacerlo\n",
       "4         MX                           Alguien me lo recomendó"
      ]
     },
     "execution_count": 14,
     "metadata": {},
     "output_type": "execute_result"
    }
   ],
   "source": [
    "survey.head()"
   ]
  },
  {
   "cell_type": "markdown",
   "metadata": {},
   "source": [
    "# 4. Sweden"
   ]
  },
  {
   "cell_type": "code",
   "execution_count": 15,
   "metadata": {},
   "outputs": [
    {
     "data": {
      "text/html": [
       "<div>\n",
       "<style scoped>\n",
       "    .dataframe tbody tr th:only-of-type {\n",
       "        vertical-align: middle;\n",
       "    }\n",
       "\n",
       "    .dataframe tbody tr th {\n",
       "        vertical-align: top;\n",
       "    }\n",
       "\n",
       "    .dataframe thead th {\n",
       "        text-align: right;\n",
       "    }\n",
       "</style>\n",
       "<table border=\"1\" class=\"dataframe\">\n",
       "  <thead>\n",
       "    <tr style=\"text-align: right;\">\n",
       "      <th></th>\n",
       "      <th>country_id</th>\n",
       "      <th>howdoyouknowiZettle</th>\n",
       "    </tr>\n",
       "  </thead>\n",
       "  <tbody>\n",
       "    <tr>\n",
       "      <td>1173</td>\n",
       "      <td>SE</td>\n",
       "      <td>Sociala medier</td>\n",
       "    </tr>\n",
       "    <tr>\n",
       "      <td>1174</td>\n",
       "      <td>SE</td>\n",
       "      <td>Via internet (Google)</td>\n",
       "    </tr>\n",
       "    <tr>\n",
       "      <td>1175</td>\n",
       "      <td>SE</td>\n",
       "      <td>Sociala medier</td>\n",
       "    </tr>\n",
       "    <tr>\n",
       "      <td>1176</td>\n",
       "      <td>SE</td>\n",
       "      <td>Genom rekommendationer från någon</td>\n",
       "    </tr>\n",
       "    <tr>\n",
       "      <td>1177</td>\n",
       "      <td>SE</td>\n",
       "      <td>Genom rekommendationer från någon</td>\n",
       "    </tr>\n",
       "    <tr>\n",
       "      <td>...</td>\n",
       "      <td>...</td>\n",
       "      <td>...</td>\n",
       "    </tr>\n",
       "    <tr>\n",
       "      <td>1406</td>\n",
       "      <td>SE</td>\n",
       "      <td>Jag betalade någonting med iZettle, eller såg ...</td>\n",
       "    </tr>\n",
       "    <tr>\n",
       "      <td>1407</td>\n",
       "      <td>SE</td>\n",
       "      <td>Genom rekommendationer från någon</td>\n",
       "    </tr>\n",
       "    <tr>\n",
       "      <td>1408</td>\n",
       "      <td>SE</td>\n",
       "      <td>Genom rekommendationer från någon</td>\n",
       "    </tr>\n",
       "    <tr>\n",
       "      <td>1409</td>\n",
       "      <td>SE</td>\n",
       "      <td>Via internet (Google)</td>\n",
       "    </tr>\n",
       "    <tr>\n",
       "      <td>1410</td>\n",
       "      <td>SE</td>\n",
       "      <td>Genom rekommendationer från någon</td>\n",
       "    </tr>\n",
       "  </tbody>\n",
       "</table>\n",
       "<p>238 rows × 2 columns</p>\n",
       "</div>"
      ],
      "text/plain": [
       "     country_id                                howdoyouknowiZettle\n",
       "1173         SE                                     Sociala medier\n",
       "1174         SE                              Via internet (Google)\n",
       "1175         SE                                     Sociala medier\n",
       "1176         SE                  Genom rekommendationer från någon\n",
       "1177         SE                  Genom rekommendationer från någon\n",
       "...         ...                                                ...\n",
       "1406         SE  Jag betalade någonting med iZettle, eller såg ...\n",
       "1407         SE                  Genom rekommendationer från någon\n",
       "1408         SE                  Genom rekommendationer från någon\n",
       "1409         SE                              Via internet (Google)\n",
       "1410         SE                  Genom rekommendationer från någon\n",
       "\n",
       "[238 rows x 2 columns]"
      ]
     },
     "execution_count": 15,
     "metadata": {},
     "output_type": "execute_result"
    }
   ],
   "source": [
    "survey_SE = survey[survey.country_id == 'SE']\n",
    "survey_SE"
   ]
  },
  {
   "cell_type": "code",
   "execution_count": 16,
   "metadata": {},
   "outputs": [
    {
     "data": {
      "text/plain": [
       "16"
      ]
     },
     "execution_count": 16,
     "metadata": {},
     "output_type": "execute_result"
    }
   ],
   "source": [
    "survey_SE.howdoyouknowiZettle.nunique()"
   ]
  },
  {
   "cell_type": "code",
   "execution_count": 17,
   "metadata": {},
   "outputs": [
    {
     "name": "stdout",
     "output_type": "stream",
     "text": [
      "['Sociala medier' 'Via internet (Google)'\n",
      " 'Genom rekommendationer från någon'\n",
      " 'Jag betalade någonting med iZettle, eller såg någon betala med iZettle '\n",
      " 'Online-annonser' 'TV' 'På mässan' 'Har använt det tidigare'\n",
      " 'Tidningar/magasin'\n",
      " 'Jag vat ute själv och letade på googel.Och kollade på flera alternativ'\n",
      " 'minns ej' 'Testat tidigare i andra sammanhang. ' 'YouTube'\n",
      " 'blev rekommenderad' 'Har använt det tidigare.' 'Kompis ']\n"
     ]
    }
   ],
   "source": [
    "print(survey[survey.country_id == 'SE'].howdoyouknowiZettle.unique())"
   ]
  },
  {
   "cell_type": "markdown",
   "metadata": {},
   "source": [
    "- **Group 1: Social media ('Sociala medier')** \n",
    "- **Group 2: Google ('Via internet (Google)' +  'Jag vat ute själv och letade på googel.Och kollade på flera alternativ' +'YouTube')**\n",
    "- **Group 3: wom ('Genom rekommendationer från någon' + 'blev rekommenderad' +'Kompis ')**\n",
    "- **Group 4: others ('Jag betalade någonting med iZettle, eller såg någon betala med iZettle ' + 'Har använt det tidigare' + 'Har använt det tidigare.' + 'Testat tidigare i andra sammanhang. ')**\n",
    "- **Group 5: online ads ('Online-annonser')**\n",
    "- **Group 6: offline ('TV' + 'På mässan' + 'Tidningar/magasin')**\n",
    "- **Group 7: dont know ('minns ej')**"
   ]
  },
  {
   "cell_type": "code",
   "execution_count": 18,
   "metadata": {},
   "outputs": [],
   "source": [
    "group1 = ['Sociala medier']\n",
    "group2 = ['Via internet (Google)', 'Jag vat ute själv och letade på googel.Och kollade på flera alternativ','YouTube']\n",
    "group3 = ['Genom rekommendationer från någon', 'blev rekommenderad','Kompis ']\n",
    "group4 = ['Jag betalade någonting med iZettle, eller såg någon betala med iZettle ', 'Har använt det tidigare' \n",
    "          ,'Har använt det tidigare.', 'Testat tidigare i andra sammanhang. ']\n",
    "group5 = ['Online-annonser']\n",
    "group6 = ['TV','På mässan','Tidningar/magasin']\n",
    "group7 = ['minns ej']"
   ]
  },
  {
   "cell_type": "code",
   "execution_count": 19,
   "metadata": {},
   "outputs": [],
   "source": [
    "def group(x):\n",
    "    if x in group1:\n",
    "        return 'group1'\n",
    "    elif x in group2:\n",
    "        return 'group2'\n",
    "    elif x in group3:\n",
    "        return 'group3'\n",
    "    elif x in group4:\n",
    "        return 'group4'\n",
    "    elif x in group5:\n",
    "        return 'group5'\n",
    "    elif x in group6:\n",
    "        return 'group6'\n",
    "    elif x in group7: \n",
    "        return 'group7'\n",
    "    else:\n",
    "        return 'No group'\n"
   ]
  },
  {
   "cell_type": "code",
   "execution_count": 20,
   "metadata": {},
   "outputs": [
    {
     "name": "stderr",
     "output_type": "stream",
     "text": [
      "//anaconda3/lib/python3.7/site-packages/ipykernel_launcher.py:1: SettingWithCopyWarning: \n",
      "A value is trying to be set on a copy of a slice from a DataFrame.\n",
      "Try using .loc[row_indexer,col_indexer] = value instead\n",
      "\n",
      "See the caveats in the documentation: http://pandas.pydata.org/pandas-docs/stable/user_guide/indexing.html#returning-a-view-versus-a-copy\n",
      "  \"\"\"Entry point for launching an IPython kernel.\n"
     ]
    }
   ],
   "source": [
    "survey_SE['group'] = survey_SE.howdoyouknowiZettle.apply(group)"
   ]
  },
  {
   "cell_type": "code",
   "execution_count": 21,
   "metadata": {},
   "outputs": [
    {
     "data": {
      "text/html": [
       "<div>\n",
       "<style scoped>\n",
       "    .dataframe tbody tr th:only-of-type {\n",
       "        vertical-align: middle;\n",
       "    }\n",
       "\n",
       "    .dataframe tbody tr th {\n",
       "        vertical-align: top;\n",
       "    }\n",
       "\n",
       "    .dataframe thead th {\n",
       "        text-align: right;\n",
       "    }\n",
       "</style>\n",
       "<table border=\"1\" class=\"dataframe\">\n",
       "  <thead>\n",
       "    <tr style=\"text-align: right;\">\n",
       "      <th></th>\n",
       "      <th>country_id</th>\n",
       "      <th>howdoyouknowiZettle</th>\n",
       "      <th>group</th>\n",
       "    </tr>\n",
       "  </thead>\n",
       "  <tbody>\n",
       "    <tr>\n",
       "      <td>1173</td>\n",
       "      <td>SE</td>\n",
       "      <td>Sociala medier</td>\n",
       "      <td>group1</td>\n",
       "    </tr>\n",
       "    <tr>\n",
       "      <td>1174</td>\n",
       "      <td>SE</td>\n",
       "      <td>Via internet (Google)</td>\n",
       "      <td>group2</td>\n",
       "    </tr>\n",
       "    <tr>\n",
       "      <td>1175</td>\n",
       "      <td>SE</td>\n",
       "      <td>Sociala medier</td>\n",
       "      <td>group1</td>\n",
       "    </tr>\n",
       "    <tr>\n",
       "      <td>1176</td>\n",
       "      <td>SE</td>\n",
       "      <td>Genom rekommendationer från någon</td>\n",
       "      <td>group3</td>\n",
       "    </tr>\n",
       "    <tr>\n",
       "      <td>1177</td>\n",
       "      <td>SE</td>\n",
       "      <td>Genom rekommendationer från någon</td>\n",
       "      <td>group3</td>\n",
       "    </tr>\n",
       "  </tbody>\n",
       "</table>\n",
       "</div>"
      ],
      "text/plain": [
       "     country_id                howdoyouknowiZettle   group\n",
       "1173         SE                     Sociala medier  group1\n",
       "1174         SE              Via internet (Google)  group2\n",
       "1175         SE                     Sociala medier  group1\n",
       "1176         SE  Genom rekommendationer från någon  group3\n",
       "1177         SE  Genom rekommendationer från någon  group3"
      ]
     },
     "execution_count": 21,
     "metadata": {},
     "output_type": "execute_result"
    }
   ],
   "source": [
    "survey_SE.head()"
   ]
  },
  {
   "cell_type": "code",
   "execution_count": 22,
   "metadata": {},
   "outputs": [
    {
     "data": {
      "text/plain": [
       "group3    104\n",
       "group4     56\n",
       "group2     50\n",
       "group1     14\n",
       "group5      8\n",
       "group6      5\n",
       "group7      1\n",
       "Name: group, dtype: int64"
      ]
     },
     "execution_count": 22,
     "metadata": {},
     "output_type": "execute_result"
    }
   ],
   "source": [
    "survey_SE.group.value_counts()"
   ]
  },
  {
   "cell_type": "code",
   "execution_count": 25,
   "metadata": {},
   "outputs": [
    {
     "data": {
      "image/png": "[encoded data removed]",
      "text/plain": [
       "<Figure size 720x432 with 1 Axes>"
      ]
     },
     "metadata": {},
     "output_type": "display_data"
    }
   ],
   "source": [
    "plt.style.use('seaborn-white')\n",
    "survey_SE.group.value_counts().plot(kind = 'bar', color = 'slateblue', \n",
    "                                    rot = 0, figsize = (10,6))\n",
    "plt.text(4.7,104,'Group 1: Social media', fontsize=11, color = 'slateblue')\n",
    "plt.text(4.7, 100, 'Group 2: Google', fontsize=11, color = 'slateblue')\n",
    "plt.text(4.7, 96, 'Group 3: Words of mouth', fontsize=11, color = 'slateblue')\n",
    "plt.text(4.7, 92, 'Group 4: Others', fontsize=11, color = 'slateblue')\n",
    "plt.text(4.7, 88, 'Group 5: Online ads', fontsize=11, color = 'slateblue')\n",
    "plt.text(4.7, 84, 'Group 6: Offline', fontsize=11, color = 'slateblue')\n",
    "plt.text(4.7, 80, 'Group 7: Dont know', fontsize=11, color = 'slateblue')\n",
    "plt.show()"
   ]
  },
  {
   "cell_type": "markdown",
   "metadata": {},
   "source": [
    "# 5. Finland"
   ]
  },
  {
   "cell_type": "code",
   "execution_count": 26,
   "metadata": {},
   "outputs": [],
   "source": [
    "survey_FI = survey[survey.country_id == 'FI']"
   ]
  },
  {
   "cell_type": "code",
   "execution_count": 27,
   "metadata": {},
   "outputs": [
    {
     "data": {
      "text/plain": [
       "19"
      ]
     },
     "execution_count": 27,
     "metadata": {},
     "output_type": "execute_result"
    }
   ],
   "source": [
    "survey_FI.howdoyouknowiZettle.nunique()"
   ]
  },
  {
   "cell_type": "code",
   "execution_count": 28,
   "metadata": {},
   "outputs": [
    {
     "name": "stdout",
     "output_type": "stream",
     "text": [
      "['Sosiaalisen median' 'Internethaulla (Google)'\n",
      " 'Joku suositteli iZettleä minulle'\n",
      " 'Käytin tai näin jonkun käyttävän iZettleä maksamiseen' 'Verkkomainoksen'\n",
      " 'Minulle suositeltiin laitetta' 'Kaveri kerto.'\n",
      " 'Etsin tarpeeseen ja vertailussani tämä vaihtoehto oli paras'\n",
      " 'Vertailin erilaisia vaihtoehtoja eli Google, Facebook-ryhmät, kaverit, yrittäjäkurssilla juteltiin eri vaihtoehdoista'\n",
      " 'Etsimme edullista maksukortti sovellusta'\n",
      " 'Op pankki hyvä asiakas palvelu oli.'\n",
      " 'Asioin liikkeessä jossa oli iZettle ' 'Ex mieheni firma käytti iZettleä'\n",
      " ' YouTuben kautta' 'Genom rekommendationer från någon'\n",
      " 'Via internet (Google)' 'Sociala medier' 'TV'\n",
      " 'Jag betalade någonting med iZettle, eller såg någon betala med iZettle ']\n"
     ]
    }
   ],
   "source": [
    "print(survey_FI.howdoyouknowiZettle.unique())"
   ]
  },
  {
   "cell_type": "code",
   "execution_count": 29,
   "metadata": {},
   "outputs": [],
   "source": [
    "group1_fi = ['Sosiaalisen median', 'Sociala medier']\n",
    "group2_fi = ['Internethaulla (Google)', 'Etsin tarpeeseen ja vertailussani tämä vaihtoehto oli paras', \n",
    "            'Vertailin erilaisia vaihtoehtoja eli Google, Facebook-ryhmät, kaverit, yrittäjäkurssilla juteltiin eri vaihtoehdoista',\n",
    "            ' YouTuben kautta', 'Via internet (Google)']\n",
    "group3_fi = ['Joku suositteli iZettleä minulle', 'Minulle suositeltiin laitetta', 'Kaveri kerto.',\n",
    "            'Genom rekommendationer från någon']\n",
    "group4_fi = ['Käytin tai näin jonkun käyttävän iZettleä maksamiseen', 'Etsimme edullista maksukortti sovellusta',\n",
    "            'Op pankki hyvä asiakas palvelu oli.', 'Asioin liikkeessä jossa oli iZettle ',\n",
    "            'Ex mieheni firma käytti iZettleä',\n",
    "            'Jag betalade någonting med iZettle, eller såg någon betala med iZettle ']\n",
    "group5_fi = ['Verkkomainoksen']\n",
    "group6_fi = ['TV']\n",
    "#group7_fi = []"
   ]
  },
  {
   "cell_type": "code",
   "execution_count": 30,
   "metadata": {},
   "outputs": [],
   "source": [
    "def group_fi(x):\n",
    "    if x in group1_fi:\n",
    "        return 'group1'\n",
    "    elif x in group2_fi:\n",
    "        return 'group2'\n",
    "    elif x in group3_fi:\n",
    "        return 'group3'\n",
    "    elif x in group4_fi:\n",
    "        return 'group4'\n",
    "    elif x in group5_fi:\n",
    "        return 'group5'\n",
    "    elif x in group6_fi:\n",
    "        return 'group6'\n",
    "    else:\n",
    "        return 'No group'"
   ]
  },
  {
   "cell_type": "code",
   "execution_count": 31,
   "metadata": {},
   "outputs": [
    {
     "name": "stderr",
     "output_type": "stream",
     "text": [
      "//anaconda3/lib/python3.7/site-packages/ipykernel_launcher.py:1: SettingWithCopyWarning: \n",
      "A value is trying to be set on a copy of a slice from a DataFrame.\n",
      "Try using .loc[row_indexer,col_indexer] = value instead\n",
      "\n",
      "See the caveats in the documentation: http://pandas.pydata.org/pandas-docs/stable/user_guide/indexing.html#returning-a-view-versus-a-copy\n",
      "  \"\"\"Entry point for launching an IPython kernel.\n"
     ]
    }
   ],
   "source": [
    "survey_FI['group'] = survey_FI.howdoyouknowiZettle.apply(group_fi)"
   ]
  },
  {
   "cell_type": "code",
   "execution_count": 50,
   "metadata": {},
   "outputs": [
    {
     "data": {
      "image/png": "[encoded data removed]",
      "text/plain": [
       "<Figure size 720x432 with 1 Axes>"
      ]
     },
     "metadata": {},
     "output_type": "display_data"
    }
   ],
   "source": [
    "survey_FI.group.value_counts().plot(kind = 'bar', color = 'slateblue', \n",
    "                                    rot = 0, figsize = (10,6))\n",
    "plt.title('Finland')\n",
    "plt.text(4,176,'Group 1: Social media', fontsize=11, color = 'navy')\n",
    "plt.text(4, 169, 'Group 2: Google', fontsize=11, color = 'navy')\n",
    "plt.text(4, 162, 'Group 3: Words of mouth', fontsize=11, color = 'navy')\n",
    "plt.text(4, 155, 'Group 4: Others', fontsize=11, color = 'navy')\n",
    "plt.text(4, 148, 'Group 5: Online ads', fontsize=11, color = 'navy')\n",
    "plt.text(4, 141, 'Group 6: Offline', fontsize=11, color = 'navy')\n",
    "#plt.text(4.7, 80, 'Group 7: Dont know', fontsize=11, color = 'slateblue')\n",
    "plt.show()"
   ]
  },
  {
   "cell_type": "markdown",
   "metadata": {},
   "source": [
    "# 6. Norway"
   ]
  },
  {
   "cell_type": "code",
   "execution_count": 40,
   "metadata": {},
   "outputs": [],
   "source": [
    "survey_NO = survey[survey.country_id == 'NO']"
   ]
  },
  {
   "cell_type": "code",
   "execution_count": 41,
   "metadata": {},
   "outputs": [
    {
     "data": {
      "text/plain": [
       "15"
      ]
     },
     "execution_count": 41,
     "metadata": {},
     "output_type": "execute_result"
    }
   ],
   "source": [
    "survey_NO.howdoyouknowiZettle.nunique()"
   ]
  },
  {
   "cell_type": "code",
   "execution_count": 42,
   "metadata": {},
   "outputs": [
    {
     "name": "stdout",
     "output_type": "stream",
     "text": [
      "['Noen anbefalte meg iZettle' 'Sosiale medier'\n",
      " 'Jeg betalte for noe med iZettle eller så noen andre gjøre det'\n",
      " 'Internett-søk (Google)' 'Fra bruten mine' 'Nettannonser'\n",
      " 'Jeg kjente til dette systemet fra tidligere '\n",
      " 'Jeg jobber med betalinger, og kjente derfor til iZettle' 'Tvunget'\n",
      " 'husker ikke' 'gjennom jobb' 'facebook'\n",
      " 'En kollega hadde sett dette på et annet sted' 'Avis eller blad'\n",
      " 'På annen jobb']\n"
     ]
    }
   ],
   "source": [
    "print(survey_NO.howdoyouknowiZettle.unique())"
   ]
  },
  {
   "cell_type": "code",
   "execution_count": 43,
   "metadata": {},
   "outputs": [],
   "source": [
    "group1_no = ['Sosiale medier', 'facebook']\n",
    "group2_no = ['Internett-søk (Google)' ]\n",
    "group3_no = ['Noen anbefalte meg iZettle', 'Fra bruten mine',\n",
    "            'En kollega hadde sett dette på et annet sted']\n",
    "group4_no = ['Jeg betalte for noe med iZettle eller så noen andre gjøre det',\n",
    "            'Jeg jobber med betalinger, og kjente derfor til iZettle',\n",
    "            'Tvunget', 'gjennom jobb', 'På annen jobb']\n",
    "group5_no = ['Nettannonser']\n",
    "group6_no = ['Avis eller blad']\n",
    "group7_no = ['Jeg kjente til dette systemet fra tidligere ',\n",
    "            'husker ikke']"
   ]
  },
  {
   "cell_type": "code",
   "execution_count": 44,
   "metadata": {},
   "outputs": [],
   "source": [
    "def group_no(x):\n",
    "    if x in group1_no:\n",
    "        return 'group1'\n",
    "    elif x in group2_no:\n",
    "        return 'group2'\n",
    "    elif x in group3_no:\n",
    "        return 'group3'\n",
    "    elif x in group4_no:\n",
    "        return 'group4'\n",
    "    elif x in group5_no:\n",
    "        return 'group5'\n",
    "    elif x in group6_no:\n",
    "        return 'group6'\n",
    "    elif x in group7_no:\n",
    "        return 'group7'\n",
    "    else:\n",
    "        return 'No group'"
   ]
  },
  {
   "cell_type": "code",
   "execution_count": 45,
   "metadata": {},
   "outputs": [
    {
     "name": "stderr",
     "output_type": "stream",
     "text": [
      "//anaconda3/lib/python3.7/site-packages/ipykernel_launcher.py:1: SettingWithCopyWarning: \n",
      "A value is trying to be set on a copy of a slice from a DataFrame.\n",
      "Try using .loc[row_indexer,col_indexer] = value instead\n",
      "\n",
      "See the caveats in the documentation: http://pandas.pydata.org/pandas-docs/stable/user_guide/indexing.html#returning-a-view-versus-a-copy\n",
      "  \"\"\"Entry point for launching an IPython kernel.\n"
     ]
    }
   ],
   "source": [
    "survey_NO['group'] = survey_NO.howdoyouknowiZettle.apply(group_no)"
   ]
  },
  {
   "cell_type": "code",
   "execution_count": 48,
   "metadata": {},
   "outputs": [
    {
     "data": {
      "image/png": "[encoded data removed]",
      "text/plain": [
       "<Figure size 720x432 with 1 Axes>"
      ]
     },
     "metadata": {},
     "output_type": "display_data"
    }
   ],
   "source": [
    "survey_NO['group'].value_counts().plot(kind = 'bar', color = 'slateblue', \n",
    "                                       rot = 0, \n",
    "                                       figsize = (10,6))\n",
    "plt.title('Norway')\n",
    "plt.text(4.7,100,'Group 1: Social media', fontsize=11, color = 'navy')\n",
    "plt.text(4.7, 96, 'Group 2: Google', fontsize=11, color = 'navy')\n",
    "plt.text(4.7, 92, 'Group 3: Words of mouth', fontsize=11, color = 'navy')\n",
    "plt.text(4.7, 88, 'Group 4: Others', fontsize=11, color = 'navy')\n",
    "plt.text(4.7, 84, 'Group 5: Online ads', fontsize=11, color = 'navy')\n",
    "plt.text(4.7, 80, 'Group 6: Offline', fontsize=11, color = 'navy')\n",
    "plt.text(4.7, 76, 'Group 7: Dont know', fontsize=11, color = 'navy')\n",
    "plt.show()"
   ]
  },
  {
   "cell_type": "markdown",
   "metadata": {},
   "source": [
    "# 7. Denmark"
   ]
  },
  {
   "cell_type": "code",
   "execution_count": 51,
   "metadata": {},
   "outputs": [],
   "source": [
    "survey_DK = survey[survey.country_id == 'DK']"
   ]
  },
  {
   "cell_type": "code",
   "execution_count": 52,
   "metadata": {},
   "outputs": [
    {
     "data": {
      "text/plain": [
       "10"
      ]
     },
     "execution_count": 52,
     "metadata": {},
     "output_type": "execute_result"
    }
   ],
   "source": [
    "survey_DK.howdoyouknowiZettle.nunique()"
   ]
  },
  {
   "cell_type": "code",
   "execution_count": 53,
   "metadata": {},
   "outputs": [
    {
     "name": "stdout",
     "output_type": "stream",
     "text": [
      "['Jeg fik anbefalet iZettle'\n",
      " 'Jeg betalte for noget med iZettle, eller så en anden gøre det'\n",
      " 'Sociale medier' 'Internetsøgning (Google)'\n",
      " 'Set den anvendt i forskellige små forretninger' 'Onlinereklamer' 'Ven'\n",
      " 'Min bank' 'ven' 'fra min kasseterminal udbyder']\n"
     ]
    }
   ],
   "source": [
    "print(survey_DK.howdoyouknowiZettle.unique())"
   ]
  },
  {
   "cell_type": "code",
   "execution_count": 54,
   "metadata": {},
   "outputs": [],
   "source": [
    "group1_dk = ['Sociale medier']\n",
    "group2_dk = ['Internetsøgning (Google)']\n",
    "group3_dk = ['Jeg fik anbefalet iZettle', 'Ven', 'ven']\n",
    "group4_dk = ['Jeg betalte for noget med iZettle, eller så en anden gøre det', \n",
    "             'Set den anvendt i forskellige små forretninger',\n",
    "            'Min bank',\n",
    "            'fra min kasseterminal udbyder']\n",
    "group5_dk = ['Onlinereklamer']\n",
    "#group6_dk = []\n",
    "#group7_dk = []"
   ]
  },
  {
   "cell_type": "code",
   "execution_count": 55,
   "metadata": {},
   "outputs": [],
   "source": [
    "def group_dk(x):\n",
    "    if x in group1_dk:\n",
    "        return 'group1'\n",
    "    elif x in group2_dk:\n",
    "        return 'group2'\n",
    "    elif x in group3_dk:\n",
    "        return 'group3'\n",
    "    elif x in group4_dk:\n",
    "        return 'group4'\n",
    "    elif x in group5_dk:\n",
    "        return 'group5'\n",
    "    else:\n",
    "        return 'No group'"
   ]
  },
  {
   "cell_type": "code",
   "execution_count": 56,
   "metadata": {},
   "outputs": [
    {
     "name": "stderr",
     "output_type": "stream",
     "text": [
      "//anaconda3/lib/python3.7/site-packages/ipykernel_launcher.py:1: SettingWithCopyWarning: \n",
      "A value is trying to be set on a copy of a slice from a DataFrame.\n",
      "Try using .loc[row_indexer,col_indexer] = value instead\n",
      "\n",
      "See the caveats in the documentation: http://pandas.pydata.org/pandas-docs/stable/user_guide/indexing.html#returning-a-view-versus-a-copy\n",
      "  \"\"\"Entry point for launching an IPython kernel.\n"
     ]
    }
   ],
   "source": [
    "survey_DK['group'] = survey_DK.howdoyouknowiZettle.apply(group_dk)"
   ]
  },
  {
   "cell_type": "code",
   "execution_count": 70,
   "metadata": {},
   "outputs": [
    {
     "data": {
      "image/png": "[encoded data removed]",
      "text/plain": [
       "<Figure size 720x432 with 1 Axes>"
      ]
     },
     "metadata": {},
     "output_type": "display_data"
    }
   ],
   "source": [
    "survey_DK['group'].value_counts().plot(kind = 'bar', color = 'slateblue', \n",
    "                                       rot = 0,\n",
    "                                      figsize = (10,6))\n",
    "plt.title('Denmark')\n",
    "plt.text(3.3,46,'Group 1: Social media', fontsize=11, color = 'navy')\n",
    "plt.text(3.3, 44, 'Group 2: Google', fontsize=11, color = 'navy')\n",
    "plt.text(3.3, 42, 'Group 3: Words of mouth', fontsize=11, color = 'navy')\n",
    "plt.text(3.3, 40, 'Group 4: Others', fontsize=11, color = 'navy')\n",
    "plt.text(3.3, 38, 'Group 5: Online ads', fontsize=11, color = 'navy')\n",
    "#plt.text(3.3, 36, 'Group 6: Offline', fontsize=11, color = 'navy')\n",
    "#plt.text(3.3, 34, 'Group 7: Dont know', fontsize=11, color = 'navy')\n",
    "plt.show()"
   ]
  },
  {
   "cell_type": "markdown",
   "metadata": {},
   "source": [
    "# 8. Italy"
   ]
  },
  {
   "cell_type": "code",
   "execution_count": 64,
   "metadata": {},
   "outputs": [],
   "source": [
    "survey_IT = survey[survey.country_id == 'IT']"
   ]
  },
  {
   "cell_type": "code",
   "execution_count": 65,
   "metadata": {},
   "outputs": [
    {
     "data": {
      "text/plain": [
       "5"
      ]
     },
     "execution_count": 65,
     "metadata": {},
     "output_type": "execute_result"
    }
   ],
   "source": [
    "survey_IT.howdoyouknowiZettle.nunique()"
   ]
  },
  {
   "cell_type": "code",
   "execution_count": 66,
   "metadata": {},
   "outputs": [
    {
     "name": "stdout",
     "output_type": "stream",
     "text": [
      "['Pubblicità online' 'Ricerca su internet (Google)'\n",
      " 'Ho pagato qualcosa con iZettle o ho visto qualcun altro usarlo'\n",
      " 'Qualcuno mi ha raccomandato iZettle' 'Social media']\n"
     ]
    }
   ],
   "source": [
    "print(survey_IT.howdoyouknowiZettle.unique())"
   ]
  },
  {
   "cell_type": "code",
   "execution_count": 67,
   "metadata": {},
   "outputs": [],
   "source": [
    "group1_it = ['Social media']\n",
    "group2_it = ['Ricerca su internet (Google)' ]\n",
    "group3_it = ['Qualcuno mi ha raccomandato iZettle']\n",
    "group4_it = ['Ho pagato qualcosa con iZettle o ho visto qualcun altro usarlo']\n",
    "group5_it = ['Pubblicità online']"
   ]
  },
  {
   "cell_type": "code",
   "execution_count": 68,
   "metadata": {},
   "outputs": [],
   "source": [
    "def group_it(x):\n",
    "    if x in group1_it:\n",
    "        return 'group1'\n",
    "    elif x in group2_it:\n",
    "        return 'group2'\n",
    "    elif x in group3_it:\n",
    "        return 'group3'\n",
    "    elif x in group4_it:\n",
    "        return 'group4'\n",
    "    elif x in group5_it:\n",
    "        return 'group5'\n",
    "    else:\n",
    "        return 'No group'"
   ]
  },
  {
   "cell_type": "code",
   "execution_count": 69,
   "metadata": {},
   "outputs": [
    {
     "name": "stderr",
     "output_type": "stream",
     "text": [
      "//anaconda3/lib/python3.7/site-packages/ipykernel_launcher.py:1: SettingWithCopyWarning: \n",
      "A value is trying to be set on a copy of a slice from a DataFrame.\n",
      "Try using .loc[row_indexer,col_indexer] = value instead\n",
      "\n",
      "See the caveats in the documentation: http://pandas.pydata.org/pandas-docs/stable/user_guide/indexing.html#returning-a-view-versus-a-copy\n",
      "  \"\"\"Entry point for launching an IPython kernel.\n"
     ]
    }
   ],
   "source": [
    "survey_IT['group'] = survey_IT.howdoyouknowiZettle.apply(group_it)"
   ]
  },
  {
   "cell_type": "code",
   "execution_count": 74,
   "metadata": {},
   "outputs": [
    {
     "data": {
      "image/png": "[encoded data removed]",
      "text/plain": [
       "<Figure size 720x432 with 1 Axes>"
      ]
     },
     "metadata": {},
     "output_type": "display_data"
    }
   ],
   "source": [
    "survey_IT.group.value_counts().plot(kind = 'bar', rot = 0, \n",
    "                                    color = 'slateblue',\n",
    "                                   figsize = (10,6))\n",
    "plt.title('Italy')\n",
    "plt.text(3.3,10.5,'Group 1: Social media', fontsize=11, color = 'navy')\n",
    "plt.text(3.3, 10, 'Group 2: Google', fontsize=11, color = 'navy')\n",
    "plt.text(3.3, 9.5, 'Group 3: Words of mouth', fontsize=11, color = 'navy')\n",
    "plt.text(3.3, 9, 'Group 4: Others', fontsize=11, color = 'navy')\n",
    "plt.text(3.3, 8.5, 'Group 5: Online ads', fontsize=11, color = 'navy')\n",
    "#plt.text(4.7, 80, 'Group 6: Offline', fontsize=11, color = 'navy')\n",
    "#plt.text(4.7, 76, 'Group 7: Dont know', fontsize=11, color = 'navy')\n",
    "plt.show()"
   ]
  },
  {
   "cell_type": "markdown",
   "metadata": {},
   "source": [
    "# 9. Great Britain"
   ]
  },
  {
   "cell_type": "code",
   "execution_count": 75,
   "metadata": {},
   "outputs": [],
   "source": [
    "survey_GB = survey[survey.country_id == 'GB']"
   ]
  },
  {
   "cell_type": "code",
   "execution_count": 76,
   "metadata": {},
   "outputs": [
    {
     "data": {
      "text/plain": [
       "62"
      ]
     },
     "execution_count": 76,
     "metadata": {},
     "output_type": "execute_result"
    }
   ],
   "source": [
    "survey_GB.howdoyouknowiZettle.nunique()"
   ]
  },
  {
   "cell_type": "code",
   "execution_count": 77,
   "metadata": {},
   "outputs": [
    {
     "name": "stdout",
     "output_type": "stream",
     "text": [
      "['Previous experience ' 'Somebody recommended iZettle to me'\n",
      " 'Internet search (Google)' 'Online ads'\n",
      " 'I paid for something with iZettle or saw someone else do so'\n",
      " 'Social media' 'It was in place in the business already' 'YouTube'\n",
      " 'Television' 'Account ' \"can't remember\" 'Outdoor advertising'\n",
      " 'Social Media, people using it, google search'\n",
      " 'Use it in another business' 'Parish buying scheme'\n",
      " 'Previous company owner' 'looked for payment by card'\n",
      " 'Recommended by a user' 'Radio' 'Recommended by santander bank '\n",
      " 'Facebook' 'Referal' 'Been aware of it for a while '\n",
      " 'Santander promote use' 'Online review website' 'Newspaper or magazine'\n",
      " 'I was directly contacted' 'I googled small business card readers' 'Bank'\n",
      " 'Santander recommended'\n",
      " 'Own research and trial of several mobile payment systems including iZettle'\n",
      " 'In payment industry ' 'Through friend’s' \"I don't remember\" 'A friend'\n",
      " 'Through my business bank Santander' 'Used it in my previous employment '\n",
      " 'Google search' 'payments paid to me for services provided' 'Apple Store'\n",
      " 'Business bank manager Santander ' 'Seen a few people using it '\n",
      " 'A friend use to have one' 'We had it for another part of our business'\n",
      " 'Recommended by another company world pay ' 'Internet '\n",
      " 'Was recommended by Lightspeed sales team' 'review site'\n",
      " 'someone told me about it' 'Via Santander' 'Business colleagues '\n",
      " 'Tabhub recommendation ' 'not sure' 'Santander ' 'Search internet'\n",
      " 'Salesman called into my shop' 'Already a customer '\n",
      " 'Customer told me about it' 'Word of mouth'\n",
      " 'Researched a large number of payment solutions' 'A friend '\n",
      " 'Comparison website']\n"
     ]
    }
   ],
   "source": [
    "print(survey_GB.howdoyouknowiZettle.unique())"
   ]
  },
  {
   "cell_type": "code",
   "execution_count": 78,
   "metadata": {},
   "outputs": [],
   "source": [
    "group1_gb = ['Social media', 'Social Media, people using it, google search',\n",
    "            'Facebook']\n",
    "\n",
    "group2_gb = ['Internet search (Google)', 'YouTube', 'looked for payment by card', \n",
    "            'I googled small business card readers',\n",
    "            'Own research and trial of several mobile payment systems including iZettle',\n",
    "            'Google search', 'Internet ', 'Search internet',\n",
    "            'Researched a large number of payment solutions', 'Comparison website']\n",
    "\n",
    "group3_gb = ['Somebody recommended iZettle to me', 'Previous company owner',\n",
    "            'Recommended by a user', 'Referal', 'Online review website', 'review site',\n",
    "            'Through friend’s', 'A friend', 'Apple Store',\n",
    "            'A friend use to have one',\n",
    "            'Recommended by another company world pay ',\n",
    "            'Was recommended by Lightspeed sales team', 'someone told me about it', 'Tabhub recommendation ',\n",
    "            'Customer told me about it',\n",
    "            'Word of mouth', 'A friend ']\n",
    "\n",
    "group4_gb = ['Previous experience ', 'I paid for something with iZettle or saw someone else do so',\n",
    "             'It was in place in the business already', 'Account ',\n",
    "             'Use it in another business', 'Parish buying scheme',\n",
    "             'Recommended by santander bank ', 'Santander promote use', 'Santander recommended',\n",
    "             'Bank', 'In payment industry ', 'Through my business bank Santander', \n",
    "             'Used it in my previous employment ',\n",
    "             'payments paid to me for services provided',\n",
    "             'Business bank manager Santander ', 'Via Santander',\n",
    "             'Seen a few people using it ', 'Business colleagues ',\n",
    "             'We had it for another part of our business', 'Santander ', \n",
    "             'Already a customer '\n",
    "            ]\n",
    "\n",
    "group5_gb = ['Online ads']\n",
    "\n",
    "group6_gb = ['Television', 'Outdoor advertising', 'Radio',\n",
    "            'Newspaper or magazine', 'I was directly contacted',\n",
    "            'Salesman called into my shop']\n",
    "\n",
    "group7_gb = [\"can't remember\", 'Been aware of it for a while ',\n",
    "            \"I don't remember\", 'not sure']"
   ]
  },
  {
   "cell_type": "code",
   "execution_count": 79,
   "metadata": {},
   "outputs": [],
   "source": [
    "def group_gb(x):\n",
    "    if x in group1_gb:\n",
    "        return 'group1'\n",
    "    elif x in group2_gb:\n",
    "        return 'group2'\n",
    "    elif x in group3_gb:\n",
    "        return 'group3'\n",
    "    elif x in group4_gb:\n",
    "        return 'group4'\n",
    "    elif x in group5_gb:\n",
    "        return 'group5'\n",
    "    elif x in group6_gb:\n",
    "        return 'group6'\n",
    "    elif x in group7_gb:\n",
    "        return 'group7'\n",
    "    else:\n",
    "        return 'No group'"
   ]
  },
  {
   "cell_type": "code",
   "execution_count": 80,
   "metadata": {},
   "outputs": [
    {
     "name": "stderr",
     "output_type": "stream",
     "text": [
      "//anaconda3/lib/python3.7/site-packages/ipykernel_launcher.py:1: SettingWithCopyWarning: \n",
      "A value is trying to be set on a copy of a slice from a DataFrame.\n",
      "Try using .loc[row_indexer,col_indexer] = value instead\n",
      "\n",
      "See the caveats in the documentation: http://pandas.pydata.org/pandas-docs/stable/user_guide/indexing.html#returning-a-view-versus-a-copy\n",
      "  \"\"\"Entry point for launching an IPython kernel.\n"
     ]
    }
   ],
   "source": [
    "survey_GB['group'] = survey_GB.howdoyouknowiZettle.apply(group_gb)"
   ]
  },
  {
   "cell_type": "code",
   "execution_count": 85,
   "metadata": {},
   "outputs": [
    {
     "data": {
      "image/png": "[encoded data removed]",
      "text/plain": [
       "<Figure size 720x432 with 1 Axes>"
      ]
     },
     "metadata": {},
     "output_type": "display_data"
    }
   ],
   "source": [
    "survey_GB.group.value_counts().plot(kind = 'bar', rot = 0, \n",
    "                                    color = 'slateblue',\n",
    "                                   figsize = (10,6))\n",
    "plt.title('Great Britain')\n",
    "plt.text(4.9,950,'Group 1: Social media', fontsize=11, color = 'navy')\n",
    "plt.text(4.9,900, 'Group 2: Google', fontsize=11, color = 'navy')\n",
    "plt.text(4.9,850, 'Group 3: Words of mouth', fontsize=11, color = 'navy')\n",
    "plt.text(4.9,800, 'Group 4: Others', fontsize=11, color = 'navy')\n",
    "plt.text(4.9,750, 'Group 5: Online ads', fontsize=11, color = 'navy')\n",
    "plt.text(4.9,700, 'Group 6: Offline', fontsize=11, color = 'navy')\n",
    "plt.text(4.9,650, 'Group 7: Dont know', fontsize=11, color = 'navy')\n",
    "plt.show()"
   ]
  },
  {
   "cell_type": "markdown",
   "metadata": {},
   "source": [
    "# 10. Netherland"
   ]
  },
  {
   "cell_type": "code",
   "execution_count": 86,
   "metadata": {},
   "outputs": [],
   "source": [
    "survey_NL = survey[survey.country_id == 'NL']"
   ]
  },
  {
   "cell_type": "code",
   "execution_count": 87,
   "metadata": {},
   "outputs": [
    {
     "data": {
      "text/plain": [
       "50"
      ]
     },
     "execution_count": 87,
     "metadata": {},
     "output_type": "execute_result"
    }
   ],
   "source": [
    "survey_NL.howdoyouknowiZettle.nunique()"
   ]
  },
  {
   "cell_type": "code",
   "execution_count": 88,
   "metadata": {},
   "outputs": [
    {
     "name": "stdout",
     "output_type": "stream",
     "text": [
      "['Zoekmachine/zoekopdracht (Google)' 'Social media'\n",
      " ' iZettle werd mij door iemand aanbevolen' 'Online advertenties' 'Google'\n",
      " ' Ik betaalde voor iets of zag iemand anders iets betalen met iZettle'\n",
      " ' Televisie' 'YouTube' 'Via mijn bank' 'Via knab' 'Via mijn dochter'\n",
      " 'door mijn man voor mijn bedrijf gekocht' 'uber' 'Weet ik niet'\n",
      " 'Via Knab' 'Mijnwebwinkel' 'zelf gezocht' 'Knab bank' 'Door collaga'\n",
      " 'via  vriendin' 'Vriend'\n",
      " 'Mijn bank ING had jullie aan bevolen. Omdat hun service niet bij mijn bedrijf paste'\n",
      " 'Ik zocht een handzaam pinapparaat, het was Simyo of iZettle, izettle geworden vanwege het formaat en de snelheid '\n",
      " 'Collega' 'Krant of tijdschrift' 'bij collega voetbalver. sc Lutten'\n",
      " 'Familie' 'niet van toepassing'\n",
      " 'Gebruiktenhet in een winkel waar ik even werkte' 'Kende het product....'\n",
      " 'collega is gebruiker'\n",
      " 'Ik had al izettle go voordat ik de pro voor de horeca ging gebruiken!'\n",
      " 'Adletiekvereninging heeft het' 'Via kennis' 'door Sumup, eigenlijk'\n",
      " 'Vriendin' 'Familielid' 'Amac store Amstelveen' 'Via via' 'Collegas'\n",
      " 'Facebook' 'overgenomen bij aankoop bedrijf' 'Via mijn taxicentrale rtc'\n",
      " 'Een andere ondernemer' 'Knab' 'door leverancier betaalfunctionaliteit'\n",
      " 'via RTC' 'Onderzoek'\n",
      " 'Een beetje van al deze opties: radio, televisie, dagelijks gebruik bij winkels, online adv, zoekmachine'\n",
      " 'weet ik niet meer']\n"
     ]
    }
   ],
   "source": [
    "print(survey_NL.howdoyouknowiZettle.unique())"
   ]
  },
  {
   "cell_type": "code",
   "execution_count": 89,
   "metadata": {},
   "outputs": [],
   "source": [
    "group1_nl = ['Social media', 'Facebook']\n",
    "\n",
    "group2_nl = ['Zoekmachine/zoekopdracht (Google)', 'Google',\n",
    "            'YouTube']\n",
    "\n",
    "group3_nl = [' iZettle werd mij door iemand aanbevolen',\n",
    "            'Via mijn dochter', 'Door collaga', 'via  vriendin', 'Vriend',\n",
    "            'Collega', 'bij collega voetbalver. sc Lutten',\n",
    "            'Familie', 'collega is gebruiker',\n",
    "            'Vriendin', 'Familielid', 'Collegas',\n",
    "            'Een andere ondernemer']\n",
    "\n",
    "group4_nl = [' Ik betaalde voor iets of zag iemand anders iets betalen met iZettle',\n",
    "             'Via mijn bank', 'Via knab', 'Knab bank',\n",
    "             'door mijn man voor mijn bedrijf gekocht', 'uber', 'Via Knab', 'Mijnwebwinkel',\n",
    "             'zelf gezocht', \n",
    "             'Mijn bank ING had jullie aan bevolen. Omdat hun service niet bij mijn bedrijf paste',\n",
    "             'Ik zocht een handzaam pinapparaat, het was Simyo of iZettle, izettle geworden vanwege het formaat en de snelheid ',\n",
    "             'Gebruiktenhet in een winkel waar ik even werkte',\n",
    "             'Kende het product....',\n",
    "             'Ik had al izettle go voordat ik de pro voor de horeca ging gebruiken!',\n",
    "             'Adletiekvereninging heeft het',\n",
    "             'Via kennis', 'door Sumup, eigenlijk',\n",
    "             'Amac store Amstelveen', 'Via via', 'Knab',\n",
    "             'overgenomen bij aankoop bedrijf', 'Via mijn taxicentrale rtc',\n",
    "             'door leverancier betaalfunctionaliteit', 'via RTC', 'Onderzoek'\n",
    "            ]\n",
    "\n",
    "group5_nl = ['Online advertenties']\n",
    "\n",
    "group6_nl = [' Televisie', 'Krant of tijdschrift',\n",
    "            'Een beetje van al deze opties: radio, televisie, dagelijks gebruik bij winkels, online adv, zoekmachine']\n",
    "\n",
    "group7_nl = ['Weet ik niet', 'niet van toepassing', 'weet ik niet meer']"
   ]
  },
  {
   "cell_type": "code",
   "execution_count": 90,
   "metadata": {},
   "outputs": [
    {
     "data": {
      "text/plain": [
       "50"
      ]
     },
     "execution_count": 90,
     "metadata": {},
     "output_type": "execute_result"
    }
   ],
   "source": [
    "len(group1_nl) + len(group2_nl) + len(group3_nl) + len(group4_nl) + len(group5_nl) + len(group6_nl) + len(group7_nl)"
   ]
  },
  {
   "cell_type": "code",
   "execution_count": 91,
   "metadata": {},
   "outputs": [],
   "source": [
    "def group_nl(x):\n",
    "    if x in group1_nl:\n",
    "        return 'group1'\n",
    "    elif x in group2_nl:\n",
    "        return 'group2'\n",
    "    elif x in group3_nl:\n",
    "        return 'group3'\n",
    "    elif x in group4_nl:\n",
    "        return 'group4'\n",
    "    elif x in group5_nl:\n",
    "        return 'group5'\n",
    "    elif x in group6_nl:\n",
    "        return 'group6'\n",
    "    elif x in group7_nl:\n",
    "        return 'group7'\n",
    "    else:\n",
    "        return 'No group'"
   ]
  },
  {
   "cell_type": "code",
   "execution_count": 92,
   "metadata": {},
   "outputs": [
    {
     "name": "stderr",
     "output_type": "stream",
     "text": [
      "//anaconda3/lib/python3.7/site-packages/ipykernel_launcher.py:1: SettingWithCopyWarning: \n",
      "A value is trying to be set on a copy of a slice from a DataFrame.\n",
      "Try using .loc[row_indexer,col_indexer] = value instead\n",
      "\n",
      "See the caveats in the documentation: http://pandas.pydata.org/pandas-docs/stable/user_guide/indexing.html#returning-a-view-versus-a-copy\n",
      "  \"\"\"Entry point for launching an IPython kernel.\n"
     ]
    }
   ],
   "source": [
    "survey_NL['group'] = survey_NL.howdoyouknowiZettle.apply(group_nl)"
   ]
  },
  {
   "cell_type": "code",
   "execution_count": 96,
   "metadata": {},
   "outputs": [
    {
     "data": {
      "image/png": "[encoded data removed]",
      "text/plain": [
       "<Figure size 720x432 with 1 Axes>"
      ]
     },
     "metadata": {},
     "output_type": "display_data"
    }
   ],
   "source": [
    "survey_NL.group.value_counts().plot(kind = 'bar', rot = 0, \n",
    "                                    color = 'slateblue',\n",
    "                                   figsize = (10,6))\n",
    "plt.title('Netherland')\n",
    "plt.text(4.8,300,'Group 1: Social media', fontsize=11, color = 'navy')\n",
    "plt.text(4.8,285, 'Group 2: Google', fontsize=11, color = 'navy')\n",
    "plt.text(4.8,270, 'Group 3: Words of mouth', fontsize=11, color = 'navy')\n",
    "plt.text(4.8,255, 'Group 4: Others', fontsize=11, color = 'navy')\n",
    "plt.text(4.8,240, 'Group 5: Online ads', fontsize=11, color = 'navy')\n",
    "plt.text(4.8,225, 'Group 6: Offline', fontsize=11, color = 'navy')\n",
    "plt.text(4.8,210, 'Group 7: Dont know', fontsize=11, color = 'navy')\n",
    "plt.show()"
   ]
  },
  {
   "cell_type": "markdown",
   "metadata": {},
   "source": [
    "# 11. France"
   ]
  },
  {
   "cell_type": "code",
   "execution_count": 97,
   "metadata": {},
   "outputs": [],
   "source": [
    "survey_FR = survey[survey.country_id == 'FR']"
   ]
  },
  {
   "cell_type": "code",
   "execution_count": 98,
   "metadata": {},
   "outputs": [
    {
     "data": {
      "text/plain": [
       "34"
      ]
     },
     "execution_count": 98,
     "metadata": {},
     "output_type": "execute_result"
    }
   ],
   "source": [
    "survey_FR.howdoyouknowiZettle.nunique()"
   ]
  },
  {
   "cell_type": "code",
   "execution_count": 99,
   "metadata": {},
   "outputs": [
    {
     "name": "stdout",
     "output_type": "stream",
     "text": [
      "['Recherche internet (Google)' \"Quelqu'un m'a recommandé iZettle\"\n",
      " \"J'ai utilisé, ou vu quelqu'un utiliser iZettle pour acheter quelque chose\"\n",
      " 'Boursorama ' 'Publicité sur internet' 'Réseaux sociaux' 'Télévision'\n",
      " 'Par un e-mail de PayPal ' 'un commerçant me la conseiller '\n",
      " 'Via  Paypal' 'recommandation Boursorama Banque'\n",
      " 'Salon des Entrepreneurs à Paris' 'Dans un journal ou magazine'\n",
      " 'Partenariat ' 'Publicité sur la voie publique'\n",
      " \"L'ancien propriétaire l'utiliser de temps en temps.\"\n",
      " 'Proposé par ma banque ' 'obligé par compte pro' 'Radio' 'Boursorama'\n",
      " 'J avais un autre modèle à la concurrence et je suis partie pour mauvais Acceuil comercial'\n",
      " 'Vu le Sumup en premier, mais boîtier lisse pas ergonomique' 'marché'\n",
      " 'je ne me souviens plus' 'YouTube' 'Démarchage commercial de izettle'\n",
      " 'Banque en ligne' 'Salon SME Paris ' 'Banque Boursorama '\n",
      " 'Comparatif sur internet' 'Recherche internet qwant '\n",
      " 'Je ne me souviens pas' 'J’avais des problèmes avec le terminale  sum up'\n",
      " ' Ma banque  Qonto']\n"
     ]
    }
   ],
   "source": [
    "print(survey_FR.howdoyouknowiZettle.unique())"
   ]
  },
  {
   "cell_type": "code",
   "execution_count": 100,
   "metadata": {},
   "outputs": [],
   "source": [
    "group1_fr = ['Réseaux sociaux']\n",
    "group2_fr = ['Recherche internet (Google)', 'YouTube', 'Comparatif sur internet', 'Recherche internet qwant ']\n",
    "group3_fr = [\"Quelqu'un m'a recommandé iZettle\", 'un commerçant me la conseiller ']\n",
    "group4_fr = [\"J'ai utilisé, ou vu quelqu'un utiliser iZettle pour acheter quelque chose\", 'Par un e-mail de PayPal ',\n",
    "            'Via  Paypal', 'Partenariat ', 'Boursorama ', 'recommandation Boursorama Banque', \"L'ancien propriétaire l'utiliser de temps en temps.\",\n",
    "            'Proposé par ma banque ', 'obligé par compte pro', 'Boursorama', \n",
    "            'J avais un autre modèle à la concurrence et je suis partie pour mauvais Acceuil comercial', \n",
    "            'Vu le Sumup en premier, mais boîtier lisse pas ergonomique', 'Démarchage commercial de izettle',\n",
    "            'Banque en ligne', 'Banque Boursorama ', 'J’avais des problèmes avec le terminale  sum up',\n",
    "            ' Ma banque  Qonto']\n",
    "group5_fr = ['Publicité sur internet' ]\n",
    "group6_fr = ['Télévision', 'Salon des Entrepreneurs à Paris', 'Dans un journal ou magazine', 'Publicité sur la voie publique',\n",
    "            'Radio', 'marché', 'Salon SME Paris ']\n",
    "group7_fr = ['je ne me souviens plus', 'Je ne me souviens pas']"
   ]
  },
  {
   "cell_type": "code",
   "execution_count": 101,
   "metadata": {},
   "outputs": [],
   "source": [
    "def group_fr(x):\n",
    "    if x in group1_fr:\n",
    "        return 'group1'\n",
    "    elif x in group2_fr:\n",
    "        return 'group2'\n",
    "    elif x in group3_fr:\n",
    "        return 'group3'\n",
    "    elif x in group4_fr:\n",
    "        return 'group4'\n",
    "    elif x in group5_fr:\n",
    "        return 'group5'\n",
    "    elif x in group6_fr:\n",
    "        return 'group6'\n",
    "    elif x in group7_fr:\n",
    "        return 'group7'\n",
    "    else:\n",
    "        return 'No group'"
   ]
  },
  {
   "cell_type": "code",
   "execution_count": 102,
   "metadata": {},
   "outputs": [
    {
     "name": "stderr",
     "output_type": "stream",
     "text": [
      "//anaconda3/lib/python3.7/site-packages/ipykernel_launcher.py:1: SettingWithCopyWarning: \n",
      "A value is trying to be set on a copy of a slice from a DataFrame.\n",
      "Try using .loc[row_indexer,col_indexer] = value instead\n",
      "\n",
      "See the caveats in the documentation: http://pandas.pydata.org/pandas-docs/stable/user_guide/indexing.html#returning-a-view-versus-a-copy\n",
      "  \"\"\"Entry point for launching an IPython kernel.\n"
     ]
    }
   ],
   "source": [
    "survey_FR['group'] = survey_FR.howdoyouknowiZettle.apply(group_fr)"
   ]
  },
  {
   "cell_type": "code",
   "execution_count": 107,
   "metadata": {},
   "outputs": [
    {
     "data": {
      "image/png": "[encoded data removed]",
      "text/plain": [
       "<Figure size 720x432 with 1 Axes>"
      ]
     },
     "metadata": {},
     "output_type": "display_data"
    }
   ],
   "source": [
    "survey_FR.group.value_counts().plot(kind = 'bar', rot = 0, color = 'slateblue',\n",
    "                                   figsize = (10,6))\n",
    "plt.title('France')\n",
    "plt.text(4.8,340,'Group 1: Social media', fontsize=11, color = 'navy')\n",
    "plt.text(4.8,325, 'Group 2: Google', fontsize=11, color = 'navy')\n",
    "plt.text(4.8,310, 'Group 3: Words of mouth', fontsize=11, color = 'navy')\n",
    "plt.text(4.8,295, 'Group 4: Others', fontsize=11, color = 'navy')\n",
    "plt.text(4.8,280, 'Group 5: Online ads', fontsize=11, color = 'navy')\n",
    "plt.text(4.8,265, 'Group 6: Offline', fontsize=11, color = 'navy')\n",
    "plt.text(4.8,250, 'Group 7: Dont know', fontsize=11, color = 'navy')\n",
    "plt.show()"
   ]
  },
  {
   "cell_type": "markdown",
   "metadata": {},
   "source": [
    "# 12. Germany"
   ]
  },
  {
   "cell_type": "code",
   "execution_count": 108,
   "metadata": {},
   "outputs": [],
   "source": [
    "survey_DE = survey[survey.country_id == 'DE']"
   ]
  },
  {
   "cell_type": "code",
   "execution_count": 109,
   "metadata": {},
   "outputs": [
    {
     "data": {
      "text/plain": [
       "23"
      ]
     },
     "execution_count": 109,
     "metadata": {},
     "output_type": "execute_result"
    }
   ],
   "source": [
    "survey_DE.howdoyouknowiZettle.nunique()"
   ]
  },
  {
   "cell_type": "code",
   "execution_count": 110,
   "metadata": {},
   "outputs": [
    {
     "name": "stdout",
     "output_type": "stream",
     "text": [
      "['Internetsuche (Google)' 'Jemand hat mir iZettle empfohlen'\n",
      " ' Ich habe etwas mit iZettle bezahlt oder jemand anderen dabei zugesehen'\n",
      " 'Soziale Medien' 'Eigeninitiative ' 'Online Werbung' 'PayPal ' 'Freunde'\n",
      " nan 'Facebook' 'Zeitung oder Magazin' 'Telefonischer Anruf von PayPal'\n",
      " 'Paypal Anzeige' 'Reklame' 'Schon vorher mit i zettle gearbeitet'\n",
      " 'Von der Taxi  Kollegen ' 'Anruf über Paypal ' 'PayPal'\n",
      " 'Wir befinden uns im selben Coworking Space'\n",
      " 'Habe von jemand gehört, dass es so etwas gibt. Aber nicht direkt von iZettle.'\n",
      " 'Fernsehen' 'Beim Apple Händler angeboten worden' 'Von kolleginnen'\n",
      " 'YouTube']\n"
     ]
    }
   ],
   "source": [
    "print(survey_DE.howdoyouknowiZettle.unique())"
   ]
  },
  {
   "cell_type": "code",
   "execution_count": 111,
   "metadata": {},
   "outputs": [],
   "source": [
    "group1_de = ['Soziale Medien', 'Facebook', ]\n",
    "group2_de = ['Internetsuche (Google)', 'YouTube']\n",
    "group3_de = ['Jemand hat mir iZettle empfohlen', 'Freunde', 'Von der Taxi  Kollegen ', 'Von kolleginnen',\n",
    "             'Wir befinden uns im selben Coworking Space', 'Beim Apple Händler angeboten worden',\n",
    "             'Habe von jemand gehört, dass es so etwas gibt. Aber nicht direkt von iZettle.']\n",
    "group4_de = [' Ich habe etwas mit iZettle bezahlt oder jemand anderen dabei zugesehen', 'Eigeninitiative ', 'PayPal ',\n",
    "            'Paypal Anzeige', 'Reklame', 'Schon vorher mit i zettle gearbeitet', 'PayPal']\n",
    "group5_de = ['Online Werbung']\n",
    "group6_de = ['Zeitung oder Magazin', 'Telefonischer Anruf von PayPal',  'Anruf über Paypal ', 'Fernsehen']\n",
    "group7_de = []"
   ]
  },
  {
   "cell_type": "code",
   "execution_count": 112,
   "metadata": {},
   "outputs": [],
   "source": [
    "def group_DE(x):\n",
    "    if x in group1_de:\n",
    "        return 'group1'\n",
    "    elif x in group2_de:\n",
    "        return 'group2'\n",
    "    elif x in group3_de:\n",
    "        return 'group3'\n",
    "    elif x in group4_de:\n",
    "        return 'group4'\n",
    "    elif x in group5_de:\n",
    "        return 'group5'\n",
    "    elif x in group6_de:\n",
    "        return 'group6'\n",
    "    else:\n",
    "        return 'group7'"
   ]
  },
  {
   "cell_type": "code",
   "execution_count": 113,
   "metadata": {},
   "outputs": [
    {
     "name": "stderr",
     "output_type": "stream",
     "text": [
      "//anaconda3/lib/python3.7/site-packages/ipykernel_launcher.py:1: SettingWithCopyWarning: \n",
      "A value is trying to be set on a copy of a slice from a DataFrame.\n",
      "Try using .loc[row_indexer,col_indexer] = value instead\n",
      "\n",
      "See the caveats in the documentation: http://pandas.pydata.org/pandas-docs/stable/user_guide/indexing.html#returning-a-view-versus-a-copy\n",
      "  \"\"\"Entry point for launching an IPython kernel.\n"
     ]
    }
   ],
   "source": [
    "survey_DE['group'] = survey_DE.howdoyouknowiZettle.apply(group_DE)"
   ]
  },
  {
   "cell_type": "code",
   "execution_count": 119,
   "metadata": {},
   "outputs": [
    {
     "data": {
      "image/png": "[encoded data removed]",
      "text/plain": [
       "<Figure size 720x432 with 1 Axes>"
      ]
     },
     "metadata": {},
     "output_type": "display_data"
    }
   ],
   "source": [
    "survey_DE.group.value_counts().plot(kind = 'bar', rot = 0, color = 'slateblue',\n",
    "                                   figsize = (10,6))\n",
    "plt.title('Germany')\n",
    "plt.text(4.8,150,'Group 1: Social media', fontsize=11, color = 'navy')\n",
    "plt.text(4.8,143, 'Group 2: Google', fontsize=11, color = 'navy')\n",
    "plt.text(4.8,136, 'Group 3: Words of mouth', fontsize=11, color = 'navy')\n",
    "plt.text(4.8,129, 'Group 4: Others', fontsize=11, color = 'navy')\n",
    "plt.text(4.8,122, 'Group 5: Online ads', fontsize=11, color = 'navy')\n",
    "plt.text(4.8,115, 'Group 6: Offline', fontsize=11, color = 'navy')\n",
    "plt.text(4.8,108, 'Group 7: Dont know', fontsize=11, color = 'navy')\n",
    "plt.show()"
   ]
  },
  {
   "cell_type": "markdown",
   "metadata": {},
   "source": [
    "# 13. Spain"
   ]
  },
  {
   "cell_type": "code",
   "execution_count": 120,
   "metadata": {},
   "outputs": [],
   "source": [
    "survey_ES = survey[survey.country_id == 'ES']"
   ]
  },
  {
   "cell_type": "code",
   "execution_count": 121,
   "metadata": {},
   "outputs": [
    {
     "data": {
      "text/plain": [
       "8"
      ]
     },
     "execution_count": 121,
     "metadata": {},
     "output_type": "execute_result"
    }
   ],
   "source": [
    "survey_ES.howdoyouknowiZettle.nunique()"
   ]
  },
  {
   "cell_type": "code",
   "execution_count": 122,
   "metadata": {},
   "outputs": [
    {
     "name": "stdout",
     "output_type": "stream",
     "text": [
      "['Búsqueda en la web (Google)' 'Alguien me lo recomendó' 'Ads en la web'\n",
      " 'Tienda mediamart' 'A través del banco'\n",
      " 'Yo pagué algo con iZettle o vi a alguien hacerlo' 'Redes sociales'\n",
      " 'Publicidad exterior']\n"
     ]
    }
   ],
   "source": [
    "print(survey_ES.howdoyouknowiZettle.unique())"
   ]
  },
  {
   "cell_type": "code",
   "execution_count": 123,
   "metadata": {},
   "outputs": [],
   "source": [
    "group1_es = ['Redes sociales']\n",
    "group2_es = ['Búsqueda en la web (Google)']\n",
    "group3_es = ['Alguien me lo recomendó', ]\n",
    "group4_es = ['Yo pagué algo con iZettle o vi a alguien hacerlo', ]\n",
    "group5_es = ['Ads en la web']\n",
    "group6_es = ['Tienda mediamart', 'A través del banco', 'Publicidad exterior']\n",
    "#group7_es = []"
   ]
  },
  {
   "cell_type": "code",
   "execution_count": 124,
   "metadata": {},
   "outputs": [],
   "source": [
    "def group_es(x):\n",
    "    if x in group1_es:\n",
    "        return 'group1'\n",
    "    elif x in group2_es:\n",
    "        return 'group2'\n",
    "    elif x in group3_es:\n",
    "        return 'group3'\n",
    "    elif x in group4_es:\n",
    "        return 'group4'\n",
    "    elif x in group5_es:\n",
    "        return 'group5'\n",
    "    elif x in group6_es:\n",
    "        return 'group6'\n",
    "    else:\n",
    "        return 'No group'"
   ]
  },
  {
   "cell_type": "code",
   "execution_count": 125,
   "metadata": {},
   "outputs": [
    {
     "name": "stderr",
     "output_type": "stream",
     "text": [
      "//anaconda3/lib/python3.7/site-packages/ipykernel_launcher.py:1: SettingWithCopyWarning: \n",
      "A value is trying to be set on a copy of a slice from a DataFrame.\n",
      "Try using .loc[row_indexer,col_indexer] = value instead\n",
      "\n",
      "See the caveats in the documentation: http://pandas.pydata.org/pandas-docs/stable/user_guide/indexing.html#returning-a-view-versus-a-copy\n",
      "  \"\"\"Entry point for launching an IPython kernel.\n"
     ]
    }
   ],
   "source": [
    "survey_ES['group'] = survey_ES.howdoyouknowiZettle.apply(group_es)"
   ]
  },
  {
   "cell_type": "code",
   "execution_count": 126,
   "metadata": {},
   "outputs": [
    {
     "name": "stderr",
     "output_type": "stream",
     "text": [
      "//anaconda3/lib/python3.7/site-packages/pandas/core/generic.py:5208: SettingWithCopyWarning: \n",
      "A value is trying to be set on a copy of a slice from a DataFrame.\n",
      "Try using .loc[row_indexer,col_indexer] = value instead\n",
      "\n",
      "See the caveats in the documentation: http://pandas.pydata.org/pandas-docs/stable/user_guide/indexing.html#returning-a-view-versus-a-copy\n",
      "  self[name] = value\n"
     ]
    }
   ],
   "source": [
    "survey_ES.group = survey_ES.group.astype('category')"
   ]
  },
  {
   "cell_type": "code",
   "execution_count": 134,
   "metadata": {},
   "outputs": [
    {
     "data": {
      "image/png": "[encoded data removed]",
      "text/plain": [
       "<Figure size 720x432 with 1 Axes>"
      ]
     },
     "metadata": {},
     "output_type": "display_data"
    }
   ],
   "source": [
    "plt.style.use('seaborn-white')\n",
    "survey_ES.group.value_counts().plot(kind = 'bar', color = 'slateblue', rot = 0,\n",
    "                                   figsize = (10,6))\n",
    "plt.title('Spain')\n",
    "plt.text(4.1,12.5,'Group 1: Social media', fontsize=11, color = 'navy')\n",
    "plt.text(4.1, 12, 'Group 2: Google', fontsize=11, color = 'navy')\n",
    "plt.text(4.1, 11.5, 'Group 3: Words of mouth', fontsize=11, color = 'navy')\n",
    "plt.text(4.1, 11, 'Group 4: Others', fontsize=11, color = 'navy')\n",
    "plt.text(4.1, 10.5, 'Group 5: Online ads', fontsize=11, color = 'navy')\n",
    "plt.text(4.1, 10, 'Group 6: Offline', fontsize=11, color = 'navy')\n",
    "#plt.text(4.7, 76, 'Group 7: Dont know', fontsize=11, color = 'navy')\n",
    "plt.show()"
   ]
  },
  {
   "cell_type": "markdown",
   "metadata": {},
   "source": [
    "# 14. Europe"
   ]
  },
  {
   "cell_type": "code",
   "execution_count": 135,
   "metadata": {},
   "outputs": [],
   "source": [
    "survey_eu = pd.concat([survey_SE, survey_FI, survey_NO, survey_DK, survey_IT, \n",
    "                       survey_GB, survey_NL, survey_FR, survey_DE, survey_ES], axis = 0)"
   ]
  },
  {
   "cell_type": "code",
   "execution_count": 136,
   "metadata": {},
   "outputs": [],
   "source": [
    "survey_eu_group = pd.DataFrame(survey_eu.groupby('group')['country_id'].count().sort_values(ascending = False))\n",
    "survey_eu_group['percent'] = survey_eu_group['country_id']/survey_eu_group['country_id'].sum()"
   ]
  },
  {
   "cell_type": "code",
   "execution_count": 137,
   "metadata": {},
   "outputs": [
    {
     "data": {
      "text/html": [
       "<div>\n",
       "<style scoped>\n",
       "    .dataframe tbody tr th:only-of-type {\n",
       "        vertical-align: middle;\n",
       "    }\n",
       "\n",
       "    .dataframe tbody tr th {\n",
       "        vertical-align: top;\n",
       "    }\n",
       "\n",
       "    .dataframe thead th {\n",
       "        text-align: right;\n",
       "    }\n",
       "</style>\n",
       "<table border=\"1\" class=\"dataframe\">\n",
       "  <thead>\n",
       "    <tr style=\"text-align: right;\">\n",
       "      <th>group</th>\n",
       "      <th>group3</th>\n",
       "      <th>group2</th>\n",
       "      <th>group4</th>\n",
       "      <th>group1</th>\n",
       "      <th>group5</th>\n",
       "      <th>group6</th>\n",
       "      <th>group7</th>\n",
       "    </tr>\n",
       "  </thead>\n",
       "  <tbody>\n",
       "    <tr>\n",
       "      <td>country_id</td>\n",
       "      <td>2117.000000</td>\n",
       "      <td>1365.000000</td>\n",
       "      <td>580.000000</td>\n",
       "      <td>486.00000</td>\n",
       "      <td>361.000000</td>\n",
       "      <td>131.000000</td>\n",
       "      <td>13.000000</td>\n",
       "    </tr>\n",
       "    <tr>\n",
       "      <td>percent</td>\n",
       "      <td>0.418959</td>\n",
       "      <td>0.270137</td>\n",
       "      <td>0.114783</td>\n",
       "      <td>0.09618</td>\n",
       "      <td>0.071443</td>\n",
       "      <td>0.025925</td>\n",
       "      <td>0.002573</td>\n",
       "    </tr>\n",
       "  </tbody>\n",
       "</table>\n",
       "</div>"
      ],
      "text/plain": [
       "group            group3       group2      group4     group1      group5  \\\n",
       "country_id  2117.000000  1365.000000  580.000000  486.00000  361.000000   \n",
       "percent        0.418959     0.270137    0.114783    0.09618    0.071443   \n",
       "\n",
       "group           group6     group7  \n",
       "country_id  131.000000  13.000000  \n",
       "percent       0.025925   0.002573  "
      ]
     },
     "execution_count": 137,
     "metadata": {},
     "output_type": "execute_result"
    }
   ],
   "source": [
    "survey_eu_group_t = survey_eu_group.transpose()\n",
    "survey_eu_group_t"
   ]
  },
  {
   "cell_type": "code",
   "execution_count": 138,
   "metadata": {},
   "outputs": [
    {
     "data": {
      "text/html": [
       "<div>\n",
       "<style scoped>\n",
       "    .dataframe tbody tr th:only-of-type {\n",
       "        vertical-align: middle;\n",
       "    }\n",
       "\n",
       "    .dataframe tbody tr th {\n",
       "        vertical-align: top;\n",
       "    }\n",
       "\n",
       "    .dataframe thead th {\n",
       "        text-align: right;\n",
       "    }\n",
       "</style>\n",
       "<table border=\"1\" class=\"dataframe\">\n",
       "  <thead>\n",
       "    <tr style=\"text-align: right;\">\n",
       "      <th>group</th>\n",
       "      <th>group3</th>\n",
       "      <th>group2</th>\n",
       "      <th>group4</th>\n",
       "      <th>group1</th>\n",
       "      <th>group5</th>\n",
       "      <th>group6</th>\n",
       "      <th>group7</th>\n",
       "    </tr>\n",
       "  </thead>\n",
       "  <tbody>\n",
       "    <tr>\n",
       "      <td>percent</td>\n",
       "      <td>0.418959</td>\n",
       "      <td>0.270137</td>\n",
       "      <td>0.114783</td>\n",
       "      <td>0.09618</td>\n",
       "      <td>0.071443</td>\n",
       "      <td>0.025925</td>\n",
       "      <td>0.002573</td>\n",
       "    </tr>\n",
       "  </tbody>\n",
       "</table>\n",
       "</div>"
      ],
      "text/plain": [
       "group      group3    group2    group4   group1    group5    group6    group7\n",
       "percent  0.418959  0.270137  0.114783  0.09618  0.071443  0.025925  0.002573"
      ]
     },
     "execution_count": 138,
     "metadata": {},
     "output_type": "execute_result"
    }
   ],
   "source": [
    "survey_eu_group_t.loc[['percent',]]"
   ]
  },
  {
   "cell_type": "code",
   "execution_count": 167,
   "metadata": {},
   "outputs": [
    {
     "data": {
      "image/png": "[encoded data removed]",
      "text/plain": [
       "<Figure size 1008x720 with 2 Axes>"
      ]
     },
     "metadata": {},
     "output_type": "display_data"
    }
   ],
   "source": [
    "plt.style.use('seaborn')\n",
    "fig = plt.figure(figsize = (14,10))\n",
    "\n",
    "fig.add_subplot(1,2,1)\n",
    "survey_eu_group['country_id'].plot(kind = 'barh', color = 'slateblue')\n",
    "plt.title('Europe: how do you find out iZettle?')\n",
    "plt.text(1560,6,'Group 1: Social media', fontsize=9, color = 'black')\n",
    "plt.text(1560, 5.8, 'Group 2: Google', fontsize=9, color = 'black')\n",
    "plt.text(1560, 5.6, 'Group 3: Words of mouth', fontsize=9, color = 'black')\n",
    "plt.text(1560, 5.4, 'Group 4: Others', fontsize=9, color = 'black')\n",
    "plt.text(1560, 5.2, 'Group 5: Online ads', fontsize=9, color = 'black')\n",
    "plt.text(1560, 5, 'Group 6: Offline', fontsize=9, color = 'black')\n",
    "plt.text(1560, 4.8, 'Group 7: Dont know', fontsize=9, color = 'black')\n",
    "plt.xlabel('Nr of response')\n",
    "plt.ylabel('')\n",
    "\n",
    "fig.add_subplot(1,2,2)\n",
    "survey_eu_group_t.loc['percent',].plot(kind = 'barh', color = sbn.color_palette('tab20'))\n",
    "plt.text(0.3,6,'Group 1: Social media', fontsize=9, color = 'black')\n",
    "plt.text(0.3, 5.8, 'Group 2: Google', fontsize=9, color = 'black')\n",
    "plt.text(0.3, 5.6, 'Group 3: Words of mouth', fontsize=9, color = 'black')\n",
    "plt.text(0.3, 5.4, 'Group 4: Others', fontsize=9, color = 'black')\n",
    "plt.text(0.3, 5.2, 'Group 5: Online ads', fontsize=9, color = 'black')\n",
    "plt.text(0.3, 5, 'Group 6: Offline', fontsize=9, color = 'black')\n",
    "plt.text(0.3, 4.8, 'Group 7: Dont know', fontsize=9, color = 'black')\n",
    "plt.ylabel('')\n",
    "plt.xlabel('')\n",
    "plt.show()"
   ]
  },
  {
   "cell_type": "markdown",
   "metadata": {},
   "source": [
    "# Summary"
   ]
  },
  {
   "cell_type": "markdown",
   "metadata": {},
   "source": [
    "- **Group 1: Social media** \n",
    "- **Group 2: Google ('include YouTube')**\n",
    "- **Group 3: wom**\n",
    "- **Group 4: others (include parnetship)**\n",
    "- **Group 5: online ads**\n",
    "- **Group 6: offline**\n",
    "- **Group 7: dont know**"
   ]
  },
  {
   "cell_type": "code",
   "execution_count": 168,
   "metadata": {},
   "outputs": [],
   "source": [
    "tables = [survey_SE, survey_FI,\n",
    "         survey_NO, survey_FR,\n",
    "         survey_DE, survey_GB,\n",
    "         survey_NL, survey_ES,\n",
    "         survey_DK, survey_IT]"
   ]
  },
  {
   "cell_type": "code",
   "execution_count": 169,
   "metadata": {},
   "outputs": [
    {
     "data": {
      "image/png": "[encoded data removed]",
      "text/plain": [
       "<Figure size 1440x1152 with 10 Axes>"
      ]
     },
     "metadata": {},
     "output_type": "display_data"
    }
   ],
   "source": [
    "fig = plt.figure(figsize=(20,16))\n",
    "\n",
    "font = {'family': 'serif',\n",
    "        'color':  'black',\n",
    "        'weight': 'normal',\n",
    "        'size': 15,\n",
    "        }\n",
    "\n",
    "for index in range(0, len(tables)):\n",
    "    text = list(tables[index].country_id.unique())[0]\n",
    "    data = tables[index]\n",
    "    \n",
    "    height = tables[index].group.value_counts().max()\n",
    "    if height < 20:\n",
    "        height_f = height - 1\n",
    "    else: height_f = height - 10\n",
    "        \n",
    "    width = tables[index].group.nunique()\n",
    "    if width == 7: \n",
    "        width_f = 3\n",
    "    elif width == 6:\n",
    "        width_f = 2.5\n",
    "    else: width_f = 2\n",
    "    \n",
    "    fig.add_subplot(5,2,index+1)\n",
    "    data.group.value_counts().plot(kind = 'bar', color = 'slateblue', rot = 0)\n",
    "    plt.text(width_f, height_f, text, fontdict=font)\n",
    "    \n",
    "plt.show()"
   ]
  },
  {
   "cell_type": "code",
   "execution_count": null,
   "metadata": {},
   "outputs": [],
   "source": []
  }
 ],
 "metadata": {
  "kernelspec": {
   "display_name": "Python 3",
   "language": "python",
   "name": "python3"
  },
  "language_info": {
   "codemirror_mode": {
    "name": "ipython",
    "version": 3
   },
   "file_extension": ".py",
   "mimetype": "text/x-python",
   "name": "python",
   "nbconvert_exporter": "python",
   "pygments_lexer": "ipython3",
   "version": "3.7.3"
  },
  "toc": {
   "base_numbering": 1,
   "nav_menu": {},
   "number_sections": false,
   "sideBar": true,
   "skip_h1_title": false,
   "title_cell": "Table of Contents",
   "title_sidebar": "Contents",
   "toc_cell": false,
   "toc_position": {
    "height": "calc(100% - 180px)",
    "left": "10px",
    "top": "150px",
    "width": "336px"
   },
   "toc_section_display": true,
   "toc_window_display": true
  }
 },
 "nbformat": 4,
 "nbformat_minor": 2
}
