{
 "cells": [
  {
   "cell_type": "markdown",
   "metadata": {},
   "source": [
    "# 1. Goal\n",
    "\n",
    "**Goal:** to map customer journey with all online touch points which can be trackable.\n",
    "\n",
    "- **Expected basetable:**\n",
    "    + full_visitor_id \n",
    "    + organization_uuid \n",
    "    + session_info (id, start time, end time, traffic source, traffic medium, session_reached_minimum_created)\n",
    "    + country_id\n",
    "    + organization_created\n",
    "    \n",
    "    The basetable will be used for marketing attribution modelling.\n",
    "    \n",
    "    \n",
    "- **Challenges:** \n",
    "\n",
    "GA data:\n",
    "    1. Cookies depedency: merchants can or cann't use cookies upto REG (trackable?)\n",
    "    2. Unable to track REG via app\n",
    "    3. Missing client_id and uuid (some cases cannt record google_id = uuid event at registration)\n",
    "    4. 1 visitor_id: many uuid (one of reasons: due to register via laptops in campaigns, laptops of resellers ...)\n",
    "    5. Many visitor_id: one uuid (one of reasons: often clear cookies)\n",
    "    6. One merchant can register >= 2 times\n",
    "    7. Internal IP\n",
    "\n",
    "Fb and Youtube data:\n",
    "    - Aggregated data: no data at Fb user view/ click\n",
    "    \n",
    "- **Solutions:**\n",
    "    + User campaign data: iZettle'w own tracking\n",
    "    + App_installs\n",
    "    + Registration_attempt\n",
    "    + Customer attribution sources OR attribution funnel\n",
    "    \n",
    "    + Fb and Youtube: customer behaviour assumptions?\n"
   ]
  },
  {
   "cell_type": "markdown",
   "metadata": {},
   "source": [
    "# 2. Customer journey mapping"
   ]
  },
  {
   "cell_type": "markdown",
   "metadata": {},
   "source": [
    "## 2.1 Methodology"
   ]
  },
  {
   "cell_type": "markdown",
   "metadata": {},
   "source": [
    "- **2 principles:**\n",
    "\n",
    "    1. Missing organization_uuid: filled by joining with our own tracking campaign data at REG (client_id)\n",
    "    2. All merchants that cannot be tracked by GA data (cookies) will be traced back for their last touch point by our own internal tracking data (Customer attribution sources or attribution funnel)\n",
    "    \n",
    "- **GA data cleaning**\n",
    "\n",
    "dasda\n",
    "...\n",
    "...\n",
    "\n",
    "- **Used datasets**\n",
    "    + google_analytics_session (ga data)\n",
    "    + user_campaign_data (own tracking campaign data)\n",
    "    + customer_acquisition_source / attribution_funnel_traffic_source/ app_installs (?) (last touch point data)\n",
    "    + organization_customer\n"
   ]
  },
  {
   "cell_type": "markdown",
   "metadata": {},
   "source": [
    "## 2.2 Overview of used datasets"
   ]
  },
  {
   "cell_type": "code",
   "execution_count": 2,
   "metadata": {},
   "outputs": [],
   "source": [
    "import pandas as pd\n",
    "import numpy as np\n",
    "import matplotlib.pyplot as plt\n",
    "import seaborn as sns\n",
    "\n",
    "%load_ext google.cloud.bigquery"
   ]
  },
  {
   "cell_type": "markdown",
   "metadata": {},
   "source": [
    "### 2.2.1 Google_analytics_session"
   ]
  },
  {
   "cell_type": "code",
   "execution_count": 238,
   "metadata": {},
   "outputs": [],
   "source": [
    "%%bigquery df_REG\n",
    "SELECT \n",
    "  COUNT(DISTINCT gas.organization_uuid)\n",
    "  #, gas.full_visitor_id , gas.session_id , gas.session_start_time , gas.session_end_time , gas.session_reached_minimal_created \n",
    "FROM `izettle-dp-pipeline-prod.legacy_views.google_analytics_session` gas\n",
    "JOIN `izettle-dp-pipeline-prod.legacy_views.organization_customer` oc\n",
    "    ON oc.organization_uuid = gas.organization_uuid \n",
    "WHERE oc.organization_created >= session_start_time \n",
    "    AND session_reached_minimal_created IS True"
   ]
  },
  {
   "cell_type": "code",
   "execution_count": 239,
   "metadata": {},
   "outputs": [],
   "source": [
    "%%bigquery df_to_REG\n",
    "SELECT \n",
    "  COUNT(DISTINCT gas.organization_uuid)\n",
    "  #, gas.full_visitor_id , gas.session_id , gas.session_start_time , gas.session_end_time , gas.session_reached_minimal_created \n",
    "FROM `izettle-dp-pipeline-prod.legacy_views.google_analytics_session` gas\n",
    "JOIN `izettle-dp-pipeline-prod.legacy_views.organization_customer` oc\n",
    "    ON oc.organization_uuid = gas.organization_uuid \n",
    "WHERE oc.organization_created >= session_start_time "
   ]
  },
  {
   "cell_type": "markdown",
   "metadata": {},
   "source": [
    "Number of REG merchants since 2017-09-01"
   ]
  },
  {
   "cell_type": "code",
   "execution_count": 242,
   "metadata": {},
   "outputs": [],
   "source": [
    "%%bigquery df_track\n",
    "SELECT \n",
    "  COUNT(DISTINCT gas.organization_uuid)\n",
    "FROM `izettle-dp-pipeline-prod.legacy_views.google_analytics_session` gas"
   ]
  },
  {
   "cell_type": "markdown",
   "metadata": {},
   "source": [
    "Number of REG merchants since 2017-09-01"
   ]
  },
  {
   "cell_type": "code",
   "execution_count": 243,
   "metadata": {},
   "outputs": [],
   "source": [
    "%%bigquery reg\n",
    "SELECT\n",
    "    COUNT(DISTINCT organization_uuid)\n",
    "FROM `izettle-dp-pipeline-prod.legacy_views.organization_customer`\n",
    "WHERE organization_created >= '2017-09-01'"
   ]
  },
  {
   "cell_type": "code",
   "execution_count": 248,
   "metadata": {},
   "outputs": [
    {
     "data": {
      "image/png": "[encoded data removed]",
      "text/plain": [
       "<Figure size 720x432 with 1 Axes>"
      ]
     },
     "metadata": {
      "needs_background": "light"
     },
     "output_type": "display_data"
    }
   ],
   "source": [
    "combine = pd.DataFrame(np.array([reg.iloc[0,0], df_track.iloc[0,0], df_to_REG.iloc[0,0], df_REG.iloc[0,0]]),\n",
    "                  columns=['nr'], \n",
    "                  index = ['total', 'track', 'to_REG', 'at_REG'])\n",
    "combine.plot(kind = 'bar', rot = 0, figsize=(10,6), color = 'slateblue',)\n",
    "plt.title('Nr of merchants since 2017-09-01')\n",
    "plt.show()"
   ]
  },
  {
   "cell_type": "markdown",
   "metadata": {},
   "source": [
    "### 2.2.2 User_campaign_data"
   ]
  },
  {
   "cell_type": "markdown",
   "metadata": {},
   "source": [
    "Built based on:\n",
    "1. user_campaign_data_updated\n",
    "2. user_profile_updated"
   ]
  },
  {
   "cell_type": "markdown",
   "metadata": {},
   "source": [
    "### 2.2.3 Last touch point data"
   ]
  },
  {
   "cell_type": "markdown",
   "metadata": {},
   "source": [
    "All of them are originated from organization_uuid to build!\n",
    "\n",
    "Customer_acquisition_source dataset is built based on following datatables:\n",
    "1. tag_comment\n",
    "2. user_campaign and user_campaign_data (*)\n",
    "3. retail_organization\n",
    "4. sdk_organization and xero_organization\n",
    "5. registration_attempt ('bank')\n",
    "\n",
    "Attribution_funnel_traffic_source dataset is built based on following datatables:\n",
    "1. app_installs\n",
    "2. user_campaign and (user_campaign_data_updated and user_profile_updated)*\n",
    "3. merchant_created (paypal source)\n",
    "\n",
    "*Prefer: attribution_funnel_traffic (skd and xero) cuz GA cannt track REG via app install.* -> test!"
   ]
  },
  {
   "cell_type": "markdown",
   "metadata": {},
   "source": [
    "Customer_acquisition_source"
   ]
  },
  {
   "cell_type": "code",
   "execution_count": 6,
   "metadata": {},
   "outputs": [],
   "source": [
    "%%bigquery customer_acquisition\n",
    "SELECT\n",
    "    cas.organization_uuid,\n",
    "    cas.channel_level_3,\n",
    "    oc.organization_created,\n",
    "    oc.country_id\n",
    "FROM `izettle-dp-pipeline-prod.legacy_views.customer_acquisition_source` cas\n",
    "JOIN `izettle-dp-pipeline-prod.legacy_views.organization_customer`oc\n",
    "ON cas.organization_uuid = oc.organization_uuid\n",
    "WHERE oc.organization_created >= '2017-09-01'"
   ]
  },
  {
   "cell_type": "code",
   "execution_count": 7,
   "metadata": {
    "cell_style": "split"
   },
   "outputs": [
    {
     "data": {
      "text/html": [
       "<div>\n",
       "<style scoped>\n",
       "    .dataframe tbody tr th:only-of-type {\n",
       "        vertical-align: middle;\n",
       "    }\n",
       "\n",
       "    .dataframe tbody tr th {\n",
       "        vertical-align: top;\n",
       "    }\n",
       "\n",
       "    .dataframe thead th {\n",
       "        text-align: right;\n",
       "    }\n",
       "</style>\n",
       "<table border=\"1\" class=\"dataframe\">\n",
       "  <thead>\n",
       "    <tr style=\"text-align: right;\">\n",
       "      <th></th>\n",
       "      <th>organization_uuid</th>\n",
       "      <th>channel_level_3</th>\n",
       "      <th>organization_created</th>\n",
       "      <th>country_id</th>\n",
       "    </tr>\n",
       "  </thead>\n",
       "  <tbody>\n",
       "    <tr>\n",
       "      <td>0</td>\n",
       "      <td>caba6bc0-e0ca-11e7-8b0f-16a852e15726</td>\n",
       "      <td>ps_pay_sdk</td>\n",
       "      <td>2017-12-14 12:32:04.732000+00:00</td>\n",
       "      <td>IT</td>\n",
       "    </tr>\n",
       "    <tr>\n",
       "      <td>1</td>\n",
       "      <td>9ea4aac0-0cf6-11e8-a123-52100336edaa</td>\n",
       "      <td>ps_pay_sdk</td>\n",
       "      <td>2018-02-08 17:36:39.788000+00:00</td>\n",
       "      <td>IT</td>\n",
       "    </tr>\n",
       "    <tr>\n",
       "      <td>2</td>\n",
       "      <td>5fc8e8ce-2a60-11e9-9a35-3cd1e57583c4</td>\n",
       "      <td>ps_pay_sdk</td>\n",
       "      <td>2019-02-06 22:41:42.374000+00:00</td>\n",
       "      <td>IT</td>\n",
       "    </tr>\n",
       "    <tr>\n",
       "      <td>3</td>\n",
       "      <td>36bdfc66-76bf-11e9-846d-d2ad95cf63eb</td>\n",
       "      <td>ps_pay_sdk</td>\n",
       "      <td>2019-05-15 03:12:04.076000+00:00</td>\n",
       "      <td>IT</td>\n",
       "    </tr>\n",
       "    <tr>\n",
       "      <td>4</td>\n",
       "      <td>dfaef250-9009-11e8-aad8-27ce3c467d03</td>\n",
       "      <td>ps_pay_sdk</td>\n",
       "      <td>2018-07-25 12:54:31.669000+00:00</td>\n",
       "      <td>IT</td>\n",
       "    </tr>\n",
       "  </tbody>\n",
       "</table>\n",
       "</div>"
      ],
      "text/plain": [
       "                      organization_uuid channel_level_3  \\\n",
       "0  caba6bc0-e0ca-11e7-8b0f-16a852e15726      ps_pay_sdk   \n",
       "1  9ea4aac0-0cf6-11e8-a123-52100336edaa      ps_pay_sdk   \n",
       "2  5fc8e8ce-2a60-11e9-9a35-3cd1e57583c4      ps_pay_sdk   \n",
       "3  36bdfc66-76bf-11e9-846d-d2ad95cf63eb      ps_pay_sdk   \n",
       "4  dfaef250-9009-11e8-aad8-27ce3c467d03      ps_pay_sdk   \n",
       "\n",
       "              organization_created country_id  \n",
       "0 2017-12-14 12:32:04.732000+00:00         IT  \n",
       "1 2018-02-08 17:36:39.788000+00:00         IT  \n",
       "2 2019-02-06 22:41:42.374000+00:00         IT  \n",
       "3 2019-05-15 03:12:04.076000+00:00         IT  \n",
       "4 2018-07-25 12:54:31.669000+00:00         IT  "
      ]
     },
     "execution_count": 7,
     "metadata": {},
     "output_type": "execute_result"
    }
   ],
   "source": [
    "customer_acquisition.head()"
   ]
  },
  {
   "cell_type": "code",
   "execution_count": 8,
   "metadata": {
    "cell_style": "split"
   },
   "outputs": [
    {
     "name": "stdout",
     "output_type": "stream",
     "text": [
      "<class 'pandas.core.frame.DataFrame'>\n",
      "RangeIndex: 1110000 entries, 0 to 1109999\n",
      "Data columns (total 4 columns):\n",
      "organization_uuid       1110000 non-null object\n",
      "channel_level_3         1110000 non-null object\n",
      "organization_created    1110000 non-null datetime64[ns, UTC]\n",
      "country_id              1110000 non-null object\n",
      "dtypes: datetime64[ns, UTC](1), object(3)\n",
      "memory usage: 33.9+ MB\n"
     ]
    }
   ],
   "source": [
    "customer_acquisition.info()"
   ]
  },
  {
   "cell_type": "code",
   "execution_count": 11,
   "metadata": {
    "cell_style": "split"
   },
   "outputs": [
    {
     "name": "stdout",
     "output_type": "stream",
     "text": [
      "NameErrorr of merchants: 1110000\n",
      "Traffic source levels: ['ps_pay_sdk' 'o_paid_sem' 'o_paid_social' 'o_paid_affiliate'\n",
      " 'ps_bank_bank' 'ps_other_retail' 'ps_other_partner'\n",
      " 'ps_other_local_partnership' 'o_organic_seo' 'o_organic_null'\n",
      " 'o_organic_direct' 'o_organic_invite' 'o_organic_referral'\n",
      " 'ds_inbound_inbound' 'ds_keyaccount_keyaccount' 'ps_product_api'\n",
      " 'o_paid_app_install' 'ds_keyaccount_sdk']\n"
     ]
    }
   ],
   "source": [
    "print('NameErrorr of merchants:',customer_acquisition.organization_uuid.nunique())\n",
    "print('Traffic source levels:', customer_acquisition.channel_level_3.unique())"
   ]
  },
  {
   "cell_type": "code",
   "execution_count": 12,
   "metadata": {
    "cell_style": "split"
   },
   "outputs": [],
   "source": [
    "traffic_change = {'ps':['ps_pay_sdk','ps_bank_bank','ps_other_retail', 'ps_other_partner', 'ps_other_local_partnership', 'ps_product_api'],\n",
    "                 'ds':['ds_inbound_inbound','ds_keyaccount_keyaccount','ds_keyaccount_sdk']}"
   ]
  },
  {
   "cell_type": "code",
   "execution_count": 35,
   "metadata": {
    "cell_style": "split"
   },
   "outputs": [],
   "source": [
    "def change(x):\n",
    "    if x in list(traffic_change.values())[0]: return list(traffic_change.keys())[0] \n",
    "    elif x in list(traffic_change.values())[1]: return list(traffic_change.keys())[1]\n",
    "    else: return x"
   ]
  },
  {
   "cell_type": "code",
   "execution_count": 37,
   "metadata": {},
   "outputs": [],
   "source": [
    "customer_acquisition['traffic_source'] = customer_acquisition['channel_level_3'].apply(change)"
   ]
  },
  {
   "cell_type": "code",
   "execution_count": 114,
   "metadata": {},
   "outputs": [],
   "source": [
    "customer_acquisition_group = pd.DataFrame(customer_acquisition.groupby('traffic_source')['organization_uuid'].count())\n",
    "customer_acquisition_group.rename(columns={'organization_uuid':'nr_merchants'}, inplace = True)\n",
    "customer_acquisition_group.reset_index(inplace = True)\n",
    "\n",
    "customer_acquisition_group['pert'] = customer_acquisition_group['nr_merchants']/customer_acquisition.shape[0] "
   ]
  },
  {
   "cell_type": "markdown",
   "metadata": {},
   "source": [
    "Attribution_funnel"
   ]
  },
  {
   "cell_type": "code",
   "execution_count": 152,
   "metadata": {},
   "outputs": [],
   "source": [
    "%%bigquery attribution_funnel\n",
    "SELECT\n",
    "    af.organization_uuid,\n",
    "    af.traffic_source_level_3,\n",
    "    oc.organization_created,\n",
    "    oc.country_id\n",
    "FROM `izettle-dp-pipeline-prod.legacy_views.attribution_funnel_traffic_source` af\n",
    "JOIN `izettle-dp-pipeline-prod.legacy_views.organization_customer`oc\n",
    "ON af.organization_uuid = oc.organization_uuid\n",
    "WHERE oc.organization_created >= '2017-09-01'"
   ]
  },
  {
   "cell_type": "code",
   "execution_count": 153,
   "metadata": {
    "cell_style": "split"
   },
   "outputs": [
    {
     "data": {
      "text/html": [
       "<div>\n",
       "<style scoped>\n",
       "    .dataframe tbody tr th:only-of-type {\n",
       "        vertical-align: middle;\n",
       "    }\n",
       "\n",
       "    .dataframe tbody tr th {\n",
       "        vertical-align: top;\n",
       "    }\n",
       "\n",
       "    .dataframe thead th {\n",
       "        text-align: right;\n",
       "    }\n",
       "</style>\n",
       "<table border=\"1\" class=\"dataframe\">\n",
       "  <thead>\n",
       "    <tr style=\"text-align: right;\">\n",
       "      <th></th>\n",
       "      <th>organization_uuid</th>\n",
       "      <th>traffic_source_level_3</th>\n",
       "      <th>organization_created</th>\n",
       "      <th>country_id</th>\n",
       "    </tr>\n",
       "  </thead>\n",
       "  <tbody>\n",
       "    <tr>\n",
       "      <td>0</td>\n",
       "      <td>25cb1a20-1ca1-11e8-b63d-65624675a7bb</td>\n",
       "      <td>ds_inbound_inbound</td>\n",
       "      <td>2018-02-28 16:05:08.418000+00:00</td>\n",
       "      <td>IT</td>\n",
       "    </tr>\n",
       "    <tr>\n",
       "      <td>1</td>\n",
       "      <td>5ac103a0-1c8f-11e8-9451-d9280659f68d</td>\n",
       "      <td>ds_inbound_inbound</td>\n",
       "      <td>2018-02-28 13:57:46.330000+00:00</td>\n",
       "      <td>IT</td>\n",
       "    </tr>\n",
       "    <tr>\n",
       "      <td>2</td>\n",
       "      <td>97b07ae0-d061-11e7-9b40-ed96a943ff4c</td>\n",
       "      <td>ds_inbound_inbound</td>\n",
       "      <td>2017-11-23 15:18:43.342000+00:00</td>\n",
       "      <td>IT</td>\n",
       "    </tr>\n",
       "    <tr>\n",
       "      <td>3</td>\n",
       "      <td>8d243380-d0fe-11e7-8e34-7d89207b4112</td>\n",
       "      <td>ds_inbound_inbound</td>\n",
       "      <td>2017-11-24 10:02:16.632000+00:00</td>\n",
       "      <td>IT</td>\n",
       "    </tr>\n",
       "    <tr>\n",
       "      <td>4</td>\n",
       "      <td>bdee4a60-db70-11e7-a393-f8f3adae0c08</td>\n",
       "      <td>ds_inbound_inbound</td>\n",
       "      <td>2017-12-07 17:04:52.742000+00:00</td>\n",
       "      <td>IT</td>\n",
       "    </tr>\n",
       "  </tbody>\n",
       "</table>\n",
       "</div>"
      ],
      "text/plain": [
       "                      organization_uuid traffic_source_level_3  \\\n",
       "0  25cb1a20-1ca1-11e8-b63d-65624675a7bb     ds_inbound_inbound   \n",
       "1  5ac103a0-1c8f-11e8-9451-d9280659f68d     ds_inbound_inbound   \n",
       "2  97b07ae0-d061-11e7-9b40-ed96a943ff4c     ds_inbound_inbound   \n",
       "3  8d243380-d0fe-11e7-8e34-7d89207b4112     ds_inbound_inbound   \n",
       "4  bdee4a60-db70-11e7-a393-f8f3adae0c08     ds_inbound_inbound   \n",
       "\n",
       "              organization_created country_id  \n",
       "0 2018-02-28 16:05:08.418000+00:00         IT  \n",
       "1 2018-02-28 13:57:46.330000+00:00         IT  \n",
       "2 2017-11-23 15:18:43.342000+00:00         IT  \n",
       "3 2017-11-24 10:02:16.632000+00:00         IT  \n",
       "4 2017-12-07 17:04:52.742000+00:00         IT  "
      ]
     },
     "execution_count": 153,
     "metadata": {},
     "output_type": "execute_result"
    }
   ],
   "source": [
    "attribution_funnel.head()"
   ]
  },
  {
   "cell_type": "code",
   "execution_count": 154,
   "metadata": {
    "cell_style": "split"
   },
   "outputs": [
    {
     "name": "stdout",
     "output_type": "stream",
     "text": [
      "<class 'pandas.core.frame.DataFrame'>\n",
      "RangeIndex: 1110000 entries, 0 to 1109999\n",
      "Data columns (total 4 columns):\n",
      "organization_uuid         1110000 non-null object\n",
      "traffic_source_level_3    1110000 non-null object\n",
      "organization_created      1110000 non-null datetime64[ns, UTC]\n",
      "country_id                1110000 non-null object\n",
      "dtypes: datetime64[ns, UTC](1), object(3)\n",
      "memory usage: 33.9+ MB\n"
     ]
    }
   ],
   "source": [
    "attribution_funnel.info()"
   ]
  },
  {
   "cell_type": "code",
   "execution_count": 155,
   "metadata": {
    "cell_style": "split"
   },
   "outputs": [
    {
     "name": "stdout",
     "output_type": "stream",
     "text": [
      "NameErrorr of merchants: 1110000\n",
      "Traffic source levels: ['ds_inbound_inbound' 'ds_keyaccount_keyaccount' 'ps_other_partner'\n",
      " 'o_paid_sem' 'ps_bank_bank' 'o_organic_app' 'o_organic_seo'\n",
      " 'o_paid_social' 'o_organic_null' 'o_organic_direct' 'o_organic_invite'\n",
      " 'o_paid_affiliate' 'o_organic_referral' 'o_paid_app_install'\n",
      " 'ps_other_local_partnership' 'ps_other_isc' 'pp_paypal_paypal'\n",
      " 'ps_product_api' 'ps_pay_sdk' 'ds_keyaccount_sdk']\n"
     ]
    }
   ],
   "source": [
    "print('NameErrorr of merchants:',attribution_funnel.organization_uuid.nunique())\n",
    "print('Traffic source levels:', attribution_funnel.traffic_source_level_3.unique())"
   ]
  },
  {
   "cell_type": "code",
   "execution_count": 156,
   "metadata": {
    "cell_style": "split"
   },
   "outputs": [],
   "source": [
    "traffic_change_2 = {'ps':['ps_pay_sdk','ps_bank_bank','ps_other_retail', 'ps_other_partner', 'ps_other_local_partnership', 'ps_product_api', 'ps_other_isc', 'pp_paypal_paypal'],\n",
    "                 'ds':['ds_inbound_inbound','ds_keyaccount_keyaccount','ds_keyaccount_sdk']}"
   ]
  },
  {
   "cell_type": "code",
   "execution_count": 157,
   "metadata": {
    "cell_style": "split"
   },
   "outputs": [],
   "source": [
    "def change_2(x):\n",
    "    if x in list(traffic_change_2.values())[0]: return list(traffic_change.keys())[0] \n",
    "    elif x in list(traffic_change_2.values())[1]: return list(traffic_change.keys())[1]\n",
    "    else: return x"
   ]
  },
  {
   "cell_type": "code",
   "execution_count": 159,
   "metadata": {},
   "outputs": [],
   "source": [
    "attribution_funnel['traffic_source'] = attribution_funnel['traffic_source_level_3'].apply(change_2)"
   ]
  },
  {
   "cell_type": "code",
   "execution_count": 186,
   "metadata": {},
   "outputs": [],
   "source": [
    "attribution_funnel_group = pd.DataFrame(attribution_funnel.groupby('traffic_source')['organization_uuid'].count())\n",
    "attribution_funnel_group.rename(columns={'organization_uuid':'nr_merchants'}, inplace = True)\n",
    "attribution_funnel_group.reset_index(inplace = True)\n",
    "\n",
    "attribution_funnel_group['pert'] = attribution_funnel_group['nr_merchants']/attribution_funnel.shape[0] "
   ]
  },
  {
   "cell_type": "code",
   "execution_count": 187,
   "metadata": {},
   "outputs": [],
   "source": [
    "merge_attribution = attribution_funnel_group.merge(customer_acquisition_group, how = 'left', on = 'traffic_source')\n",
    "merge_attribution.rename(columns={'pert_x':'pert_attribution_funnel', 'pert_y':'pert_customer_acquisition'}, inplace=True)\n",
    "merge_attribution = merge_attribution[['traffic_source', 'pert_attribution_funnel','pert_customer_acquisition']] = merge_attribution[['traffic_source', 'pert_attribution_funnel','pert_customer_acquisition']]"
   ]
  },
  {
   "cell_type": "code",
   "execution_count": 197,
   "metadata": {},
   "outputs": [
    {
     "data": {
      "text/html": [
       "<div>\n",
       "<style scoped>\n",
       "    .dataframe tbody tr th:only-of-type {\n",
       "        vertical-align: middle;\n",
       "    }\n",
       "\n",
       "    .dataframe tbody tr th {\n",
       "        vertical-align: top;\n",
       "    }\n",
       "\n",
       "    .dataframe thead th {\n",
       "        text-align: right;\n",
       "    }\n",
       "</style>\n",
       "<table border=\"1\" class=\"dataframe\">\n",
       "  <thead>\n",
       "    <tr style=\"text-align: right;\">\n",
       "      <th>traffic_source</th>\n",
       "      <th>ds</th>\n",
       "      <th>o_organic_app</th>\n",
       "      <th>o_organic_direct</th>\n",
       "      <th>o_organic_invite</th>\n",
       "      <th>o_organic_null</th>\n",
       "      <th>o_organic_referral</th>\n",
       "      <th>o_organic_seo</th>\n",
       "      <th>o_paid_affiliate</th>\n",
       "      <th>o_paid_app_install</th>\n",
       "      <th>o_paid_sem</th>\n",
       "      <th>o_paid_social</th>\n",
       "      <th>ps</th>\n",
       "    </tr>\n",
       "  </thead>\n",
       "  <tbody>\n",
       "    <tr>\n",
       "      <td>pert_attribution_funnel</td>\n",
       "      <td>0.0235378</td>\n",
       "      <td>0.100436</td>\n",
       "      <td>0.133275</td>\n",
       "      <td>0.0126018</td>\n",
       "      <td>0.141261</td>\n",
       "      <td>0.0151117</td>\n",
       "      <td>0.101787</td>\n",
       "      <td>0.0619856</td>\n",
       "      <td>0.0143369</td>\n",
       "      <td>0.279918</td>\n",
       "      <td>0.0536216</td>\n",
       "      <td>0.062127</td>\n",
       "    </tr>\n",
       "    <tr>\n",
       "      <td>pert_customer_acquisition</td>\n",
       "      <td>0.0248108</td>\n",
       "      <td>NaN</td>\n",
       "      <td>0.124617</td>\n",
       "      <td>0.0124387</td>\n",
       "      <td>0.250965</td>\n",
       "      <td>0.0158937</td>\n",
       "      <td>0.0986874</td>\n",
       "      <td>0.0615892</td>\n",
       "      <td>0.000157658</td>\n",
       "      <td>0.27417</td>\n",
       "      <td>0.0519865</td>\n",
       "      <td>0.0846838</td>\n",
       "    </tr>\n",
       "  </tbody>\n",
       "</table>\n",
       "</div>"
      ],
      "text/plain": [
       "traffic_source                    ds o_organic_app o_organic_direct  \\\n",
       "pert_attribution_funnel    0.0235378      0.100436         0.133275   \n",
       "pert_customer_acquisition  0.0248108           NaN         0.124617   \n",
       "\n",
       "traffic_source            o_organic_invite o_organic_null o_organic_referral  \\\n",
       "pert_attribution_funnel          0.0126018       0.141261          0.0151117   \n",
       "pert_customer_acquisition        0.0124387       0.250965          0.0158937   \n",
       "\n",
       "traffic_source            o_organic_seo o_paid_affiliate o_paid_app_install  \\\n",
       "pert_attribution_funnel        0.101787        0.0619856          0.0143369   \n",
       "pert_customer_acquisition     0.0986874        0.0615892        0.000157658   \n",
       "\n",
       "traffic_source            o_paid_sem o_paid_social         ps  \n",
       "pert_attribution_funnel     0.279918     0.0536216   0.062127  \n",
       "pert_customer_acquisition    0.27417     0.0519865  0.0846838  "
      ]
     },
     "execution_count": 197,
     "metadata": {},
     "output_type": "execute_result"
    }
   ],
   "source": [
    "merge_attribution_t = merge_attribution.transpose()\n",
    "merge_attribution_t.columns = merge_attribution_t.iloc[0,]\n",
    "merge_attribution_t.drop(['traffic_source'], inplace=True)\n",
    "merge_attribution_t"
   ]
  },
  {
   "cell_type": "code",
   "execution_count": 202,
   "metadata": {},
   "outputs": [
    {
     "data": {
      "image/png": "[encoded data removed]",
      "text/plain": [
       "<Figure size 1008x720 with 1 Axes>"
      ]
     },
     "metadata": {
      "needs_background": "light"
     },
     "output_type": "display_data"
    }
   ],
   "source": [
    "pal = sns.color_palette(\"tab20\")\n",
    "merge_attribution_t.plot(kind = 'bar', stacked = True,\n",
    "                  rot = 0, color = pal,\n",
    "                  figsize = (14,10))\n",
    "\n",
    "plt.legend(loc = 'upper center')\n",
    "plt.show()"
   ]
  },
  {
   "cell_type": "markdown",
   "metadata": {},
   "source": [
    "1. Increase in o_paid_app_install in attribution_funnel (0.0144 - 0.0001)\n",
    "2. Organic_null in customer_acquisition >> Organic_null in attribution_funnel:\n",
    "\n",
    "    => compensate by o_organic_app in attribution_funnel\n",
    "    \n",
    "    => main diff: in APP REG tracking\n",
    "    \n",
    "**So: pick attribution_funnel**"
   ]
  },
  {
   "cell_type": "code",
   "execution_count": 209,
   "metadata": {},
   "outputs": [
    {
     "data": {
      "text/html": [
       "<div>\n",
       "<style scoped>\n",
       "    .dataframe tbody tr th:only-of-type {\n",
       "        vertical-align: middle;\n",
       "    }\n",
       "\n",
       "    .dataframe tbody tr th {\n",
       "        vertical-align: top;\n",
       "    }\n",
       "\n",
       "    .dataframe thead th {\n",
       "        text-align: right;\n",
       "    }\n",
       "</style>\n",
       "<table border=\"1\" class=\"dataframe\">\n",
       "  <thead>\n",
       "    <tr style=\"text-align: right;\">\n",
       "      <th></th>\n",
       "      <th>traffic_source</th>\n",
       "      <th>nr_merchants</th>\n",
       "      <th>pert</th>\n",
       "    </tr>\n",
       "  </thead>\n",
       "  <tbody>\n",
       "    <tr>\n",
       "      <td>0</td>\n",
       "      <td>ds</td>\n",
       "      <td>26127</td>\n",
       "      <td>0.023538</td>\n",
       "    </tr>\n",
       "    <tr>\n",
       "      <td>1</td>\n",
       "      <td>o_organic_app</td>\n",
       "      <td>111484</td>\n",
       "      <td>0.100436</td>\n",
       "    </tr>\n",
       "    <tr>\n",
       "      <td>2</td>\n",
       "      <td>o_organic_direct</td>\n",
       "      <td>147935</td>\n",
       "      <td>0.133275</td>\n",
       "    </tr>\n",
       "    <tr>\n",
       "      <td>3</td>\n",
       "      <td>o_organic_invite</td>\n",
       "      <td>13988</td>\n",
       "      <td>0.012602</td>\n",
       "    </tr>\n",
       "    <tr>\n",
       "      <td>4</td>\n",
       "      <td>o_organic_null</td>\n",
       "      <td>156800</td>\n",
       "      <td>0.141261</td>\n",
       "    </tr>\n",
       "    <tr>\n",
       "      <td>5</td>\n",
       "      <td>o_organic_referral</td>\n",
       "      <td>16774</td>\n",
       "      <td>0.015112</td>\n",
       "    </tr>\n",
       "    <tr>\n",
       "      <td>6</td>\n",
       "      <td>o_organic_seo</td>\n",
       "      <td>112984</td>\n",
       "      <td>0.101787</td>\n",
       "    </tr>\n",
       "    <tr>\n",
       "      <td>7</td>\n",
       "      <td>o_paid_affiliate</td>\n",
       "      <td>68804</td>\n",
       "      <td>0.061986</td>\n",
       "    </tr>\n",
       "    <tr>\n",
       "      <td>8</td>\n",
       "      <td>o_paid_app_install</td>\n",
       "      <td>15914</td>\n",
       "      <td>0.014337</td>\n",
       "    </tr>\n",
       "    <tr>\n",
       "      <td>9</td>\n",
       "      <td>o_paid_sem</td>\n",
       "      <td>310709</td>\n",
       "      <td>0.279918</td>\n",
       "    </tr>\n",
       "    <tr>\n",
       "      <td>10</td>\n",
       "      <td>o_paid_social</td>\n",
       "      <td>59520</td>\n",
       "      <td>0.053622</td>\n",
       "    </tr>\n",
       "    <tr>\n",
       "      <td>11</td>\n",
       "      <td>ps</td>\n",
       "      <td>68961</td>\n",
       "      <td>0.062127</td>\n",
       "    </tr>\n",
       "  </tbody>\n",
       "</table>\n",
       "</div>"
      ],
      "text/plain": [
       "        traffic_source  nr_merchants      pert\n",
       "0                   ds         26127  0.023538\n",
       "1        o_organic_app        111484  0.100436\n",
       "2     o_organic_direct        147935  0.133275\n",
       "3     o_organic_invite         13988  0.012602\n",
       "4       o_organic_null        156800  0.141261\n",
       "5   o_organic_referral         16774  0.015112\n",
       "6        o_organic_seo        112984  0.101787\n",
       "7     o_paid_affiliate         68804  0.061986\n",
       "8   o_paid_app_install         15914  0.014337\n",
       "9           o_paid_sem        310709  0.279918\n",
       "10       o_paid_social         59520  0.053622\n",
       "11                  ps         68961  0.062127"
      ]
     },
     "execution_count": 209,
     "metadata": {},
     "output_type": "execute_result"
    }
   ],
   "source": [
    "attribution_funnel_group"
   ]
  },
  {
   "cell_type": "markdown",
   "metadata": {},
   "source": [
    "app_installs"
   ]
  },
  {
   "cell_type": "code",
   "execution_count": 207,
   "metadata": {},
   "outputs": [],
   "source": [
    "%%bigquery app_installs\n",
    "SELECT \n",
    " installed_at , source  , country_id , organization_uuid , organization_created \n",
    "FROM `izettle-dp-pipeline-prod.legacy_views.app_installs` \n",
    "WHERE organization_created >= '2017-09-01'\n",
    "AND organization_created >= installed_at \n",
    "AND source IN ('organic', 'paid')\n",
    "\n",
    "#total number of possible merchants that registered via app. Actual should <. "
   ]
  },
  {
   "cell_type": "code",
   "execution_count": 208,
   "metadata": {},
   "outputs": [
    {
     "name": "stdout",
     "output_type": "stream",
     "text": [
      "<class 'pandas.core.frame.DataFrame'>\n",
      "RangeIndex: 147107 entries, 0 to 147106\n",
      "Data columns (total 5 columns):\n",
      "installed_at            147107 non-null datetime64[ns, UTC]\n",
      "source                  147107 non-null object\n",
      "country_id              147107 non-null object\n",
      "organization_uuid       147107 non-null object\n",
      "organization_created    147107 non-null datetime64[ns, UTC]\n",
      "dtypes: datetime64[ns, UTC](2), object(3)\n",
      "memory usage: 5.6+ MB\n"
     ]
    }
   ],
   "source": [
    "app_installs.info()"
   ]
  },
  {
   "cell_type": "code",
   "execution_count": 206,
   "metadata": {},
   "outputs": [
    {
     "data": {
      "text/html": [
       "<div>\n",
       "<style scoped>\n",
       "    .dataframe tbody tr th:only-of-type {\n",
       "        vertical-align: middle;\n",
       "    }\n",
       "\n",
       "    .dataframe tbody tr th {\n",
       "        vertical-align: top;\n",
       "    }\n",
       "\n",
       "    .dataframe thead th {\n",
       "        text-align: right;\n",
       "    }\n",
       "</style>\n",
       "<table border=\"1\" class=\"dataframe\">\n",
       "  <thead>\n",
       "    <tr style=\"text-align: right;\">\n",
       "      <th></th>\n",
       "      <th>installed_at</th>\n",
       "      <th>source</th>\n",
       "      <th>country_id</th>\n",
       "      <th>organization_uuid</th>\n",
       "      <th>organization_created</th>\n",
       "    </tr>\n",
       "  </thead>\n",
       "  <tbody>\n",
       "    <tr>\n",
       "      <td>0</td>\n",
       "      <td>2019-01-27 04:41:38+00:00</td>\n",
       "      <td>paid</td>\n",
       "      <td>et</td>\n",
       "      <td>23af95ec-21ee-11e9-9100-9b35b3730c90</td>\n",
       "      <td>2019-01-27 04:43:49.615000+00:00</td>\n",
       "    </tr>\n",
       "    <tr>\n",
       "      <td>1</td>\n",
       "      <td>2019-01-27 19:22:42+00:00</td>\n",
       "      <td>organic</td>\n",
       "      <td>us</td>\n",
       "      <td>21f67ef2-2269-11e9-bf05-e17c28c9406b</td>\n",
       "      <td>2019-01-27 19:24:14.822000+00:00</td>\n",
       "    </tr>\n",
       "    <tr>\n",
       "      <td>2</td>\n",
       "      <td>2018-01-27 03:12:05+00:00</td>\n",
       "      <td>organic</td>\n",
       "      <td>us</td>\n",
       "      <td>9dcaadc6-4b33-11e9-9920-403bf22f6918</td>\n",
       "      <td>2019-03-20 17:14:27.423000+00:00</td>\n",
       "    </tr>\n",
       "    <tr>\n",
       "      <td>3</td>\n",
       "      <td>2018-01-27 12:47:32+00:00</td>\n",
       "      <td>organic</td>\n",
       "      <td>it</td>\n",
       "      <td>b7857280-0360-11e8-b7c6-bfd1996c4125</td>\n",
       "      <td>2018-01-27 12:50:56.552000+00:00</td>\n",
       "    </tr>\n",
       "    <tr>\n",
       "      <td>4</td>\n",
       "      <td>2018-01-27 00:49:09+00:00</td>\n",
       "      <td>organic</td>\n",
       "      <td>us</td>\n",
       "      <td>1ddbc900-c277-11e8-9531-b631107d6328</td>\n",
       "      <td>2018-09-27 17:02:29.264000+00:00</td>\n",
       "    </tr>\n",
       "  </tbody>\n",
       "</table>\n",
       "</div>"
      ],
      "text/plain": [
       "               installed_at   source country_id  \\\n",
       "0 2019-01-27 04:41:38+00:00     paid         et   \n",
       "1 2019-01-27 19:22:42+00:00  organic         us   \n",
       "2 2018-01-27 03:12:05+00:00  organic         us   \n",
       "3 2018-01-27 12:47:32+00:00  organic         it   \n",
       "4 2018-01-27 00:49:09+00:00  organic         us   \n",
       "\n",
       "                      organization_uuid             organization_created  \n",
       "0  23af95ec-21ee-11e9-9100-9b35b3730c90 2019-01-27 04:43:49.615000+00:00  \n",
       "1  21f67ef2-2269-11e9-bf05-e17c28c9406b 2019-01-27 19:24:14.822000+00:00  \n",
       "2  9dcaadc6-4b33-11e9-9920-403bf22f6918 2019-03-20 17:14:27.423000+00:00  \n",
       "3  b7857280-0360-11e8-b7c6-bfd1996c4125 2018-01-27 12:50:56.552000+00:00  \n",
       "4  1ddbc900-c277-11e8-9531-b631107d6328 2018-09-27 17:02:29.264000+00:00  "
      ]
     },
     "execution_count": 206,
     "metadata": {},
     "output_type": "execute_result"
    }
   ],
   "source": [
    "app_installs.head()"
   ]
  },
  {
   "cell_type": "code",
   "execution_count": 214,
   "metadata": {},
   "outputs": [
    {
     "data": {
      "image/png": "[encoded data removed]",
      "text/plain": [
       "<Figure size 720x576 with 1 Axes>"
      ]
     },
     "metadata": {
      "needs_background": "light"
     },
     "output_type": "display_data"
    }
   ],
   "source": [
    "app_installs.groupby('source')['organization_uuid'].count().plot(kind = 'bar', color = 'slateblue',\n",
    "                                                                rot = 0, figsize = (10,8))\n",
    "plt.title('nr of merchants installing app since 2017-09')\n",
    "plt.show()"
   ]
  },
  {
   "cell_type": "markdown",
   "metadata": {},
   "source": [
    "### 2.2.4 Organization_customer"
   ]
  },
  {
   "cell_type": "code",
   "execution_count": 215,
   "metadata": {},
   "outputs": [],
   "source": [
    "%%bigquery organization_customer\n",
    "SELECT\n",
    "    organization_uuid, organization_created, country_id\n",
    "FROM `izettle-dp-pipeline-prod.legacy_views.organization_customer` \n",
    "WHERE organization_created >= '2017-09-01'"
   ]
  },
  {
   "cell_type": "code",
   "execution_count": 216,
   "metadata": {
    "cell_style": "split"
   },
   "outputs": [
    {
     "data": {
      "text/html": [
       "<div>\n",
       "<style scoped>\n",
       "    .dataframe tbody tr th:only-of-type {\n",
       "        vertical-align: middle;\n",
       "    }\n",
       "\n",
       "    .dataframe tbody tr th {\n",
       "        vertical-align: top;\n",
       "    }\n",
       "\n",
       "    .dataframe thead th {\n",
       "        text-align: right;\n",
       "    }\n",
       "</style>\n",
       "<table border=\"1\" class=\"dataframe\">\n",
       "  <thead>\n",
       "    <tr style=\"text-align: right;\">\n",
       "      <th></th>\n",
       "      <th>organization_uuid</th>\n",
       "      <th>organization_created</th>\n",
       "      <th>country_id</th>\n",
       "    </tr>\n",
       "  </thead>\n",
       "  <tbody>\n",
       "    <tr>\n",
       "      <td>0</td>\n",
       "      <td>018781f0-91b7-11e7-a558-77558f88ab82</td>\n",
       "      <td>2017-09-04 21:21:24.879000+00:00</td>\n",
       "      <td>BR</td>\n",
       "    </tr>\n",
       "    <tr>\n",
       "      <td>1</td>\n",
       "      <td>2a7e1d50-90e8-11e7-b3e5-b2cc40d34d1f</td>\n",
       "      <td>2017-09-03 20:40:47.781000+00:00</td>\n",
       "      <td>ES</td>\n",
       "    </tr>\n",
       "    <tr>\n",
       "      <td>2</td>\n",
       "      <td>c9fc6e60-8ff6-11e7-8cee-3d05611a4a8b</td>\n",
       "      <td>2017-09-02 15:52:57.158000+00:00</td>\n",
       "      <td>NL</td>\n",
       "    </tr>\n",
       "    <tr>\n",
       "      <td>3</td>\n",
       "      <td>89dee6f0-a374-11e7-a731-7d53bf343a24</td>\n",
       "      <td>2017-09-27 11:10:58.271000+00:00</td>\n",
       "      <td>NL</td>\n",
       "    </tr>\n",
       "    <tr>\n",
       "      <td>4</td>\n",
       "      <td>a00942c0-93b3-11e7-b57c-5bec2f72449f</td>\n",
       "      <td>2017-09-07 10:02:15.148000+00:00</td>\n",
       "      <td>NL</td>\n",
       "    </tr>\n",
       "  </tbody>\n",
       "</table>\n",
       "</div>"
      ],
      "text/plain": [
       "                      organization_uuid             organization_created  \\\n",
       "0  018781f0-91b7-11e7-a558-77558f88ab82 2017-09-04 21:21:24.879000+00:00   \n",
       "1  2a7e1d50-90e8-11e7-b3e5-b2cc40d34d1f 2017-09-03 20:40:47.781000+00:00   \n",
       "2  c9fc6e60-8ff6-11e7-8cee-3d05611a4a8b 2017-09-02 15:52:57.158000+00:00   \n",
       "3  89dee6f0-a374-11e7-a731-7d53bf343a24 2017-09-27 11:10:58.271000+00:00   \n",
       "4  a00942c0-93b3-11e7-b57c-5bec2f72449f 2017-09-07 10:02:15.148000+00:00   \n",
       "\n",
       "  country_id  \n",
       "0         BR  \n",
       "1         ES  \n",
       "2         NL  \n",
       "3         NL  \n",
       "4         NL  "
      ]
     },
     "execution_count": 216,
     "metadata": {},
     "output_type": "execute_result"
    }
   ],
   "source": [
    "organization_customer.head()"
   ]
  },
  {
   "cell_type": "code",
   "execution_count": 230,
   "metadata": {
    "cell_style": "split"
   },
   "outputs": [
    {
     "name": "stdout",
     "output_type": "stream",
     "text": [
      "<class 'pandas.core.frame.DataFrame'>\n",
      "RangeIndex: 1110000 entries, 0 to 1109999\n",
      "Data columns (total 3 columns):\n",
      "organization_uuid       1110000 non-null object\n",
      "organization_created    1110000 non-null datetime64[ns, UTC]\n",
      "country_id              1110000 non-null object\n",
      "dtypes: datetime64[ns, UTC](1), object(2)\n",
      "memory usage: 25.4+ MB\n"
     ]
    }
   ],
   "source": [
    "organization_customer.info()"
   ]
  },
  {
   "cell_type": "code",
   "execution_count": 225,
   "metadata": {},
   "outputs": [],
   "source": [
    "country_group = pd.DataFrame(organization_customer.groupby('country_id')['organization_uuid'].count())"
   ]
  },
  {
   "cell_type": "code",
   "execution_count": 227,
   "metadata": {
    "cell_style": "split"
   },
   "outputs": [
    {
     "data": {
      "text/html": [
       "<div>\n",
       "<style scoped>\n",
       "    .dataframe tbody tr th:only-of-type {\n",
       "        vertical-align: middle;\n",
       "    }\n",
       "\n",
       "    .dataframe tbody tr th {\n",
       "        vertical-align: top;\n",
       "    }\n",
       "\n",
       "    .dataframe thead th {\n",
       "        text-align: right;\n",
       "    }\n",
       "</style>\n",
       "<table border=\"1\" class=\"dataframe\">\n",
       "  <thead>\n",
       "    <tr style=\"text-align: right;\">\n",
       "      <th></th>\n",
       "      <th>nr_uuid</th>\n",
       "    </tr>\n",
       "    <tr>\n",
       "      <th>country_id</th>\n",
       "      <th></th>\n",
       "    </tr>\n",
       "  </thead>\n",
       "  <tbody>\n",
       "    <tr>\n",
       "      <td>AI</td>\n",
       "      <td>1</td>\n",
       "    </tr>\n",
       "    <tr>\n",
       "      <td>GS</td>\n",
       "      <td>1</td>\n",
       "    </tr>\n",
       "    <tr>\n",
       "      <td>GT</td>\n",
       "      <td>1</td>\n",
       "    </tr>\n",
       "    <tr>\n",
       "      <td>HN</td>\n",
       "      <td>1</td>\n",
       "    </tr>\n",
       "    <tr>\n",
       "      <td>HR</td>\n",
       "      <td>1</td>\n",
       "    </tr>\n",
       "    <tr>\n",
       "      <td>...</td>\n",
       "      <td>...</td>\n",
       "    </tr>\n",
       "    <tr>\n",
       "      <td>NL</td>\n",
       "      <td>69175</td>\n",
       "    </tr>\n",
       "    <tr>\n",
       "      <td>FR</td>\n",
       "      <td>75013</td>\n",
       "    </tr>\n",
       "    <tr>\n",
       "      <td>MX</td>\n",
       "      <td>212904</td>\n",
       "    </tr>\n",
       "    <tr>\n",
       "      <td>BR</td>\n",
       "      <td>219229</td>\n",
       "    </tr>\n",
       "    <tr>\n",
       "      <td>GB</td>\n",
       "      <td>329369</td>\n",
       "    </tr>\n",
       "  </tbody>\n",
       "</table>\n",
       "<p>63 rows × 1 columns</p>\n",
       "</div>"
      ],
      "text/plain": [
       "            nr_uuid\n",
       "country_id         \n",
       "AI                1\n",
       "GS                1\n",
       "GT                1\n",
       "HN                1\n",
       "HR                1\n",
       "...             ...\n",
       "NL            69175\n",
       "FR            75013\n",
       "MX           212904\n",
       "BR           219229\n",
       "GB           329369\n",
       "\n",
       "[63 rows x 1 columns]"
      ]
     },
     "execution_count": 227,
     "metadata": {},
     "output_type": "execute_result"
    }
   ],
   "source": [
    "country_group.rename(columns= {'organization_uuid':'nr_uuid'}, inplace = True)\n",
    "country_group.sort_values('nr_uuid')"
   ]
  },
  {
   "cell_type": "code",
   "execution_count": 229,
   "metadata": {
    "cell_style": "split"
   },
   "outputs": [
    {
     "data": {
      "text/html": [
       "<div>\n",
       "<style scoped>\n",
       "    .dataframe tbody tr th:only-of-type {\n",
       "        vertical-align: middle;\n",
       "    }\n",
       "\n",
       "    .dataframe tbody tr th {\n",
       "        vertical-align: top;\n",
       "    }\n",
       "\n",
       "    .dataframe thead th {\n",
       "        text-align: right;\n",
       "    }\n",
       "</style>\n",
       "<table border=\"1\" class=\"dataframe\">\n",
       "  <thead>\n",
       "    <tr style=\"text-align: right;\">\n",
       "      <th></th>\n",
       "      <th>nr_uuid</th>\n",
       "    </tr>\n",
       "    <tr>\n",
       "      <th>country_id</th>\n",
       "      <th></th>\n",
       "    </tr>\n",
       "  </thead>\n",
       "  <tbody>\n",
       "    <tr>\n",
       "      <td>BR</td>\n",
       "      <td>219229</td>\n",
       "    </tr>\n",
       "    <tr>\n",
       "      <td>DE</td>\n",
       "      <td>51663</td>\n",
       "    </tr>\n",
       "    <tr>\n",
       "      <td>DK</td>\n",
       "      <td>15790</td>\n",
       "    </tr>\n",
       "    <tr>\n",
       "      <td>ES</td>\n",
       "      <td>12619</td>\n",
       "    </tr>\n",
       "    <tr>\n",
       "      <td>FI</td>\n",
       "      <td>34510</td>\n",
       "    </tr>\n",
       "    <tr>\n",
       "      <td>FR</td>\n",
       "      <td>75013</td>\n",
       "    </tr>\n",
       "    <tr>\n",
       "      <td>GB</td>\n",
       "      <td>329369</td>\n",
       "    </tr>\n",
       "    <tr>\n",
       "      <td>IT</td>\n",
       "      <td>5248</td>\n",
       "    </tr>\n",
       "    <tr>\n",
       "      <td>MX</td>\n",
       "      <td>212904</td>\n",
       "    </tr>\n",
       "    <tr>\n",
       "      <td>NL</td>\n",
       "      <td>69175</td>\n",
       "    </tr>\n",
       "    <tr>\n",
       "      <td>NO</td>\n",
       "      <td>37511</td>\n",
       "    </tr>\n",
       "    <tr>\n",
       "      <td>SE</td>\n",
       "      <td>46490</td>\n",
       "    </tr>\n",
       "    <tr>\n",
       "      <td>US</td>\n",
       "      <td>317</td>\n",
       "    </tr>\n",
       "  </tbody>\n",
       "</table>\n",
       "</div>"
      ],
      "text/plain": [
       "            nr_uuid\n",
       "country_id         \n",
       "BR           219229\n",
       "DE            51663\n",
       "DK            15790\n",
       "ES            12619\n",
       "FI            34510\n",
       "FR            75013\n",
       "GB           329369\n",
       "IT             5248\n",
       "MX           212904\n",
       "NL            69175\n",
       "NO            37511\n",
       "SE            46490\n",
       "US              317"
      ]
     },
     "execution_count": 229,
     "metadata": {},
     "output_type": "execute_result"
    }
   ],
   "source": [
    "main_countries = country_group[country_group['nr_uuid'] > 100]\n",
    "main_countries"
   ]
  },
  {
   "cell_type": "code",
   "execution_count": 236,
   "metadata": {},
   "outputs": [
    {
     "data": {
      "image/png": "[encoded data removed]",
      "text/plain": [
       "<Figure size 720x576 with 1 Axes>"
      ]
     },
     "metadata": {
      "needs_background": "light"
     },
     "output_type": "display_data"
    }
   ],
   "source": [
    "pal = sns.color_palette(\"tab20\")\n",
    "main_countries_t = main_countries.transpose()\n",
    "#main_countries_t.columns = main_countries.iloc[0,]\n",
    "main_countries_t.plot.bar(stacked = True, color = pal,\n",
    "                         rot = 0, figsize = (10,8))\n",
    "plt.title('Nr of merchants in main markets')\n",
    "plt.show()"
   ]
  },
  {
   "cell_type": "markdown",
   "metadata": {},
   "source": [
    "## 2.3 SQL code"
   ]
  },
  {
   "cell_type": "code",
   "execution_count": 253,
   "metadata": {},
   "outputs": [],
   "source": [
    "%%bigquery df\n",
    "\n",
    "WITH clean AS \n",
    "(\n",
    "SELECT \n",
    "  DISTINCT full_visitor_id , client_id , organization_uuid , country_id , session_id , session_start_time , session_end_time ,\n",
    "  session_reached_minimal_created , \n",
    "  traffic_source_level_3 , traffic_source_source, traffic_source_medium,\n",
    "  COUNT(DISTINCT organization_uuid) OVER(PARTITION BY full_visitor_id ) as nr_unique_uuid\n",
    "FROM `izettle-dp-pipeline-prod.legacy_views.google_analytics_session` \n",
    "WHERE full_visitor_id NOT IN (--list of visitor id that has no client id and only one unique (NA) uuid and \n",
    "                          SELECT\n",
    "                              full_visitor_id \n",
    "                          FROM (\n",
    "                                SELECT\n",
    "                                    DISTINCT full_visitor_id , client_id , organization_uuid  ,\n",
    "                                    DENSE_RANK() OVER(PARTITION BY full_visitor_id ORDER BY client_id DESC, organization_uuid DESC) as rank_entry \n",
    "                                    #optimize the code by group by and array_agg()?\n",
    "                                FROM `izettle-dp-pipeline-prod.legacy_views.google_analytics_session` \n",
    "                                WHERE full_visitor_id IN (SELECT \n",
    "                                                            DISTINCT full_visitor_id\n",
    "                                                          FROM `izettle-dp-pipeline-prod.legacy_views.google_analytics_session` \n",
    "                                                          WHERE client_id IS NULL AND organization_uuid IS NULL\n",
    "                                                          )\n",
    "                                #ORDER BY full_visitor_id , rank_entry\n",
    "                                      )\n",
    "                          WHERE rank_entry = 1\n",
    "                          AND client_id IS NULL\n",
    "                          AND organization_uuid IS NULL\n",
    "                          ) \n",
    "), \n",
    "ga_processed AS (\n",
    "--delete row with no uuid and nr_unique_uuid per group of visitor id of that row > 1 \n",
    "-- and fill NA uuid cells (Expected: rows with NA uuid and nr_unique_uuid =0 left)--\n",
    "SELECT \n",
    "  full_visitor_id , client_id , organization_uuid , \n",
    "  IFNULL(organization_uuid, MAX(organization_uuid) OVER(PARTITION BY full_visitor_id)) as fill_uuid ,\n",
    "  country_id , session_id , session_start_time , session_end_time ,\n",
    "  session_reached_minimal_created ,\n",
    "  traffic_source_level_3 , traffic_source_source, traffic_source_medium,\n",
    "  nr_unique_uuid\n",
    "FROM clean\n",
    "WHERE \n",
    "  organization_uuid IS NOT NULL\n",
    "  #OR\n",
    "  #(organization_uuid IS NULL  \n",
    "  #AND nr_unique_uuid = 0 AND client_id IS NOT NULL) \n",
    "  OR\n",
    "  (organization_uuid IS NULL AND nr_unique_uuid <= 1)\n",
    "),\n",
    "merged_campaign AS(\n",
    "SELECT\n",
    "  full_visitor_id , \n",
    "  IFNULL(fill_uuid, MAX(campaign_data.organization_uuid) OVER(PARTITION BY client_id)) as fill_uuid_2,\n",
    "  country_id , session_id , session_start_time , session_end_time ,\n",
    "  session_reached_minimal_created ,\n",
    "  traffic_source_level_3, traffic_source_source, traffic_source_medium\n",
    "FROM ga_processed\n",
    "LEFT JOIN (SELECT\n",
    "              DISTINCT google_analytics_id , organization_uuid \n",
    "           FROM `izettle-dp-pipeline-prod.legacy_views.user_campaign_data`\n",
    "           WHERE google_analytics_id IN (\n",
    "                                         SELECT DISTINCT google_analytics_id\n",
    "                                         FROM `izettle-dp-pipeline-prod.legacy_views.user_campaign_data`\n",
    "                                         GROUP BY google_analytics_id \n",
    "                                         HAVING COUNT(DISTINCT organization_uuid) = 1\n",
    "                                         ) \n",
    "          ) AS campaign_data\n",
    "ON ga_processed.client_id = campaign_data.google_analytics_id \n",
    "),\n",
    "merged_oc AS (\n",
    "--customer journey of merchants until registration tracked by ga cookies--\n",
    "--only ~ 245,000 merchants have the recorded journey. The rest that we have only the last touch point can be found in the customer_acquisition table--\n",
    "SELECT\n",
    "  ft.fill_uuid_2 as organization_uuid , oc.organization_created ,\n",
    "  ft.full_visitor_id, ft.country_id , ft.session_id , ft.session_start_time , ft.session_end_time ,\n",
    "  ft.session_reached_minimal_created ,\n",
    "  ft.traffic_source_level_3,\n",
    "  traffic_source_source, traffic_source_medium\n",
    "FROM merged_campaign ft\n",
    "LEFT JOIN `izettle-dp-pipeline-prod.legacy_views.organization_customer` oc\n",
    "ON ft.fill_uuid_2 =oc.organization_uuid \n",
    "WHERE fill_uuid_2 IS NOT NULL\n",
    "AND oc.organization_created >= ft.session_start_time \n",
    ")\n",
    "SELECT\n",
    "  uuid_left.organization_uuid ,\n",
    "  uuid_left.organization_created ,\n",
    "  uuid_left.traffic_source_level_3 as traffic_source_level_3_af ,\n",
    "  merged_oc.full_visitor_id, merged_oc.country_id , merged_oc.session_id , merged_oc.session_start_time , merged_oc.session_end_time ,\n",
    "  merged_oc.session_reached_minimal_created ,\n",
    "  merged_oc.traffic_source_level_3,\n",
    "  merged_oc.traffic_source_source, merged_oc.traffic_source_medium,\n",
    "  IFNULL(merged_oc.traffic_source_level_3, uuid_left.traffic_source_level_3) as traffic_source_full\n",
    "FROM (\n",
    "      SELECT \n",
    "        af.organization_uuid,\n",
    "        af.traffic_source_level_3 , oc.organization_created \n",
    "      FROM `izettle-dp-pipeline-prod.legacy_views.attribution_funnel_traffic_source` af\n",
    "      JOIN `izettle-dp-pipeline-prod.legacy_views.organization_customer` oc\n",
    "      ON af.organization_uuid = oc.organization_uuid \n",
    "      AND oc.organization_created >= '2017-09-01'\n",
    "      ) as uuid_left\n",
    "LEFT JOIN merged_oc\n",
    "ON uuid_left.organization_uuid = merged_oc.organization_uuid "
   ]
  },
  {
   "cell_type": "code",
   "execution_count": 254,
   "metadata": {
    "cell_style": "split"
   },
   "outputs": [
    {
     "data": {
      "text/html": [
       "<div>\n",
       "<style scoped>\n",
       "    .dataframe tbody tr th:only-of-type {\n",
       "        vertical-align: middle;\n",
       "    }\n",
       "\n",
       "    .dataframe tbody tr th {\n",
       "        vertical-align: top;\n",
       "    }\n",
       "\n",
       "    .dataframe thead th {\n",
       "        text-align: right;\n",
       "    }\n",
       "</style>\n",
       "<table border=\"1\" class=\"dataframe\">\n",
       "  <thead>\n",
       "    <tr style=\"text-align: right;\">\n",
       "      <th></th>\n",
       "      <th>organization_uuid</th>\n",
       "      <th>organization_created</th>\n",
       "      <th>traffic_source_level_3_af</th>\n",
       "      <th>full_visitor_id</th>\n",
       "      <th>country_id</th>\n",
       "      <th>session_id</th>\n",
       "      <th>session_start_time</th>\n",
       "      <th>session_end_time</th>\n",
       "      <th>session_reached_minimal_created</th>\n",
       "      <th>traffic_source_level_3</th>\n",
       "      <th>traffic_source_source</th>\n",
       "      <th>traffic_source_medium</th>\n",
       "      <th>traffic_source_full</th>\n",
       "    </tr>\n",
       "  </thead>\n",
       "  <tbody>\n",
       "    <tr>\n",
       "      <td>0</td>\n",
       "      <td>1e106bf0-17f1-11e8-be14-cf477ffc3bb5</td>\n",
       "      <td>2018-02-22 16:54:59.375000+00:00</td>\n",
       "      <td>ps_other_isc</td>\n",
       "      <td>5574901013816178020</td>\n",
       "      <td>MX</td>\n",
       "      <td>b'\\xc0\\xc8/\\xe7\\xbe\"\\x14\\xe9p\\xbax\\xf2+v\\xb7\\x...</td>\n",
       "      <td>2018-02-07 13:48:26+00:00</td>\n",
       "      <td>2018-02-07 14:01:10+00:00</td>\n",
       "      <td>True</td>\n",
       "      <td>ds_inbound_inbound</td>\n",
       "      <td>local_inbound</td>\n",
       "      <td>(not set)</td>\n",
       "      <td>ds_inbound_inbound</td>\n",
       "    </tr>\n",
       "    <tr>\n",
       "      <td>1</td>\n",
       "      <td>1e106bf0-17f1-11e8-be14-cf477ffc3bb5</td>\n",
       "      <td>2018-02-22 16:54:59.375000+00:00</td>\n",
       "      <td>ps_other_isc</td>\n",
       "      <td>5574901013816178020</td>\n",
       "      <td>MX</td>\n",
       "      <td>b'\\xc5\\xb3n\\xedFY\\x0800\\xb3\\xec\\xa8\\xd9!H\\xe1\\...</td>\n",
       "      <td>2018-02-07 03:41:23+00:00</td>\n",
       "      <td>2018-02-07 03:41:23+00:00</td>\n",
       "      <td>False</td>\n",
       "      <td>ds_inbound_inbound</td>\n",
       "      <td>local_inbound</td>\n",
       "      <td>(not set)</td>\n",
       "      <td>ds_inbound_inbound</td>\n",
       "    </tr>\n",
       "    <tr>\n",
       "      <td>2</td>\n",
       "      <td>43eed460-d061-11e7-aab6-863e38f2d7ca</td>\n",
       "      <td>2017-11-23 15:16:22.822000+00:00</td>\n",
       "      <td>ds_inbound_inbound</td>\n",
       "      <td>1908932833655055913</td>\n",
       "      <td>GB</td>\n",
       "      <td>b'\\xdcd\\x1eC^\\x14\\x8a\"\\x96\\x8d\\x16\\xcf\\xe1{\\xd...</td>\n",
       "      <td>2017-11-23 15:15:49+00:00</td>\n",
       "      <td>2017-11-23 15:24:47+00:00</td>\n",
       "      <td>True</td>\n",
       "      <td>ds_inbound_inbound</td>\n",
       "      <td>local_inbound</td>\n",
       "      <td>inhouse</td>\n",
       "      <td>ds_inbound_inbound</td>\n",
       "    </tr>\n",
       "    <tr>\n",
       "      <td>3</td>\n",
       "      <td>eb811e20-b9bb-11e7-a653-148c2b3db96e</td>\n",
       "      <td>2017-10-25 19:37:21.922000+00:00</td>\n",
       "      <td>ds_inbound_inbound</td>\n",
       "      <td>3894070871094716620</td>\n",
       "      <td>MX</td>\n",
       "      <td>b'\\x9c&amp;&lt;\\xc7\\xc4t;t&lt;\\xfc\\x8c\\xe5\\xeb\\xd0/&gt;\\xf2...</td>\n",
       "      <td>2017-10-25 18:27:52+00:00</td>\n",
       "      <td>2017-10-25 19:42:44+00:00</td>\n",
       "      <td>True</td>\n",
       "      <td>ds_inbound_inbound</td>\n",
       "      <td>local_inbound</td>\n",
       "      <td>(not set)</td>\n",
       "      <td>ds_inbound_inbound</td>\n",
       "    </tr>\n",
       "    <tr>\n",
       "      <td>4</td>\n",
       "      <td>3b6b46a0-bd11-11e8-9112-a7c012d5c815</td>\n",
       "      <td>2018-09-20 20:10:34.378000+00:00</td>\n",
       "      <td>ds_inbound_inbound</td>\n",
       "      <td>2414604952915537359</td>\n",
       "      <td>MX</td>\n",
       "      <td>b'\\x0b\\xe3\\xeeo!\\x0f\\x19%G\\t\\xfe\\xcd\\x00\\x94\\x...</td>\n",
       "      <td>2018-09-20 19:07:40+00:00</td>\n",
       "      <td>2018-09-20 20:19:48+00:00</td>\n",
       "      <td>True</td>\n",
       "      <td>ds_inbound_inbound</td>\n",
       "      <td>local_inbound</td>\n",
       "      <td>(not set)</td>\n",
       "      <td>ds_inbound_inbound</td>\n",
       "    </tr>\n",
       "  </tbody>\n",
       "</table>\n",
       "</div>"
      ],
      "text/plain": [
       "                      organization_uuid             organization_created  \\\n",
       "0  1e106bf0-17f1-11e8-be14-cf477ffc3bb5 2018-02-22 16:54:59.375000+00:00   \n",
       "1  1e106bf0-17f1-11e8-be14-cf477ffc3bb5 2018-02-22 16:54:59.375000+00:00   \n",
       "2  43eed460-d061-11e7-aab6-863e38f2d7ca 2017-11-23 15:16:22.822000+00:00   \n",
       "3  eb811e20-b9bb-11e7-a653-148c2b3db96e 2017-10-25 19:37:21.922000+00:00   \n",
       "4  3b6b46a0-bd11-11e8-9112-a7c012d5c815 2018-09-20 20:10:34.378000+00:00   \n",
       "\n",
       "  traffic_source_level_3_af      full_visitor_id country_id  \\\n",
       "0              ps_other_isc  5574901013816178020         MX   \n",
       "1              ps_other_isc  5574901013816178020         MX   \n",
       "2        ds_inbound_inbound  1908932833655055913         GB   \n",
       "3        ds_inbound_inbound  3894070871094716620         MX   \n",
       "4        ds_inbound_inbound  2414604952915537359         MX   \n",
       "\n",
       "                                          session_id  \\\n",
       "0  b'\\xc0\\xc8/\\xe7\\xbe\"\\x14\\xe9p\\xbax\\xf2+v\\xb7\\x...   \n",
       "1  b'\\xc5\\xb3n\\xedFY\\x0800\\xb3\\xec\\xa8\\xd9!H\\xe1\\...   \n",
       "2  b'\\xdcd\\x1eC^\\x14\\x8a\"\\x96\\x8d\\x16\\xcf\\xe1{\\xd...   \n",
       "3  b'\\x9c&<\\xc7\\xc4t;t<\\xfc\\x8c\\xe5\\xeb\\xd0/>\\xf2...   \n",
       "4  b'\\x0b\\xe3\\xeeo!\\x0f\\x19%G\\t\\xfe\\xcd\\x00\\x94\\x...   \n",
       "\n",
       "          session_start_time           session_end_time  \\\n",
       "0  2018-02-07 13:48:26+00:00  2018-02-07 14:01:10+00:00   \n",
       "1  2018-02-07 03:41:23+00:00  2018-02-07 03:41:23+00:00   \n",
       "2  2017-11-23 15:15:49+00:00  2017-11-23 15:24:47+00:00   \n",
       "3  2017-10-25 18:27:52+00:00  2017-10-25 19:42:44+00:00   \n",
       "4  2018-09-20 19:07:40+00:00  2018-09-20 20:19:48+00:00   \n",
       "\n",
       "  session_reached_minimal_created traffic_source_level_3  \\\n",
       "0                            True     ds_inbound_inbound   \n",
       "1                           False     ds_inbound_inbound   \n",
       "2                            True     ds_inbound_inbound   \n",
       "3                            True     ds_inbound_inbound   \n",
       "4                            True     ds_inbound_inbound   \n",
       "\n",
       "  traffic_source_source traffic_source_medium traffic_source_full  \n",
       "0         local_inbound             (not set)  ds_inbound_inbound  \n",
       "1         local_inbound             (not set)  ds_inbound_inbound  \n",
       "2         local_inbound               inhouse  ds_inbound_inbound  \n",
       "3         local_inbound             (not set)  ds_inbound_inbound  \n",
       "4         local_inbound             (not set)  ds_inbound_inbound  "
      ]
     },
     "execution_count": 254,
     "metadata": {},
     "output_type": "execute_result"
    }
   ],
   "source": [
    "df.head()"
   ]
  },
  {
   "cell_type": "code",
   "execution_count": 255,
   "metadata": {
    "cell_style": "split"
   },
   "outputs": [
    {
     "name": "stdout",
     "output_type": "stream",
     "text": [
      "<class 'pandas.core.frame.DataFrame'>\n",
      "RangeIndex: 1697197 entries, 0 to 1697196\n",
      "Data columns (total 13 columns):\n",
      "organization_uuid                  object\n",
      "organization_created               datetime64[ns, UTC]\n",
      "traffic_source_level_3_af          object\n",
      "full_visitor_id                    object\n",
      "country_id                         object\n",
      "session_id                         object\n",
      "session_start_time                 object\n",
      "session_end_time                   object\n",
      "session_reached_minimal_created    object\n",
      "traffic_source_level_3             object\n",
      "traffic_source_source              object\n",
      "traffic_source_medium              object\n",
      "traffic_source_full                object\n",
      "dtypes: datetime64[ns, UTC](1), object(12)\n",
      "memory usage: 168.3+ MB\n"
     ]
    }
   ],
   "source": [
    "df.info()"
   ]
  },
  {
   "cell_type": "markdown",
   "metadata": {},
   "source": [
    "# 3. Validity check"
   ]
  },
  {
   "cell_type": "code",
   "execution_count": 257,
   "metadata": {},
   "outputs": [
    {
     "data": {
      "text/plain": [
       "1110000"
      ]
     },
     "execution_count": 257,
     "metadata": {},
     "output_type": "execute_result"
    }
   ],
   "source": [
    "df['organization_uuid'].nunique()"
   ]
  },
  {
   "cell_type": "markdown",
   "metadata": {},
   "source": [
    "Number of unique uuid: 111,000 - match with the figure in organization_customer"
   ]
  },
  {
   "cell_type": "markdown",
   "metadata": {},
   "source": [
    "## 3.1 Number of merchants by GA and attribution funnel|"
   ]
  },
  {
   "cell_type": "code",
   "execution_count": 259,
   "metadata": {},
   "outputs": [],
   "source": [
    "merchant_ga = df[~df['session_id'].isna()]['organization_uuid'].nunique()"
   ]
  },
  {
   "cell_type": "code",
   "execution_count": 261,
   "metadata": {},
   "outputs": [],
   "source": [
    "merchant_af = df[df['session_id'].isna()]['organization_uuid'].nunique()"
   ]
  },
  {
   "cell_type": "code",
   "execution_count": 264,
   "metadata": {},
   "outputs": [
    {
     "data": {
      "text/html": [
       "<div>\n",
       "<style scoped>\n",
       "    .dataframe tbody tr th:only-of-type {\n",
       "        vertical-align: middle;\n",
       "    }\n",
       "\n",
       "    .dataframe tbody tr th {\n",
       "        vertical-align: top;\n",
       "    }\n",
       "\n",
       "    .dataframe thead th {\n",
       "        text-align: right;\n",
       "    }\n",
       "</style>\n",
       "<table border=\"1\" class=\"dataframe\">\n",
       "  <thead>\n",
       "    <tr style=\"text-align: right;\">\n",
       "      <th></th>\n",
       "      <th>nr</th>\n",
       "    </tr>\n",
       "  </thead>\n",
       "  <tbody>\n",
       "    <tr>\n",
       "      <td>0</td>\n",
       "      <td>686630</td>\n",
       "    </tr>\n",
       "    <tr>\n",
       "      <td>1</td>\n",
       "      <td>423370</td>\n",
       "    </tr>\n",
       "  </tbody>\n",
       "</table>\n",
       "</div>"
      ],
      "text/plain": [
       "       nr\n",
       "0  686630\n",
       "1  423370"
      ]
     },
     "execution_count": 264,
     "metadata": {},
     "output_type": "execute_result"
    }
   ],
   "source": [
    "pd.DataFrame({'nr':[merchant_ga, merchant_af]})"
   ]
  },
  {
   "cell_type": "code",
   "execution_count": 273,
   "metadata": {},
   "outputs": [
    {
     "data": {
      "image/png": "[encoded data removed]",
      "text/plain": [
       "<Figure size 720x432 with 1 Axes>"
      ]
     },
     "metadata": {
      "needs_background": "light"
     },
     "output_type": "display_data"
    }
   ],
   "source": [
    "pd.DataFrame({'nr':[merchant_ga, merchant_af]}).plot(kind = 'bar', \n",
    "                                                     color = 'slateblue', \n",
    "                                                     rot = 0,\n",
    "                                                    figsize = (10,6))\n",
    "plt.xticks(ticks=[0,1], labels=('GA','AF'))\n",
    "plt.title('Nr of merchants since 2017-09')\n",
    "plt.show()"
   ]
  },
  {
   "cell_type": "markdown",
   "metadata": {},
   "source": [
    "## 3.2 Number of merchants by traffic sources for uuid from attribution_funnel"
   ]
  },
  {
   "cell_type": "code",
   "execution_count": 277,
   "metadata": {},
   "outputs": [
    {
     "name": "stderr",
     "output_type": "stream",
     "text": [
      "//anaconda3/lib/python3.7/site-packages/ipykernel_launcher.py:1: SettingWithCopyWarning: \n",
      "A value is trying to be set on a copy of a slice from a DataFrame.\n",
      "Try using .loc[row_indexer,col_indexer] = value instead\n",
      "\n",
      "See the caveats in the documentation: http://pandas.pydata.org/pandas-docs/stable/user_guide/indexing.html#returning-a-view-versus-a-copy\n",
      "  \"\"\"Entry point for launching an IPython kernel.\n"
     ]
    },
    {
     "data": {
      "text/html": [
       "<div>\n",
       "<style scoped>\n",
       "    .dataframe tbody tr th:only-of-type {\n",
       "        vertical-align: middle;\n",
       "    }\n",
       "\n",
       "    .dataframe tbody tr th {\n",
       "        vertical-align: top;\n",
       "    }\n",
       "\n",
       "    .dataframe thead th {\n",
       "        text-align: right;\n",
       "    }\n",
       "</style>\n",
       "<table border=\"1\" class=\"dataframe\">\n",
       "  <thead>\n",
       "    <tr style=\"text-align: right;\">\n",
       "      <th></th>\n",
       "      <th>organization_uuid</th>\n",
       "      <th>organization_created</th>\n",
       "      <th>traffic_source_level_3_af</th>\n",
       "      <th>full_visitor_id</th>\n",
       "      <th>country_id</th>\n",
       "      <th>session_id</th>\n",
       "      <th>session_start_time</th>\n",
       "      <th>session_end_time</th>\n",
       "      <th>session_reached_minimal_created</th>\n",
       "      <th>traffic_source_level_3</th>\n",
       "      <th>traffic_source_source</th>\n",
       "      <th>traffic_source_medium</th>\n",
       "      <th>traffic_source_full</th>\n",
       "    </tr>\n",
       "  </thead>\n",
       "  <tbody>\n",
       "    <tr>\n",
       "      <td>8787</td>\n",
       "      <td>4641d010-fbda-11e7-a729-cd0efb868181</td>\n",
       "      <td>2018-01-17 23:00:55.825000+00:00</td>\n",
       "      <td>ps</td>\n",
       "      <td>None</td>\n",
       "      <td>None</td>\n",
       "      <td>None</td>\n",
       "      <td>NaT</td>\n",
       "      <td>NaT</td>\n",
       "      <td>None</td>\n",
       "      <td>None</td>\n",
       "      <td>None</td>\n",
       "      <td>None</td>\n",
       "      <td>ps_other_isc</td>\n",
       "    </tr>\n",
       "    <tr>\n",
       "      <td>8788</td>\n",
       "      <td>aeb98070-9249-11e7-8ab1-2999443815a8</td>\n",
       "      <td>2017-09-05 14:51:21.975000+00:00</td>\n",
       "      <td>ps</td>\n",
       "      <td>None</td>\n",
       "      <td>None</td>\n",
       "      <td>None</td>\n",
       "      <td>NaT</td>\n",
       "      <td>NaT</td>\n",
       "      <td>None</td>\n",
       "      <td>None</td>\n",
       "      <td>None</td>\n",
       "      <td>None</td>\n",
       "      <td>ps_other_isc</td>\n",
       "    </tr>\n",
       "    <tr>\n",
       "      <td>8789</td>\n",
       "      <td>18ef7a22-b498-11e9-800b-e2fde8b0ed12</td>\n",
       "      <td>2019-08-01 20:08:15.788000+00:00</td>\n",
       "      <td>ps</td>\n",
       "      <td>None</td>\n",
       "      <td>None</td>\n",
       "      <td>None</td>\n",
       "      <td>NaT</td>\n",
       "      <td>NaT</td>\n",
       "      <td>None</td>\n",
       "      <td>None</td>\n",
       "      <td>None</td>\n",
       "      <td>None</td>\n",
       "      <td>ps_other_isc</td>\n",
       "    </tr>\n",
       "    <tr>\n",
       "      <td>8790</td>\n",
       "      <td>37beabb0-ed1c-11e8-8599-b9be388aabe5</td>\n",
       "      <td>2018-11-20 23:30:08.491000+00:00</td>\n",
       "      <td>ps</td>\n",
       "      <td>None</td>\n",
       "      <td>None</td>\n",
       "      <td>None</td>\n",
       "      <td>NaT</td>\n",
       "      <td>NaT</td>\n",
       "      <td>None</td>\n",
       "      <td>None</td>\n",
       "      <td>None</td>\n",
       "      <td>None</td>\n",
       "      <td>ps_other_isc</td>\n",
       "    </tr>\n",
       "    <tr>\n",
       "      <td>8791</td>\n",
       "      <td>d60e4d60-adef-11e7-89c6-07db3e6747bf</td>\n",
       "      <td>2017-10-10 19:18:45.814000+00:00</td>\n",
       "      <td>ps</td>\n",
       "      <td>None</td>\n",
       "      <td>None</td>\n",
       "      <td>None</td>\n",
       "      <td>NaT</td>\n",
       "      <td>NaT</td>\n",
       "      <td>None</td>\n",
       "      <td>None</td>\n",
       "      <td>None</td>\n",
       "      <td>None</td>\n",
       "      <td>ps_other_isc</td>\n",
       "    </tr>\n",
       "  </tbody>\n",
       "</table>\n",
       "</div>"
      ],
      "text/plain": [
       "                         organization_uuid             organization_created  \\\n",
       "8787  4641d010-fbda-11e7-a729-cd0efb868181 2018-01-17 23:00:55.825000+00:00   \n",
       "8788  aeb98070-9249-11e7-8ab1-2999443815a8 2017-09-05 14:51:21.975000+00:00   \n",
       "8789  18ef7a22-b498-11e9-800b-e2fde8b0ed12 2019-08-01 20:08:15.788000+00:00   \n",
       "8790  37beabb0-ed1c-11e8-8599-b9be388aabe5 2018-11-20 23:30:08.491000+00:00   \n",
       "8791  d60e4d60-adef-11e7-89c6-07db3e6747bf 2017-10-10 19:18:45.814000+00:00   \n",
       "\n",
       "     traffic_source_level_3_af full_visitor_id country_id session_id  \\\n",
       "8787                        ps            None       None       None   \n",
       "8788                        ps            None       None       None   \n",
       "8789                        ps            None       None       None   \n",
       "8790                        ps            None       None       None   \n",
       "8791                        ps            None       None       None   \n",
       "\n",
       "     session_start_time session_end_time session_reached_minimal_created  \\\n",
       "8787                NaT              NaT                            None   \n",
       "8788                NaT              NaT                            None   \n",
       "8789                NaT              NaT                            None   \n",
       "8790                NaT              NaT                            None   \n",
       "8791                NaT              NaT                            None   \n",
       "\n",
       "     traffic_source_level_3 traffic_source_source traffic_source_medium  \\\n",
       "8787                   None                  None                  None   \n",
       "8788                   None                  None                  None   \n",
       "8789                   None                  None                  None   \n",
       "8790                   None                  None                  None   \n",
       "8791                   None                  None                  None   \n",
       "\n",
       "     traffic_source_full  \n",
       "8787        ps_other_isc  \n",
       "8788        ps_other_isc  \n",
       "8789        ps_other_isc  \n",
       "8790        ps_other_isc  \n",
       "8791        ps_other_isc  "
      ]
     },
     "execution_count": 277,
     "metadata": {},
     "output_type": "execute_result"
    }
   ],
   "source": [
    "df_af = df[df['session_id'].isna()]\n",
    "df_af['traffic_source_level_3_af'] = df_af['traffic_source_level_3_af'].apply(change_2)\n",
    "df_af.head()"
   ]
  },
  {
   "cell_type": "code",
   "execution_count": 289,
   "metadata": {},
   "outputs": [
    {
     "data": {
      "image/png": "[encoded data removed]",
      "text/plain": [
       "<Figure size 720x432 with 1 Axes>"
      ]
     },
     "metadata": {
      "needs_background": "light"
     },
     "output_type": "display_data"
    }
   ],
   "source": [
    "df_af_group = df_af.groupby('traffic_source_level_3_af')['organization_uuid'].nunique()\n",
    "df_af_group.sort_values().plot(kind = 'barh', color = 'slateblue', rot = 0, figsize = (10,6))\n",
    "plt.ylabel('')\n",
    "plt.show()"
   ]
  },
  {
   "cell_type": "markdown",
   "metadata": {},
   "source": [
    "Main contributors:\n",
    "- o_organic_null: dont know the source\n",
    "- app (organic and paid): as expected cuz GA cannot track REG via app"
   ]
  },
  {
   "cell_type": "markdown",
   "metadata": {},
   "source": [
    "*And compare with app_install*"
   ]
  },
  {
   "cell_type": "code",
   "execution_count": 299,
   "metadata": {},
   "outputs": [
    {
     "data": {
      "text/plain": [
       "105597"
      ]
     },
     "execution_count": 299,
     "metadata": {},
     "output_type": "execute_result"
    }
   ],
   "source": [
    "overlap_app = df_af[df_af['organization_uuid'].isin(app_installs['organization_uuid'].unique())]\n",
    "overlap_app.shape[0]"
   ]
  },
  {
   "cell_type": "code",
   "execution_count": 305,
   "metadata": {},
   "outputs": [],
   "source": [
    "overlap_app_df = pd.DataFrame(overlap_app.groupby('traffic_source_level_3_af')['organization_uuid'].nunique())\n",
    "overlap_app_df.rename(columns = {'organization_uuid':'nr_merchants'}, inplace = True)\n",
    "overlap_app_df['per'] = overlap_app_df['nr_merchants']/overlap_app_df['nr_merchants'].sum()"
   ]
  },
  {
   "cell_type": "code",
   "execution_count": 313,
   "metadata": {},
   "outputs": [
    {
     "data": {
      "image/png": "[encoded data removed]",
      "text/plain": [
       "<Figure size 864x576 with 1 Axes>"
      ]
     },
     "metadata": {
      "needs_background": "light"
     },
     "output_type": "display_data"
    }
   ],
   "source": [
    "overlap_app_df[['per']].transpose().plot.bar(stacked = True,\n",
    "                                            color = pal,\n",
    "                                            figsize = (12,8), rot = 0)\n",
    "plt.show()"
   ]
  },
  {
   "cell_type": "markdown",
   "metadata": {},
   "source": [
    "As expected, most of overlapped uuid have the traffic source from App install. "
   ]
  },
  {
   "cell_type": "markdown",
   "metadata": {},
   "source": [
    "## 3.3 Last touch point before REG"
   ]
  },
  {
   "cell_type": "code",
   "execution_count": 314,
   "metadata": {},
   "outputs": [],
   "source": [
    "df_ga = df[~df['session_id'].isna()]"
   ]
  },
  {
   "cell_type": "code",
   "execution_count": 316,
   "metadata": {},
   "outputs": [
    {
     "data": {
      "text/plain": [
       "647695"
      ]
     },
     "execution_count": 316,
     "metadata": {},
     "output_type": "execute_result"
    }
   ],
   "source": [
    "df_ga[df_ga['session_reached_minimal_created'] == True]['organization_uuid'].nunique()"
   ]
  },
  {
   "cell_type": "code",
   "execution_count": 317,
   "metadata": {},
   "outputs": [
    {
     "data": {
      "text/plain": [
       "1071065"
      ]
     },
     "execution_count": 317,
     "metadata": {},
     "output_type": "execute_result"
    }
   ],
   "source": [
    "merchant_af + 647695"
   ]
  },
  {
   "cell_type": "code",
   "execution_count": 318,
   "metadata": {},
   "outputs": [
    {
     "data": {
      "text/plain": [
       "38935"
      ]
     },
     "execution_count": 318,
     "metadata": {},
     "output_type": "execute_result"
    }
   ],
   "source": [
    "1110000 - 1071065"
   ]
  },
  {
   "cell_type": "markdown",
   "metadata": {},
   "source": [
    "Missing 38935 (3%) last touch points?\n",
    "\n",
    "- Cuz user_campaign_data also does not cover enought all unique uuid \n",
    "- and possibly a customer used cookies before REG and then did not use cookies at REG. \n",
    "- Or use cookies at REG but NA client_id and uuid. \n",
    "\n",
    "Solution:\n",
    "take the last touch point from attribution_funnel"
   ]
  },
  {
   "cell_type": "markdown",
   "metadata": {},
   "source": [
    "## 3.4 Unmatching between traffic_source_level_3_af and traffic_source_level_3"
   ]
  },
  {
   "cell_type": "code",
   "execution_count": 324,
   "metadata": {},
   "outputs": [],
   "source": [
    "last_touch = df_ga[df_ga['session_reached_minimal_created'] == True]"
   ]
  },
  {
   "cell_type": "code",
   "execution_count": 325,
   "metadata": {},
   "outputs": [],
   "source": [
    "unmatch = last_touch[last_touch['traffic_source_level_3_af'] != last_touch['traffic_source_full']]"
   ]
  },
  {
   "cell_type": "code",
   "execution_count": 331,
   "metadata": {},
   "outputs": [
    {
     "name": "stdout",
     "output_type": "stream",
     "text": [
      "<class 'pandas.core.frame.DataFrame'>\n",
      "Int64Index: 57639 entries, 0 to 1697175\n",
      "Data columns (total 13 columns):\n",
      "organization_uuid                  57639 non-null object\n",
      "organization_created               57639 non-null datetime64[ns, UTC]\n",
      "traffic_source_level_3_af          57639 non-null object\n",
      "full_visitor_id                    57639 non-null object\n",
      "country_id                         57635 non-null object\n",
      "session_id                         57639 non-null object\n",
      "session_start_time                 57639 non-null object\n",
      "session_end_time                   57639 non-null object\n",
      "session_reached_minimal_created    57639 non-null object\n",
      "traffic_source_level_3             57639 non-null object\n",
      "traffic_source_source              57639 non-null object\n",
      "traffic_source_medium              57639 non-null object\n",
      "traffic_source_full                57639 non-null object\n",
      "dtypes: datetime64[ns, UTC](1), object(12)\n",
      "memory usage: 6.2+ MB\n"
     ]
    }
   ],
   "source": [
    "unmatch.info()"
   ]
  },
  {
   "cell_type": "code",
   "execution_count": 330,
   "metadata": {
    "cell_style": "center"
   },
   "outputs": [
    {
     "name": "stderr",
     "output_type": "stream",
     "text": [
      "//anaconda3/lib/python3.7/site-packages/ipykernel_launcher.py:1: SettingWithCopyWarning: \n",
      "A value is trying to be set on a copy of a slice from a DataFrame.\n",
      "Try using .loc[row_indexer,col_indexer] = value instead\n",
      "\n",
      "See the caveats in the documentation: http://pandas.pydata.org/pandas-docs/stable/user_guide/indexing.html#returning-a-view-versus-a-copy\n",
      "  \"\"\"Entry point for launching an IPython kernel.\n",
      "//anaconda3/lib/python3.7/site-packages/ipykernel_launcher.py:2: SettingWithCopyWarning: \n",
      "A value is trying to be set on a copy of a slice from a DataFrame.\n",
      "Try using .loc[row_indexer,col_indexer] = value instead\n",
      "\n",
      "See the caveats in the documentation: http://pandas.pydata.org/pandas-docs/stable/user_guide/indexing.html#returning-a-view-versus-a-copy\n",
      "  \n"
     ]
    }
   ],
   "source": [
    "unmatch['traffic_source_level_3_af'] = unmatch['traffic_source_level_3_af'].apply(change_2)\n",
    "unmatch['traffic_source_level_3'] = unmatch['traffic_source_level_3'].apply(change_2)"
   ]
  },
  {
   "cell_type": "code",
   "execution_count": 337,
   "metadata": {},
   "outputs": [],
   "source": [
    "unmatch_group = unmatch.groupby('traffic_source_level_3_af')['traffic_source_level_3'].value_counts().unstack()"
   ]
  },
  {
   "cell_type": "code",
   "execution_count": 336,
   "metadata": {},
   "outputs": [
    {
     "data": {
      "text/html": [
       "<div>\n",
       "<style scoped>\n",
       "    .dataframe tbody tr th:only-of-type {\n",
       "        vertical-align: middle;\n",
       "    }\n",
       "\n",
       "    .dataframe tbody tr th {\n",
       "        vertical-align: top;\n",
       "    }\n",
       "\n",
       "    .dataframe thead th {\n",
       "        text-align: right;\n",
       "    }\n",
       "</style>\n",
       "<table border=\"1\" class=\"dataframe\">\n",
       "  <thead>\n",
       "    <tr style=\"text-align: right;\">\n",
       "      <th>traffic_source_level_3</th>\n",
       "      <th>ds</th>\n",
       "      <th>o_organic_direct</th>\n",
       "      <th>o_organic_invite</th>\n",
       "      <th>o_organic_null</th>\n",
       "      <th>o_organic_referral</th>\n",
       "      <th>o_organic_seo</th>\n",
       "      <th>o_paid_affiliate</th>\n",
       "      <th>o_paid_sem</th>\n",
       "      <th>o_paid_social</th>\n",
       "      <th>ps</th>\n",
       "    </tr>\n",
       "    <tr>\n",
       "      <th>traffic_source_level_3_af</th>\n",
       "      <th></th>\n",
       "      <th></th>\n",
       "      <th></th>\n",
       "      <th></th>\n",
       "      <th></th>\n",
       "      <th></th>\n",
       "      <th></th>\n",
       "      <th></th>\n",
       "      <th></th>\n",
       "      <th></th>\n",
       "    </tr>\n",
       "  </thead>\n",
       "  <tbody>\n",
       "    <tr>\n",
       "      <td>ds</td>\n",
       "      <td>8.0</td>\n",
       "      <td>125.0</td>\n",
       "      <td>17.0</td>\n",
       "      <td>194.0</td>\n",
       "      <td>27.0</td>\n",
       "      <td>153.0</td>\n",
       "      <td>36.0</td>\n",
       "      <td>322.0</td>\n",
       "      <td>20.0</td>\n",
       "      <td>12.0</td>\n",
       "    </tr>\n",
       "    <tr>\n",
       "      <td>o_organic_app</td>\n",
       "      <td>23.0</td>\n",
       "      <td>342.0</td>\n",
       "      <td>35.0</td>\n",
       "      <td>2400.0</td>\n",
       "      <td>166.0</td>\n",
       "      <td>248.0</td>\n",
       "      <td>169.0</td>\n",
       "      <td>596.0</td>\n",
       "      <td>235.0</td>\n",
       "      <td>117.0</td>\n",
       "    </tr>\n",
       "    <tr>\n",
       "      <td>o_organic_direct</td>\n",
       "      <td>18.0</td>\n",
       "      <td>NaN</td>\n",
       "      <td>18.0</td>\n",
       "      <td>105.0</td>\n",
       "      <td>374.0</td>\n",
       "      <td>499.0</td>\n",
       "      <td>133.0</td>\n",
       "      <td>1496.0</td>\n",
       "      <td>257.0</td>\n",
       "      <td>122.0</td>\n",
       "    </tr>\n",
       "    <tr>\n",
       "      <td>o_organic_invite</td>\n",
       "      <td>1.0</td>\n",
       "      <td>22.0</td>\n",
       "      <td>NaN</td>\n",
       "      <td>2.0</td>\n",
       "      <td>15.0</td>\n",
       "      <td>13.0</td>\n",
       "      <td>5.0</td>\n",
       "      <td>28.0</td>\n",
       "      <td>1.0</td>\n",
       "      <td>2.0</td>\n",
       "    </tr>\n",
       "    <tr>\n",
       "      <td>o_organic_null</td>\n",
       "      <td>9.0</td>\n",
       "      <td>233.0</td>\n",
       "      <td>34.0</td>\n",
       "      <td>NaN</td>\n",
       "      <td>73.0</td>\n",
       "      <td>120.0</td>\n",
       "      <td>55.0</td>\n",
       "      <td>347.0</td>\n",
       "      <td>478.0</td>\n",
       "      <td>108.0</td>\n",
       "    </tr>\n",
       "    <tr>\n",
       "      <td>o_organic_referral</td>\n",
       "      <td>9.0</td>\n",
       "      <td>1073.0</td>\n",
       "      <td>4.0</td>\n",
       "      <td>47.0</td>\n",
       "      <td>NaN</td>\n",
       "      <td>260.0</td>\n",
       "      <td>28.0</td>\n",
       "      <td>283.0</td>\n",
       "      <td>49.0</td>\n",
       "      <td>24.0</td>\n",
       "    </tr>\n",
       "    <tr>\n",
       "      <td>o_organic_seo</td>\n",
       "      <td>88.0</td>\n",
       "      <td>908.0</td>\n",
       "      <td>20.0</td>\n",
       "      <td>66.0</td>\n",
       "      <td>629.0</td>\n",
       "      <td>NaN</td>\n",
       "      <td>324.0</td>\n",
       "      <td>778.0</td>\n",
       "      <td>30.0</td>\n",
       "      <td>143.0</td>\n",
       "    </tr>\n",
       "    <tr>\n",
       "      <td>o_paid_affiliate</td>\n",
       "      <td>2.0</td>\n",
       "      <td>86.0</td>\n",
       "      <td>9.0</td>\n",
       "      <td>7.0</td>\n",
       "      <td>101.0</td>\n",
       "      <td>124.0</td>\n",
       "      <td>NaN</td>\n",
       "      <td>242.0</td>\n",
       "      <td>19.0</td>\n",
       "      <td>6.0</td>\n",
       "    </tr>\n",
       "    <tr>\n",
       "      <td>o_paid_app_install</td>\n",
       "      <td>1.0</td>\n",
       "      <td>12.0</td>\n",
       "      <td>125.0</td>\n",
       "      <td>28.0</td>\n",
       "      <td>2.0</td>\n",
       "      <td>4.0</td>\n",
       "      <td>7.0</td>\n",
       "      <td>16.0</td>\n",
       "      <td>91.0</td>\n",
       "      <td>NaN</td>\n",
       "    </tr>\n",
       "    <tr>\n",
       "      <td>o_paid_sem</td>\n",
       "      <td>51.0</td>\n",
       "      <td>2773.0</td>\n",
       "      <td>60.0</td>\n",
       "      <td>67.0</td>\n",
       "      <td>863.0</td>\n",
       "      <td>472.0</td>\n",
       "      <td>374.0</td>\n",
       "      <td>NaN</td>\n",
       "      <td>1362.0</td>\n",
       "      <td>171.0</td>\n",
       "    </tr>\n",
       "    <tr>\n",
       "      <td>o_paid_social</td>\n",
       "      <td>10.0</td>\n",
       "      <td>123.0</td>\n",
       "      <td>1.0</td>\n",
       "      <td>5.0</td>\n",
       "      <td>210.0</td>\n",
       "      <td>24.0</td>\n",
       "      <td>11.0</td>\n",
       "      <td>117.0</td>\n",
       "      <td>NaN</td>\n",
       "      <td>13.0</td>\n",
       "    </tr>\n",
       "    <tr>\n",
       "      <td>ps</td>\n",
       "      <td>104.0</td>\n",
       "      <td>22.0</td>\n",
       "      <td>8.0</td>\n",
       "      <td>16.0</td>\n",
       "      <td>398.0</td>\n",
       "      <td>32.0</td>\n",
       "      <td>6.0</td>\n",
       "      <td>73.0</td>\n",
       "      <td>11.0</td>\n",
       "      <td>34804.0</td>\n",
       "    </tr>\n",
       "  </tbody>\n",
       "</table>\n",
       "</div>"
      ],
      "text/plain": [
       "traffic_source_level_3        ds  o_organic_direct  o_organic_invite  \\\n",
       "traffic_source_level_3_af                                              \n",
       "ds                           8.0             125.0              17.0   \n",
       "o_organic_app               23.0             342.0              35.0   \n",
       "o_organic_direct            18.0               NaN              18.0   \n",
       "o_organic_invite             1.0              22.0               NaN   \n",
       "o_organic_null               9.0             233.0              34.0   \n",
       "o_organic_referral           9.0            1073.0               4.0   \n",
       "o_organic_seo               88.0             908.0              20.0   \n",
       "o_paid_affiliate             2.0              86.0               9.0   \n",
       "o_paid_app_install           1.0              12.0             125.0   \n",
       "o_paid_sem                  51.0            2773.0              60.0   \n",
       "o_paid_social               10.0             123.0               1.0   \n",
       "ps                         104.0              22.0               8.0   \n",
       "\n",
       "traffic_source_level_3     o_organic_null  o_organic_referral  o_organic_seo  \\\n",
       "traffic_source_level_3_af                                                      \n",
       "ds                                  194.0                27.0          153.0   \n",
       "o_organic_app                      2400.0               166.0          248.0   \n",
       "o_organic_direct                    105.0               374.0          499.0   \n",
       "o_organic_invite                      2.0                15.0           13.0   \n",
       "o_organic_null                        NaN                73.0          120.0   \n",
       "o_organic_referral                   47.0                 NaN          260.0   \n",
       "o_organic_seo                        66.0               629.0            NaN   \n",
       "o_paid_affiliate                      7.0               101.0          124.0   \n",
       "o_paid_app_install                   28.0                 2.0            4.0   \n",
       "o_paid_sem                           67.0               863.0          472.0   \n",
       "o_paid_social                         5.0               210.0           24.0   \n",
       "ps                                   16.0               398.0           32.0   \n",
       "\n",
       "traffic_source_level_3     o_paid_affiliate  o_paid_sem  o_paid_social  \\\n",
       "traffic_source_level_3_af                                                \n",
       "ds                                     36.0       322.0           20.0   \n",
       "o_organic_app                         169.0       596.0          235.0   \n",
       "o_organic_direct                      133.0      1496.0          257.0   \n",
       "o_organic_invite                        5.0        28.0            1.0   \n",
       "o_organic_null                         55.0       347.0          478.0   \n",
       "o_organic_referral                     28.0       283.0           49.0   \n",
       "o_organic_seo                         324.0       778.0           30.0   \n",
       "o_paid_affiliate                        NaN       242.0           19.0   \n",
       "o_paid_app_install                      7.0        16.0           91.0   \n",
       "o_paid_sem                            374.0         NaN         1362.0   \n",
       "o_paid_social                          11.0       117.0            NaN   \n",
       "ps                                      6.0        73.0           11.0   \n",
       "\n",
       "traffic_source_level_3          ps  \n",
       "traffic_source_level_3_af           \n",
       "ds                            12.0  \n",
       "o_organic_app                117.0  \n",
       "o_organic_direct             122.0  \n",
       "o_organic_invite               2.0  \n",
       "o_organic_null               108.0  \n",
       "o_organic_referral            24.0  \n",
       "o_organic_seo                143.0  \n",
       "o_paid_affiliate               6.0  \n",
       "o_paid_app_install             NaN  \n",
       "o_paid_sem                   171.0  \n",
       "o_paid_social                 13.0  \n",
       "ps                         34804.0  "
      ]
     },
     "execution_count": 336,
     "metadata": {},
     "output_type": "execute_result"
    }
   ],
   "source": [
    "unmatch.groupby('traffic_source_level_3_af')['traffic_source_level_3'].value_counts().unstack()"
   ]
  },
  {
   "cell_type": "code",
   "execution_count": 1,
   "metadata": {},
   "outputs": [
    {
     "data": {
      "text/plain": [
       "0.02252252252252252"
      ]
     },
     "execution_count": 1,
     "metadata": {},
     "output_type": "execute_result"
    }
   ],
   "source": [
    "25000/1110000"
   ]
  },
  {
   "cell_type": "code",
   "execution_count": null,
   "metadata": {},
   "outputs": [],
   "source": []
  }
 ],
 "metadata": {
  "kernelspec": {
   "display_name": "Python 3",
   "language": "python",
   "name": "python3"
  },
  "language_info": {
   "codemirror_mode": {
    "name": "ipython",
    "version": 3
   },
   "file_extension": ".py",
   "mimetype": "text/x-python",
   "name": "python",
   "nbconvert_exporter": "python",
   "pygments_lexer": "ipython3",
   "version": "3.7.3"
  },
  "toc": {
   "base_numbering": 1,
   "nav_menu": {},
   "number_sections": false,
   "sideBar": true,
   "skip_h1_title": false,
   "title_cell": "Table of Contents",
   "title_sidebar": "Contents",
   "toc_cell": false,
   "toc_position": {
    "height": "calc(100% - 180px)",
    "left": "10px",
    "top": "150px",
    "width": "317px"
   },
   "toc_section_display": true,
   "toc_window_display": true
  }
 },
 "nbformat": 4,
 "nbformat_minor": 2
}
