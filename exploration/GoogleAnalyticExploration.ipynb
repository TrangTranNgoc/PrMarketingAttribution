{
 "cells": [
  {
   "cell_type": "code",
   "execution_count": 1,
   "metadata": {},
   "outputs": [],
   "source": [
    "import pandas as pd\n",
    "import seaborn as sns\n",
    "import matplotlib.pyplot as plt\n",
    "import numpy as np\n",
    "\n",
    "#from pandas.io import gbq"
   ]
  },
  {
   "cell_type": "code",
   "execution_count": 2,
   "metadata": {},
   "outputs": [],
   "source": [
    "%load_ext google.cloud.bigquery"
   ]
  },
  {
   "cell_type": "code",
   "execution_count": 3,
   "metadata": {},
   "outputs": [],
   "source": [
    "project_id='izettle-dp-pipeline-prod'"
   ]
  },
  {
   "cell_type": "markdown",
   "metadata": {},
   "source": [
    "# Dataset: google_analytics_session"
   ]
  },
  {
   "cell_type": "code",
   "execution_count": 3,
   "metadata": {},
   "outputs": [],
   "source": [
    "users = '''\n",
    "                            SELECT \n",
    "                                Count(DISTINCT full_visitor_id) AS nr_visitors, \n",
    "                                COUNT(DISTINCT client_id) AS nr_clients,\n",
    "                                COUNT(DISTINCT organization_uuid) AS nr_customers\n",
    "                            FROM legacy_views.google_analytics_session\n",
    "                         '''"
   ]
  },
  {
   "cell_type": "code",
   "execution_count": 4,
   "metadata": {},
   "outputs": [
    {
     "name": "stderr",
     "output_type": "stream",
     "text": [
      "//anaconda3/lib/python3.7/site-packages/google/auth/_default.py:66: UserWarning: Your application has authenticated using end user credentials from Google Cloud SDK. We recommend that most server applications use service accounts instead. If your application continues to use end user credentials from Cloud SDK, you might receive a \"quota exceeded\" or \"API not enabled\" error. For more information about service accounts, see https://cloud.google.com/docs/authentication/\n",
      "  warnings.warn(_CLOUD_SDK_CREDENTIALS_WARNING)\n"
     ]
    },
    {
     "name": "stdout",
     "output_type": "stream",
     "text": [
      "   nr_visitors  nr_clients  nr_customers\n",
      "0      4927226     4855266        399013\n"
     ]
    }
   ],
   "source": [
    "users_sql = gbq.read_gbq(query=users, dialect ='standard', project_id = project_id)\n",
    "print(users_sql)"
   ]
  },
  {
   "cell_type": "code",
   "execution_count": 5,
   "metadata": {},
   "outputs": [
    {
     "name": "stdout",
     "output_type": "stream",
     "text": [
      "   nr_visitors  nr_clients  nr_customers\n",
      "0      4927226     4855266        399013\n"
     ]
    }
   ],
   "source": [
    "print(users_sql)"
   ]
  },
  {
   "cell_type": "markdown",
   "metadata": {},
   "source": [
    "# Data Quality Check"
   ]
  },
  {
   "cell_type": "markdown",
   "metadata": {},
   "source": [
    "- Type\n",
    "- NA values\n",
    "- Duplicates\n",
    "- Outliers"
   ]
  },
  {
   "cell_type": "markdown",
   "metadata": {},
   "source": [
    "### 1. Duplicates"
   ]
  },
  {
   "cell_type": "code",
   "execution_count": 3,
   "metadata": {},
   "outputs": [
    {
     "name": "stderr",
     "output_type": "stream",
     "text": [
      "//anaconda3/lib/python3.7/site-packages/google/auth/_default.py:66: UserWarning: Your application has authenticated using end user credentials from Google Cloud SDK. We recommend that most server applications use service accounts instead. If your application continues to use end user credentials from Cloud SDK, you might receive a \"quota exceeded\" or \"API not enabled\" error. For more information about service accounts, see https://cloud.google.com/docs/authentication/\n",
      "  warnings.warn(_CLOUD_SDK_CREDENTIALS_WARNING)\n"
     ]
    }
   ],
   "source": [
    "check = '''\n",
    "        SELECT \n",
    "            *\n",
    "        FROM \n",
    "            `izettle-dp-pipeline-prod.legacy_views.google_analytics_session`\n",
    "        ORDER BY \n",
    "            full_visitor_id,\n",
    "            session_id\n",
    "        LIMIT 2000\n",
    "'''\n",
    "\n",
    "check_sql = gbq.read_gbq(query = check, dialect = 'standard', project_id = project_id)"
   ]
  },
  {
   "cell_type": "code",
   "execution_count": 5,
   "metadata": {
    "collapsed": true
   },
   "outputs": [
    {
     "name": "stdout",
     "output_type": "stream",
     "text": [
      "<class 'pandas.core.frame.DataFrame'>\n",
      "RangeIndex: 2000 entries, 0 to 1999\n",
      "Data columns (total 34 columns):\n",
      "full_visitor_id                        2000 non-null object\n",
      "client_id                              1987 non-null object\n",
      "organization_uuid                      1232 non-null object\n",
      "country_id                             1993 non-null object\n",
      "session_id                             2000 non-null object\n",
      "session_start_time                     2000 non-null datetime64[ns, UTC]\n",
      "session_end_time                       2000 non-null datetime64[ns, UTC]\n",
      "session_first_vertical_page_visited    234 non-null object\n",
      "session_last_vertical_page_visited     234 non-null object\n",
      "session_nr_vertical_pages_visited      2000 non-null int64\n",
      "traffic_source_level_1                 2000 non-null object\n",
      "traffic_source_level_2                 2000 non-null object\n",
      "traffic_source_level_3                 2000 non-null object\n",
      "traffic_source_referral_path           2000 non-null object\n",
      "traffic_source_campaign                2000 non-null object\n",
      "traffic_source_source                  2000 non-null object\n",
      "traffic_source_medium                  2000 non-null object\n",
      "traffic_source_keyword                 2000 non-null object\n",
      "traffic_source_adcontent               2000 non-null object\n",
      "device_is_mobile                       2000 non-null bool\n",
      "device_mobile_brand                    776 non-null object\n",
      "device_browser                         2000 non-null object\n",
      "device_operating_system                2000 non-null object\n",
      "device_category                        2000 non-null object\n",
      "hit_timestamp                          2000 non-null datetime64[ns, UTC]\n",
      "hit_vertical_page_name                 64 non-null object\n",
      "hit_page_path                          1993 non-null object\n",
      "hit_page_host_name                     1993 non-null object\n",
      "hit_page_title                         1963 non-null object\n",
      "session_reached_minimal_page_visit     2000 non-null bool\n",
      "session_reached_minimal_created        2000 non-null bool\n",
      "session_reached_first_non_minimal      2000 non-null bool\n",
      "session_reached_ipos_submission        2000 non-null bool\n",
      "is_portal_login_session                2000 non-null bool\n",
      "dtypes: bool(6), datetime64[ns, UTC](3), int64(1), object(24)\n",
      "memory usage: 449.3+ KB\n"
     ]
    }
   ],
   "source": [
    "check_sql.info()"
   ]
  },
  {
   "cell_type": "code",
   "execution_count": 7,
   "metadata": {},
   "outputs": [
    {
     "data": {
      "text/plain": [
       "688"
      ]
     },
     "execution_count": 7,
     "metadata": {},
     "output_type": "execute_result"
    }
   ],
   "source": [
    "check_sql.duplicated().sum().sum()"
   ]
  },
  {
   "cell_type": "markdown",
   "metadata": {},
   "source": [
    "Duplicates found in the processed GA data. So now, check duplicates in the raw data."
   ]
  },
  {
   "cell_type": "markdown",
   "metadata": {},
   "source": [
    "**Check duplicates in the raw GA data**"
   ]
  },
  {
   "cell_type": "code",
   "execution_count": 36,
   "metadata": {},
   "outputs": [],
   "source": [
    "from pandas.io import gbq"
   ]
  },
  {
   "cell_type": "code",
   "execution_count": 28,
   "metadata": {},
   "outputs": [],
   "source": [
    "project = 'izettle-dp-events-prod'"
   ]
  },
  {
   "cell_type": "code",
   "execution_count": 38,
   "metadata": {},
   "outputs": [],
   "source": [
    "select = '''\n",
    "        SELECT \n",
    "            *\n",
    "        FROM events.big_query_google_analytics_session\n",
    "        LIMIT 20000\n",
    "        '''"
   ]
  },
  {
   "cell_type": "code",
   "execution_count": 39,
   "metadata": {},
   "outputs": [],
   "source": [
    "select_sql = gbq.read_gbq(query = select, dialect = 'standard', project_id = project)"
   ]
  },
  {
   "cell_type": "code",
   "execution_count": 40,
   "metadata": {},
   "outputs": [
    {
     "data": {
      "text/plain": [
       "0"
      ]
     },
     "execution_count": 40,
     "metadata": {},
     "output_type": "execute_result"
    }
   ],
   "source": [
    "select_sql.duplicated().sum()"
   ]
  },
  {
   "cell_type": "markdown",
   "metadata": {},
   "source": [
    "No duplicates found in a subset of GA raw data. So duplicates found in the processed GA data are due to merge or a subselection of fields in the raw data"
   ]
  },
  {
   "cell_type": "markdown",
   "metadata": {},
   "source": [
    "### 2. Data type and values"
   ]
  },
  {
   "cell_type": "code",
   "execution_count": 3,
   "metadata": {},
   "outputs": [],
   "source": [
    "%%bigquery df\n",
    "SELECT \n",
    "    client_id, \n",
    "    organization_uuid,\n",
    "    country_id,\n",
    "    session_id,\n",
    "    session_start_time,\n",
    "    session_end_time,\n",
    "    traffic_source_level_1,\n",
    "    traffic_source_level_2,\n",
    "    traffic_source_level_3,\n",
    "    device_is_mobile,\n",
    "    device_browser,\n",
    "    is_portal_login_session\n",
    "FROM legacy_views.google_analytics_session\n",
    "LIMIT 1000"
   ]
  },
  {
   "cell_type": "code",
   "execution_count": 22,
   "metadata": {
    "collapsed": true
   },
   "outputs": [
    {
     "data": {
      "text/html": [
       "<div>\n",
       "<style scoped>\n",
       "    .dataframe tbody tr th:only-of-type {\n",
       "        vertical-align: middle;\n",
       "    }\n",
       "\n",
       "    .dataframe tbody tr th {\n",
       "        vertical-align: top;\n",
       "    }\n",
       "\n",
       "    .dataframe thead th {\n",
       "        text-align: right;\n",
       "    }\n",
       "</style>\n",
       "<table border=\"1\" class=\"dataframe\">\n",
       "  <thead>\n",
       "    <tr style=\"text-align: right;\">\n",
       "      <th></th>\n",
       "      <th>client_id</th>\n",
       "      <th>organization_uuid</th>\n",
       "      <th>country_id</th>\n",
       "      <th>session_id</th>\n",
       "      <th>session_start_time</th>\n",
       "      <th>session_end_time</th>\n",
       "      <th>traffic_source_level_1</th>\n",
       "      <th>traffic_source_level_2</th>\n",
       "      <th>traffic_source_level_3</th>\n",
       "      <th>device_is_mobile</th>\n",
       "      <th>device_browser</th>\n",
       "      <th>is_portal_login_session</th>\n",
       "    </tr>\n",
       "  </thead>\n",
       "  <tbody>\n",
       "    <tr>\n",
       "      <td>0</td>\n",
       "      <td>1870314418.1541434867</td>\n",
       "      <td>5458e710-0775-11e7-83ac-7155622084c0</td>\n",
       "      <td>BR</td>\n",
       "      <td>b'\\x9fq-\\x06S\\xe9K\\xca\\xe4\\xad&amp;\\x06\\x8d\\xcc\\x8...</td>\n",
       "      <td>2018-11-13 04:13:08+00:00</td>\n",
       "      <td>2018-11-13 04:58:50+00:00</td>\n",
       "      <td>online</td>\n",
       "      <td>o_organic</td>\n",
       "      <td>o_organic_seo</td>\n",
       "      <td>True</td>\n",
       "      <td>Chrome</td>\n",
       "      <td>False</td>\n",
       "    </tr>\n",
       "    <tr>\n",
       "      <td>1</td>\n",
       "      <td>2102093266.1558618905</td>\n",
       "      <td>b78e922c-7d60-11e9-9bee-1e5066470d20</td>\n",
       "      <td>GB</td>\n",
       "      <td>b'\\x0e\\x08Y\\x13\\xa59\\x87\\xa2\\xd4n\\xda\\xc04k\\xe...</td>\n",
       "      <td>2019-05-23 13:41:45+00:00</td>\n",
       "      <td>2019-05-23 13:51:05+00:00</td>\n",
       "      <td>online</td>\n",
       "      <td>o_organic</td>\n",
       "      <td>o_organic_seo</td>\n",
       "      <td>True</td>\n",
       "      <td>Safari</td>\n",
       "      <td>False</td>\n",
       "    </tr>\n",
       "    <tr>\n",
       "      <td>2</td>\n",
       "      <td>1946529511.1514882616</td>\n",
       "      <td>02c40530-d493-11e5-8a00-8348849cb617</td>\n",
       "      <td>GB</td>\n",
       "      <td>b'\\x17\\xed\\x9f\\x03z\\xeb3j\\xdc\\x88\\xd4\\xb3gB\\xc...</td>\n",
       "      <td>2018-02-01 13:49:14+00:00</td>\n",
       "      <td>2018-02-01 13:55:00+00:00</td>\n",
       "      <td>online</td>\n",
       "      <td>o_organic</td>\n",
       "      <td>o_organic_seo</td>\n",
       "      <td>True</td>\n",
       "      <td>Safari</td>\n",
       "      <td>True</td>\n",
       "    </tr>\n",
       "    <tr>\n",
       "      <td>3</td>\n",
       "      <td>785524010.1526740420</td>\n",
       "      <td>c2e9f9e0-ff27-11e6-be14-0219c995b3c0</td>\n",
       "      <td>GB</td>\n",
       "      <td>b'\\x8dfb\\x80\\xfc\\x16\\x9e\\xb8\\\\y\\x04WY\\xd8Te\\xd...</td>\n",
       "      <td>2018-07-31 10:31:47+00:00</td>\n",
       "      <td>2018-07-31 10:38:11+00:00</td>\n",
       "      <td>online</td>\n",
       "      <td>o_paid</td>\n",
       "      <td>o_paid_sem</td>\n",
       "      <td>False</td>\n",
       "      <td>Safari</td>\n",
       "      <td>True</td>\n",
       "    </tr>\n",
       "    <tr>\n",
       "      <td>4</td>\n",
       "      <td>394477510.1502097440</td>\n",
       "      <td>0fc2d0e0-4a46-11e5-abb6-121e281e47db</td>\n",
       "      <td>FR</td>\n",
       "      <td>b'yN\\x0cfy\\xbfc\\xdf\\xdc\\x17+\\xc4-J\\xccAaq@\\xbd'</td>\n",
       "      <td>2017-12-28 08:20:54+00:00</td>\n",
       "      <td>2017-12-28 08:31:27+00:00</td>\n",
       "      <td>online</td>\n",
       "      <td>o_organic</td>\n",
       "      <td>o_organic_direct</td>\n",
       "      <td>True</td>\n",
       "      <td>Safari</td>\n",
       "      <td>True</td>\n",
       "    </tr>\n",
       "    <tr>\n",
       "      <td>5</td>\n",
       "      <td>197492061.1544345101</td>\n",
       "      <td>27595be8-fe02-11e8-b3a4-2f3587eaf755</td>\n",
       "      <td>NO</td>\n",
       "      <td>b'@\\r\\x9c\\x99\\x05\\x9c\\xcb\\x97M\\xee\\xabY*&gt;ah\\xb...</td>\n",
       "      <td>2018-12-12 11:28:38+00:00</td>\n",
       "      <td>2018-12-12 11:44:50+00:00</td>\n",
       "      <td>online</td>\n",
       "      <td>o_organic</td>\n",
       "      <td>o_organic_seo</td>\n",
       "      <td>False</td>\n",
       "      <td>Safari</td>\n",
       "      <td>False</td>\n",
       "    </tr>\n",
       "    <tr>\n",
       "      <td>6</td>\n",
       "      <td>2066674609.1502218069</td>\n",
       "      <td>None</td>\n",
       "      <td>BR</td>\n",
       "      <td>b'\\x9f\\x90]-\\x10\\x9fz\\x8a\\x91\\x94\\x03J\\xff\\xe5...</td>\n",
       "      <td>2018-02-19 10:32:55+00:00</td>\n",
       "      <td>2018-02-19 10:32:55+00:00</td>\n",
       "      <td>online</td>\n",
       "      <td>o_paid</td>\n",
       "      <td>o_paid_sem</td>\n",
       "      <td>False</td>\n",
       "      <td>Chrome</td>\n",
       "      <td>False</td>\n",
       "    </tr>\n",
       "    <tr>\n",
       "      <td>7</td>\n",
       "      <td>947421154.1556544104</td>\n",
       "      <td>ac6d3420-ab88-11e8-a436-69296c2a66c9</td>\n",
       "      <td>BR</td>\n",
       "      <td>b'\\x81\\xe92&amp;\\x98\\xe2\\xf5!\\x9e\\xbb/AN\\xb5.\\x91I...</td>\n",
       "      <td>2019-05-30 18:24:17+00:00</td>\n",
       "      <td>2019-05-30 18:34:59+00:00</td>\n",
       "      <td>online</td>\n",
       "      <td>o_organic</td>\n",
       "      <td>o_organic_seo</td>\n",
       "      <td>False</td>\n",
       "      <td>Chrome</td>\n",
       "      <td>True</td>\n",
       "    </tr>\n",
       "    <tr>\n",
       "      <td>8</td>\n",
       "      <td>87244319.1526386989</td>\n",
       "      <td>None</td>\n",
       "      <td>BR</td>\n",
       "      <td>b'$\\x81]\\xe3\\x90\\xd2\\xf0R\\xee\\xb6\\xbe\\xc2\\xfe\\...</td>\n",
       "      <td>2018-05-15 12:23:09+00:00</td>\n",
       "      <td>2018-05-15 12:25:41+00:00</td>\n",
       "      <td>online</td>\n",
       "      <td>o_paid</td>\n",
       "      <td>o_paid_sem</td>\n",
       "      <td>True</td>\n",
       "      <td>Android Webview</td>\n",
       "      <td>False</td>\n",
       "    </tr>\n",
       "    <tr>\n",
       "      <td>9</td>\n",
       "      <td>1156760453.1536669007</td>\n",
       "      <td>None</td>\n",
       "      <td>GB</td>\n",
       "      <td>b'\\xc1\\xc0\\x03\\xfdQ\\xbe\\xd5\\xb2\\x81p(\\xec^8\\x9...</td>\n",
       "      <td>2018-09-11 12:30:10+00:00</td>\n",
       "      <td>2018-09-11 12:38:26+00:00</td>\n",
       "      <td>online</td>\n",
       "      <td>o_paid</td>\n",
       "      <td>o_paid_sem</td>\n",
       "      <td>True</td>\n",
       "      <td>Chrome</td>\n",
       "      <td>False</td>\n",
       "    </tr>\n",
       "  </tbody>\n",
       "</table>\n",
       "</div>"
      ],
      "text/plain": [
       "               client_id                     organization_uuid country_id  \\\n",
       "0  1870314418.1541434867  5458e710-0775-11e7-83ac-7155622084c0         BR   \n",
       "1  2102093266.1558618905  b78e922c-7d60-11e9-9bee-1e5066470d20         GB   \n",
       "2  1946529511.1514882616  02c40530-d493-11e5-8a00-8348849cb617         GB   \n",
       "3   785524010.1526740420  c2e9f9e0-ff27-11e6-be14-0219c995b3c0         GB   \n",
       "4   394477510.1502097440  0fc2d0e0-4a46-11e5-abb6-121e281e47db         FR   \n",
       "5   197492061.1544345101  27595be8-fe02-11e8-b3a4-2f3587eaf755         NO   \n",
       "6  2066674609.1502218069                                  None         BR   \n",
       "7   947421154.1556544104  ac6d3420-ab88-11e8-a436-69296c2a66c9         BR   \n",
       "8    87244319.1526386989                                  None         BR   \n",
       "9  1156760453.1536669007                                  None         GB   \n",
       "\n",
       "                                          session_id  \\\n",
       "0  b'\\x9fq-\\x06S\\xe9K\\xca\\xe4\\xad&\\x06\\x8d\\xcc\\x8...   \n",
       "1  b'\\x0e\\x08Y\\x13\\xa59\\x87\\xa2\\xd4n\\xda\\xc04k\\xe...   \n",
       "2  b'\\x17\\xed\\x9f\\x03z\\xeb3j\\xdc\\x88\\xd4\\xb3gB\\xc...   \n",
       "3  b'\\x8dfb\\x80\\xfc\\x16\\x9e\\xb8\\\\y\\x04WY\\xd8Te\\xd...   \n",
       "4    b'yN\\x0cfy\\xbfc\\xdf\\xdc\\x17+\\xc4-J\\xccAaq@\\xbd'   \n",
       "5  b'@\\r\\x9c\\x99\\x05\\x9c\\xcb\\x97M\\xee\\xabY*>ah\\xb...   \n",
       "6  b'\\x9f\\x90]-\\x10\\x9fz\\x8a\\x91\\x94\\x03J\\xff\\xe5...   \n",
       "7  b'\\x81\\xe92&\\x98\\xe2\\xf5!\\x9e\\xbb/AN\\xb5.\\x91I...   \n",
       "8  b'$\\x81]\\xe3\\x90\\xd2\\xf0R\\xee\\xb6\\xbe\\xc2\\xfe\\...   \n",
       "9  b'\\xc1\\xc0\\x03\\xfdQ\\xbe\\xd5\\xb2\\x81p(\\xec^8\\x9...   \n",
       "\n",
       "         session_start_time          session_end_time traffic_source_level_1  \\\n",
       "0 2018-11-13 04:13:08+00:00 2018-11-13 04:58:50+00:00                 online   \n",
       "1 2019-05-23 13:41:45+00:00 2019-05-23 13:51:05+00:00                 online   \n",
       "2 2018-02-01 13:49:14+00:00 2018-02-01 13:55:00+00:00                 online   \n",
       "3 2018-07-31 10:31:47+00:00 2018-07-31 10:38:11+00:00                 online   \n",
       "4 2017-12-28 08:20:54+00:00 2017-12-28 08:31:27+00:00                 online   \n",
       "5 2018-12-12 11:28:38+00:00 2018-12-12 11:44:50+00:00                 online   \n",
       "6 2018-02-19 10:32:55+00:00 2018-02-19 10:32:55+00:00                 online   \n",
       "7 2019-05-30 18:24:17+00:00 2019-05-30 18:34:59+00:00                 online   \n",
       "8 2018-05-15 12:23:09+00:00 2018-05-15 12:25:41+00:00                 online   \n",
       "9 2018-09-11 12:30:10+00:00 2018-09-11 12:38:26+00:00                 online   \n",
       "\n",
       "  traffic_source_level_2 traffic_source_level_3  device_is_mobile  \\\n",
       "0              o_organic          o_organic_seo              True   \n",
       "1              o_organic          o_organic_seo              True   \n",
       "2              o_organic          o_organic_seo              True   \n",
       "3                 o_paid             o_paid_sem             False   \n",
       "4              o_organic       o_organic_direct              True   \n",
       "5              o_organic          o_organic_seo             False   \n",
       "6                 o_paid             o_paid_sem             False   \n",
       "7              o_organic          o_organic_seo             False   \n",
       "8                 o_paid             o_paid_sem              True   \n",
       "9                 o_paid             o_paid_sem              True   \n",
       "\n",
       "    device_browser  is_portal_login_session  \n",
       "0           Chrome                    False  \n",
       "1           Safari                    False  \n",
       "2           Safari                     True  \n",
       "3           Safari                     True  \n",
       "4           Safari                     True  \n",
       "5           Safari                    False  \n",
       "6           Chrome                    False  \n",
       "7           Chrome                     True  \n",
       "8  Android Webview                    False  \n",
       "9           Chrome                    False  "
      ]
     },
     "execution_count": 22,
     "metadata": {},
     "output_type": "execute_result"
    }
   ],
   "source": [
    "df.head(10)"
   ]
  },
  {
   "cell_type": "code",
   "execution_count": 41,
   "metadata": {},
   "outputs": [
    {
     "name": "stdout",
     "output_type": "stream",
     "text": [
      "<class 'pandas.core.frame.DataFrame'>\n",
      "RangeIndex: 1000 entries, 0 to 999\n",
      "Data columns (total 12 columns):\n",
      "client_id                  955 non-null object\n",
      "organization_uuid          684 non-null object\n",
      "country_id                 998 non-null object\n",
      "session_id                 1000 non-null object\n",
      "session_start_time         1000 non-null datetime64[ns, UTC]\n",
      "session_end_time           1000 non-null datetime64[ns, UTC]\n",
      "traffic_source_level_1     1000 non-null object\n",
      "traffic_source_level_2     1000 non-null object\n",
      "traffic_source_level_3     1000 non-null object\n",
      "device_is_mobile           1000 non-null bool\n",
      "device_browser             1000 non-null object\n",
      "is_portal_login_session    1000 non-null bool\n",
      "dtypes: bool(2), datetime64[ns, UTC](2), object(8)\n",
      "memory usage: 80.2+ KB\n"
     ]
    }
   ],
   "source": [
    "df.info()"
   ]
  },
  {
   "cell_type": "code",
   "execution_count": 51,
   "metadata": {},
   "outputs": [],
   "source": [
    "%%bigquery df_value\n",
    "SELECT\n",
    "    COUNT(DISTINCT client_id) AS nr_id,\n",
    "    COUNT(DISTINCT organization_uuid) AS nr_or,\n",
    "    COUNT(DISTINCT country_id) AS nr_country,\n",
    "    COUNT(DISTINCT session_id) AS nr_session,\n",
    "    MIN(session_start_time) AS start_time,\n",
    "    MAX(session_end_time) AS end_time,\n",
    "    COUNT(DISTINCT traffic_source_level_1) AS nr_traffic1,\n",
    "    COUNT(DISTINCT traffic_source_level_2) AS nr_traffic2,\n",
    "    COUNT(DISTINCT traffic_source_level_3) AS nr_traffic3,\n",
    "    COUNT(DISTINCT device_browser) AS nr_browser\n",
    "FROM legacy_views.google_analytics_session"
   ]
  },
  {
   "cell_type": "code",
   "execution_count": 52,
   "metadata": {},
   "outputs": [
    {
     "data": {
      "text/html": [
       "<div>\n",
       "<style scoped>\n",
       "    .dataframe tbody tr th:only-of-type {\n",
       "        vertical-align: middle;\n",
       "    }\n",
       "\n",
       "    .dataframe tbody tr th {\n",
       "        vertical-align: top;\n",
       "    }\n",
       "\n",
       "    .dataframe thead th {\n",
       "        text-align: right;\n",
       "    }\n",
       "</style>\n",
       "<table border=\"1\" class=\"dataframe\">\n",
       "  <thead>\n",
       "    <tr style=\"text-align: right;\">\n",
       "      <th></th>\n",
       "      <th>nr_id</th>\n",
       "      <th>nr_or</th>\n",
       "      <th>nr_country</th>\n",
       "      <th>nr_session</th>\n",
       "      <th>start_time</th>\n",
       "      <th>end_time</th>\n",
       "      <th>nr_traffic1</th>\n",
       "      <th>nr_traffic2</th>\n",
       "      <th>nr_traffic3</th>\n",
       "      <th>nr_browser</th>\n",
       "    </tr>\n",
       "  </thead>\n",
       "  <tbody>\n",
       "    <tr>\n",
       "      <td>0</td>\n",
       "      <td>16667540</td>\n",
       "      <td>942351</td>\n",
       "      <td>12</td>\n",
       "      <td>43179248</td>\n",
       "      <td>2017-09-01 00:00:05+00:00</td>\n",
       "      <td>2019-09-11 21:59:59+00:00</td>\n",
       "      <td>3</td>\n",
       "      <td>8</td>\n",
       "      <td>17</td>\n",
       "      <td>9282</td>\n",
       "    </tr>\n",
       "  </tbody>\n",
       "</table>\n",
       "</div>"
      ],
      "text/plain": [
       "      nr_id   nr_or  nr_country  nr_session                start_time  \\\n",
       "0  16667540  942351          12    43179248 2017-09-01 00:00:05+00:00   \n",
       "\n",
       "                   end_time  nr_traffic1  nr_traffic2  nr_traffic3  nr_browser  \n",
       "0 2019-09-11 21:59:59+00:00            3            8           17        9282  "
      ]
     },
     "execution_count": 52,
     "metadata": {},
     "output_type": "execute_result"
    }
   ],
   "source": [
    "df_value"
   ]
  },
  {
   "cell_type": "markdown",
   "metadata": {},
   "source": [
    "Note: GA cannt track returning users and cannt track across devices & browsers"
   ]
  },
  {
   "cell_type": "markdown",
   "metadata": {},
   "source": [
    "### 3. NA values"
   ]
  },
  {
   "cell_type": "code",
   "execution_count": 42,
   "metadata": {},
   "outputs": [
    {
     "data": {
      "text/plain": [
       "client_id                   45\n",
       "organization_uuid          316\n",
       "country_id                   2\n",
       "session_id                   0\n",
       "session_start_time           0\n",
       "session_end_time             0\n",
       "traffic_source_level_1       0\n",
       "traffic_source_level_2       0\n",
       "traffic_source_level_3       0\n",
       "device_is_mobile             0\n",
       "device_browser               0\n",
       "is_portal_login_session      0\n",
       "dtype: int64"
      ]
     },
     "execution_count": 42,
     "metadata": {},
     "output_type": "execute_result"
    }
   ],
   "source": [
    "df.isna().sum()"
   ]
  },
  {
   "cell_type": "markdown",
   "metadata": {},
   "source": [
    "316 NA orgonization_uuid/ 1000 records"
   ]
  },
  {
   "cell_type": "code",
   "execution_count": 44,
   "metadata": {},
   "outputs": [],
   "source": [
    "%%bigquery df_na\n",
    "SELECT \n",
    "    COUNT(*)\n",
    "FROM legacy_views.google_analytics_session\n",
    "WHERE organization_uuid IS NULL"
   ]
  },
  {
   "cell_type": "code",
   "execution_count": 45,
   "metadata": {},
   "outputs": [
    {
     "data": {
      "text/html": [
       "<div>\n",
       "<style scoped>\n",
       "    .dataframe tbody tr th:only-of-type {\n",
       "        vertical-align: middle;\n",
       "    }\n",
       "\n",
       "    .dataframe tbody tr th {\n",
       "        vertical-align: top;\n",
       "    }\n",
       "\n",
       "    .dataframe thead th {\n",
       "        text-align: right;\n",
       "    }\n",
       "</style>\n",
       "<table border=\"1\" class=\"dataframe\">\n",
       "  <thead>\n",
       "    <tr style=\"text-align: right;\">\n",
       "      <th></th>\n",
       "      <th>f0_</th>\n",
       "    </tr>\n",
       "  </thead>\n",
       "  <tbody>\n",
       "    <tr>\n",
       "      <td>0</td>\n",
       "      <td>97095231</td>\n",
       "    </tr>\n",
       "  </tbody>\n",
       "</table>\n",
       "</div>"
      ],
      "text/plain": [
       "        f0_\n",
       "0  97095231"
      ]
     },
     "execution_count": 45,
     "metadata": {},
     "output_type": "execute_result"
    }
   ],
   "source": [
    "df_na"
   ]
  },
  {
   "cell_type": "markdown",
   "metadata": {},
   "source": [
    "33% of the total obs that have  NA organization_uuid "
   ]
  },
  {
   "cell_type": "code",
   "execution_count": 47,
   "metadata": {},
   "outputs": [],
   "source": [
    "%%bigquery df_na_2\n",
    "SELECT \n",
    "    COUNT(DISTINCT client_id)\n",
    "FROM legacy_views.google_analytics_session\n",
    "WHERE organization_uuid IS NULL"
   ]
  },
  {
   "cell_type": "code",
   "execution_count": 48,
   "metadata": {},
   "outputs": [
    {
     "data": {
      "text/html": [
       "<div>\n",
       "<style scoped>\n",
       "    .dataframe tbody tr th:only-of-type {\n",
       "        vertical-align: middle;\n",
       "    }\n",
       "\n",
       "    .dataframe tbody tr th {\n",
       "        vertical-align: top;\n",
       "    }\n",
       "\n",
       "    .dataframe thead th {\n",
       "        text-align: right;\n",
       "    }\n",
       "</style>\n",
       "<table border=\"1\" class=\"dataframe\">\n",
       "  <thead>\n",
       "    <tr style=\"text-align: right;\">\n",
       "      <th></th>\n",
       "      <th>f0_</th>\n",
       "    </tr>\n",
       "  </thead>\n",
       "  <tbody>\n",
       "    <tr>\n",
       "      <td>0</td>\n",
       "      <td>14843068</td>\n",
       "    </tr>\n",
       "  </tbody>\n",
       "</table>\n",
       "</div>"
      ],
      "text/plain": [
       "        f0_\n",
       "0  14843068"
      ]
     },
     "execution_count": 48,
     "metadata": {},
     "output_type": "execute_result"
    }
   ],
   "source": [
    "df_na_2"
   ]
  },
  {
   "cell_type": "markdown",
   "metadata": {},
   "source": [
    "33% contains 15millions different client_id (total 17 millions: 88%) -> Expectedly: low conversion from client_id to organization_uuid"
   ]
  },
  {
   "cell_type": "markdown",
   "metadata": {},
   "source": [
    "# Data Exploration"
   ]
  },
  {
   "cell_type": "markdown",
   "metadata": {},
   "source": [
    "### 1. Market exploration"
   ]
  },
  {
   "cell_type": "code",
   "execution_count": 55,
   "metadata": {},
   "outputs": [],
   "source": [
    "%%bigquery session\n",
    "SELECT \n",
    "    country_id,\n",
    "    COUNT(DISTINCT session_id) AS nr_session\n",
    "FROM legacy_views.google_analytics_session\n",
    "GROUP BY country_id\n",
    "ORDER BY 1\n"
   ]
  },
  {
   "cell_type": "markdown",
   "metadata": {},
   "source": [
    "**Number of sessions by markets**"
   ]
  },
  {
   "cell_type": "code",
   "execution_count": 56,
   "metadata": {},
   "outputs": [
    {
     "data": {
      "image/png": "[encoded data removed]",
      "text/plain": [
       "<Figure size 720x432 with 1 Axes>"
      ]
     },
     "metadata": {},
     "output_type": "display_data"
    }
   ],
   "source": [
    "sns.set(rc = {'figure.figsize':(10,6)})\n",
    "session.plot(kind = 'bar', x= 'country_id', y ='nr_session', color = 'slateblue', logy = True, rot = 45)\n",
    "plt.ylabel('Number of session')\n",
    "plt.show()"
   ]
  },
  {
   "cell_type": "markdown",
   "metadata": {},
   "source": [
    "**Session duration**"
   ]
  },
  {
   "cell_type": "code",
   "execution_count": 8,
   "metadata": {},
   "outputs": [],
   "source": [
    "%%bigquery session_duration\n",
    "WITH duration_session AS(\n",
    "                SELECT\n",
    "                    DISTINCT country_id,\n",
    "                    session_id,\n",
    "                    TIMESTAMP_DIFF(session_end_time, session_start_time, minute) AS mins\n",
    "                    \n",
    "                FROM `izettle-dp-pipeline-prod.legacy_views.google_analytics_session`\n",
    "                )\n",
    "SELECT\n",
    "    DISTINCT country_id,\n",
    "    PERCENTILE_CONT(mins, 0) OVER(PARTITION BY country_id) AS min_dur,\n",
    "    PERCENTILE_CONT(mins, 1) OVER(PARTITION BY country_id) AS max_dur,\n",
    "    PERCENTILE_CONT(mins, 0.5) OVER(PARTITION BY country_id) AS median_dur\n",
    "FROM duration_session"
   ]
  },
  {
   "cell_type": "code",
   "execution_count": 9,
   "metadata": {},
   "outputs": [
    {
     "data": {
      "text/html": [
       "<div>\n",
       "<style scoped>\n",
       "    .dataframe tbody tr th:only-of-type {\n",
       "        vertical-align: middle;\n",
       "    }\n",
       "\n",
       "    .dataframe tbody tr th {\n",
       "        vertical-align: top;\n",
       "    }\n",
       "\n",
       "    .dataframe thead th {\n",
       "        text-align: right;\n",
       "    }\n",
       "</style>\n",
       "<table border=\"1\" class=\"dataframe\">\n",
       "  <thead>\n",
       "    <tr style=\"text-align: right;\">\n",
       "      <th></th>\n",
       "      <th>country_id</th>\n",
       "      <th>min_dur</th>\n",
       "      <th>max_dur</th>\n",
       "      <th>median_dur</th>\n",
       "    </tr>\n",
       "  </thead>\n",
       "  <tbody>\n",
       "    <tr>\n",
       "      <td>0</td>\n",
       "      <td>None</td>\n",
       "      <td>0.0</td>\n",
       "      <td>252.0</td>\n",
       "      <td>0.0</td>\n",
       "    </tr>\n",
       "    <tr>\n",
       "      <td>1</td>\n",
       "      <td>DE</td>\n",
       "      <td>0.0</td>\n",
       "      <td>1218.0</td>\n",
       "      <td>0.0</td>\n",
       "    </tr>\n",
       "    <tr>\n",
       "      <td>2</td>\n",
       "      <td>NO</td>\n",
       "      <td>0.0</td>\n",
       "      <td>641.0</td>\n",
       "      <td>0.0</td>\n",
       "    </tr>\n",
       "    <tr>\n",
       "      <td>3</td>\n",
       "      <td>FR</td>\n",
       "      <td>0.0</td>\n",
       "      <td>435.0</td>\n",
       "      <td>0.0</td>\n",
       "    </tr>\n",
       "    <tr>\n",
       "      <td>4</td>\n",
       "      <td>IT</td>\n",
       "      <td>0.0</td>\n",
       "      <td>231.0</td>\n",
       "      <td>0.0</td>\n",
       "    </tr>\n",
       "    <tr>\n",
       "      <td>5</td>\n",
       "      <td>NL</td>\n",
       "      <td>0.0</td>\n",
       "      <td>477.0</td>\n",
       "      <td>0.0</td>\n",
       "    </tr>\n",
       "    <tr>\n",
       "      <td>6</td>\n",
       "      <td>DK</td>\n",
       "      <td>0.0</td>\n",
       "      <td>514.0</td>\n",
       "      <td>0.0</td>\n",
       "    </tr>\n",
       "    <tr>\n",
       "      <td>7</td>\n",
       "      <td>ES</td>\n",
       "      <td>0.0</td>\n",
       "      <td>372.0</td>\n",
       "      <td>0.0</td>\n",
       "    </tr>\n",
       "    <tr>\n",
       "      <td>8</td>\n",
       "      <td>FI</td>\n",
       "      <td>0.0</td>\n",
       "      <td>511.0</td>\n",
       "      <td>0.0</td>\n",
       "    </tr>\n",
       "    <tr>\n",
       "      <td>9</td>\n",
       "      <td>SE</td>\n",
       "      <td>0.0</td>\n",
       "      <td>734.0</td>\n",
       "      <td>0.0</td>\n",
       "    </tr>\n",
       "    <tr>\n",
       "      <td>10</td>\n",
       "      <td>BR</td>\n",
       "      <td>0.0</td>\n",
       "      <td>406.0</td>\n",
       "      <td>0.0</td>\n",
       "    </tr>\n",
       "    <tr>\n",
       "      <td>11</td>\n",
       "      <td>MX</td>\n",
       "      <td>0.0</td>\n",
       "      <td>522.0</td>\n",
       "      <td>0.0</td>\n",
       "    </tr>\n",
       "    <tr>\n",
       "      <td>12</td>\n",
       "      <td>GB</td>\n",
       "      <td>0.0</td>\n",
       "      <td>648.0</td>\n",
       "      <td>0.0</td>\n",
       "    </tr>\n",
       "  </tbody>\n",
       "</table>\n",
       "</div>"
      ],
      "text/plain": [
       "   country_id  min_dur  max_dur  median_dur\n",
       "0        None      0.0    252.0         0.0\n",
       "1          DE      0.0   1218.0         0.0\n",
       "2          NO      0.0    641.0         0.0\n",
       "3          FR      0.0    435.0         0.0\n",
       "4          IT      0.0    231.0         0.0\n",
       "5          NL      0.0    477.0         0.0\n",
       "6          DK      0.0    514.0         0.0\n",
       "7          ES      0.0    372.0         0.0\n",
       "8          FI      0.0    511.0         0.0\n",
       "9          SE      0.0    734.0         0.0\n",
       "10         BR      0.0    406.0         0.0\n",
       "11         MX      0.0    522.0         0.0\n",
       "12         GB      0.0    648.0         0.0"
      ]
     },
     "execution_count": 9,
     "metadata": {},
     "output_type": "execute_result"
    }
   ],
   "source": [
    "session_duration"
   ]
  },
  {
   "cell_type": "markdown",
   "metadata": {},
   "source": [
    "*Skewed to the right*\n",
    "\n",
    "Avg = 3.053 (mins)"
   ]
  },
  {
   "cell_type": "code",
   "execution_count": 23,
   "metadata": {},
   "outputs": [],
   "source": [
    "%%bigquery session_distribution\n",
    "WITH duration_session AS(\n",
    "                SELECT\n",
    "                    DISTINCT session_id,\n",
    "                    CASE WHEN TIMESTAMP_DIFF(session_end_time, session_start_time, minute) <= 1 THEN \".0-1\"\n",
    "                          WHEN TIMESTAMP_DIFF(session_end_time, session_start_time, minute) <= 2 THEN \".1-2\"\n",
    "                          WHEN TIMESTAMP_DIFF(session_end_time, session_start_time, minute) <= 3 THEN \".2-3\"\n",
    "                          WHEN TIMESTAMP_DIFF(session_end_time, session_start_time, minute) <= 4 THEN \".3-4\"\n",
    "                          WHEN TIMESTAMP_DIFF(session_end_time, session_start_time, minute) <= 5 THEN \".4-5\"\n",
    "                          WHEN TIMESTAMP_DIFF(session_end_time, session_start_time, minute) <= 10 THEN \".5-10\"\n",
    "                          WHEN TIMESTAMP_DIFF(session_end_time, session_start_time, minute) <= 15 THEN \"10-15\"\n",
    "                          WHEN TIMESTAMP_DIFF(session_end_time, session_start_time, minute) <= 20 THEN \"15-20\"\n",
    "                          WHEN TIMESTAMP_DIFF(session_end_time, session_start_time, minute) <= 30 THEN \"20-30\"\n",
    "                          WHEN TIMESTAMP_DIFF(session_end_time, session_start_time, minute) <= 60 THEN \"30-60\"\n",
    "                          WHEN TIMESTAMP_DIFF(session_end_time, session_start_time, minute) <= 120 THEN \"60-120\"\n",
    "                          WHEN TIMESTAMP_DIFF(session_end_time, session_start_time, minute) <= 240 THEN \"120-240\"\n",
    "                          ELSE \"> 240\" END AS range_mins\n",
    "                FROM `izettle-dp-pipeline-prod.legacy_views.google_analytics_session`\n",
    ")\n",
    "SELECT\n",
    "    DISTINCT range_mins,\n",
    "    COUNT(*) OVER(PARTITION BY range_mins) AS nr\n",
    "FROM duration_session\n",
    "ORDER BY 1"
   ]
  },
  {
   "cell_type": "code",
   "execution_count": 24,
   "metadata": {
    "collapsed": true
   },
   "outputs": [
    {
     "data": {
      "text/html": [
       "<div>\n",
       "<style scoped>\n",
       "    .dataframe tbody tr th:only-of-type {\n",
       "        vertical-align: middle;\n",
       "    }\n",
       "\n",
       "    .dataframe tbody tr th {\n",
       "        vertical-align: top;\n",
       "    }\n",
       "\n",
       "    .dataframe thead th {\n",
       "        text-align: right;\n",
       "    }\n",
       "</style>\n",
       "<table border=\"1\" class=\"dataframe\">\n",
       "  <thead>\n",
       "    <tr style=\"text-align: right;\">\n",
       "      <th></th>\n",
       "      <th>range_mins</th>\n",
       "      <th>nr</th>\n",
       "    </tr>\n",
       "  </thead>\n",
       "  <tbody>\n",
       "    <tr>\n",
       "      <td>0</td>\n",
       "      <td>.0-1</td>\n",
       "      <td>33194133</td>\n",
       "    </tr>\n",
       "    <tr>\n",
       "      <td>1</td>\n",
       "      <td>.1-2</td>\n",
       "      <td>1774594</td>\n",
       "    </tr>\n",
       "    <tr>\n",
       "      <td>2</td>\n",
       "      <td>.2-3</td>\n",
       "      <td>1188699</td>\n",
       "    </tr>\n",
       "    <tr>\n",
       "      <td>3</td>\n",
       "      <td>.3-4</td>\n",
       "      <td>873714</td>\n",
       "    </tr>\n",
       "    <tr>\n",
       "      <td>4</td>\n",
       "      <td>.4-5</td>\n",
       "      <td>682114</td>\n",
       "    </tr>\n",
       "    <tr>\n",
       "      <td>5</td>\n",
       "      <td>.5-10</td>\n",
       "      <td>2056284</td>\n",
       "    </tr>\n",
       "    <tr>\n",
       "      <td>6</td>\n",
       "      <td>10-15</td>\n",
       "      <td>1127715</td>\n",
       "    </tr>\n",
       "    <tr>\n",
       "      <td>7</td>\n",
       "      <td>120-240</td>\n",
       "      <td>25041</td>\n",
       "    </tr>\n",
       "    <tr>\n",
       "      <td>8</td>\n",
       "      <td>15-20</td>\n",
       "      <td>768746</td>\n",
       "    </tr>\n",
       "    <tr>\n",
       "      <td>9</td>\n",
       "      <td>20-30</td>\n",
       "      <td>1053989</td>\n",
       "    </tr>\n",
       "    <tr>\n",
       "      <td>10</td>\n",
       "      <td>30-60</td>\n",
       "      <td>696922</td>\n",
       "    </tr>\n",
       "    <tr>\n",
       "      <td>11</td>\n",
       "      <td>60-120</td>\n",
       "      <td>153441</td>\n",
       "    </tr>\n",
       "    <tr>\n",
       "      <td>12</td>\n",
       "      <td>&gt; 240</td>\n",
       "      <td>3367</td>\n",
       "    </tr>\n",
       "  </tbody>\n",
       "</table>\n",
       "</div>"
      ],
      "text/plain": [
       "   range_mins        nr\n",
       "0        .0-1  33194133\n",
       "1        .1-2   1774594\n",
       "2        .2-3   1188699\n",
       "3        .3-4    873714\n",
       "4        .4-5    682114\n",
       "5       .5-10   2056284\n",
       "6       10-15   1127715\n",
       "7     120-240     25041\n",
       "8       15-20    768746\n",
       "9       20-30   1053989\n",
       "10      30-60    696922\n",
       "11     60-120    153441\n",
       "12      > 240      3367"
      ]
     },
     "execution_count": 24,
     "metadata": {},
     "output_type": "execute_result"
    }
   ],
   "source": [
    "session_distribution"
   ]
  },
  {
   "cell_type": "code",
   "execution_count": 50,
   "metadata": {},
   "outputs": [
    {
     "data": {
      "image/png": "[encoded data removed]",
      "text/plain": [
       "<Figure size 720x504 with 1 Axes>"
      ]
     },
     "metadata": {},
     "output_type": "display_data"
    }
   ],
   "source": [
    "sns.set(rc = {'figure.figsize':(10,7)})\n",
    "session_distribution.plot(kind = 'bar', x = 'range_mins', y = 'nr', color = 'slateblue', logy = True, rot = 45)\n",
    "plt.title('Distribution of session duration on global')\n",
    "plt.show()"
   ]
  },
  {
   "cell_type": "markdown",
   "metadata": {},
   "source": [
    "*Check GB distribution*"
   ]
  },
  {
   "cell_type": "code",
   "execution_count": 10,
   "metadata": {},
   "outputs": [],
   "source": [
    "%%bigquery session_duration_GB\n",
    "WITH duration_session_GB AS(\n",
    "                SELECT\n",
    "                    DISTINCT session_id,\n",
    "                    TIMESTAMP_DIFF(session_end_time, session_start_time, minute) AS mins\n",
    "                FROM `izettle-dp-pipeline-prod.legacy_views.google_analytics_session`\n",
    "                WHERE country_id = 'GB'\n",
    "                )\n",
    "SELECT\n",
    "    PERCENTILE_CONT(mins, 0) OVER() AS min_dur,\n",
    "    PERCENTILE_CONT(mins, 1) OVER() AS max_dur,\n",
    "    (SELECT \n",
    "         AVG(mins)\n",
    "     FROM duration_session_GB) AS avg_dur,\n",
    "    PERCENTILE_CONT(mins, 0.5) OVER() AS median_dur\n",
    "FROM duration_session_GB\n",
    "LIMIT 1"
   ]
  },
  {
   "cell_type": "code",
   "execution_count": 11,
   "metadata": {},
   "outputs": [
    {
     "data": {
      "text/html": [
       "<div>\n",
       "<style scoped>\n",
       "    .dataframe tbody tr th:only-of-type {\n",
       "        vertical-align: middle;\n",
       "    }\n",
       "\n",
       "    .dataframe tbody tr th {\n",
       "        vertical-align: top;\n",
       "    }\n",
       "\n",
       "    .dataframe thead th {\n",
       "        text-align: right;\n",
       "    }\n",
       "</style>\n",
       "<table border=\"1\" class=\"dataframe\">\n",
       "  <thead>\n",
       "    <tr style=\"text-align: right;\">\n",
       "      <th></th>\n",
       "      <th>min_dur</th>\n",
       "      <th>max_dur</th>\n",
       "      <th>avg_dur</th>\n",
       "      <th>median_dur</th>\n",
       "    </tr>\n",
       "  </thead>\n",
       "  <tbody>\n",
       "    <tr>\n",
       "      <td>0</td>\n",
       "      <td>0.0</td>\n",
       "      <td>648.0</td>\n",
       "      <td>3.172707</td>\n",
       "      <td>0.0</td>\n",
       "    </tr>\n",
       "  </tbody>\n",
       "</table>\n",
       "</div>"
      ],
      "text/plain": [
       "   min_dur  max_dur   avg_dur  median_dur\n",
       "0      0.0    648.0  3.172707         0.0"
      ]
     },
     "execution_count": 11,
     "metadata": {},
     "output_type": "execute_result"
    }
   ],
   "source": [
    "session_duration_GB"
   ]
  },
  {
   "cell_type": "code",
   "execution_count": 26,
   "metadata": {},
   "outputs": [],
   "source": [
    "%%bigquery session_distribution_GB\n",
    "WITH duration_session AS(\n",
    "                SELECT\n",
    "                    DISTINCT session_id,\n",
    "                    CASE WHEN TIMESTAMP_DIFF(session_end_time, session_start_time, minute) <= 1 THEN \".0-1\"\n",
    "                          WHEN TIMESTAMP_DIFF(session_end_time, session_start_time, minute) <= 2 THEN \".1-2\"\n",
    "                          WHEN TIMESTAMP_DIFF(session_end_time, session_start_time, minute) <= 3 THEN \".2-3\"\n",
    "                          WHEN TIMESTAMP_DIFF(session_end_time, session_start_time, minute) <= 4 THEN \".3-4\"\n",
    "                          WHEN TIMESTAMP_DIFF(session_end_time, session_start_time, minute) <= 5 THEN \".4-5\"\n",
    "                          WHEN TIMESTAMP_DIFF(session_end_time, session_start_time, minute) <= 10 THEN \".5-10\"\n",
    "                          WHEN TIMESTAMP_DIFF(session_end_time, session_start_time, minute) <= 15 THEN \"10-15\"\n",
    "                          WHEN TIMESTAMP_DIFF(session_end_time, session_start_time, minute) <= 20 THEN \"15-20\"\n",
    "                          WHEN TIMESTAMP_DIFF(session_end_time, session_start_time, minute) <= 30 THEN \"20-30\"\n",
    "                          WHEN TIMESTAMP_DIFF(session_end_time, session_start_time, minute) <= 60 THEN \"30-60\"\n",
    "                          WHEN TIMESTAMP_DIFF(session_end_time, session_start_time, minute) <= 120 THEN \"60-120\"\n",
    "                          WHEN TIMESTAMP_DIFF(session_end_time, session_start_time, minute) <= 240 THEN \"120-240\"\n",
    "                          ELSE \"> 240\" END AS range_mins\n",
    "                FROM `izettle-dp-pipeline-prod.legacy_views.google_analytics_session`\n",
    "                WHERE country_id = 'GB'\n",
    ")\n",
    "SELECT\n",
    "    DISTINCT range_mins,\n",
    "    COUNT(*) OVER(PARTITION BY range_mins) AS nr\n",
    "FROM duration_session\n",
    "ORDER BY 1"
   ]
  },
  {
   "cell_type": "code",
   "execution_count": 51,
   "metadata": {},
   "outputs": [
    {
     "data": {
      "image/png": "[encoded data removed]",
      "text/plain": [
       "<Figure size 720x432 with 1 Axes>"
      ]
     },
     "metadata": {},
     "output_type": "display_data"
    }
   ],
   "source": [
    "sns.set(rc = {'figure.figsize':(10,6)})\n",
    "session_distribution_GB.plot(kind = 'bar', x = 'range_mins', y = 'nr', color = \"slateblue\", logy = True, rot = 45)\n",
    "plt.title('Distribution of session duration on GB')\n",
    "plt.show()"
   ]
  },
  {
   "cell_type": "markdown",
   "metadata": {},
   "source": [
    "Session duration Pattern on global level ~ Session duration pattern on GB.\n",
    "\n",
    "Also: \n",
    "- Default session: 30 minutes of inactivity (https://support.google.com/analytics/answer/2731565?hl=en)\n",
    "- Session with more than 4 hours: 0.008%\n",
    "\n",
    "-> outliers: remove for data preparation?"
   ]
  },
  {
   "cell_type": "markdown",
   "metadata": {},
   "source": [
    "**Number of hits per session**"
   ]
  },
  {
   "cell_type": "code",
   "execution_count": 44,
   "metadata": {},
   "outputs": [],
   "source": [
    "%%bigquery session_hit\n",
    "WITH hits AS (\n",
    "              SELECT \n",
    "                DISTINCT session_id ,\n",
    "                TIMESTAMP_DIFF(session_end_time , session_start_time , minute) AS duration,\n",
    "                COUNT(*) OVER(PARTITION BY session_id) nr_hits\n",
    "              FROM `izettle-dp-pipeline-prod.legacy_views.google_analytics_session` \n",
    "),\n",
    "hit_groups AS (\n",
    "              SELECT\n",
    "                session_id,\n",
    "                CASE WHEN nr_hits < 5 THEN \".0-5\"\n",
    "                     WHEN nr_hits < 10 THEN \".5-10\"\n",
    "                     WHEN nr_hits < 20 THEN \"10-20\"\n",
    "                     WHEN nr_hits < 50 THEN \"20-50\"\n",
    "                     WHEN nr_hits < 100 THEN \"50-100\"\n",
    "                     WHEN nr_hits < 200 THEN \"100-200\"\n",
    "                     WHEN nr_hits < 300 THEN \"200-300\"\n",
    "                     ELSE \">= 300\" END AS hit_group\n",
    "               FROM hits\n",
    ")\n",
    "SELECT \n",
    "  DISTINCT hit_group,\n",
    "  COUNT(*) OVER(PARTITION BY hit_group)\n",
    "FROM hit_groups\n",
    "ORDER BY 2 DESC"
   ]
  },
  {
   "cell_type": "code",
   "execution_count": 52,
   "metadata": {},
   "outputs": [
    {
     "data": {
      "image/png": "[encoded data removed]",
      "text/plain": [
       "<Figure size 720x432 with 1 Axes>"
      ]
     },
     "metadata": {},
     "output_type": "display_data"
    }
   ],
   "source": [
    "sns.set(rc = {'figure.figsize':(10,6)})\n",
    "session_hit.plot(kind = 'bar', x = 'hit_group', y = 'f0_', color = 'slateblue', logy = True, rot = 0)\n",
    "plt.title('Distribution: Number of hits per session')\n",
    "plt.legend('')\n",
    "plt.show()"
   ]
  },
  {
   "cell_type": "markdown",
   "metadata": {},
   "source": [
    "**Number of client_id by organization_uuid**"
   ]
  },
  {
   "cell_type": "code",
   "execution_count": 51,
   "metadata": {},
   "outputs": [],
   "source": [
    "%%bigquery converters_client\n",
    "SELECT \n",
    "    organization_uuid,\n",
    "    COUNT(client_id) AS nr_clientid\n",
    "FROM legacy_views.google_analytics_session\n",
    "GROUP BY organization_uuid\n",
    "ORDER BY 1"
   ]
  },
  {
   "cell_type": "code",
   "execution_count": 54,
   "metadata": {},
   "outputs": [],
   "source": [
    "converters_client = converters_client[converters_client.nr_clientid != 92944269]"
   ]
  },
  {
   "cell_type": "markdown",
   "metadata": {},
   "source": [
    "*converters_client table is given back with one obs that is the total number of converters for all markets -> remove*"
   ]
  },
  {
   "cell_type": "code",
   "execution_count": 55,
   "metadata": {},
   "outputs": [
    {
     "data": {
      "text/plain": [
       "count    940845.000000\n",
       "mean        193.679170\n",
       "std         809.205545\n",
       "min           0.000000\n",
       "25%          25.000000\n",
       "50%          59.000000\n",
       "75%         146.000000\n",
       "max      172059.000000\n",
       "Name: nr_clientid, dtype: float64"
      ]
     },
     "execution_count": 55,
     "metadata": {},
     "output_type": "execute_result"
    }
   ],
   "source": [
    "converters_client.nr_clientid.describe()"
   ]
  },
  {
   "cell_type": "code",
   "execution_count": 65,
   "metadata": {},
   "outputs": [
    {
     "data": {
      "image/png": "[encoded data removed]",
      "text/plain": [
       "<Figure size 720x432 with 1 Axes>"
      ]
     },
     "metadata": {},
     "output_type": "display_data"
    }
   ],
   "source": [
    "converters_client.nr_clientid.plot(kind = 'hist', logy = True, color = 'slateblue')\n",
    "plt.title('Distribution of nr_clientid by organization_uuid')\n",
    "plt.show()"
   ]
  },
  {
   "cell_type": "markdown",
   "metadata": {},
   "source": [
    "*Check one merchant: one with max number of client_id*"
   ]
  },
  {
   "cell_type": "code",
   "execution_count": 58,
   "metadata": {},
   "outputs": [
    {
     "data": {
      "text/html": [
       "<div>\n",
       "<style scoped>\n",
       "    .dataframe tbody tr th:only-of-type {\n",
       "        vertical-align: middle;\n",
       "    }\n",
       "\n",
       "    .dataframe tbody tr th {\n",
       "        vertical-align: top;\n",
       "    }\n",
       "\n",
       "    .dataframe thead th {\n",
       "        text-align: right;\n",
       "    }\n",
       "</style>\n",
       "<table border=\"1\" class=\"dataframe\">\n",
       "  <thead>\n",
       "    <tr style=\"text-align: right;\">\n",
       "      <th></th>\n",
       "      <th>organization_uuid</th>\n",
       "      <th>nr_clientid</th>\n",
       "    </tr>\n",
       "  </thead>\n",
       "  <tbody>\n",
       "    <tr>\n",
       "      <td>534271</td>\n",
       "      <td>914f9080-93af-11e7-abf3-ca17449df5e7</td>\n",
       "      <td>172059</td>\n",
       "    </tr>\n",
       "  </tbody>\n",
       "</table>\n",
       "</div>"
      ],
      "text/plain": [
       "                           organization_uuid  nr_clientid\n",
       "534271  914f9080-93af-11e7-abf3-ca17449df5e7       172059"
      ]
     },
     "execution_count": 58,
     "metadata": {},
     "output_type": "execute_result"
    }
   ],
   "source": [
    "converters_client[converters_client.nr_clientid == 172059]"
   ]
  },
  {
   "cell_type": "code",
   "execution_count": 59,
   "metadata": {},
   "outputs": [],
   "source": [
    "%%bigquery client\n",
    "SELECT \n",
    "    client_id, \n",
    "    organization_uuid,\n",
    "    country_id,\n",
    "    session_id,\n",
    "    session_start_time,\n",
    "    session_end_time,\n",
    "    traffic_source_level_1,\n",
    "    traffic_source_level_2,\n",
    "    traffic_source_level_3,\n",
    "    device_is_mobile,\n",
    "    device_browser,\n",
    "    is_portal_login_session\n",
    "FROM legacy_views.google_analytics_session\n",
    "WHERE organization_uuid = '914f9080-93af-11e7-abf3-ca17449df5e7'"
   ]
  },
  {
   "cell_type": "code",
   "execution_count": 60,
   "metadata": {
    "collapsed": true
   },
   "outputs": [
    {
     "name": "stdout",
     "output_type": "stream",
     "text": [
      "<class 'pandas.core.frame.DataFrame'>\n",
      "RangeIndex: 182570 entries, 0 to 182569\n",
      "Data columns (total 12 columns):\n",
      "client_id                  172059 non-null object\n",
      "organization_uuid          182570 non-null object\n",
      "country_id                 182535 non-null object\n",
      "session_id                 182570 non-null object\n",
      "session_start_time         182570 non-null datetime64[ns, UTC]\n",
      "session_end_time           182570 non-null datetime64[ns, UTC]\n",
      "traffic_source_level_1     182570 non-null object\n",
      "traffic_source_level_2     182570 non-null object\n",
      "traffic_source_level_3     182570 non-null object\n",
      "device_is_mobile           182570 non-null bool\n",
      "device_browser             182570 non-null object\n",
      "is_portal_login_session    182570 non-null bool\n",
      "dtypes: bool(2), datetime64[ns, UTC](2), object(8)\n",
      "memory usage: 14.3+ MB\n"
     ]
    }
   ],
   "source": [
    "client.info()"
   ]
  },
  {
   "cell_type": "code",
   "execution_count": 63,
   "metadata": {},
   "outputs": [
    {
     "name": "stdout",
     "output_type": "stream",
     "text": [
      "2019-09-10 18:11:40+00:00 max start time\n",
      "2017-09-07 09:08:41+00:00 min start time\n"
     ]
    }
   ],
   "source": [
    "print(client.session_start_time.max(), 'max start time')\n",
    "print(client.session_start_time.min(), 'min start time')"
   ]
  },
  {
   "cell_type": "code",
   "execution_count": 64,
   "metadata": {},
   "outputs": [
    {
     "data": {
      "text/plain": [
       "14992"
      ]
     },
     "execution_count": 64,
     "metadata": {},
     "output_type": "execute_result"
    }
   ],
   "source": [
    "client.session_id.nunique()"
   ]
  },
  {
   "cell_type": "markdown",
   "metadata": {},
   "source": [
    "**Number of converters by markets**\n",
    "\n",
    "(approximate)"
   ]
  },
  {
   "cell_type": "code",
   "execution_count": 5,
   "metadata": {},
   "outputs": [],
   "source": [
    "%%bigquery converters_market\n",
    "WITH non AS(\n",
    "            SELECT\n",
    "                    country_id,\n",
    "                    COUNT(DISTINCT client_id) AS nr_nonconverters\n",
    "            FROM legacy_views.google_analytics_session \n",
    "            WHERE organization_uuid IS NULL\n",
    "            GROUP BY country_id\n",
    "),\n",
    "con AS(\n",
    "            SELECT\n",
    "                    country_id,\n",
    "                    COUNT(DISTINCT organization_uuid) AS nr_converters\n",
    "            FROM legacy_views.google_analytics_session \n",
    "            GROUP BY country_id\n",
    ")\n",
    "SELECT\n",
    "    con.country_id,\n",
    "    nr_nonconverters,\n",
    "    nr_converters\n",
    "FROM con \n",
    "LEFT JOIN non\n",
    "ON con.country_id = non.country_id"
   ]
  },
  {
   "cell_type": "code",
   "execution_count": 14,
   "metadata": {},
   "outputs": [],
   "source": [
    "converters_market_melt = pd.melt(converters_market, id_vars = ['country_id'], var_name = 'type', value_name = 'nr')"
   ]
  },
  {
   "cell_type": "code",
   "execution_count": 21,
   "metadata": {},
   "outputs": [
    {
     "data": {
      "image/png": "[encoded data removed]",
      "text/plain": [
       "<Figure size 720x432 with 1 Axes>"
      ]
     },
     "metadata": {},
     "output_type": "display_data"
    }
   ],
   "source": [
    "sns.set(rc = {'figure.figsize':(10,6)})\n",
    "ax = sns.barplot(x = 'country_id', y = 'nr', hue = 'type', data = converters_market_melt)\n",
    "ax.set_yscale('log')\n",
    "plt.ylabel('log')\n",
    "plt.show()"
   ]
  },
  {
   "cell_type": "markdown",
   "metadata": {},
   "source": [
    "GB: has the highest number of both converters and non-converters and highest number of session."
   ]
  },
  {
   "cell_type": "markdown",
   "metadata": {},
   "source": [
    "**Traffic source**"
   ]
  },
  {
   "cell_type": "code",
   "execution_count": 46,
   "metadata": {},
   "outputs": [],
   "source": [
    "from pandas.io import gbq"
   ]
  },
  {
   "cell_type": "code",
   "execution_count": 47,
   "metadata": {},
   "outputs": [
    {
     "name": "stderr",
     "output_type": "stream",
     "text": [
      "//anaconda3/lib/python3.7/site-packages/google/auth/_default.py:66: UserWarning: Your application has authenticated using end user credentials from Google Cloud SDK. We recommend that most server applications use service accounts instead. If your application continues to use end user credentials from Cloud SDK, you might receive a \"quota exceeded\" or \"API not enabled\" error. For more information about service accounts, see https://cloud.google.com/docs/authentication/\n",
      "  warnings.warn(_CLOUD_SDK_CREDENTIALS_WARNING)\n"
     ]
    }
   ],
   "source": [
    "traffic_source = '''\n",
    "                    SELECT\n",
    "                        DISTINCT(traffic_source_level_1) AS traffic_source_1,\n",
    "                        COUNT(traffic_source_level_1) AS nr_traffic\n",
    "                    FROM \n",
    "                        `izettle-dp-pipeline-prod.legacy_views.google_analytics_session`\n",
    "                    GROUP BY\n",
    "                        traffic_source_1\n",
    "                    '''\n",
    "traffic_source_sql = gbq.read_gbq(query = traffic_source, dialect = 'standard', project_id = project_id)"
   ]
  },
  {
   "cell_type": "code",
   "execution_count": 54,
   "metadata": {},
   "outputs": [
    {
     "data": {
      "image/png": "[encoded data removed]",
      "text/plain": [
       "<Figure size 720x432 with 1 Axes>"
      ]
     },
     "metadata": {},
     "output_type": "display_data"
    }
   ],
   "source": [
    "traffic_source_sql.plot(kind = 'bar', x = 'traffic_source_1', y ='nr_traffic', logy = True, \n",
    "                        rot = 0, color = 'slateblue')\n",
    "plt.legend('')\n",
    "#plt.title()\n",
    "plt.show()"
   ]
  },
  {
   "cell_type": "code",
   "execution_count": null,
   "metadata": {},
   "outputs": [],
   "source": [
    "traffic_source_2 ='''\n",
    "                    SELECT\n",
    "                        DISTINCT(traffic_source_level_2) AS traffic_source_2,\n",
    "                        COUNT(traffic_source_level_2) AS nr_traffic\n",
    "                    FROM \n",
    "                        `izettle-dp-pipeline-prod.legacy_views.google_analytics_session`\n",
    "                    GROUP BY\n",
    "                        traffic_source_2\n",
    "                    '''\n",
    "traffic_source_2_sql = gbq.read_gbq(query = traffic_source_2, dialect = 'standard', project_id = project_id)"
   ]
  },
  {
   "cell_type": "code",
   "execution_count": null,
   "metadata": {},
   "outputs": [],
   "source": [
    "traffic_source_3 ='''\n",
    "                    SELECT\n",
    "                        DISTINCT(traffic_source_level_3) AS traffic_source_3,\n",
    "                        COUNT(traffic_source_level_3) AS nr_traffic\n",
    "                    FROM \n",
    "                        `izettle-dp-pipeline-prod.legacy_views.google_analytics_session`\n",
    "                    GROUP BY\n",
    "                        traffic_source_3\n",
    "                    ORDER BY 1\n",
    "                    '''\n",
    "traffic_source_3_sql = gbq.read_gbq(query = traffic_source_3, dialect = 'standard', project_id = project_id)"
   ]
  },
  {
   "cell_type": "markdown",
   "metadata": {},
   "source": [
    "### 2. User behaviour exploration"
   ]
  },
  {
   "cell_type": "markdown",
   "metadata": {},
   "source": [
    "**Boarding time**\n",
    "\n",
    "journey from client _id to user_id"
   ]
  },
  {
   "cell_type": "code",
   "execution_count": null,
   "metadata": {},
   "outputs": [],
   "source": []
  },
  {
   "cell_type": "code",
   "execution_count": null,
   "metadata": {},
   "outputs": [],
   "source": []
  }
 ],
 "metadata": {
  "kernelspec": {
   "display_name": "Python 3",
   "language": "python",
   "name": "python3"
  },
  "language_info": {
   "codemirror_mode": {
    "name": "ipython",
    "version": 3
   },
   "file_extension": ".py",
   "mimetype": "text/x-python",
   "name": "python",
   "nbconvert_exporter": "python",
   "pygments_lexer": "ipython3",
   "version": "3.7.3"
  }
 },
 "nbformat": 4,
 "nbformat_minor": 2
}
