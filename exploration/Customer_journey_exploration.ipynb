{
 "cells": [
  {
   "cell_type": "code",
   "execution_count": 1,
   "metadata": {},
   "outputs": [],
   "source": [
    "import numpy as np\n",
    "import pandas as pd\n",
    "import matplotlib.pyplot as plt\n",
    "import seaborn as sns\n",
    "\n",
    "import time\n",
    "import ast\n",
    "\n",
    "%load_ext google.cloud.bigquery"
   ]
  },
  {
   "cell_type": "markdown",
   "metadata": {},
   "source": [
    "# Data Load"
   ]
  },
  {
   "cell_type": "code",
   "execution_count": 2,
   "metadata": {},
   "outputs": [],
   "source": [
    "%%bigquery df\n",
    "\n",
    "WITH clean AS \n",
    "(\n",
    "SELECT \n",
    "  DISTINCT full_visitor_id , client_id , organization_uuid , country_id , session_id , session_start_time , session_end_time ,\n",
    "  session_reached_minimal_created , \n",
    "  traffic_source_level_3 , traffic_source_source, traffic_source_medium,\n",
    "  COUNT(DISTINCT organization_uuid) OVER(PARTITION BY full_visitor_id ) as nr_unique_uuid\n",
    "FROM `izettle-dp-pipeline-prod.legacy_views.google_analytics_session` \n",
    "WHERE full_visitor_id NOT IN (--list of visitor id that has no client id and only one unique (NA) uuid and \n",
    "                          SELECT\n",
    "                              full_visitor_id \n",
    "                          FROM (\n",
    "                                SELECT\n",
    "                                    DISTINCT full_visitor_id , client_id , organization_uuid  ,\n",
    "                                    DENSE_RANK() OVER(PARTITION BY full_visitor_id ORDER BY client_id DESC, organization_uuid DESC) as rank_entry \n",
    "                                    #optimize the code by group by and array_agg()?\n",
    "                                FROM `izettle-dp-pipeline-prod.legacy_views.google_analytics_session` \n",
    "                                WHERE full_visitor_id IN (SELECT \n",
    "                                                            DISTINCT full_visitor_id\n",
    "                                                          FROM `izettle-dp-pipeline-prod.legacy_views.google_analytics_session` \n",
    "                                                          WHERE client_id IS NULL AND organization_uuid IS NULL\n",
    "                                                          )\n",
    "                                #ORDER BY full_visitor_id , rank_entry\n",
    "                                      )\n",
    "                          WHERE rank_entry = 1\n",
    "                          AND client_id IS NULL\n",
    "                          AND organization_uuid IS NULL\n",
    "                          ) \n",
    "), \n",
    "ga_processed AS (\n",
    "--delete row with no uuid and nr_unique_uuid per group of visitor id of that row > 1 \n",
    "-- and fill NA uuid cells (Expected: rows with NA uuid and nr_unique_uuid =0 left)--\n",
    "SELECT \n",
    "  full_visitor_id , client_id , organization_uuid , \n",
    "  IFNULL(organization_uuid, MAX(organization_uuid) OVER(PARTITION BY full_visitor_id)) as fill_uuid ,\n",
    "  country_id , session_id , session_start_time , session_end_time ,\n",
    "  session_reached_minimal_created ,\n",
    "  traffic_source_level_3 , traffic_source_source, traffic_source_medium,\n",
    "  nr_unique_uuid\n",
    "FROM clean\n",
    "WHERE \n",
    "  organization_uuid IS NOT NULL\n",
    "  #OR\n",
    "  #(organization_uuid IS NULL  \n",
    "  #AND nr_unique_uuid = 0 AND client_id IS NOT NULL) \n",
    "  OR\n",
    "  (organization_uuid IS NULL AND nr_unique_uuid <= 1)\n",
    "),\n",
    "merged_campaign AS(\n",
    "SELECT\n",
    "  full_visitor_id , \n",
    "  IFNULL(fill_uuid, MAX(campaign_data.organization_uuid) OVER(PARTITION BY client_id)) as fill_uuid_2,\n",
    "  country_id , session_id , session_start_time , session_end_time ,\n",
    "  session_reached_minimal_created ,\n",
    "  traffic_source_level_3, traffic_source_source, traffic_source_medium\n",
    "FROM ga_processed\n",
    "LEFT JOIN (SELECT\n",
    "              DISTINCT google_analytics_id , organization_uuid \n",
    "           FROM `izettle-dp-pipeline-prod.legacy_views.user_campaign_data`\n",
    "           WHERE google_analytics_id IN (\n",
    "                                         SELECT DISTINCT google_analytics_id\n",
    "                                         FROM `izettle-dp-pipeline-prod.legacy_views.user_campaign_data`\n",
    "                                         GROUP BY google_analytics_id \n",
    "                                         HAVING COUNT(DISTINCT organization_uuid) = 1\n",
    "                                         ) \n",
    "          ) AS campaign_data\n",
    "ON ga_processed.client_id = campaign_data.google_analytics_id \n",
    "),\n",
    "merged_oc AS (\n",
    "--customer journey of merchants until registration tracked by ga cookies--\n",
    "--only ~ 245,000 merchants have the recorded journey. The rest that we have only the last touch point can be found in the customer_acquisition table--\n",
    "SELECT\n",
    "  ft.fill_uuid_2 as organization_uuid , oc.organization_created ,\n",
    "  ft.full_visitor_id, ft.country_id , ft.session_id , ft.session_start_time , ft.session_end_time ,\n",
    "  ft.session_reached_minimal_created ,\n",
    "  ft.traffic_source_level_3,\n",
    "  traffic_source_source, traffic_source_medium\n",
    "FROM merged_campaign ft\n",
    "LEFT JOIN `izettle-dp-pipeline-prod.legacy_views.organization_customer` oc\n",
    "ON ft.fill_uuid_2 =oc.organization_uuid \n",
    "WHERE fill_uuid_2 IS NOT NULL\n",
    "AND oc.organization_created >= ft.session_start_time \n",
    ")\n",
    "SELECT\n",
    "  uuid_left.organization_uuid ,\n",
    "  uuid_left.organization_created ,\n",
    "  #uuid_left.traffic_source_level_3 as traffic_source_level_3_af ,\n",
    "  #merged_oc.full_visitor_id, \n",
    "  uuid_left.country_id , \n",
    "  merged_oc.session_id , merged_oc.session_start_time , merged_oc.session_end_time ,\n",
    "  merged_oc.session_reached_minimal_created ,\n",
    "  #merged_oc.traffic_source_level_3,\n",
    "  #merged_oc.traffic_source_source, merged_oc.traffic_source_medium,\n",
    "  IFNULL(merged_oc.traffic_source_level_3, uuid_left.traffic_source_level_3) as traffic_source_full\n",
    "FROM (\n",
    "      SELECT \n",
    "        af.organization_uuid, oc.country_id,\n",
    "        af.traffic_source_level_3 , oc.organization_created \n",
    "      FROM `izettle-dp-pipeline-prod.legacy_views.attribution_funnel_traffic_source` af\n",
    "      JOIN `izettle-dp-pipeline-prod.legacy_views.organization_customer` oc\n",
    "      ON af.organization_uuid = oc.organization_uuid \n",
    "      AND oc.organization_created >= '2017-09-01'\n",
    "      ) as uuid_left\n",
    "LEFT JOIN merged_oc\n",
    "ON uuid_left.organization_uuid = merged_oc.organization_uuid "
   ]
  },
  {
   "cell_type": "code",
   "execution_count": 3,
   "metadata": {},
   "outputs": [
    {
     "name": "stdout",
     "output_type": "stream",
     "text": [
      "<class 'pandas.core.frame.DataFrame'>\n",
      "RangeIndex: 1736765 entries, 0 to 1736764\n",
      "Data columns (total 8 columns):\n",
      "organization_uuid                  object\n",
      "organization_created               datetime64[ns, UTC]\n",
      "country_id                         object\n",
      "session_id                         object\n",
      "session_start_time                 object\n",
      "session_end_time                   object\n",
      "session_reached_minimal_created    object\n",
      "traffic_source_full                object\n",
      "dtypes: datetime64[ns, UTC](1), object(7)\n",
      "memory usage: 106.0+ MB\n"
     ]
    }
   ],
   "source": [
    "df.info()"
   ]
  },
  {
   "cell_type": "code",
   "execution_count": 4,
   "metadata": {},
   "outputs": [],
   "source": [
    "%%bigquery df_af\n",
    "SELECT \n",
    "  af.organization_uuid,\n",
    "  oc.organization_created,\n",
    "  oc.country_id,\n",
    "  af.traffic_source_level_3 as traffic_source_full\n",
    "FROM `izettle-dp-pipeline-prod.legacy_views.attribution_funnel_traffic_source` af\n",
    "JOIN `izettle-dp-pipeline-prod.legacy_views.organization_customer` oc\n",
    "ON oc.organization_uuid = af.organization_uuid\n",
    "WHERE oc.organization_created >= '2017-09-01'  "
   ]
  },
  {
   "cell_type": "code",
   "execution_count": 5,
   "metadata": {},
   "outputs": [
    {
     "name": "stdout",
     "output_type": "stream",
     "text": [
      "<class 'pandas.core.frame.DataFrame'>\n",
      "RangeIndex: 1136918 entries, 0 to 1136917\n",
      "Data columns (total 4 columns):\n",
      "organization_uuid       1136918 non-null object\n",
      "organization_created    1136918 non-null datetime64[ns, UTC]\n",
      "country_id              1136918 non-null object\n",
      "traffic_source_full     1136918 non-null object\n",
      "dtypes: datetime64[ns, UTC](1), object(3)\n",
      "memory usage: 34.7+ MB\n"
     ]
    }
   ],
   "source": [
    "df_af.info()"
   ]
  },
  {
   "cell_type": "code",
   "execution_count": 109,
   "metadata": {},
   "outputs": [],
   "source": [
    "%%bigquery df_kyc_accepted\n",
    "SELECT \n",
    "  organization_uuid , country_id\n",
    "FROM `izettle-dp-pipeline-prod.legacy_views.organization_customer` \n",
    "WHERE organization_created >= '2017-09-01'\n",
    "AND first_non_minimal_signup_status_assigned IS NOT NULL"
   ]
  },
  {
   "cell_type": "code",
   "execution_count": 110,
   "metadata": {},
   "outputs": [
    {
     "name": "stdout",
     "output_type": "stream",
     "text": [
      "<class 'pandas.core.frame.DataFrame'>\n",
      "RangeIndex: 652769 entries, 0 to 652768\n",
      "Data columns (total 2 columns):\n",
      "organization_uuid    652769 non-null object\n",
      "country_id           652769 non-null object\n",
      "dtypes: object(2)\n",
      "memory usage: 10.0+ MB\n"
     ]
    }
   ],
   "source": [
    "df_kyc_accepted.info()"
   ]
  },
  {
   "cell_type": "markdown",
   "metadata": {},
   "source": [
    "# Data Preparation"
   ]
  },
  {
   "cell_type": "code",
   "execution_count": 8,
   "metadata": {},
   "outputs": [],
   "source": [
    "last_touch_ga = list(df[df['session_reached_minimal_created'] == True]['organization_uuid'].unique())\n",
    "last_touch_ls = last_touch_ga + list(df[df['session_reached_minimal_created'].isna()]['organization_uuid'].unique())"
   ]
  },
  {
   "cell_type": "code",
   "execution_count": 9,
   "metadata": {},
   "outputs": [],
   "source": [
    "df_concat_1 = df_af[~df_af['organization_uuid'].isin(last_touch_ls)]"
   ]
  },
  {
   "cell_type": "code",
   "execution_count": 10,
   "metadata": {},
   "outputs": [
    {
     "name": "stderr",
     "output_type": "stream",
     "text": [
      "//anaconda3/lib/python3.7/site-packages/ipykernel_launcher.py:1: SettingWithCopyWarning: \n",
      "A value is trying to be set on a copy of a slice from a DataFrame.\n",
      "Try using .loc[row_indexer,col_indexer] = value instead\n",
      "\n",
      "See the caveats in the documentation: http://pandas.pydata.org/pandas-docs/stable/user_guide/indexing.html#returning-a-view-versus-a-copy\n",
      "  \"\"\"Entry point for launching an IPython kernel.\n",
      "//anaconda3/lib/python3.7/site-packages/ipykernel_launcher.py:2: SettingWithCopyWarning: \n",
      "A value is trying to be set on a copy of a slice from a DataFrame.\n",
      "Try using .loc[row_indexer,col_indexer] = value instead\n",
      "\n",
      "See the caveats in the documentation: http://pandas.pydata.org/pandas-docs/stable/user_guide/indexing.html#returning-a-view-versus-a-copy\n",
      "  \n"
     ]
    }
   ],
   "source": [
    "df_concat_1['session_start_time'] = ''\n",
    "df_concat_1['session_end_time'] = ''"
   ]
  },
  {
   "cell_type": "code",
   "execution_count": 11,
   "metadata": {},
   "outputs": [],
   "source": [
    "df_1 = df[['organization_uuid','organization_created','country_id','traffic_source_full','session_start_time','session_end_time']]"
   ]
  },
  {
   "cell_type": "code",
   "execution_count": 12,
   "metadata": {},
   "outputs": [],
   "source": [
    "df_concat_2 = df_1[df_1['session_start_time'].isna()]"
   ]
  },
  {
   "cell_type": "code",
   "execution_count": 13,
   "metadata": {},
   "outputs": [
    {
     "name": "stderr",
     "output_type": "stream",
     "text": [
      "//anaconda3/lib/python3.7/site-packages/ipykernel_launcher.py:1: SettingWithCopyWarning: \n",
      "A value is trying to be set on a copy of a slice from a DataFrame.\n",
      "Try using .loc[row_indexer,col_indexer] = value instead\n",
      "\n",
      "See the caveats in the documentation: http://pandas.pydata.org/pandas-docs/stable/user_guide/indexing.html#returning-a-view-versus-a-copy\n",
      "  \"\"\"Entry point for launching an IPython kernel.\n",
      "//anaconda3/lib/python3.7/site-packages/ipykernel_launcher.py:2: SettingWithCopyWarning: \n",
      "A value is trying to be set on a copy of a slice from a DataFrame.\n",
      "Try using .loc[row_indexer,col_indexer] = value instead\n",
      "\n",
      "See the caveats in the documentation: http://pandas.pydata.org/pandas-docs/stable/user_guide/indexing.html#returning-a-view-versus-a-copy\n",
      "  \n"
     ]
    }
   ],
   "source": [
    "df_concat_2['session_start_time'] = ''\n",
    "df_concat_2['session_end_time'] = ''"
   ]
  },
  {
   "cell_type": "code",
   "execution_count": 14,
   "metadata": {},
   "outputs": [],
   "source": [
    "df_concat_3 = df_1[~df_1['session_start_time'].isna()]"
   ]
  },
  {
   "cell_type": "code",
   "execution_count": 15,
   "metadata": {},
   "outputs": [
    {
     "name": "stdout",
     "output_type": "stream",
     "text": [
      "<class 'pandas.core.frame.DataFrame'>\n",
      "Int64Index: 40068 entries, 9 to 1136850\n",
      "Data columns (total 6 columns):\n",
      "organization_uuid       40068 non-null object\n",
      "organization_created    40068 non-null datetime64[ns, UTC]\n",
      "country_id              40068 non-null object\n",
      "traffic_source_full     40068 non-null object\n",
      "session_start_time      40068 non-null object\n",
      "session_end_time        40068 non-null object\n",
      "dtypes: datetime64[ns, UTC](1), object(5)\n",
      "memory usage: 2.1+ MB\n",
      "None\n",
      "<class 'pandas.core.frame.DataFrame'>\n",
      "Int64Index: 432660 entries, 0 to 432659\n",
      "Data columns (total 6 columns):\n",
      "organization_uuid       432660 non-null object\n",
      "organization_created    432660 non-null datetime64[ns, UTC]\n",
      "country_id              432660 non-null object\n",
      "traffic_source_full     432660 non-null object\n",
      "session_start_time      432660 non-null object\n",
      "session_end_time        432660 non-null object\n",
      "dtypes: datetime64[ns, UTC](1), object(5)\n",
      "memory usage: 23.1+ MB\n",
      "None\n",
      "<class 'pandas.core.frame.DataFrame'>\n",
      "Int64Index: 1304105 entries, 432660 to 1736764\n",
      "Data columns (total 6 columns):\n",
      "organization_uuid       1304105 non-null object\n",
      "organization_created    1304105 non-null datetime64[ns, UTC]\n",
      "country_id              1304105 non-null object\n",
      "traffic_source_full     1304105 non-null object\n",
      "session_start_time      1304105 non-null object\n",
      "session_end_time        1304105 non-null object\n",
      "dtypes: datetime64[ns, UTC](1), object(5)\n",
      "memory usage: 69.6+ MB\n",
      "None\n"
     ]
    }
   ],
   "source": [
    "print(df_concat_1.info())\n",
    "print(df_concat_2.info())\n",
    "print(df_concat_3.info())"
   ]
  },
  {
   "cell_type": "code",
   "execution_count": 16,
   "metadata": {},
   "outputs": [],
   "source": [
    "basetable = pd.concat([df_concat_1, df_concat_2, df_concat_3], axis = 0, ignore_index=True)"
   ]
  },
  {
   "cell_type": "code",
   "execution_count": 17,
   "metadata": {
    "cell_style": "split"
   },
   "outputs": [
    {
     "data": {
      "text/html": [
       "<div>\n",
       "<style scoped>\n",
       "    .dataframe tbody tr th:only-of-type {\n",
       "        vertical-align: middle;\n",
       "    }\n",
       "\n",
       "    .dataframe tbody tr th {\n",
       "        vertical-align: top;\n",
       "    }\n",
       "\n",
       "    .dataframe thead th {\n",
       "        text-align: right;\n",
       "    }\n",
       "</style>\n",
       "<table border=\"1\" class=\"dataframe\">\n",
       "  <thead>\n",
       "    <tr style=\"text-align: right;\">\n",
       "      <th></th>\n",
       "      <th>organization_uuid</th>\n",
       "      <th>organization_created</th>\n",
       "      <th>country_id</th>\n",
       "      <th>traffic_source_full</th>\n",
       "      <th>session_start_time</th>\n",
       "      <th>session_end_time</th>\n",
       "    </tr>\n",
       "  </thead>\n",
       "  <tbody>\n",
       "    <tr>\n",
       "      <td>1776828</td>\n",
       "      <td>cd1fa1fe-0aaa-11e9-88cb-3d6ec5378b0e</td>\n",
       "      <td>2018-12-28 14:13:51.363000+00:00</td>\n",
       "      <td>NL</td>\n",
       "      <td>ps_other_local_partnership</td>\n",
       "      <td>2018-12-28 14:10:40+00:00</td>\n",
       "      <td>2018-12-28 14:14:12+00:00</td>\n",
       "    </tr>\n",
       "    <tr>\n",
       "      <td>1776829</td>\n",
       "      <td>04ff0d0c-4706-11e9-9645-ddcc9a5ffd95</td>\n",
       "      <td>2019-03-15 09:37:59.071000+00:00</td>\n",
       "      <td>GB</td>\n",
       "      <td>ps_other_local_partnership</td>\n",
       "      <td>2019-03-15 09:37:47+00:00</td>\n",
       "      <td>2019-03-15 09:38:38+00:00</td>\n",
       "    </tr>\n",
       "    <tr>\n",
       "      <td>1776830</td>\n",
       "      <td>ad73a2e6-ccde-11e9-8ef3-de408c8a0ba3</td>\n",
       "      <td>2019-09-01 17:33:57.635000+00:00</td>\n",
       "      <td>MX</td>\n",
       "      <td>ps_other_local_partnership</td>\n",
       "      <td>2019-09-01 17:33:13+00:00</td>\n",
       "      <td>2019-09-01 17:37:36+00:00</td>\n",
       "    </tr>\n",
       "    <tr>\n",
       "      <td>1776831</td>\n",
       "      <td>6349a1ee-86f1-11e9-897f-e2f12b826e70</td>\n",
       "      <td>2019-06-04 17:51:32.252000+00:00</td>\n",
       "      <td>GB</td>\n",
       "      <td>ps_other_local_partnership</td>\n",
       "      <td>2019-06-04 17:39:52+00:00</td>\n",
       "      <td>2019-06-04 18:57:46+00:00</td>\n",
       "    </tr>\n",
       "    <tr>\n",
       "      <td>1776832</td>\n",
       "      <td>41a3a540-65e5-11e8-85c2-0c224e70f73c</td>\n",
       "      <td>2018-06-01 21:46:35.796000+00:00</td>\n",
       "      <td>MX</td>\n",
       "      <td>ps_other_local_partnership</td>\n",
       "      <td>2018-06-01 21:46:34+00:00</td>\n",
       "      <td>2018-06-01 21:59:43+00:00</td>\n",
       "    </tr>\n",
       "  </tbody>\n",
       "</table>\n",
       "</div>"
      ],
      "text/plain": [
       "                            organization_uuid  \\\n",
       "1776828  cd1fa1fe-0aaa-11e9-88cb-3d6ec5378b0e   \n",
       "1776829  04ff0d0c-4706-11e9-9645-ddcc9a5ffd95   \n",
       "1776830  ad73a2e6-ccde-11e9-8ef3-de408c8a0ba3   \n",
       "1776831  6349a1ee-86f1-11e9-897f-e2f12b826e70   \n",
       "1776832  41a3a540-65e5-11e8-85c2-0c224e70f73c   \n",
       "\n",
       "                    organization_created country_id  \\\n",
       "1776828 2018-12-28 14:13:51.363000+00:00         NL   \n",
       "1776829 2019-03-15 09:37:59.071000+00:00         GB   \n",
       "1776830 2019-09-01 17:33:57.635000+00:00         MX   \n",
       "1776831 2019-06-04 17:51:32.252000+00:00         GB   \n",
       "1776832 2018-06-01 21:46:35.796000+00:00         MX   \n",
       "\n",
       "                traffic_source_full         session_start_time  \\\n",
       "1776828  ps_other_local_partnership  2018-12-28 14:10:40+00:00   \n",
       "1776829  ps_other_local_partnership  2019-03-15 09:37:47+00:00   \n",
       "1776830  ps_other_local_partnership  2019-09-01 17:33:13+00:00   \n",
       "1776831  ps_other_local_partnership  2019-06-04 17:39:52+00:00   \n",
       "1776832  ps_other_local_partnership  2018-06-01 21:46:34+00:00   \n",
       "\n",
       "                  session_end_time  \n",
       "1776828  2018-12-28 14:14:12+00:00  \n",
       "1776829  2019-03-15 09:38:38+00:00  \n",
       "1776830  2019-09-01 17:37:36+00:00  \n",
       "1776831  2019-06-04 18:57:46+00:00  \n",
       "1776832  2018-06-01 21:59:43+00:00  "
      ]
     },
     "execution_count": 17,
     "metadata": {},
     "output_type": "execute_result"
    }
   ],
   "source": [
    "basetable.tail()"
   ]
  },
  {
   "cell_type": "code",
   "execution_count": 18,
   "metadata": {
    "cell_style": "split"
   },
   "outputs": [
    {
     "name": "stdout",
     "output_type": "stream",
     "text": [
      "<class 'pandas.core.frame.DataFrame'>\n",
      "RangeIndex: 1776833 entries, 0 to 1776832\n",
      "Data columns (total 6 columns):\n",
      "organization_uuid       object\n",
      "organization_created    datetime64[ns, UTC]\n",
      "country_id              object\n",
      "traffic_source_full     object\n",
      "session_start_time      object\n",
      "session_end_time        object\n",
      "dtypes: datetime64[ns, UTC](1), object(5)\n",
      "memory usage: 81.3+ MB\n"
     ]
    }
   ],
   "source": [
    "basetable.info()"
   ]
  },
  {
   "cell_type": "code",
   "execution_count": 19,
   "metadata": {},
   "outputs": [],
   "source": [
    "basetable = basetable.assign(session_start_time = pd.to_datetime(basetable['session_start_time'], errors='coerce', utc=True),\n",
    "                               session_end_time = pd.to_datetime(basetable['session_end_time'], errors='coerce',utc=True))"
   ]
  },
  {
   "cell_type": "markdown",
   "metadata": {},
   "source": [
    "# Data Exploration"
   ]
  },
  {
   "cell_type": "markdown",
   "metadata": {},
   "source": [
    "## Journey time"
   ]
  },
  {
   "cell_type": "code",
   "execution_count": 20,
   "metadata": {},
   "outputs": [],
   "source": [
    "basetable_time = pd.DataFrame(basetable.\n",
    "                              groupby(['organization_uuid','organization_created'])['session_start_time'].\n",
    "                              min()).reset_index()"
   ]
  },
  {
   "cell_type": "code",
   "execution_count": 21,
   "metadata": {},
   "outputs": [
    {
     "data": {
      "text/plain": [
       "(432660, 3)"
      ]
     },
     "execution_count": 21,
     "metadata": {},
     "output_type": "execute_result"
    }
   ],
   "source": [
    "basetable_time[basetable_time['session_start_time'].isna()].shape"
   ]
  },
  {
   "cell_type": "code",
   "execution_count": 22,
   "metadata": {},
   "outputs": [],
   "source": [
    "basetable_time['journey_time'] = basetable_time['organization_created'] - basetable_time['session_start_time']"
   ]
  },
  {
   "cell_type": "code",
   "execution_count": 23,
   "metadata": {},
   "outputs": [
    {
     "data": {
      "image/png": "[encoded data removed]",
      "text/plain": [
       "<Figure size 720x576 with 1 Axes>"
      ]
     },
     "metadata": {
      "needs_background": "light"
     },
     "output_type": "display_data"
    }
   ],
   "source": [
    "basetable_time['journey_time'].dt.days.hist(color = 'slateblue',\n",
    "                                           bins = 40,\n",
    "                                           figsize = (10,8),\n",
    "                                           log = True)\n",
    "plt.xlabel('Days')\n",
    "plt.title('Journey time of merchants')\n",
    "plt.show()"
   ]
  },
  {
   "cell_type": "code",
   "execution_count": 24,
   "metadata": {},
   "outputs": [
    {
     "data": {
      "image/png": "[encoded data removed]",
      "text/plain": [
       "<Figure size 720x576 with 1 Axes>"
      ]
     },
     "metadata": {
      "needs_background": "light"
     },
     "output_type": "display_data"
    }
   ],
   "source": [
    "basetable_time['journey_time'].dt.days.hist(color = 'slateblue',\n",
    "                                           bins = 800,\n",
    "                                           figsize = (10,8),\n",
    "                                           log = True)\n",
    "plt.xlabel('Days')\n",
    "plt.xlim(0,100)\n",
    "plt.show()"
   ]
  },
  {
   "cell_type": "markdown",
   "metadata": {},
   "source": [
    "- ~50% of merchants register during the day they searched. \n",
    "\n",
    "- ~60% of merchants register within 3 months of their search (11% >= 1 days)\n",
    "\n",
    "- The rest: 38% of merchants we dont know their journey. Only know the last touch."
   ]
  },
  {
   "cell_type": "code",
   "execution_count": 25,
   "metadata": {},
   "outputs": [
    {
     "data": {
      "text/plain": [
       "567263"
      ]
     },
     "execution_count": 25,
     "metadata": {},
     "output_type": "execute_result"
    }
   ],
   "source": [
    "basetable_time[basetable_time['journey_time'].dt.days == 0].shape[0]"
   ]
  },
  {
   "cell_type": "code",
   "execution_count": 27,
   "metadata": {},
   "outputs": [
    {
     "data": {
      "text/plain": [
       "136995"
      ]
     },
     "execution_count": 27,
     "metadata": {},
     "output_type": "execute_result"
    }
   ],
   "source": [
    "basetable_time[basetable_time['journey_time'].dt.days >= 1].shape[0]"
   ]
  },
  {
   "cell_type": "code",
   "execution_count": 28,
   "metadata": {},
   "outputs": [
    {
     "name": "stdout",
     "output_type": "stream",
     "text": [
      "0.4894451490784736\n",
      "0.12049681683287625\n"
     ]
    }
   ],
   "source": [
    "print(556459/basetable_time.shape[0])\n",
    "print(136995/basetable_time.shape[0])"
   ]
  },
  {
   "cell_type": "markdown",
   "metadata": {},
   "source": [
    "## Journey touchpoints"
   ]
  },
  {
   "cell_type": "markdown",
   "metadata": {},
   "source": [
    "### Nr sessions per journey: All merchants"
   ]
  },
  {
   "cell_type": "code",
   "execution_count": 29,
   "metadata": {},
   "outputs": [],
   "source": [
    "nr_sessions = pd.DataFrame(basetable.groupby('organization_uuid')['organization_uuid'].count())"
   ]
  },
  {
   "cell_type": "code",
   "execution_count": 30,
   "metadata": {},
   "outputs": [
    {
     "data": {
      "text/html": [
       "<div>\n",
       "<style scoped>\n",
       "    .dataframe tbody tr th:only-of-type {\n",
       "        vertical-align: middle;\n",
       "    }\n",
       "\n",
       "    .dataframe tbody tr th {\n",
       "        vertical-align: top;\n",
       "    }\n",
       "\n",
       "    .dataframe thead th {\n",
       "        text-align: right;\n",
       "    }\n",
       "</style>\n",
       "<table border=\"1\" class=\"dataframe\">\n",
       "  <thead>\n",
       "    <tr style=\"text-align: right;\">\n",
       "      <th></th>\n",
       "      <th>nr_sessions</th>\n",
       "    </tr>\n",
       "    <tr>\n",
       "      <th>organization_uuid</th>\n",
       "      <th></th>\n",
       "    </tr>\n",
       "  </thead>\n",
       "  <tbody>\n",
       "    <tr>\n",
       "      <td>7fd85d00-93e5-11e8-9de1-d9605ac2973a</td>\n",
       "      <td>1</td>\n",
       "    </tr>\n",
       "    <tr>\n",
       "      <td>9f524c70-f373-11e8-8c93-8dd7f7ce7b28</td>\n",
       "      <td>1</td>\n",
       "    </tr>\n",
       "    <tr>\n",
       "      <td>9f5253c0-8111-11e8-88fd-b2fe88ff68b4</td>\n",
       "      <td>1</td>\n",
       "    </tr>\n",
       "    <tr>\n",
       "      <td>9f527420-a49a-11e8-a4d8-bf43eb4e8124</td>\n",
       "      <td>1</td>\n",
       "    </tr>\n",
       "    <tr>\n",
       "      <td>9f527800-9e4a-11e7-83b8-c34610a653d6</td>\n",
       "      <td>1</td>\n",
       "    </tr>\n",
       "    <tr>\n",
       "      <td>...</td>\n",
       "      <td>...</td>\n",
       "    </tr>\n",
       "    <tr>\n",
       "      <td>5b92e210-83a7-11e8-b97e-67561a58be5b</td>\n",
       "      <td>165</td>\n",
       "    </tr>\n",
       "    <tr>\n",
       "      <td>b17ed82c-ee78-11e9-ba52-797b7085c73f</td>\n",
       "      <td>168</td>\n",
       "    </tr>\n",
       "    <tr>\n",
       "      <td>acb46f80-2d06-11e8-b345-26cafa5be1d8</td>\n",
       "      <td>176</td>\n",
       "    </tr>\n",
       "    <tr>\n",
       "      <td>b08bb65e-610d-11e9-820a-6355523f0ff9</td>\n",
       "      <td>234</td>\n",
       "    </tr>\n",
       "    <tr>\n",
       "      <td>ed14f4e0-be43-11e8-ab0d-90badb012897</td>\n",
       "      <td>1513</td>\n",
       "    </tr>\n",
       "  </tbody>\n",
       "</table>\n",
       "<p>1136918 rows × 1 columns</p>\n",
       "</div>"
      ],
      "text/plain": [
       "                                      nr_sessions\n",
       "organization_uuid                                \n",
       "7fd85d00-93e5-11e8-9de1-d9605ac2973a            1\n",
       "9f524c70-f373-11e8-8c93-8dd7f7ce7b28            1\n",
       "9f5253c0-8111-11e8-88fd-b2fe88ff68b4            1\n",
       "9f527420-a49a-11e8-a4d8-bf43eb4e8124            1\n",
       "9f527800-9e4a-11e7-83b8-c34610a653d6            1\n",
       "...                                           ...\n",
       "5b92e210-83a7-11e8-b97e-67561a58be5b          165\n",
       "b17ed82c-ee78-11e9-ba52-797b7085c73f          168\n",
       "acb46f80-2d06-11e8-b345-26cafa5be1d8          176\n",
       "b08bb65e-610d-11e9-820a-6355523f0ff9          234\n",
       "ed14f4e0-be43-11e8-ab0d-90badb012897         1513\n",
       "\n",
       "[1136918 rows x 1 columns]"
      ]
     },
     "execution_count": 30,
     "metadata": {},
     "output_type": "execute_result"
    }
   ],
   "source": [
    "nr_sessions.rename(columns={'organization_uuid':'nr_sessions'},inplace=True)\n",
    "nr_sessions.sort_values('nr_sessions')"
   ]
  },
  {
   "cell_type": "code",
   "execution_count": 31,
   "metadata": {},
   "outputs": [
    {
     "name": "stdout",
     "output_type": "stream",
     "text": [
      "nr_session = 1: 76.98022196851488%\n",
      "nr_session <= 4: 95.86856747804151%\n",
      "nr_session <= 40: 99.98803783562226%\n"
     ]
    }
   ],
   "source": [
    "print('nr_session = 1: '+ str(nr_sessions[nr_sessions['nr_sessions'] == 1].shape[0]*100/nr_sessions.shape[0]) + '%')\n",
    "print('nr_session <= 4: '+ str(nr_sessions[nr_sessions['nr_sessions'] <= 4].shape[0]*100/nr_sessions.shape[0]) + '%')\n",
    "print('nr_session <= 40: '+ str(nr_sessions[nr_sessions['nr_sessions'] <= 40].shape[0]*100/nr_sessions.shape[0]) + '%')"
   ]
  },
  {
   "cell_type": "markdown",
   "metadata": {},
   "source": [
    "*Remarks:* \n",
    "\n",
    "50% of merchants that we can now trace only the last touch point in the total of number merchants that have only one session before REG."
   ]
  },
  {
   "cell_type": "code",
   "execution_count": 34,
   "metadata": {},
   "outputs": [
    {
     "data": {
      "image/png": "[encoded data removed]",
      "text/plain": [
       "<Figure size 864x576 with 1 Axes>"
      ]
     },
     "metadata": {},
     "output_type": "display_data"
    }
   ],
   "source": [
    "plt.style.use('ggplot')\n",
    "nr_sessions['nr_sessions'].hist(color = 'slateblue',\n",
    "                               figsize = (12,8),\n",
    "                               bins = 5000)\n",
    "plt.xlabel('Days')\n",
    "plt.xlim(1,40)\n",
    "plt.title(\"Nr of sessions per merchant's journey\")\n",
    "plt.show()"
   ]
  },
  {
   "cell_type": "markdown",
   "metadata": {},
   "source": [
    "### One example: merchant with longest nr of sessions before REG"
   ]
  },
  {
   "cell_type": "code",
   "execution_count": 35,
   "metadata": {},
   "outputs": [
    {
     "data": {
      "text/html": [
       "<div>\n",
       "<style scoped>\n",
       "    .dataframe tbody tr th:only-of-type {\n",
       "        vertical-align: middle;\n",
       "    }\n",
       "\n",
       "    .dataframe tbody tr th {\n",
       "        vertical-align: top;\n",
       "    }\n",
       "\n",
       "    .dataframe thead th {\n",
       "        text-align: right;\n",
       "    }\n",
       "</style>\n",
       "<table border=\"1\" class=\"dataframe\">\n",
       "  <thead>\n",
       "    <tr style=\"text-align: right;\">\n",
       "      <th></th>\n",
       "      <th>organization_uuid</th>\n",
       "      <th>organization_created</th>\n",
       "      <th>country_id</th>\n",
       "      <th>traffic_source_full</th>\n",
       "      <th>session_start_time</th>\n",
       "      <th>session_end_time</th>\n",
       "    </tr>\n",
       "  </thead>\n",
       "  <tbody>\n",
       "    <tr>\n",
       "      <td>1052905</td>\n",
       "      <td>ed14f4e0-be43-11e8-ab0d-90badb012897</td>\n",
       "      <td>2018-09-22 08:45:58.446000+00:00</td>\n",
       "      <td>NL</td>\n",
       "      <td>o_paid_sem</td>\n",
       "      <td>2018-04-09 12:10:11+00:00</td>\n",
       "      <td>2018-04-09 12:10:24+00:00</td>\n",
       "    </tr>\n",
       "    <tr>\n",
       "      <td>1051736</td>\n",
       "      <td>ed14f4e0-be43-11e8-ab0d-90badb012897</td>\n",
       "      <td>2018-09-22 08:45:58.446000+00:00</td>\n",
       "      <td>NL</td>\n",
       "      <td>o_paid_sem</td>\n",
       "      <td>2018-04-09 12:11:24+00:00</td>\n",
       "      <td>2018-04-09 12:11:24+00:00</td>\n",
       "    </tr>\n",
       "    <tr>\n",
       "      <td>1052424</td>\n",
       "      <td>ed14f4e0-be43-11e8-ab0d-90badb012897</td>\n",
       "      <td>2018-09-22 08:45:58.446000+00:00</td>\n",
       "      <td>NL</td>\n",
       "      <td>o_paid_sem</td>\n",
       "      <td>2018-04-09 12:12:39+00:00</td>\n",
       "      <td>2018-04-09 12:12:39+00:00</td>\n",
       "    </tr>\n",
       "    <tr>\n",
       "      <td>1051595</td>\n",
       "      <td>ed14f4e0-be43-11e8-ab0d-90badb012897</td>\n",
       "      <td>2018-09-22 08:45:58.446000+00:00</td>\n",
       "      <td>NL</td>\n",
       "      <td>o_paid_sem</td>\n",
       "      <td>2018-04-09 12:13:20+00:00</td>\n",
       "      <td>2018-04-09 12:13:20+00:00</td>\n",
       "    </tr>\n",
       "    <tr>\n",
       "      <td>1052269</td>\n",
       "      <td>ed14f4e0-be43-11e8-ab0d-90badb012897</td>\n",
       "      <td>2018-09-22 08:45:58.446000+00:00</td>\n",
       "      <td>NL</td>\n",
       "      <td>o_paid_sem</td>\n",
       "      <td>2018-04-09 12:14:19+00:00</td>\n",
       "      <td>2018-04-09 12:14:19+00:00</td>\n",
       "    </tr>\n",
       "    <tr>\n",
       "      <td>...</td>\n",
       "      <td>...</td>\n",
       "      <td>...</td>\n",
       "      <td>...</td>\n",
       "      <td>...</td>\n",
       "      <td>...</td>\n",
       "      <td>...</td>\n",
       "    </tr>\n",
       "    <tr>\n",
       "      <td>1052381</td>\n",
       "      <td>ed14f4e0-be43-11e8-ab0d-90badb012897</td>\n",
       "      <td>2018-09-22 08:45:58.446000+00:00</td>\n",
       "      <td>NL</td>\n",
       "      <td>o_paid_sem</td>\n",
       "      <td>2018-09-22 08:41:57+00:00</td>\n",
       "      <td>2018-09-22 08:41:58+00:00</td>\n",
       "    </tr>\n",
       "    <tr>\n",
       "      <td>1052081</td>\n",
       "      <td>ed14f4e0-be43-11e8-ab0d-90badb012897</td>\n",
       "      <td>2018-09-22 08:45:58.446000+00:00</td>\n",
       "      <td>NL</td>\n",
       "      <td>o_paid_sem</td>\n",
       "      <td>2018-09-22 08:42:24+00:00</td>\n",
       "      <td>2018-09-22 08:42:26+00:00</td>\n",
       "    </tr>\n",
       "    <tr>\n",
       "      <td>1052550</td>\n",
       "      <td>ed14f4e0-be43-11e8-ab0d-90badb012897</td>\n",
       "      <td>2018-09-22 08:45:58.446000+00:00</td>\n",
       "      <td>NL</td>\n",
       "      <td>o_paid_sem</td>\n",
       "      <td>2018-09-22 08:42:53+00:00</td>\n",
       "      <td>2018-09-22 08:42:54+00:00</td>\n",
       "    </tr>\n",
       "    <tr>\n",
       "      <td>1052937</td>\n",
       "      <td>ed14f4e0-be43-11e8-ab0d-90badb012897</td>\n",
       "      <td>2018-09-22 08:45:58.446000+00:00</td>\n",
       "      <td>NL</td>\n",
       "      <td>o_paid_sem</td>\n",
       "      <td>2018-09-22 08:43:25+00:00</td>\n",
       "      <td>2018-09-22 08:43:44+00:00</td>\n",
       "    </tr>\n",
       "    <tr>\n",
       "      <td>1719548</td>\n",
       "      <td>ed14f4e0-be43-11e8-ab0d-90badb012897</td>\n",
       "      <td>2018-09-22 08:45:58.446000+00:00</td>\n",
       "      <td>NL</td>\n",
       "      <td>o_paid_sem</td>\n",
       "      <td>2018-09-22 08:44:19+00:00</td>\n",
       "      <td>2018-09-22 08:47:34+00:00</td>\n",
       "    </tr>\n",
       "  </tbody>\n",
       "</table>\n",
       "<p>1513 rows × 6 columns</p>\n",
       "</div>"
      ],
      "text/plain": [
       "                            organization_uuid  \\\n",
       "1052905  ed14f4e0-be43-11e8-ab0d-90badb012897   \n",
       "1051736  ed14f4e0-be43-11e8-ab0d-90badb012897   \n",
       "1052424  ed14f4e0-be43-11e8-ab0d-90badb012897   \n",
       "1051595  ed14f4e0-be43-11e8-ab0d-90badb012897   \n",
       "1052269  ed14f4e0-be43-11e8-ab0d-90badb012897   \n",
       "...                                       ...   \n",
       "1052381  ed14f4e0-be43-11e8-ab0d-90badb012897   \n",
       "1052081  ed14f4e0-be43-11e8-ab0d-90badb012897   \n",
       "1052550  ed14f4e0-be43-11e8-ab0d-90badb012897   \n",
       "1052937  ed14f4e0-be43-11e8-ab0d-90badb012897   \n",
       "1719548  ed14f4e0-be43-11e8-ab0d-90badb012897   \n",
       "\n",
       "                    organization_created country_id traffic_source_full  \\\n",
       "1052905 2018-09-22 08:45:58.446000+00:00         NL          o_paid_sem   \n",
       "1051736 2018-09-22 08:45:58.446000+00:00         NL          o_paid_sem   \n",
       "1052424 2018-09-22 08:45:58.446000+00:00         NL          o_paid_sem   \n",
       "1051595 2018-09-22 08:45:58.446000+00:00         NL          o_paid_sem   \n",
       "1052269 2018-09-22 08:45:58.446000+00:00         NL          o_paid_sem   \n",
       "...                                  ...        ...                 ...   \n",
       "1052381 2018-09-22 08:45:58.446000+00:00         NL          o_paid_sem   \n",
       "1052081 2018-09-22 08:45:58.446000+00:00         NL          o_paid_sem   \n",
       "1052550 2018-09-22 08:45:58.446000+00:00         NL          o_paid_sem   \n",
       "1052937 2018-09-22 08:45:58.446000+00:00         NL          o_paid_sem   \n",
       "1719548 2018-09-22 08:45:58.446000+00:00         NL          o_paid_sem   \n",
       "\n",
       "               session_start_time          session_end_time  \n",
       "1052905 2018-04-09 12:10:11+00:00 2018-04-09 12:10:24+00:00  \n",
       "1051736 2018-04-09 12:11:24+00:00 2018-04-09 12:11:24+00:00  \n",
       "1052424 2018-04-09 12:12:39+00:00 2018-04-09 12:12:39+00:00  \n",
       "1051595 2018-04-09 12:13:20+00:00 2018-04-09 12:13:20+00:00  \n",
       "1052269 2018-04-09 12:14:19+00:00 2018-04-09 12:14:19+00:00  \n",
       "...                           ...                       ...  \n",
       "1052381 2018-09-22 08:41:57+00:00 2018-09-22 08:41:58+00:00  \n",
       "1052081 2018-09-22 08:42:24+00:00 2018-09-22 08:42:26+00:00  \n",
       "1052550 2018-09-22 08:42:53+00:00 2018-09-22 08:42:54+00:00  \n",
       "1052937 2018-09-22 08:43:25+00:00 2018-09-22 08:43:44+00:00  \n",
       "1719548 2018-09-22 08:44:19+00:00 2018-09-22 08:47:34+00:00  \n",
       "\n",
       "[1513 rows x 6 columns]"
      ]
     },
     "execution_count": 35,
     "metadata": {},
     "output_type": "execute_result"
    }
   ],
   "source": [
    "basetable[basetable['organization_uuid'] == 'ed14f4e0-be43-11e8-ab0d-90badb012897'].sort_values('session_start_time')"
   ]
  },
  {
   "cell_type": "code",
   "execution_count": 36,
   "metadata": {},
   "outputs": [
    {
     "data": {
      "text/html": [
       "<div>\n",
       "<style scoped>\n",
       "    .dataframe tbody tr th:only-of-type {\n",
       "        vertical-align: middle;\n",
       "    }\n",
       "\n",
       "    .dataframe tbody tr th {\n",
       "        vertical-align: top;\n",
       "    }\n",
       "\n",
       "    .dataframe thead th {\n",
       "        text-align: right;\n",
       "    }\n",
       "</style>\n",
       "<table border=\"1\" class=\"dataframe\">\n",
       "  <thead>\n",
       "    <tr style=\"text-align: right;\">\n",
       "      <th></th>\n",
       "      <th>organization_uuid</th>\n",
       "      <th>organization_created</th>\n",
       "      <th>country_id</th>\n",
       "      <th>traffic_source_full</th>\n",
       "      <th>session_start_time</th>\n",
       "      <th>session_end_time</th>\n",
       "    </tr>\n",
       "  </thead>\n",
       "  <tbody>\n",
       "    <tr>\n",
       "      <td>1051894</td>\n",
       "      <td>ed14f4e0-be43-11e8-ab0d-90badb012897</td>\n",
       "      <td>2018-09-22 08:45:58.446000+00:00</td>\n",
       "      <td>NL</td>\n",
       "      <td>o_paid_social</td>\n",
       "      <td>2018-04-19 19:33:27+00:00</td>\n",
       "      <td>2018-04-19 19:33:27+00:00</td>\n",
       "    </tr>\n",
       "  </tbody>\n",
       "</table>\n",
       "</div>"
      ],
      "text/plain": [
       "                            organization_uuid  \\\n",
       "1051894  ed14f4e0-be43-11e8-ab0d-90badb012897   \n",
       "\n",
       "                    organization_created country_id traffic_source_full  \\\n",
       "1051894 2018-09-22 08:45:58.446000+00:00         NL       o_paid_social   \n",
       "\n",
       "               session_start_time          session_end_time  \n",
       "1051894 2018-04-19 19:33:27+00:00 2018-04-19 19:33:27+00:00  "
      ]
     },
     "execution_count": 36,
     "metadata": {},
     "output_type": "execute_result"
    }
   ],
   "source": [
    "basetable[(basetable['organization_uuid'] == 'ed14f4e0-be43-11e8-ab0d-90badb012897') &\n",
    "         (basetable['traffic_source_full'] != 'o_paid_sem')]"
   ]
  },
  {
   "cell_type": "markdown",
   "metadata": {},
   "source": [
    "**Recommendation: set up a tracking to differentiate someone accidentally click.\n",
    "So record the real time of a customer on a websire regardless of their interaction.**\n",
    "\n",
    "Internal IP?"
   ]
  },
  {
   "cell_type": "markdown",
   "metadata": {},
   "source": [
    "### Nr sessions per journey: KYC accepted"
   ]
  },
  {
   "cell_type": "code",
   "execution_count": 95,
   "metadata": {},
   "outputs": [],
   "source": [
    "nr_sessions_kyc = nr_sessions[nr_sessions.index.isin(df_kyc_accepted['organization_uuid'])]"
   ]
  },
  {
   "cell_type": "code",
   "execution_count": 96,
   "metadata": {},
   "outputs": [
    {
     "name": "stdout",
     "output_type": "stream",
     "text": [
      "nr_session = 1: 68.44412035498009%\n",
      "nr_session <= 4: 93.74143073583457%\n",
      "nr_session <= 40: 99.98314870957414%\n"
     ]
    }
   ],
   "source": [
    "print('nr_session = 1: '+ str(nr_sessions_ga[nr_sessions_kyc['nr_sessions'] == 1].shape[0]*100/nr_sessions_kyc.shape[0]) + '%')\n",
    "print('nr_session <= 4: '+ str(nr_sessions_ga[nr_sessions_kyc['nr_sessions'] <= 4].shape[0]*100/nr_sessions_kyc.shape[0]) + '%')\n",
    "print('nr_session <= 40: '+ str(nr_sessions_ga[nr_sessions_kyc['nr_sessions'] <= 40].shape[0]*100/nr_sessions_kyc.shape[0]) + '%')"
   ]
  },
  {
   "cell_type": "code",
   "execution_count": 97,
   "metadata": {},
   "outputs": [
    {
     "data": {
      "text/plain": [
       "(652769, 1)"
      ]
     },
     "execution_count": 97,
     "metadata": {},
     "output_type": "execute_result"
    }
   ],
   "source": [
    "nr_sessions_kyc.shape"
   ]
  },
  {
   "cell_type": "markdown",
   "metadata": {},
   "source": [
    "### Journey's unique touchpoints"
   ]
  },
  {
   "cell_type": "markdown",
   "metadata": {},
   "source": [
    "#### Only merchants with GA data"
   ]
  },
  {
   "cell_type": "code",
   "execution_count": 37,
   "metadata": {},
   "outputs": [],
   "source": [
    "basetable['rank'] = basetable.groupby('organization_uuid')['session_start_time'].rank(na_option = 'bottom', ascending=False)"
   ]
  },
  {
   "cell_type": "code",
   "execution_count": 42,
   "metadata": {
    "cell_style": "split"
   },
   "outputs": [
    {
     "data": {
      "text/plain": [
       "['ds_inbound_inbound',\n",
       " 'ds_keyaccount_keyaccount',\n",
       " 'o_paid_sem',\n",
       " 'ps_bank_bank',\n",
       " 'o_organic_app',\n",
       " 'o_organic_seo',\n",
       " 'o_organic_null',\n",
       " 'o_organic_direct',\n",
       " 'o_organic_invite',\n",
       " 'o_paid_affiliate',\n",
       " 'o_organic_referral',\n",
       " 'ps_other_isc',\n",
       " 'ps_other_partner',\n",
       " 'o_paid_social',\n",
       " 'o_paid_app_install',\n",
       " 'pp_paypal_paypal',\n",
       " 'ps_pay_sdk',\n",
       " 'ps_other_local_partnership',\n",
       " 'ps_product_api',\n",
       " 'ds_keyaccount_sdk']"
      ]
     },
     "execution_count": 42,
     "metadata": {},
     "output_type": "execute_result"
    }
   ],
   "source": [
    "list(basetable.traffic_source_full.unique())"
   ]
  },
  {
   "cell_type": "code",
   "execution_count": 44,
   "metadata": {
    "cell_style": "split"
   },
   "outputs": [],
   "source": [
    "dict_channels = {'ps_pay_sdk':'partnerships', 'ps_product_api':'partnerships', 'ps_bank_bank':'partnerships',\n",
    "                'ps_other_local_partnership':'partnerships', 'ps_other_partner':'partnerships',\n",
    "                 'ps_other_isc':'partnerships', 'pp_paypal_paypal':'partnerships',\n",
    "                'ds_inbound_inbound':'direct','ds_keyaccount_sdk':'direct','ds_keyaccount_keyaccount':'direct'}\n",
    "\n",
    "def map_value(df):\n",
    "    df['traffic_source'] = ''\n",
    "    for i in range(0, df.shape[0]):\n",
    "        if df.traffic_source_full.iloc[i] in list(dict_channels.keys()):\n",
    "            df['traffic_source'].iat[i] = dict_channels[df.traffic_source_full.iloc[i]]\n",
    "        else: df['traffic_source'].iat[i] = df['traffic_source_full'].iat[i]"
   ]
  },
  {
   "cell_type": "code",
   "execution_count": 45,
   "metadata": {
    "cell_style": "split"
   },
   "outputs": [],
   "source": [
    "map_value(basetable)"
   ]
  },
  {
   "cell_type": "code",
   "execution_count": 107,
   "metadata": {},
   "outputs": [
    {
     "data": {
      "text/plain": [
       "traffic_source\n",
       "direct                 30185\n",
       "o_organic_app         110167\n",
       "o_organic_direct      212376\n",
       "o_organic_invite       17620\n",
       "o_organic_null        177015\n",
       "o_organic_referral     38519\n",
       "o_organic_seo         237150\n",
       "o_paid_affiliate      110250\n",
       "o_paid_app_install     15746\n",
       "o_paid_sem            661711\n",
       "o_paid_social          86198\n",
       "partnerships           79896\n",
       "Name: organization_uuid, dtype: int64"
      ]
     },
     "execution_count": 107,
     "metadata": {},
     "output_type": "execute_result"
    }
   ],
   "source": [
    "basetable.groupby('traffic_source')['organization_uuid'].count()"
   ]
  },
  {
   "cell_type": "code",
   "execution_count": 46,
   "metadata": {},
   "outputs": [],
   "source": [
    "basetable_ga = basetable[~((basetable['session_end_time'].isna()) & (basetable['rank'] == 1))][['organization_uuid',\n",
    "                                                                                               'organization_created',\n",
    "                                                                                                'country_id',\n",
    "                                                                                               'traffic_source']]"
   ]
  },
  {
   "cell_type": "code",
   "execution_count": 47,
   "metadata": {},
   "outputs": [
    {
     "data": {
      "text/html": [
       "<div>\n",
       "<style scoped>\n",
       "    .dataframe tbody tr th:only-of-type {\n",
       "        vertical-align: middle;\n",
       "    }\n",
       "\n",
       "    .dataframe tbody tr th {\n",
       "        vertical-align: top;\n",
       "    }\n",
       "\n",
       "    .dataframe thead th {\n",
       "        text-align: right;\n",
       "    }\n",
       "</style>\n",
       "<table border=\"1\" class=\"dataframe\">\n",
       "  <thead>\n",
       "    <tr style=\"text-align: right;\">\n",
       "      <th></th>\n",
       "      <th>organization_uuid</th>\n",
       "      <th>organization_created</th>\n",
       "      <th>country_id</th>\n",
       "      <th>traffic_source</th>\n",
       "    </tr>\n",
       "  </thead>\n",
       "  <tbody>\n",
       "    <tr>\n",
       "      <td>0</td>\n",
       "      <td>d3ac0460-1b11-11e8-b465-7beaf8399d76</td>\n",
       "      <td>2018-02-26 16:26:41.446000+00:00</td>\n",
       "      <td>IT</td>\n",
       "      <td>direct</td>\n",
       "    </tr>\n",
       "    <tr>\n",
       "      <td>1</td>\n",
       "      <td>ce4da810-0c21-11e8-b84e-c11e2b7835df</td>\n",
       "      <td>2018-02-07 16:13:16.946000+00:00</td>\n",
       "      <td>IT</td>\n",
       "      <td>direct</td>\n",
       "    </tr>\n",
       "    <tr>\n",
       "      <td>2</td>\n",
       "      <td>940f6300-09bf-11e8-970c-b9a7287d10cd</td>\n",
       "      <td>2018-02-04 15:25:06.224000+00:00</td>\n",
       "      <td>IT</td>\n",
       "      <td>direct</td>\n",
       "    </tr>\n",
       "    <tr>\n",
       "      <td>3</td>\n",
       "      <td>720511c0-b577-11e7-b192-f5594d09f104</td>\n",
       "      <td>2017-10-20 09:17:07.676000+00:00</td>\n",
       "      <td>IT</td>\n",
       "      <td>direct</td>\n",
       "    </tr>\n",
       "    <tr>\n",
       "      <td>4</td>\n",
       "      <td>73055680-1629-11e8-a732-832622cb0e44</td>\n",
       "      <td>2018-02-20 10:33:11.400000+00:00</td>\n",
       "      <td>IT</td>\n",
       "      <td>direct</td>\n",
       "    </tr>\n",
       "  </tbody>\n",
       "</table>\n",
       "</div>"
      ],
      "text/plain": [
       "                      organization_uuid             organization_created  \\\n",
       "0  d3ac0460-1b11-11e8-b465-7beaf8399d76 2018-02-26 16:26:41.446000+00:00   \n",
       "1  ce4da810-0c21-11e8-b84e-c11e2b7835df 2018-02-07 16:13:16.946000+00:00   \n",
       "2  940f6300-09bf-11e8-970c-b9a7287d10cd 2018-02-04 15:25:06.224000+00:00   \n",
       "3  720511c0-b577-11e7-b192-f5594d09f104 2017-10-20 09:17:07.676000+00:00   \n",
       "4  73055680-1629-11e8-a732-832622cb0e44 2018-02-20 10:33:11.400000+00:00   \n",
       "\n",
       "  country_id traffic_source  \n",
       "0         IT         direct  \n",
       "1         IT         direct  \n",
       "2         IT         direct  \n",
       "3         IT         direct  \n",
       "4         IT         direct  "
      ]
     },
     "execution_count": 47,
     "metadata": {},
     "output_type": "execute_result"
    }
   ],
   "source": [
    "basetable_ga.head()"
   ]
  },
  {
   "cell_type": "code",
   "execution_count": 50,
   "metadata": {},
   "outputs": [
    {
     "name": "stdout",
     "output_type": "stream",
     "text": [
      "CPU times: user 46.8 s, sys: 62.2 ms, total: 46.8 s\n",
      "Wall time: 46.8 s\n"
     ]
    }
   ],
   "source": [
    "%%time\n",
    "journey_ga = pd.DataFrame(basetable_ga.groupby('organization_uuid')['traffic_source'].apply(list))"
   ]
  },
  {
   "cell_type": "code",
   "execution_count": 52,
   "metadata": {},
   "outputs": [
    {
     "name": "stdout",
     "output_type": "stream",
     "text": [
      "<class 'pandas.core.frame.DataFrame'>\n",
      "Index: 704258 entries, 00000d7a-905c-11e9-9233-ae9d68e66093 to ffffe67a-9c8a-11e9-a9f1-9fc0bb8c673d\n",
      "Data columns (total 1 columns):\n",
      "traffic_source    704258 non-null object\n",
      "dtypes: object(1)\n",
      "memory usage: 10.7+ MB\n"
     ]
    }
   ],
   "source": [
    "journey_ga.info()"
   ]
  },
  {
   "cell_type": "code",
   "execution_count": 72,
   "metadata": {},
   "outputs": [],
   "source": [
    "journey_ga['traffic_source_unique'] = [sorted(list(set(i))) for i in journey_ga['traffic_source']]\n",
    "                                                "
   ]
  },
  {
   "cell_type": "code",
   "execution_count": 75,
   "metadata": {},
   "outputs": [
    {
     "data": {
      "text/html": [
       "<div>\n",
       "<style scoped>\n",
       "    .dataframe tbody tr th:only-of-type {\n",
       "        vertical-align: middle;\n",
       "    }\n",
       "\n",
       "    .dataframe tbody tr th {\n",
       "        vertical-align: top;\n",
       "    }\n",
       "\n",
       "    .dataframe thead th {\n",
       "        text-align: right;\n",
       "    }\n",
       "</style>\n",
       "<table border=\"1\" class=\"dataframe\">\n",
       "  <thead>\n",
       "    <tr style=\"text-align: right;\">\n",
       "      <th></th>\n",
       "      <th>traffic_source</th>\n",
       "      <th>traffic_source_unique</th>\n",
       "    </tr>\n",
       "    <tr>\n",
       "      <th>organization_uuid</th>\n",
       "      <th></th>\n",
       "      <th></th>\n",
       "    </tr>\n",
       "  </thead>\n",
       "  <tbody>\n",
       "    <tr>\n",
       "      <td>00000d7a-905c-11e9-9233-ae9d68e66093</td>\n",
       "      <td>[o_paid_sem, o_paid_sem, o_paid_sem, o_paid_se...</td>\n",
       "      <td>[o_paid_sem]</td>\n",
       "    </tr>\n",
       "    <tr>\n",
       "      <td>00001110-992a-11e7-9808-8ab8ae4b9c97</td>\n",
       "      <td>[o_paid_sem, o_organic_seo]</td>\n",
       "      <td>[o_organic_seo, o_paid_sem]</td>\n",
       "    </tr>\n",
       "    <tr>\n",
       "      <td>000025a0-4885-11e8-b4f3-557d531c63b3</td>\n",
       "      <td>[o_paid_sem, o_paid_sem]</td>\n",
       "      <td>[o_paid_sem]</td>\n",
       "    </tr>\n",
       "    <tr>\n",
       "      <td>00002cb0-9c8e-11e7-bf87-b0512ff760df</td>\n",
       "      <td>[o_organic_direct]</td>\n",
       "      <td>[o_organic_direct]</td>\n",
       "    </tr>\n",
       "    <tr>\n",
       "      <td>00003340-368a-11e8-812c-46c00ef89793</td>\n",
       "      <td>[o_organic_direct]</td>\n",
       "      <td>[o_organic_direct]</td>\n",
       "    </tr>\n",
       "  </tbody>\n",
       "</table>\n",
       "</div>"
      ],
      "text/plain": [
       "                                                                         traffic_source  \\\n",
       "organization_uuid                                                                         \n",
       "00000d7a-905c-11e9-9233-ae9d68e66093  [o_paid_sem, o_paid_sem, o_paid_sem, o_paid_se...   \n",
       "00001110-992a-11e7-9808-8ab8ae4b9c97                        [o_paid_sem, o_organic_seo]   \n",
       "000025a0-4885-11e8-b4f3-557d531c63b3                           [o_paid_sem, o_paid_sem]   \n",
       "00002cb0-9c8e-11e7-bf87-b0512ff760df                                 [o_organic_direct]   \n",
       "00003340-368a-11e8-812c-46c00ef89793                                 [o_organic_direct]   \n",
       "\n",
       "                                            traffic_source_unique  \n",
       "organization_uuid                                                  \n",
       "00000d7a-905c-11e9-9233-ae9d68e66093                 [o_paid_sem]  \n",
       "00001110-992a-11e7-9808-8ab8ae4b9c97  [o_organic_seo, o_paid_sem]  \n",
       "000025a0-4885-11e8-b4f3-557d531c63b3                 [o_paid_sem]  \n",
       "00002cb0-9c8e-11e7-bf87-b0512ff760df           [o_organic_direct]  \n",
       "00003340-368a-11e8-812c-46c00ef89793           [o_organic_direct]  "
      ]
     },
     "execution_count": 75,
     "metadata": {},
     "output_type": "execute_result"
    }
   ],
   "source": [
    "journey_ga.head()"
   ]
  },
  {
   "cell_type": "code",
   "execution_count": 77,
   "metadata": {},
   "outputs": [
    {
     "data": {
      "text/html": [
       "<div>\n",
       "<style scoped>\n",
       "    .dataframe tbody tr th:only-of-type {\n",
       "        vertical-align: middle;\n",
       "    }\n",
       "\n",
       "    .dataframe tbody tr th {\n",
       "        vertical-align: top;\n",
       "    }\n",
       "\n",
       "    .dataframe thead th {\n",
       "        text-align: right;\n",
       "    }\n",
       "</style>\n",
       "<table border=\"1\" class=\"dataframe\">\n",
       "  <thead>\n",
       "    <tr style=\"text-align: right;\">\n",
       "      <th></th>\n",
       "      <th>journey</th>\n",
       "      <th>nr_merchants</th>\n",
       "    </tr>\n",
       "  </thead>\n",
       "  <tbody>\n",
       "    <tr>\n",
       "      <td>0</td>\n",
       "      <td>[o_paid_sem]</td>\n",
       "      <td>236207</td>\n",
       "    </tr>\n",
       "    <tr>\n",
       "      <td>1</td>\n",
       "      <td>[o_organic_direct]</td>\n",
       "      <td>101693</td>\n",
       "    </tr>\n",
       "    <tr>\n",
       "      <td>2</td>\n",
       "      <td>[o_organic_seo]</td>\n",
       "      <td>66957</td>\n",
       "    </tr>\n",
       "    <tr>\n",
       "      <td>3</td>\n",
       "      <td>[o_paid_social]</td>\n",
       "      <td>48320</td>\n",
       "    </tr>\n",
       "    <tr>\n",
       "      <td>4</td>\n",
       "      <td>[partnerships]</td>\n",
       "      <td>39371</td>\n",
       "    </tr>\n",
       "  </tbody>\n",
       "</table>\n",
       "</div>"
      ],
      "text/plain": [
       "              journey  nr_merchants\n",
       "0        [o_paid_sem]        236207\n",
       "1  [o_organic_direct]        101693\n",
       "2     [o_organic_seo]         66957\n",
       "3     [o_paid_social]         48320\n",
       "4      [partnerships]         39371"
      ]
     },
     "execution_count": 77,
     "metadata": {},
     "output_type": "execute_result"
    }
   ],
   "source": [
    "journey_ga_nr = pd.DataFrame(journey_ga['traffic_source_unique'].value_counts()).reset_index()\n",
    "journey_ga_nr.rename(columns={'index':'journey','traffic_source_unique':'nr_merchants'}, inplace=True)\n",
    "journey_ga_nr.head()"
   ]
  },
  {
   "cell_type": "code",
   "execution_count": 79,
   "metadata": {},
   "outputs": [
    {
     "data": {
      "text/html": [
       "<div>\n",
       "<style scoped>\n",
       "    .dataframe tbody tr th:only-of-type {\n",
       "        vertical-align: middle;\n",
       "    }\n",
       "\n",
       "    .dataframe tbody tr th {\n",
       "        vertical-align: top;\n",
       "    }\n",
       "\n",
       "    .dataframe thead th {\n",
       "        text-align: right;\n",
       "    }\n",
       "</style>\n",
       "<table border=\"1\" class=\"dataframe\">\n",
       "  <thead>\n",
       "    <tr style=\"text-align: right;\">\n",
       "      <th></th>\n",
       "      <th>journey</th>\n",
       "      <th>nr_merchants</th>\n",
       "      <th>length</th>\n",
       "    </tr>\n",
       "  </thead>\n",
       "  <tbody>\n",
       "    <tr>\n",
       "      <td>0</td>\n",
       "      <td>[o_paid_sem]</td>\n",
       "      <td>236207</td>\n",
       "      <td>1</td>\n",
       "    </tr>\n",
       "    <tr>\n",
       "      <td>1</td>\n",
       "      <td>[o_organic_direct]</td>\n",
       "      <td>101693</td>\n",
       "      <td>1</td>\n",
       "    </tr>\n",
       "    <tr>\n",
       "      <td>2</td>\n",
       "      <td>[o_organic_seo]</td>\n",
       "      <td>66957</td>\n",
       "      <td>1</td>\n",
       "    </tr>\n",
       "    <tr>\n",
       "      <td>3</td>\n",
       "      <td>[o_paid_social]</td>\n",
       "      <td>48320</td>\n",
       "      <td>1</td>\n",
       "    </tr>\n",
       "    <tr>\n",
       "      <td>4</td>\n",
       "      <td>[partnerships]</td>\n",
       "      <td>39371</td>\n",
       "      <td>1</td>\n",
       "    </tr>\n",
       "    <tr>\n",
       "      <td>5</td>\n",
       "      <td>[o_paid_affiliate]</td>\n",
       "      <td>36279</td>\n",
       "      <td>1</td>\n",
       "    </tr>\n",
       "    <tr>\n",
       "      <td>6</td>\n",
       "      <td>[o_organic_seo, o_paid_sem]</td>\n",
       "      <td>31262</td>\n",
       "      <td>2</td>\n",
       "    </tr>\n",
       "    <tr>\n",
       "      <td>7</td>\n",
       "      <td>[o_paid_affiliate, o_paid_sem]</td>\n",
       "      <td>18250</td>\n",
       "      <td>2</td>\n",
       "    </tr>\n",
       "    <tr>\n",
       "      <td>8</td>\n",
       "      <td>[o_organic_referral]</td>\n",
       "      <td>11090</td>\n",
       "      <td>1</td>\n",
       "    </tr>\n",
       "    <tr>\n",
       "      <td>9</td>\n",
       "      <td>[o_organic_direct, o_paid_sem]</td>\n",
       "      <td>10418</td>\n",
       "      <td>2</td>\n",
       "    </tr>\n",
       "  </tbody>\n",
       "</table>\n",
       "</div>"
      ],
      "text/plain": [
       "                          journey  nr_merchants  length\n",
       "0                    [o_paid_sem]        236207       1\n",
       "1              [o_organic_direct]        101693       1\n",
       "2                 [o_organic_seo]         66957       1\n",
       "3                 [o_paid_social]         48320       1\n",
       "4                  [partnerships]         39371       1\n",
       "5              [o_paid_affiliate]         36279       1\n",
       "6     [o_organic_seo, o_paid_sem]         31262       2\n",
       "7  [o_paid_affiliate, o_paid_sem]         18250       2\n",
       "8            [o_organic_referral]         11090       1\n",
       "9  [o_organic_direct, o_paid_sem]         10418       2"
      ]
     },
     "execution_count": 79,
     "metadata": {},
     "output_type": "execute_result"
    }
   ],
   "source": [
    "journey_ga_nr['length'] = journey_ga_nr['journey'].apply(len)\n",
    "journey_ga_nr.head(10)"
   ]
  },
  {
   "cell_type": "markdown",
   "metadata": {},
   "source": [
    "577 different combinations of unique touchpoints have been created. "
   ]
  },
  {
   "cell_type": "code",
   "execution_count": 80,
   "metadata": {},
   "outputs": [
    {
     "data": {
      "text/plain": [
       "4    189\n",
       "3    161\n",
       "5    105\n",
       "2     64\n",
       "6     35\n",
       "1     11\n",
       "7     10\n",
       "8      2\n",
       "Name: length, dtype: int64"
      ]
     },
     "execution_count": 80,
     "metadata": {},
     "output_type": "execute_result"
    }
   ],
   "source": [
    "journey_ga_nr['length'].value_counts()"
   ]
  },
  {
   "cell_type": "code",
   "execution_count": 81,
   "metadata": {},
   "outputs": [
    {
     "data": {
      "text/plain": [
       "length\n",
       "1    560331\n",
       "2    116111\n",
       "3     23494\n",
       "4      3730\n",
       "5       520\n",
       "6        60\n",
       "7        10\n",
       "8         2\n",
       "Name: nr_merchants, dtype: int64"
      ]
     },
     "execution_count": 81,
     "metadata": {},
     "output_type": "execute_result"
    }
   ],
   "source": [
    "journey_ga_nr.groupby('length')['nr_merchants'].sum()"
   ]
  },
  {
   "cell_type": "markdown",
   "metadata": {},
   "source": [
    "#### All merchants"
   ]
  },
  {
   "cell_type": "code",
   "execution_count": 82,
   "metadata": {},
   "outputs": [
    {
     "name": "stdout",
     "output_type": "stream",
     "text": [
      "CPU times: user 1min 20s, sys: 159 ms, total: 1min 20s\n",
      "Wall time: 1min 20s\n"
     ]
    }
   ],
   "source": [
    "%%time\n",
    "journey = pd.DataFrame(basetable.groupby('organization_uuid')['traffic_source'].apply(list))"
   ]
  },
  {
   "cell_type": "code",
   "execution_count": 83,
   "metadata": {},
   "outputs": [
    {
     "name": "stdout",
     "output_type": "stream",
     "text": [
      "<class 'pandas.core.frame.DataFrame'>\n",
      "Index: 1136918 entries, 00000d7a-905c-11e9-9233-ae9d68e66093 to ffffe67a-9c8a-11e9-a9f1-9fc0bb8c673d\n",
      "Data columns (total 1 columns):\n",
      "traffic_source    1136918 non-null object\n",
      "dtypes: object(1)\n",
      "memory usage: 17.3+ MB\n"
     ]
    }
   ],
   "source": [
    "journey.info()"
   ]
  },
  {
   "cell_type": "code",
   "execution_count": 84,
   "metadata": {},
   "outputs": [
    {
     "data": {
      "text/html": [
       "<div>\n",
       "<style scoped>\n",
       "    .dataframe tbody tr th:only-of-type {\n",
       "        vertical-align: middle;\n",
       "    }\n",
       "\n",
       "    .dataframe tbody tr th {\n",
       "        vertical-align: top;\n",
       "    }\n",
       "\n",
       "    .dataframe thead th {\n",
       "        text-align: right;\n",
       "    }\n",
       "</style>\n",
       "<table border=\"1\" class=\"dataframe\">\n",
       "  <thead>\n",
       "    <tr style=\"text-align: right;\">\n",
       "      <th></th>\n",
       "      <th>traffic_source</th>\n",
       "      <th>traffic_source_unique</th>\n",
       "    </tr>\n",
       "    <tr>\n",
       "      <th>organization_uuid</th>\n",
       "      <th></th>\n",
       "      <th></th>\n",
       "    </tr>\n",
       "  </thead>\n",
       "  <tbody>\n",
       "    <tr>\n",
       "      <td>00000d7a-905c-11e9-9233-ae9d68e66093</td>\n",
       "      <td>[o_paid_sem, o_paid_sem, o_paid_sem, o_paid_se...</td>\n",
       "      <td>[o_paid_sem]</td>\n",
       "    </tr>\n",
       "    <tr>\n",
       "      <td>00001110-992a-11e7-9808-8ab8ae4b9c97</td>\n",
       "      <td>[o_paid_sem, o_organic_seo]</td>\n",
       "      <td>[o_organic_seo, o_paid_sem]</td>\n",
       "    </tr>\n",
       "    <tr>\n",
       "      <td>000013a0-15bf-11e9-9e85-9bae82c9974a</td>\n",
       "      <td>[o_paid_app_install]</td>\n",
       "      <td>[o_paid_app_install]</td>\n",
       "    </tr>\n",
       "    <tr>\n",
       "      <td>000025a0-4885-11e8-b4f3-557d531c63b3</td>\n",
       "      <td>[o_paid_sem, o_paid_sem]</td>\n",
       "      <td>[o_paid_sem]</td>\n",
       "    </tr>\n",
       "    <tr>\n",
       "      <td>00002cb0-9c8e-11e7-bf87-b0512ff760df</td>\n",
       "      <td>[o_organic_direct]</td>\n",
       "      <td>[o_organic_direct]</td>\n",
       "    </tr>\n",
       "  </tbody>\n",
       "</table>\n",
       "</div>"
      ],
      "text/plain": [
       "                                                                         traffic_source  \\\n",
       "organization_uuid                                                                         \n",
       "00000d7a-905c-11e9-9233-ae9d68e66093  [o_paid_sem, o_paid_sem, o_paid_sem, o_paid_se...   \n",
       "00001110-992a-11e7-9808-8ab8ae4b9c97                        [o_paid_sem, o_organic_seo]   \n",
       "000013a0-15bf-11e9-9e85-9bae82c9974a                               [o_paid_app_install]   \n",
       "000025a0-4885-11e8-b4f3-557d531c63b3                           [o_paid_sem, o_paid_sem]   \n",
       "00002cb0-9c8e-11e7-bf87-b0512ff760df                                 [o_organic_direct]   \n",
       "\n",
       "                                            traffic_source_unique  \n",
       "organization_uuid                                                  \n",
       "00000d7a-905c-11e9-9233-ae9d68e66093                 [o_paid_sem]  \n",
       "00001110-992a-11e7-9808-8ab8ae4b9c97  [o_organic_seo, o_paid_sem]  \n",
       "000013a0-15bf-11e9-9e85-9bae82c9974a         [o_paid_app_install]  \n",
       "000025a0-4885-11e8-b4f3-557d531c63b3                 [o_paid_sem]  \n",
       "00002cb0-9c8e-11e7-bf87-b0512ff760df           [o_organic_direct]  "
      ]
     },
     "execution_count": 84,
     "metadata": {},
     "output_type": "execute_result"
    }
   ],
   "source": [
    "journey['traffic_source_unique'] = [sorted(list(set(i))) for i in journey['traffic_source']]\n",
    "journey.head()"
   ]
  },
  {
   "cell_type": "code",
   "execution_count": 90,
   "metadata": {},
   "outputs": [
    {
     "data": {
      "text/html": [
       "<div>\n",
       "<style scoped>\n",
       "    .dataframe tbody tr th:only-of-type {\n",
       "        vertical-align: middle;\n",
       "    }\n",
       "\n",
       "    .dataframe tbody tr th {\n",
       "        vertical-align: top;\n",
       "    }\n",
       "\n",
       "    .dataframe thead th {\n",
       "        text-align: right;\n",
       "    }\n",
       "</style>\n",
       "<table border=\"1\" class=\"dataframe\">\n",
       "  <thead>\n",
       "    <tr style=\"text-align: right;\">\n",
       "      <th></th>\n",
       "      <th>journey</th>\n",
       "      <th>nr_merchants</th>\n",
       "    </tr>\n",
       "  </thead>\n",
       "  <tbody>\n",
       "    <tr>\n",
       "      <td>0</td>\n",
       "      <td>[o_paid_sem]</td>\n",
       "      <td>278539</td>\n",
       "    </tr>\n",
       "    <tr>\n",
       "      <td>1</td>\n",
       "      <td>[o_organic_null]</td>\n",
       "      <td>156363</td>\n",
       "    </tr>\n",
       "    <tr>\n",
       "      <td>2</td>\n",
       "      <td>[o_organic_direct]</td>\n",
       "      <td>142474</td>\n",
       "    </tr>\n",
       "    <tr>\n",
       "      <td>3</td>\n",
       "      <td>[o_organic_app]</td>\n",
       "      <td>99365</td>\n",
       "    </tr>\n",
       "    <tr>\n",
       "      <td>4</td>\n",
       "      <td>[o_organic_seo]</td>\n",
       "      <td>92065</td>\n",
       "    </tr>\n",
       "  </tbody>\n",
       "</table>\n",
       "</div>"
      ],
      "text/plain": [
       "              journey  nr_merchants\n",
       "0        [o_paid_sem]        278539\n",
       "1    [o_organic_null]        156363\n",
       "2  [o_organic_direct]        142474\n",
       "3     [o_organic_app]         99365\n",
       "4     [o_organic_seo]         92065"
      ]
     },
     "execution_count": 90,
     "metadata": {},
     "output_type": "execute_result"
    }
   ],
   "source": [
    "journey_nr = pd.DataFrame(journey['traffic_source_unique'].value_counts()).reset_index()\n",
    "journey_nr.rename(columns={'index':'journey','traffic_source_unique':'nr_merchants'}, inplace=True)\n",
    "journey_nr.head()"
   ]
  },
  {
   "cell_type": "code",
   "execution_count": 91,
   "metadata": {},
   "outputs": [
    {
     "data": {
      "text/html": [
       "<div>\n",
       "<style scoped>\n",
       "    .dataframe tbody tr th:only-of-type {\n",
       "        vertical-align: middle;\n",
       "    }\n",
       "\n",
       "    .dataframe tbody tr th {\n",
       "        vertical-align: top;\n",
       "    }\n",
       "\n",
       "    .dataframe thead th {\n",
       "        text-align: right;\n",
       "    }\n",
       "</style>\n",
       "<table border=\"1\" class=\"dataframe\">\n",
       "  <thead>\n",
       "    <tr style=\"text-align: right;\">\n",
       "      <th></th>\n",
       "      <th>journey</th>\n",
       "      <th>nr_merchants</th>\n",
       "      <th>length</th>\n",
       "    </tr>\n",
       "  </thead>\n",
       "  <tbody>\n",
       "    <tr>\n",
       "      <td>0</td>\n",
       "      <td>[o_paid_sem]</td>\n",
       "      <td>278539</td>\n",
       "      <td>1</td>\n",
       "    </tr>\n",
       "    <tr>\n",
       "      <td>1</td>\n",
       "      <td>[o_organic_null]</td>\n",
       "      <td>156363</td>\n",
       "      <td>1</td>\n",
       "    </tr>\n",
       "    <tr>\n",
       "      <td>2</td>\n",
       "      <td>[o_organic_direct]</td>\n",
       "      <td>142474</td>\n",
       "      <td>1</td>\n",
       "    </tr>\n",
       "    <tr>\n",
       "      <td>3</td>\n",
       "      <td>[o_organic_app]</td>\n",
       "      <td>99365</td>\n",
       "      <td>1</td>\n",
       "    </tr>\n",
       "    <tr>\n",
       "      <td>4</td>\n",
       "      <td>[o_organic_seo]</td>\n",
       "      <td>92065</td>\n",
       "      <td>1</td>\n",
       "    </tr>\n",
       "    <tr>\n",
       "      <td>5</td>\n",
       "      <td>[partnerships]</td>\n",
       "      <td>61821</td>\n",
       "      <td>1</td>\n",
       "    </tr>\n",
       "    <tr>\n",
       "      <td>6</td>\n",
       "      <td>[o_paid_social]</td>\n",
       "      <td>55295</td>\n",
       "      <td>1</td>\n",
       "    </tr>\n",
       "    <tr>\n",
       "      <td>7</td>\n",
       "      <td>[o_paid_affiliate]</td>\n",
       "      <td>46109</td>\n",
       "      <td>1</td>\n",
       "    </tr>\n",
       "    <tr>\n",
       "      <td>8</td>\n",
       "      <td>[o_organic_seo, o_paid_sem]</td>\n",
       "      <td>31262</td>\n",
       "      <td>2</td>\n",
       "    </tr>\n",
       "    <tr>\n",
       "      <td>9</td>\n",
       "      <td>[direct]</td>\n",
       "      <td>19298</td>\n",
       "      <td>1</td>\n",
       "    </tr>\n",
       "  </tbody>\n",
       "</table>\n",
       "</div>"
      ],
      "text/plain": [
       "                       journey  nr_merchants  length\n",
       "0                 [o_paid_sem]        278539       1\n",
       "1             [o_organic_null]        156363       1\n",
       "2           [o_organic_direct]        142474       1\n",
       "3              [o_organic_app]         99365       1\n",
       "4              [o_organic_seo]         92065       1\n",
       "5               [partnerships]         61821       1\n",
       "6              [o_paid_social]         55295       1\n",
       "7           [o_paid_affiliate]         46109       1\n",
       "8  [o_organic_seo, o_paid_sem]         31262       2\n",
       "9                     [direct]         19298       1"
      ]
     },
     "execution_count": 91,
     "metadata": {},
     "output_type": "execute_result"
    }
   ],
   "source": [
    "journey_nr['length'] = journey_nr['journey'].apply(len)\n",
    "journey_nr.head(10)"
   ]
  },
  {
   "cell_type": "code",
   "execution_count": 104,
   "metadata": {},
   "outputs": [
    {
     "data": {
      "text/html": [
       "<div>\n",
       "<style scoped>\n",
       "    .dataframe tbody tr th:only-of-type {\n",
       "        vertical-align: middle;\n",
       "    }\n",
       "\n",
       "    .dataframe tbody tr th {\n",
       "        vertical-align: top;\n",
       "    }\n",
       "\n",
       "    .dataframe thead th {\n",
       "        text-align: right;\n",
       "    }\n",
       "</style>\n",
       "<table border=\"1\" class=\"dataframe\">\n",
       "  <thead>\n",
       "    <tr style=\"text-align: right;\">\n",
       "      <th></th>\n",
       "      <th>journey</th>\n",
       "      <th>nr_merchants</th>\n",
       "      <th>length</th>\n",
       "    </tr>\n",
       "  </thead>\n",
       "  <tbody>\n",
       "    <tr>\n",
       "      <td>0</td>\n",
       "      <td>[o_paid_sem]</td>\n",
       "      <td>278539</td>\n",
       "      <td>1</td>\n",
       "    </tr>\n",
       "    <tr>\n",
       "      <td>1</td>\n",
       "      <td>[o_organic_null]</td>\n",
       "      <td>156363</td>\n",
       "      <td>1</td>\n",
       "    </tr>\n",
       "    <tr>\n",
       "      <td>2</td>\n",
       "      <td>[o_organic_direct]</td>\n",
       "      <td>142474</td>\n",
       "      <td>1</td>\n",
       "    </tr>\n",
       "    <tr>\n",
       "      <td>3</td>\n",
       "      <td>[o_organic_app]</td>\n",
       "      <td>99365</td>\n",
       "      <td>1</td>\n",
       "    </tr>\n",
       "    <tr>\n",
       "      <td>4</td>\n",
       "      <td>[o_organic_seo]</td>\n",
       "      <td>92065</td>\n",
       "      <td>1</td>\n",
       "    </tr>\n",
       "    <tr>\n",
       "      <td>...</td>\n",
       "      <td>...</td>\n",
       "      <td>...</td>\n",
       "      <td>...</td>\n",
       "    </tr>\n",
       "    <tr>\n",
       "      <td>481</td>\n",
       "      <td>[o_organic_app, o_paid_social, partnerships]</td>\n",
       "      <td>1</td>\n",
       "      <td>3</td>\n",
       "    </tr>\n",
       "    <tr>\n",
       "      <td>482</td>\n",
       "      <td>[o_organic_direct, o_organic_invite, o_organic...</td>\n",
       "      <td>1</td>\n",
       "      <td>4</td>\n",
       "    </tr>\n",
       "    <tr>\n",
       "      <td>483</td>\n",
       "      <td>[direct, o_organic_direct, o_organic_referral,...</td>\n",
       "      <td>1</td>\n",
       "      <td>5</td>\n",
       "    </tr>\n",
       "    <tr>\n",
       "      <td>484</td>\n",
       "      <td>[direct, o_paid_affiliate, partnerships]</td>\n",
       "      <td>1</td>\n",
       "      <td>3</td>\n",
       "    </tr>\n",
       "    <tr>\n",
       "      <td>577</td>\n",
       "      <td>[o_organic_null, o_organic_referral, o_paid_af...</td>\n",
       "      <td>1</td>\n",
       "      <td>5</td>\n",
       "    </tr>\n",
       "  </tbody>\n",
       "</table>\n",
       "<p>578 rows × 3 columns</p>\n",
       "</div>"
      ],
      "text/plain": [
       "                                               journey  nr_merchants  length\n",
       "0                                         [o_paid_sem]        278539       1\n",
       "1                                     [o_organic_null]        156363       1\n",
       "2                                   [o_organic_direct]        142474       1\n",
       "3                                      [o_organic_app]         99365       1\n",
       "4                                      [o_organic_seo]         92065       1\n",
       "..                                                 ...           ...     ...\n",
       "481       [o_organic_app, o_paid_social, partnerships]             1       3\n",
       "482  [o_organic_direct, o_organic_invite, o_organic...             1       4\n",
       "483  [direct, o_organic_direct, o_organic_referral,...             1       5\n",
       "484           [direct, o_paid_affiliate, partnerships]             1       3\n",
       "577  [o_organic_null, o_organic_referral, o_paid_af...             1       5\n",
       "\n",
       "[578 rows x 3 columns]"
      ]
     },
     "execution_count": 104,
     "metadata": {},
     "output_type": "execute_result"
    }
   ],
   "source": [
    "journey_nr.sort_values('nr_merchants', ascending=False)"
   ]
  },
  {
   "cell_type": "code",
   "execution_count": 92,
   "metadata": {},
   "outputs": [
    {
     "data": {
      "text/plain": [
       "length\n",
       "1    992991\n",
       "2    116111\n",
       "3     23494\n",
       "4      3730\n",
       "5       520\n",
       "6        60\n",
       "7        10\n",
       "8         2\n",
       "Name: nr_merchants, dtype: int64"
      ]
     },
     "execution_count": 92,
     "metadata": {},
     "output_type": "execute_result"
    }
   ],
   "source": [
    "journey_nr.groupby('length')['nr_merchants'].sum()"
   ]
  },
  {
   "cell_type": "markdown",
   "metadata": {},
   "source": [
    "**Expected: Shapley value model for REG will be similar to the last touch point model for REG**"
   ]
  },
  {
   "cell_type": "markdown",
   "metadata": {},
   "source": [
    "#### KYC accepted"
   ]
  },
  {
   "cell_type": "code",
   "execution_count": 98,
   "metadata": {},
   "outputs": [
    {
     "name": "stdout",
     "output_type": "stream",
     "text": [
      "<class 'pandas.core.frame.DataFrame'>\n",
      "Index: 652769 entries, 00000d7a-905c-11e9-9233-ae9d68e66093 to ffffe67a-9c8a-11e9-a9f1-9fc0bb8c673d\n",
      "Data columns (total 2 columns):\n",
      "traffic_source           652769 non-null object\n",
      "traffic_source_unique    652769 non-null object\n",
      "dtypes: object(2)\n",
      "memory usage: 14.9+ MB\n"
     ]
    }
   ],
   "source": [
    "journey_kyc = journey[journey.index.isin(df_kyc_accepted['organization_uuid'])]\n",
    "journey_kyc.info()"
   ]
  },
  {
   "cell_type": "code",
   "execution_count": 99,
   "metadata": {},
   "outputs": [
    {
     "data": {
      "text/html": [
       "<div>\n",
       "<style scoped>\n",
       "    .dataframe tbody tr th:only-of-type {\n",
       "        vertical-align: middle;\n",
       "    }\n",
       "\n",
       "    .dataframe tbody tr th {\n",
       "        vertical-align: top;\n",
       "    }\n",
       "\n",
       "    .dataframe thead th {\n",
       "        text-align: right;\n",
       "    }\n",
       "</style>\n",
       "<table border=\"1\" class=\"dataframe\">\n",
       "  <thead>\n",
       "    <tr style=\"text-align: right;\">\n",
       "      <th></th>\n",
       "      <th>traffic_source</th>\n",
       "      <th>traffic_source_unique</th>\n",
       "    </tr>\n",
       "    <tr>\n",
       "      <th>organization_uuid</th>\n",
       "      <th></th>\n",
       "      <th></th>\n",
       "    </tr>\n",
       "  </thead>\n",
       "  <tbody>\n",
       "    <tr>\n",
       "      <td>00000d7a-905c-11e9-9233-ae9d68e66093</td>\n",
       "      <td>[o_paid_sem, o_paid_sem, o_paid_sem, o_paid_se...</td>\n",
       "      <td>[o_paid_sem]</td>\n",
       "    </tr>\n",
       "    <tr>\n",
       "      <td>00001110-992a-11e7-9808-8ab8ae4b9c97</td>\n",
       "      <td>[o_paid_sem, o_organic_seo]</td>\n",
       "      <td>[o_organic_seo, o_paid_sem]</td>\n",
       "    </tr>\n",
       "    <tr>\n",
       "      <td>000025a0-4885-11e8-b4f3-557d531c63b3</td>\n",
       "      <td>[o_paid_sem, o_paid_sem]</td>\n",
       "      <td>[o_paid_sem]</td>\n",
       "    </tr>\n",
       "    <tr>\n",
       "      <td>00003340-368a-11e8-812c-46c00ef89793</td>\n",
       "      <td>[o_organic_direct]</td>\n",
       "      <td>[o_organic_direct]</td>\n",
       "    </tr>\n",
       "    <tr>\n",
       "      <td>00003480-755a-11e8-941a-f4245c6e2118</td>\n",
       "      <td>[o_paid_sem, o_organic_seo]</td>\n",
       "      <td>[o_organic_seo, o_paid_sem]</td>\n",
       "    </tr>\n",
       "  </tbody>\n",
       "</table>\n",
       "</div>"
      ],
      "text/plain": [
       "                                                                         traffic_source  \\\n",
       "organization_uuid                                                                         \n",
       "00000d7a-905c-11e9-9233-ae9d68e66093  [o_paid_sem, o_paid_sem, o_paid_sem, o_paid_se...   \n",
       "00001110-992a-11e7-9808-8ab8ae4b9c97                        [o_paid_sem, o_organic_seo]   \n",
       "000025a0-4885-11e8-b4f3-557d531c63b3                           [o_paid_sem, o_paid_sem]   \n",
       "00003340-368a-11e8-812c-46c00ef89793                                 [o_organic_direct]   \n",
       "00003480-755a-11e8-941a-f4245c6e2118                        [o_paid_sem, o_organic_seo]   \n",
       "\n",
       "                                            traffic_source_unique  \n",
       "organization_uuid                                                  \n",
       "00000d7a-905c-11e9-9233-ae9d68e66093                 [o_paid_sem]  \n",
       "00001110-992a-11e7-9808-8ab8ae4b9c97  [o_organic_seo, o_paid_sem]  \n",
       "000025a0-4885-11e8-b4f3-557d531c63b3                 [o_paid_sem]  \n",
       "00003340-368a-11e8-812c-46c00ef89793           [o_organic_direct]  \n",
       "00003480-755a-11e8-941a-f4245c6e2118  [o_organic_seo, o_paid_sem]  "
      ]
     },
     "execution_count": 99,
     "metadata": {},
     "output_type": "execute_result"
    }
   ],
   "source": [
    "journey_kyc.head()"
   ]
  },
  {
   "cell_type": "code",
   "execution_count": 100,
   "metadata": {},
   "outputs": [
    {
     "data": {
      "text/html": [
       "<div>\n",
       "<style scoped>\n",
       "    .dataframe tbody tr th:only-of-type {\n",
       "        vertical-align: middle;\n",
       "    }\n",
       "\n",
       "    .dataframe tbody tr th {\n",
       "        vertical-align: top;\n",
       "    }\n",
       "\n",
       "    .dataframe thead th {\n",
       "        text-align: right;\n",
       "    }\n",
       "</style>\n",
       "<table border=\"1\" class=\"dataframe\">\n",
       "  <thead>\n",
       "    <tr style=\"text-align: right;\">\n",
       "      <th></th>\n",
       "      <th>journey</th>\n",
       "      <th>nr_merchants</th>\n",
       "    </tr>\n",
       "  </thead>\n",
       "  <tbody>\n",
       "    <tr>\n",
       "      <td>0</td>\n",
       "      <td>[o_paid_sem]</td>\n",
       "      <td>162887</td>\n",
       "    </tr>\n",
       "    <tr>\n",
       "      <td>1</td>\n",
       "      <td>[o_organic_direct]</td>\n",
       "      <td>81354</td>\n",
       "    </tr>\n",
       "    <tr>\n",
       "      <td>2</td>\n",
       "      <td>[o_organic_seo]</td>\n",
       "      <td>58216</td>\n",
       "    </tr>\n",
       "    <tr>\n",
       "      <td>3</td>\n",
       "      <td>[o_organic_app]</td>\n",
       "      <td>51798</td>\n",
       "    </tr>\n",
       "    <tr>\n",
       "      <td>4</td>\n",
       "      <td>[partnerships]</td>\n",
       "      <td>51138</td>\n",
       "    </tr>\n",
       "  </tbody>\n",
       "</table>\n",
       "</div>"
      ],
      "text/plain": [
       "              journey  nr_merchants\n",
       "0        [o_paid_sem]        162887\n",
       "1  [o_organic_direct]         81354\n",
       "2     [o_organic_seo]         58216\n",
       "3     [o_organic_app]         51798\n",
       "4      [partnerships]         51138"
      ]
     },
     "execution_count": 100,
     "metadata": {},
     "output_type": "execute_result"
    }
   ],
   "source": [
    "journey_kyc_nr = pd.DataFrame(journey_kyc['traffic_source_unique'].value_counts()).reset_index()\n",
    "journey_kyc_nr.rename(columns={'index':'journey','traffic_source_unique':'nr_merchants'}, inplace=True)\n",
    "journey_kyc_nr.head()"
   ]
  },
  {
   "cell_type": "code",
   "execution_count": 108,
   "metadata": {},
   "outputs": [
    {
     "data": {
      "text/html": [
       "<div>\n",
       "<style scoped>\n",
       "    .dataframe tbody tr th:only-of-type {\n",
       "        vertical-align: middle;\n",
       "    }\n",
       "\n",
       "    .dataframe tbody tr th {\n",
       "        vertical-align: top;\n",
       "    }\n",
       "\n",
       "    .dataframe thead th {\n",
       "        text-align: right;\n",
       "    }\n",
       "</style>\n",
       "<table border=\"1\" class=\"dataframe\">\n",
       "  <thead>\n",
       "    <tr style=\"text-align: right;\">\n",
       "      <th></th>\n",
       "      <th>journey</th>\n",
       "      <th>nr_merchants</th>\n",
       "      <th>length</th>\n",
       "    </tr>\n",
       "  </thead>\n",
       "  <tbody>\n",
       "    <tr>\n",
       "      <td>0</td>\n",
       "      <td>[o_paid_sem]</td>\n",
       "      <td>162887</td>\n",
       "      <td>1</td>\n",
       "    </tr>\n",
       "    <tr>\n",
       "      <td>1</td>\n",
       "      <td>[o_organic_direct]</td>\n",
       "      <td>81354</td>\n",
       "      <td>1</td>\n",
       "    </tr>\n",
       "    <tr>\n",
       "      <td>2</td>\n",
       "      <td>[o_organic_seo]</td>\n",
       "      <td>58216</td>\n",
       "      <td>1</td>\n",
       "    </tr>\n",
       "    <tr>\n",
       "      <td>3</td>\n",
       "      <td>[o_organic_app]</td>\n",
       "      <td>51798</td>\n",
       "      <td>1</td>\n",
       "    </tr>\n",
       "    <tr>\n",
       "      <td>4</td>\n",
       "      <td>[partnerships]</td>\n",
       "      <td>51138</td>\n",
       "      <td>1</td>\n",
       "    </tr>\n",
       "    <tr>\n",
       "      <td>5</td>\n",
       "      <td>[o_paid_social]</td>\n",
       "      <td>31311</td>\n",
       "      <td>1</td>\n",
       "    </tr>\n",
       "    <tr>\n",
       "      <td>6</td>\n",
       "      <td>[o_paid_affiliate]</td>\n",
       "      <td>29672</td>\n",
       "      <td>1</td>\n",
       "    </tr>\n",
       "    <tr>\n",
       "      <td>7</td>\n",
       "      <td>[o_organic_null]</td>\n",
       "      <td>29648</td>\n",
       "      <td>1</td>\n",
       "    </tr>\n",
       "    <tr>\n",
       "      <td>8</td>\n",
       "      <td>[o_organic_seo, o_paid_sem]</td>\n",
       "      <td>25152</td>\n",
       "      <td>2</td>\n",
       "    </tr>\n",
       "    <tr>\n",
       "      <td>9</td>\n",
       "      <td>[direct]</td>\n",
       "      <td>16503</td>\n",
       "      <td>1</td>\n",
       "    </tr>\n",
       "  </tbody>\n",
       "</table>\n",
       "</div>"
      ],
      "text/plain": [
       "                       journey  nr_merchants  length\n",
       "0                 [o_paid_sem]        162887       1\n",
       "1           [o_organic_direct]         81354       1\n",
       "2              [o_organic_seo]         58216       1\n",
       "3              [o_organic_app]         51798       1\n",
       "4               [partnerships]         51138       1\n",
       "5              [o_paid_social]         31311       1\n",
       "6           [o_paid_affiliate]         29672       1\n",
       "7             [o_organic_null]         29648       1\n",
       "8  [o_organic_seo, o_paid_sem]         25152       2\n",
       "9                     [direct]         16503       1"
      ]
     },
     "execution_count": 108,
     "metadata": {},
     "output_type": "execute_result"
    }
   ],
   "source": [
    "journey_kyc_nr.head(10)"
   ]
  },
  {
   "cell_type": "code",
   "execution_count": 105,
   "metadata": {},
   "outputs": [
    {
     "data": {
      "text/html": [
       "<div>\n",
       "<style scoped>\n",
       "    .dataframe tbody tr th:only-of-type {\n",
       "        vertical-align: middle;\n",
       "    }\n",
       "\n",
       "    .dataframe tbody tr th {\n",
       "        vertical-align: top;\n",
       "    }\n",
       "\n",
       "    .dataframe thead th {\n",
       "        text-align: right;\n",
       "    }\n",
       "</style>\n",
       "<table border=\"1\" class=\"dataframe\">\n",
       "  <thead>\n",
       "    <tr style=\"text-align: right;\">\n",
       "      <th></th>\n",
       "      <th>journey</th>\n",
       "      <th>nr_merchants</th>\n",
       "      <th>length</th>\n",
       "    </tr>\n",
       "  </thead>\n",
       "  <tbody>\n",
       "    <tr>\n",
       "      <td>0</td>\n",
       "      <td>[o_paid_sem]</td>\n",
       "      <td>162887</td>\n",
       "      <td>1</td>\n",
       "    </tr>\n",
       "    <tr>\n",
       "      <td>1</td>\n",
       "      <td>[o_organic_direct]</td>\n",
       "      <td>81354</td>\n",
       "      <td>1</td>\n",
       "    </tr>\n",
       "    <tr>\n",
       "      <td>2</td>\n",
       "      <td>[o_organic_seo]</td>\n",
       "      <td>58216</td>\n",
       "      <td>1</td>\n",
       "    </tr>\n",
       "    <tr>\n",
       "      <td>3</td>\n",
       "      <td>[o_organic_app]</td>\n",
       "      <td>51798</td>\n",
       "      <td>1</td>\n",
       "    </tr>\n",
       "    <tr>\n",
       "      <td>4</td>\n",
       "      <td>[partnerships]</td>\n",
       "      <td>51138</td>\n",
       "      <td>1</td>\n",
       "    </tr>\n",
       "    <tr>\n",
       "      <td>...</td>\n",
       "      <td>...</td>\n",
       "      <td>...</td>\n",
       "      <td>...</td>\n",
       "    </tr>\n",
       "    <tr>\n",
       "      <td>478</td>\n",
       "      <td>[direct, o_paid_affiliate, partnerships]</td>\n",
       "      <td>1</td>\n",
       "      <td>3</td>\n",
       "    </tr>\n",
       "    <tr>\n",
       "      <td>479</td>\n",
       "      <td>[direct, o_organic_referral, o_paid_affiliate,...</td>\n",
       "      <td>1</td>\n",
       "      <td>4</td>\n",
       "    </tr>\n",
       "    <tr>\n",
       "      <td>480</td>\n",
       "      <td>[o_organic_app, o_paid_social, partnerships]</td>\n",
       "      <td>1</td>\n",
       "      <td>3</td>\n",
       "    </tr>\n",
       "    <tr>\n",
       "      <td>481</td>\n",
       "      <td>[o_organic_direct, o_organic_invite, o_organic...</td>\n",
       "      <td>1</td>\n",
       "      <td>6</td>\n",
       "    </tr>\n",
       "    <tr>\n",
       "      <td>573</td>\n",
       "      <td>[o_organic_null, o_organic_referral, o_paid_af...</td>\n",
       "      <td>1</td>\n",
       "      <td>5</td>\n",
       "    </tr>\n",
       "  </tbody>\n",
       "</table>\n",
       "<p>574 rows × 3 columns</p>\n",
       "</div>"
      ],
      "text/plain": [
       "                                               journey  nr_merchants  length\n",
       "0                                         [o_paid_sem]        162887       1\n",
       "1                                   [o_organic_direct]         81354       1\n",
       "2                                      [o_organic_seo]         58216       1\n",
       "3                                      [o_organic_app]         51798       1\n",
       "4                                       [partnerships]         51138       1\n",
       "..                                                 ...           ...     ...\n",
       "478           [direct, o_paid_affiliate, partnerships]             1       3\n",
       "479  [direct, o_organic_referral, o_paid_affiliate,...             1       4\n",
       "480       [o_organic_app, o_paid_social, partnerships]             1       3\n",
       "481  [o_organic_direct, o_organic_invite, o_organic...             1       6\n",
       "573  [o_organic_null, o_organic_referral, o_paid_af...             1       5\n",
       "\n",
       "[574 rows x 3 columns]"
      ]
     },
     "execution_count": 105,
     "metadata": {},
     "output_type": "execute_result"
    }
   ],
   "source": [
    "journey_kyc_nr.sort_values('nr_merchants', ascending=False)"
   ]
  },
  {
   "cell_type": "code",
   "execution_count": 101,
   "metadata": {},
   "outputs": [
    {
     "data": {
      "text/plain": [
       "length\n",
       "1    531371\n",
       "2     96152\n",
       "3     21164\n",
       "4      3513\n",
       "5       500\n",
       "6        59\n",
       "7         8\n",
       "8         2\n",
       "Name: nr_merchants, dtype: int64"
      ]
     },
     "execution_count": 101,
     "metadata": {},
     "output_type": "execute_result"
    }
   ],
   "source": [
    "journey_kyc_nr['length'] = journey_kyc_nr['journey'].apply(len)\n",
    "journey_kyc_nr.groupby('length')['nr_merchants'].sum()"
   ]
  },
  {
   "cell_type": "markdown",
   "metadata": {},
   "source": [
    "**Expected: Shapley value model for KYC will be similar to the last touch point model for KYC**"
   ]
  },
  {
   "cell_type": "markdown",
   "metadata": {},
   "source": [
    "#### Europe: KYC accepted"
   ]
  },
  {
   "cell_type": "code",
   "execution_count": 111,
   "metadata": {},
   "outputs": [],
   "source": [
    "country_europe = ['GB', 'SE', 'DE', 'NL', 'NO', 'FR', 'FI', 'DK', 'ES', 'IT']"
   ]
  },
  {
   "cell_type": "code",
   "execution_count": 124,
   "metadata": {},
   "outputs": [],
   "source": [
    "uuid_europe = list(df_kyc_accepted[df_kyc_accepted['country_id'].isin(country_europe)]['organization_uuid'])\n",
    "journey_kyc_europe = journey_kyc[journey_kyc.index.isin(uuid_europe)]"
   ]
  },
  {
   "cell_type": "code",
   "execution_count": 126,
   "metadata": {},
   "outputs": [
    {
     "data": {
      "text/html": [
       "<div>\n",
       "<style scoped>\n",
       "    .dataframe tbody tr th:only-of-type {\n",
       "        vertical-align: middle;\n",
       "    }\n",
       "\n",
       "    .dataframe tbody tr th {\n",
       "        vertical-align: top;\n",
       "    }\n",
       "\n",
       "    .dataframe thead th {\n",
       "        text-align: right;\n",
       "    }\n",
       "</style>\n",
       "<table border=\"1\" class=\"dataframe\">\n",
       "  <thead>\n",
       "    <tr style=\"text-align: right;\">\n",
       "      <th></th>\n",
       "      <th>journey</th>\n",
       "      <th>nr_merchants</th>\n",
       "    </tr>\n",
       "  </thead>\n",
       "  <tbody>\n",
       "    <tr>\n",
       "      <td>0</td>\n",
       "      <td>[o_paid_sem]</td>\n",
       "      <td>124108</td>\n",
       "    </tr>\n",
       "    <tr>\n",
       "      <td>1</td>\n",
       "      <td>[o_organic_seo]</td>\n",
       "      <td>43064</td>\n",
       "    </tr>\n",
       "    <tr>\n",
       "      <td>2</td>\n",
       "      <td>[o_organic_direct]</td>\n",
       "      <td>37429</td>\n",
       "    </tr>\n",
       "    <tr>\n",
       "      <td>3</td>\n",
       "      <td>[o_paid_affiliate]</td>\n",
       "      <td>28123</td>\n",
       "    </tr>\n",
       "    <tr>\n",
       "      <td>4</td>\n",
       "      <td>[o_organic_app]</td>\n",
       "      <td>23805</td>\n",
       "    </tr>\n",
       "    <tr>\n",
       "      <td>5</td>\n",
       "      <td>[o_organic_seo, o_paid_sem]</td>\n",
       "      <td>21665</td>\n",
       "    </tr>\n",
       "    <tr>\n",
       "      <td>6</td>\n",
       "      <td>[o_organic_null]</td>\n",
       "      <td>18451</td>\n",
       "    </tr>\n",
       "    <tr>\n",
       "      <td>7</td>\n",
       "      <td>[o_paid_affiliate, o_paid_sem]</td>\n",
       "      <td>14322</td>\n",
       "    </tr>\n",
       "    <tr>\n",
       "      <td>8</td>\n",
       "      <td>[o_organic_direct, o_paid_sem]</td>\n",
       "      <td>6347</td>\n",
       "    </tr>\n",
       "    <tr>\n",
       "      <td>9</td>\n",
       "      <td>[o_paid_social]</td>\n",
       "      <td>6317</td>\n",
       "    </tr>\n",
       "  </tbody>\n",
       "</table>\n",
       "</div>"
      ],
      "text/plain": [
       "                          journey  nr_merchants\n",
       "0                    [o_paid_sem]        124108\n",
       "1                 [o_organic_seo]         43064\n",
       "2              [o_organic_direct]         37429\n",
       "3              [o_paid_affiliate]         28123\n",
       "4                 [o_organic_app]         23805\n",
       "5     [o_organic_seo, o_paid_sem]         21665\n",
       "6                [o_organic_null]         18451\n",
       "7  [o_paid_affiliate, o_paid_sem]         14322\n",
       "8  [o_organic_direct, o_paid_sem]          6347\n",
       "9                 [o_paid_social]          6317"
      ]
     },
     "execution_count": 126,
     "metadata": {},
     "output_type": "execute_result"
    }
   ],
   "source": [
    "journey_kyc_europe_nr = pd.DataFrame(journey_kyc_europe['traffic_source_unique'].value_counts()).reset_index()\n",
    "journey_kyc_europe_nr.rename(columns={'index':'journey','traffic_source_unique':'nr_merchants'}, inplace=True)\n",
    "journey_kyc_europe_nr.head(10)"
   ]
  },
  {
   "cell_type": "code",
   "execution_count": 140,
   "metadata": {},
   "outputs": [],
   "source": [
    "journey_kyc_europe_nr['social'] = [1 if 'o_paid_social' in journey_kyc_europe_nr['journey'].iloc[i] else 0 for i in range(0,journey_kyc_europe_nr.shape[0])]\n",
    "journey_kyc_europe_nr['sem'] = [1 if 'o_paid_sem' in journey_kyc_europe_nr['journey'].iloc[i] else 0 for i in range(0,journey_kyc_europe_nr.shape[0])]\n",
    "journey_kyc_europe_nr['seo'] = [1 if 'o_organic_seo' in journey_kyc_europe_nr['journey'].iloc[i] else 0 for i in range(0,journey_kyc_europe_nr.shape[0])]\n",
    "journey_kyc_europe_nr['direct'] = [1 if 'o_organic_direct' in journey_kyc_europe_nr['journey'].iloc[i] else 0 for i in range(0,journey_kyc_europe_nr.shape[0])]\n",
    "\n",
    "#[f(x) if condition else g(x) for x in sequence]"
   ]
  },
  {
   "cell_type": "code",
   "execution_count": 138,
   "metadata": {},
   "outputs": [
    {
     "data": {
      "text/plain": [
       "13905"
      ]
     },
     "execution_count": 138,
     "metadata": {},
     "output_type": "execute_result"
    }
   ],
   "source": [
    "journey_kyc_europe_nr[journey_kyc_europe_nr['social'] == 1]['nr_merchants'].sum()"
   ]
  },
  {
   "cell_type": "code",
   "execution_count": 141,
   "metadata": {},
   "outputs": [
    {
     "data": {
      "text/plain": [
       "194013"
      ]
     },
     "execution_count": 141,
     "metadata": {},
     "output_type": "execute_result"
    }
   ],
   "source": [
    "journey_kyc_europe_nr[journey_kyc_europe_nr['sem'] == 1]['nr_merchants'].sum()"
   ]
  },
  {
   "cell_type": "code",
   "execution_count": 142,
   "metadata": {},
   "outputs": [
    {
     "data": {
      "text/plain": [
       "90885"
      ]
     },
     "execution_count": 142,
     "metadata": {},
     "output_type": "execute_result"
    }
   ],
   "source": [
    "journey_kyc_europe_nr[journey_kyc_europe_nr['seo'] == 1]['nr_merchants'].sum()"
   ]
  },
  {
   "cell_type": "code",
   "execution_count": 143,
   "metadata": {},
   "outputs": [
    {
     "data": {
      "text/plain": [
       "59463"
      ]
     },
     "execution_count": 143,
     "metadata": {},
     "output_type": "execute_result"
    }
   ],
   "source": [
    "journey_kyc_europe_nr[journey_kyc_europe_nr['direct'] == 1]['nr_merchants'].sum()"
   ]
  },
  {
   "cell_type": "code",
   "execution_count": null,
   "metadata": {},
   "outputs": [],
   "source": []
  }
 ],
 "metadata": {
  "kernelspec": {
   "display_name": "Python 3",
   "language": "python",
   "name": "python3"
  },
  "language_info": {
   "codemirror_mode": {
    "name": "ipython",
    "version": 3
   },
   "file_extension": ".py",
   "mimetype": "text/x-python",
   "name": "python",
   "nbconvert_exporter": "python",
   "pygments_lexer": "ipython3",
   "version": "3.7.3"
  },
  "toc": {
   "base_numbering": 1,
   "nav_menu": {},
   "number_sections": true,
   "sideBar": true,
   "skip_h1_title": false,
   "title_cell": "Table of Contents",
   "title_sidebar": "Contents",
   "toc_cell": false,
   "toc_position": {
    "height": "calc(100% - 180px)",
    "left": "10px",
    "top": "150px",
    "width": "336px"
   },
   "toc_section_display": true,
   "toc_window_display": true
  }
 },
 "nbformat": 4,
 "nbformat_minor": 2
}
