{
 "cells": [
  {
   "cell_type": "code",
   "execution_count": 1,
   "metadata": {},
   "outputs": [],
   "source": [
    "import numpy as np\n",
    "import pandas as pd\n",
    "import matplotlib.pyplot as plt\n",
    "import seaborn as sns\n",
    "\n",
    "%load_ext google.cloud.bigquery"
   ]
  },
  {
   "cell_type": "code",
   "execution_count": 2,
   "metadata": {},
   "outputs": [],
   "source": [
    "%%bigquery organization_customer\n",
    "\n",
    "SELECT \n",
    "    organization_uuid,\n",
    "    organization_created,\n",
    "    first_non_minimal_signup_status_assigned,\n",
    "    organization_accepted,\n",
    "    country_id\n",
    "FROM `izettle-dp-pipeline-prod.legacy_views.organization_customer`\n",
    "WHERE organization_created >= '2017-09-01'"
   ]
  },
  {
   "cell_type": "code",
   "execution_count": 3,
   "metadata": {},
   "outputs": [],
   "source": [
    "%%bigquery organization_atc\n",
    "\n",
    "SELECT\n",
    "    DISTINCT organization_uuid, activation_date_1, activation_date_10\n",
    "FROM `izettle-dp-pipeline-prod.legacy_views.merchant_entity`\n",
    "WHERE organization_created >= '2017-09-01'"
   ]
  },
  {
   "cell_type": "markdown",
   "metadata": {},
   "source": [
    "# 1. REG AND KYC"
   ]
  },
  {
   "cell_type": "code",
   "execution_count": 3,
   "metadata": {},
   "outputs": [],
   "source": [
    "reg = organization_customer.shape[0]"
   ]
  },
  {
   "cell_type": "code",
   "execution_count": 4,
   "metadata": {
    "cell_style": "split"
   },
   "outputs": [
    {
     "data": {
      "text/html": [
       "<div>\n",
       "<style scoped>\n",
       "    .dataframe tbody tr th:only-of-type {\n",
       "        vertical-align: middle;\n",
       "    }\n",
       "\n",
       "    .dataframe tbody tr th {\n",
       "        vertical-align: top;\n",
       "    }\n",
       "\n",
       "    .dataframe thead th {\n",
       "        text-align: right;\n",
       "    }\n",
       "</style>\n",
       "<table border=\"1\" class=\"dataframe\">\n",
       "  <thead>\n",
       "    <tr style=\"text-align: right;\">\n",
       "      <th></th>\n",
       "      <th>organization_uuid</th>\n",
       "      <th>organization_created</th>\n",
       "      <th>first_non_minimal_signup_status_assigned</th>\n",
       "      <th>organization_accepted</th>\n",
       "      <th>country_id</th>\n",
       "    </tr>\n",
       "  </thead>\n",
       "  <tbody>\n",
       "    <tr>\n",
       "      <td>0</td>\n",
       "      <td>b6f25bd0-9d3a-11e7-8e4e-b28e03578bd2</td>\n",
       "      <td>2017-09-19 13:01:56.109000+00:00</td>\n",
       "      <td>2017-09-19 13:05:36.617000+00:00</td>\n",
       "      <td>2017-09-19 13:05:36.617000+00:00</td>\n",
       "      <td>BR</td>\n",
       "    </tr>\n",
       "    <tr>\n",
       "      <td>1</td>\n",
       "      <td>995ee640-97ce-11e7-b8d0-9d5be70d83da</td>\n",
       "      <td>2017-09-12 15:25:25.028000+00:00</td>\n",
       "      <td>2017-09-12 15:29:09.501000+00:00</td>\n",
       "      <td>2017-09-12 15:29:09.501000+00:00</td>\n",
       "      <td>NL</td>\n",
       "    </tr>\n",
       "    <tr>\n",
       "      <td>2</td>\n",
       "      <td>3a59fe50-92e2-11e7-a763-c827d470627e</td>\n",
       "      <td>2017-09-06 09:03:19.733000+00:00</td>\n",
       "      <td>2017-09-06 09:25:41.420000+00:00</td>\n",
       "      <td>2017-09-06 09:25:41.420000+00:00</td>\n",
       "      <td>NL</td>\n",
       "    </tr>\n",
       "    <tr>\n",
       "      <td>3</td>\n",
       "      <td>a19fbab0-a22c-11e7-bfac-2100b16e74eb</td>\n",
       "      <td>2017-09-25 20:03:43.195000+00:00</td>\n",
       "      <td>2017-09-25 20:08:10.453000+00:00</td>\n",
       "      <td>2017-09-25 20:08:10.453000+00:00</td>\n",
       "      <td>IT</td>\n",
       "    </tr>\n",
       "    <tr>\n",
       "      <td>4</td>\n",
       "      <td>6d981d60-96fc-11e7-a4fd-bb3d52a2efc3</td>\n",
       "      <td>2017-09-11 14:20:57.270000+00:00</td>\n",
       "      <td>2017-09-11 14:27:03.183000+00:00</td>\n",
       "      <td>2017-09-11 14:27:03.183000+00:00</td>\n",
       "      <td>NL</td>\n",
       "    </tr>\n",
       "  </tbody>\n",
       "</table>\n",
       "</div>"
      ],
      "text/plain": [
       "                      organization_uuid             organization_created  \\\n",
       "0  b6f25bd0-9d3a-11e7-8e4e-b28e03578bd2 2017-09-19 13:01:56.109000+00:00   \n",
       "1  995ee640-97ce-11e7-b8d0-9d5be70d83da 2017-09-12 15:25:25.028000+00:00   \n",
       "2  3a59fe50-92e2-11e7-a763-c827d470627e 2017-09-06 09:03:19.733000+00:00   \n",
       "3  a19fbab0-a22c-11e7-bfac-2100b16e74eb 2017-09-25 20:03:43.195000+00:00   \n",
       "4  6d981d60-96fc-11e7-a4fd-bb3d52a2efc3 2017-09-11 14:20:57.270000+00:00   \n",
       "\n",
       "  first_non_minimal_signup_status_assigned             organization_accepted  \\\n",
       "0         2017-09-19 13:05:36.617000+00:00  2017-09-19 13:05:36.617000+00:00   \n",
       "1         2017-09-12 15:29:09.501000+00:00  2017-09-12 15:29:09.501000+00:00   \n",
       "2         2017-09-06 09:25:41.420000+00:00  2017-09-06 09:25:41.420000+00:00   \n",
       "3         2017-09-25 20:08:10.453000+00:00  2017-09-25 20:08:10.453000+00:00   \n",
       "4         2017-09-11 14:27:03.183000+00:00  2017-09-11 14:27:03.183000+00:00   \n",
       "\n",
       "  country_id  \n",
       "0         BR  \n",
       "1         NL  \n",
       "2         NL  \n",
       "3         IT  \n",
       "4         NL  "
      ]
     },
     "execution_count": 4,
     "metadata": {},
     "output_type": "execute_result"
    }
   ],
   "source": [
    "organization_customer.head()"
   ]
  },
  {
   "cell_type": "code",
   "execution_count": 5,
   "metadata": {
    "cell_style": "split"
   },
   "outputs": [
    {
     "name": "stdout",
     "output_type": "stream",
     "text": [
      "<class 'pandas.core.frame.DataFrame'>\n",
      "RangeIndex: 1117782 entries, 0 to 1117781\n",
      "Data columns (total 5 columns):\n",
      "organization_uuid                           1117782 non-null object\n",
      "organization_created                        1117782 non-null datetime64[ns, UTC]\n",
      "first_non_minimal_signup_status_assigned    641572 non-null datetime64[ns, UTC]\n",
      "organization_accepted                       599454 non-null object\n",
      "country_id                                  1117782 non-null object\n",
      "dtypes: datetime64[ns, UTC](2), object(3)\n",
      "memory usage: 42.6+ MB\n"
     ]
    }
   ],
   "source": [
    "organization_customer.info()"
   ]
  },
  {
   "cell_type": "code",
   "execution_count": 6,
   "metadata": {},
   "outputs": [],
   "source": [
    "kyc_fill = organization_customer[~organization_customer.first_non_minimal_signup_status_assigned.isna()].shape[0]"
   ]
  },
  {
   "cell_type": "code",
   "execution_count": 7,
   "metadata": {},
   "outputs": [],
   "source": [
    "kyc_accepted = organization_customer[~organization_customer.organization_accepted.isna()].shape[0]"
   ]
  },
  {
   "cell_type": "code",
   "execution_count": 8,
   "metadata": {},
   "outputs": [],
   "source": [
    "df = pd.DataFrame({'reg':[reg],'kyc_fill':[kyc_fill],'kyc_accepted':[kyc_accepted]})"
   ]
  },
  {
   "cell_type": "code",
   "execution_count": 9,
   "metadata": {},
   "outputs": [],
   "source": [
    "df_t = df.transpose()\n",
    "df_t.rename(columns = {0:'nr_merchants'}, inplace = True)\n"
   ]
  },
  {
   "cell_type": "code",
   "execution_count": 10,
   "metadata": {},
   "outputs": [
    {
     "data": {
      "text/html": [
       "<div>\n",
       "<style scoped>\n",
       "    .dataframe tbody tr th:only-of-type {\n",
       "        vertical-align: middle;\n",
       "    }\n",
       "\n",
       "    .dataframe tbody tr th {\n",
       "        vertical-align: top;\n",
       "    }\n",
       "\n",
       "    .dataframe thead th {\n",
       "        text-align: right;\n",
       "    }\n",
       "</style>\n",
       "<table border=\"1\" class=\"dataframe\">\n",
       "  <thead>\n",
       "    <tr style=\"text-align: right;\">\n",
       "      <th></th>\n",
       "      <th>nr_merchants</th>\n",
       "      <th>per</th>\n",
       "    </tr>\n",
       "  </thead>\n",
       "  <tbody>\n",
       "    <tr>\n",
       "      <td>reg</td>\n",
       "      <td>1117782</td>\n",
       "      <td>100.00</td>\n",
       "    </tr>\n",
       "    <tr>\n",
       "      <td>kyc_fill</td>\n",
       "      <td>641572</td>\n",
       "      <td>57.40</td>\n",
       "    </tr>\n",
       "    <tr>\n",
       "      <td>kyc_accepted</td>\n",
       "      <td>599454</td>\n",
       "      <td>53.63</td>\n",
       "    </tr>\n",
       "  </tbody>\n",
       "</table>\n",
       "</div>"
      ],
      "text/plain": [
       "              nr_merchants     per\n",
       "reg                1117782  100.00\n",
       "kyc_fill            641572   57.40\n",
       "kyc_accepted        599454   53.63"
      ]
     },
     "execution_count": 10,
     "metadata": {},
     "output_type": "execute_result"
    }
   ],
   "source": [
    "df_t['per'] = round(df_t['nr_merchants']*100/reg,2)\n",
    "df_t"
   ]
  },
  {
   "cell_type": "markdown",
   "metadata": {},
   "source": [
    "# 2. Time from REG to KYC filling"
   ]
  },
  {
   "cell_type": "code",
   "execution_count": 11,
   "metadata": {},
   "outputs": [],
   "source": [
    "df_kyc = organization_customer[~organization_customer.first_non_minimal_signup_status_assigned.isna()]"
   ]
  },
  {
   "cell_type": "code",
   "execution_count": 12,
   "metadata": {},
   "outputs": [
    {
     "name": "stderr",
     "output_type": "stream",
     "text": [
      "//anaconda3/lib/python3.7/site-packages/ipykernel_launcher.py:1: SettingWithCopyWarning: \n",
      "A value is trying to be set on a copy of a slice from a DataFrame.\n",
      "Try using .loc[row_indexer,col_indexer] = value instead\n",
      "\n",
      "See the caveats in the documentation: http://pandas.pydata.org/pandas-docs/stable/user_guide/indexing.html#returning-a-view-versus-a-copy\n",
      "  \"\"\"Entry point for launching an IPython kernel.\n",
      "//anaconda3/lib/python3.7/site-packages/ipykernel_launcher.py:2: SettingWithCopyWarning: \n",
      "A value is trying to be set on a copy of a slice from a DataFrame.\n",
      "Try using .loc[row_indexer,col_indexer] = value instead\n",
      "\n",
      "See the caveats in the documentation: http://pandas.pydata.org/pandas-docs/stable/user_guide/indexing.html#returning-a-view-versus-a-copy\n",
      "  \n"
     ]
    }
   ],
   "source": [
    "df_kyc['time_diff'] = df_kyc['first_non_minimal_signup_status_assigned'] - df_kyc['organization_created']\n",
    "df_kyc['days_diff'] = df_kyc['time_diff'].dt.days"
   ]
  },
  {
   "cell_type": "code",
   "execution_count": 13,
   "metadata": {},
   "outputs": [
    {
     "data": {
      "text/html": [
       "<div>\n",
       "<style scoped>\n",
       "    .dataframe tbody tr th:only-of-type {\n",
       "        vertical-align: middle;\n",
       "    }\n",
       "\n",
       "    .dataframe tbody tr th {\n",
       "        vertical-align: top;\n",
       "    }\n",
       "\n",
       "    .dataframe thead th {\n",
       "        text-align: right;\n",
       "    }\n",
       "</style>\n",
       "<table border=\"1\" class=\"dataframe\">\n",
       "  <thead>\n",
       "    <tr style=\"text-align: right;\">\n",
       "      <th></th>\n",
       "      <th>organization_uuid</th>\n",
       "      <th>organization_created</th>\n",
       "      <th>first_non_minimal_signup_status_assigned</th>\n",
       "      <th>organization_accepted</th>\n",
       "      <th>country_id</th>\n",
       "      <th>time_diff</th>\n",
       "      <th>days_diff</th>\n",
       "    </tr>\n",
       "  </thead>\n",
       "  <tbody>\n",
       "    <tr>\n",
       "      <td>0</td>\n",
       "      <td>b6f25bd0-9d3a-11e7-8e4e-b28e03578bd2</td>\n",
       "      <td>2017-09-19 13:01:56.109000+00:00</td>\n",
       "      <td>2017-09-19 13:05:36.617000+00:00</td>\n",
       "      <td>2017-09-19 13:05:36.617000+00:00</td>\n",
       "      <td>BR</td>\n",
       "      <td>00:03:40.508000</td>\n",
       "      <td>0</td>\n",
       "    </tr>\n",
       "    <tr>\n",
       "      <td>1</td>\n",
       "      <td>995ee640-97ce-11e7-b8d0-9d5be70d83da</td>\n",
       "      <td>2017-09-12 15:25:25.028000+00:00</td>\n",
       "      <td>2017-09-12 15:29:09.501000+00:00</td>\n",
       "      <td>2017-09-12 15:29:09.501000+00:00</td>\n",
       "      <td>NL</td>\n",
       "      <td>00:03:44.473000</td>\n",
       "      <td>0</td>\n",
       "    </tr>\n",
       "    <tr>\n",
       "      <td>2</td>\n",
       "      <td>3a59fe50-92e2-11e7-a763-c827d470627e</td>\n",
       "      <td>2017-09-06 09:03:19.733000+00:00</td>\n",
       "      <td>2017-09-06 09:25:41.420000+00:00</td>\n",
       "      <td>2017-09-06 09:25:41.420000+00:00</td>\n",
       "      <td>NL</td>\n",
       "      <td>00:22:21.687000</td>\n",
       "      <td>0</td>\n",
       "    </tr>\n",
       "    <tr>\n",
       "      <td>3</td>\n",
       "      <td>a19fbab0-a22c-11e7-bfac-2100b16e74eb</td>\n",
       "      <td>2017-09-25 20:03:43.195000+00:00</td>\n",
       "      <td>2017-09-25 20:08:10.453000+00:00</td>\n",
       "      <td>2017-09-25 20:08:10.453000+00:00</td>\n",
       "      <td>IT</td>\n",
       "      <td>00:04:27.258000</td>\n",
       "      <td>0</td>\n",
       "    </tr>\n",
       "    <tr>\n",
       "      <td>4</td>\n",
       "      <td>6d981d60-96fc-11e7-a4fd-bb3d52a2efc3</td>\n",
       "      <td>2017-09-11 14:20:57.270000+00:00</td>\n",
       "      <td>2017-09-11 14:27:03.183000+00:00</td>\n",
       "      <td>2017-09-11 14:27:03.183000+00:00</td>\n",
       "      <td>NL</td>\n",
       "      <td>00:06:05.913000</td>\n",
       "      <td>0</td>\n",
       "    </tr>\n",
       "  </tbody>\n",
       "</table>\n",
       "</div>"
      ],
      "text/plain": [
       "                      organization_uuid             organization_created  \\\n",
       "0  b6f25bd0-9d3a-11e7-8e4e-b28e03578bd2 2017-09-19 13:01:56.109000+00:00   \n",
       "1  995ee640-97ce-11e7-b8d0-9d5be70d83da 2017-09-12 15:25:25.028000+00:00   \n",
       "2  3a59fe50-92e2-11e7-a763-c827d470627e 2017-09-06 09:03:19.733000+00:00   \n",
       "3  a19fbab0-a22c-11e7-bfac-2100b16e74eb 2017-09-25 20:03:43.195000+00:00   \n",
       "4  6d981d60-96fc-11e7-a4fd-bb3d52a2efc3 2017-09-11 14:20:57.270000+00:00   \n",
       "\n",
       "  first_non_minimal_signup_status_assigned             organization_accepted  \\\n",
       "0         2017-09-19 13:05:36.617000+00:00  2017-09-19 13:05:36.617000+00:00   \n",
       "1         2017-09-12 15:29:09.501000+00:00  2017-09-12 15:29:09.501000+00:00   \n",
       "2         2017-09-06 09:25:41.420000+00:00  2017-09-06 09:25:41.420000+00:00   \n",
       "3         2017-09-25 20:08:10.453000+00:00  2017-09-25 20:08:10.453000+00:00   \n",
       "4         2017-09-11 14:27:03.183000+00:00  2017-09-11 14:27:03.183000+00:00   \n",
       "\n",
       "  country_id       time_diff  days_diff  \n",
       "0         BR 00:03:40.508000          0  \n",
       "1         NL 00:03:44.473000          0  \n",
       "2         NL 00:22:21.687000          0  \n",
       "3         IT 00:04:27.258000          0  \n",
       "4         NL 00:06:05.913000          0  "
      ]
     },
     "execution_count": 13,
     "metadata": {},
     "output_type": "execute_result"
    }
   ],
   "source": [
    "df_kyc.head()"
   ]
  },
  {
   "cell_type": "code",
   "execution_count": 29,
   "metadata": {},
   "outputs": [
    {
     "data": {
      "text/html": [
       "<div>\n",
       "<style scoped>\n",
       "    .dataframe tbody tr th:only-of-type {\n",
       "        vertical-align: middle;\n",
       "    }\n",
       "\n",
       "    .dataframe tbody tr th {\n",
       "        vertical-align: top;\n",
       "    }\n",
       "\n",
       "    .dataframe thead th {\n",
       "        text-align: right;\n",
       "    }\n",
       "</style>\n",
       "<table border=\"1\" class=\"dataframe\">\n",
       "  <thead>\n",
       "    <tr style=\"text-align: right;\">\n",
       "      <th></th>\n",
       "      <th>organization_uuid</th>\n",
       "      <th>organization_created</th>\n",
       "      <th>first_non_minimal_signup_status_assigned</th>\n",
       "      <th>organization_accepted</th>\n",
       "      <th>country_id</th>\n",
       "      <th>time_diff</th>\n",
       "      <th>days_diff</th>\n",
       "    </tr>\n",
       "  </thead>\n",
       "  <tbody>\n",
       "    <tr>\n",
       "      <td>0</td>\n",
       "      <td>b6f25bd0-9d3a-11e7-8e4e-b28e03578bd2</td>\n",
       "      <td>2017-09-19 13:01:56.109000+00:00</td>\n",
       "      <td>2017-09-19 13:05:36.617000+00:00</td>\n",
       "      <td>2017-09-19 13:05:36.617000+00:00</td>\n",
       "      <td>BR</td>\n",
       "      <td>00:03:40.508000</td>\n",
       "      <td>0</td>\n",
       "    </tr>\n",
       "    <tr>\n",
       "      <td>1</td>\n",
       "      <td>995ee640-97ce-11e7-b8d0-9d5be70d83da</td>\n",
       "      <td>2017-09-12 15:25:25.028000+00:00</td>\n",
       "      <td>2017-09-12 15:29:09.501000+00:00</td>\n",
       "      <td>2017-09-12 15:29:09.501000+00:00</td>\n",
       "      <td>NL</td>\n",
       "      <td>00:03:44.473000</td>\n",
       "      <td>0</td>\n",
       "    </tr>\n",
       "    <tr>\n",
       "      <td>2</td>\n",
       "      <td>3a59fe50-92e2-11e7-a763-c827d470627e</td>\n",
       "      <td>2017-09-06 09:03:19.733000+00:00</td>\n",
       "      <td>2017-09-06 09:25:41.420000+00:00</td>\n",
       "      <td>2017-09-06 09:25:41.420000+00:00</td>\n",
       "      <td>NL</td>\n",
       "      <td>00:22:21.687000</td>\n",
       "      <td>0</td>\n",
       "    </tr>\n",
       "    <tr>\n",
       "      <td>3</td>\n",
       "      <td>a19fbab0-a22c-11e7-bfac-2100b16e74eb</td>\n",
       "      <td>2017-09-25 20:03:43.195000+00:00</td>\n",
       "      <td>2017-09-25 20:08:10.453000+00:00</td>\n",
       "      <td>2017-09-25 20:08:10.453000+00:00</td>\n",
       "      <td>IT</td>\n",
       "      <td>00:04:27.258000</td>\n",
       "      <td>0</td>\n",
       "    </tr>\n",
       "    <tr>\n",
       "      <td>4</td>\n",
       "      <td>6d981d60-96fc-11e7-a4fd-bb3d52a2efc3</td>\n",
       "      <td>2017-09-11 14:20:57.270000+00:00</td>\n",
       "      <td>2017-09-11 14:27:03.183000+00:00</td>\n",
       "      <td>2017-09-11 14:27:03.183000+00:00</td>\n",
       "      <td>NL</td>\n",
       "      <td>00:06:05.913000</td>\n",
       "      <td>0</td>\n",
       "    </tr>\n",
       "    <tr>\n",
       "      <td>...</td>\n",
       "      <td>...</td>\n",
       "      <td>...</td>\n",
       "      <td>...</td>\n",
       "      <td>...</td>\n",
       "      <td>...</td>\n",
       "      <td>...</td>\n",
       "      <td>...</td>\n",
       "    </tr>\n",
       "    <tr>\n",
       "      <td>1117639</td>\n",
       "      <td>2cd60a4c-eea4-11e9-9dd5-40e5dafa12f7</td>\n",
       "      <td>2019-10-14 17:00:50.578000+00:00</td>\n",
       "      <td>2019-10-14 17:05:08.557000+00:00</td>\n",
       "      <td>None</td>\n",
       "      <td>FR</td>\n",
       "      <td>00:04:17.979000</td>\n",
       "      <td>0</td>\n",
       "    </tr>\n",
       "    <tr>\n",
       "      <td>1117650</td>\n",
       "      <td>47cecaae-ee7d-11e9-ade1-11de3e462553</td>\n",
       "      <td>2019-10-14 12:22:25.456000+00:00</td>\n",
       "      <td>2019-10-14 12:24:42.389000+00:00</td>\n",
       "      <td>None</td>\n",
       "      <td>FR</td>\n",
       "      <td>00:02:16.933000</td>\n",
       "      <td>0</td>\n",
       "    </tr>\n",
       "    <tr>\n",
       "      <td>1117668</td>\n",
       "      <td>71f3b9f6-e81b-11e9-a84a-eb3e4860724a</td>\n",
       "      <td>2019-10-06 09:26:58.507000+00:00</td>\n",
       "      <td>2019-10-06 09:30:45.517000+00:00</td>\n",
       "      <td>None</td>\n",
       "      <td>FR</td>\n",
       "      <td>00:03:47.010000</td>\n",
       "      <td>0</td>\n",
       "    </tr>\n",
       "    <tr>\n",
       "      <td>1117680</td>\n",
       "      <td>88a792e2-eaa2-11e9-b363-4af31ab07e48</td>\n",
       "      <td>2019-10-09 14:39:00.979000+00:00</td>\n",
       "      <td>2019-10-09 14:59:28.050000+00:00</td>\n",
       "      <td>None</td>\n",
       "      <td>DE</td>\n",
       "      <td>00:20:27.071000</td>\n",
       "      <td>0</td>\n",
       "    </tr>\n",
       "    <tr>\n",
       "      <td>1117765</td>\n",
       "      <td>de5d6360-e9ad-11e9-9674-6a22cf1209d6</td>\n",
       "      <td>2019-10-08 09:27:38.078000+00:00</td>\n",
       "      <td>2019-10-08 09:35:59.841000+00:00</td>\n",
       "      <td>None</td>\n",
       "      <td>DK</td>\n",
       "      <td>00:08:21.763000</td>\n",
       "      <td>0</td>\n",
       "    </tr>\n",
       "  </tbody>\n",
       "</table>\n",
       "<p>566362 rows × 7 columns</p>\n",
       "</div>"
      ],
      "text/plain": [
       "                            organization_uuid  \\\n",
       "0        b6f25bd0-9d3a-11e7-8e4e-b28e03578bd2   \n",
       "1        995ee640-97ce-11e7-b8d0-9d5be70d83da   \n",
       "2        3a59fe50-92e2-11e7-a763-c827d470627e   \n",
       "3        a19fbab0-a22c-11e7-bfac-2100b16e74eb   \n",
       "4        6d981d60-96fc-11e7-a4fd-bb3d52a2efc3   \n",
       "...                                       ...   \n",
       "1117639  2cd60a4c-eea4-11e9-9dd5-40e5dafa12f7   \n",
       "1117650  47cecaae-ee7d-11e9-ade1-11de3e462553   \n",
       "1117668  71f3b9f6-e81b-11e9-a84a-eb3e4860724a   \n",
       "1117680  88a792e2-eaa2-11e9-b363-4af31ab07e48   \n",
       "1117765  de5d6360-e9ad-11e9-9674-6a22cf1209d6   \n",
       "\n",
       "                    organization_created  \\\n",
       "0       2017-09-19 13:01:56.109000+00:00   \n",
       "1       2017-09-12 15:25:25.028000+00:00   \n",
       "2       2017-09-06 09:03:19.733000+00:00   \n",
       "3       2017-09-25 20:03:43.195000+00:00   \n",
       "4       2017-09-11 14:20:57.270000+00:00   \n",
       "...                                  ...   \n",
       "1117639 2019-10-14 17:00:50.578000+00:00   \n",
       "1117650 2019-10-14 12:22:25.456000+00:00   \n",
       "1117668 2019-10-06 09:26:58.507000+00:00   \n",
       "1117680 2019-10-09 14:39:00.979000+00:00   \n",
       "1117765 2019-10-08 09:27:38.078000+00:00   \n",
       "\n",
       "        first_non_minimal_signup_status_assigned  \\\n",
       "0               2017-09-19 13:05:36.617000+00:00   \n",
       "1               2017-09-12 15:29:09.501000+00:00   \n",
       "2               2017-09-06 09:25:41.420000+00:00   \n",
       "3               2017-09-25 20:08:10.453000+00:00   \n",
       "4               2017-09-11 14:27:03.183000+00:00   \n",
       "...                                          ...   \n",
       "1117639         2019-10-14 17:05:08.557000+00:00   \n",
       "1117650         2019-10-14 12:24:42.389000+00:00   \n",
       "1117668         2019-10-06 09:30:45.517000+00:00   \n",
       "1117680         2019-10-09 14:59:28.050000+00:00   \n",
       "1117765         2019-10-08 09:35:59.841000+00:00   \n",
       "\n",
       "                    organization_accepted country_id       time_diff  \\\n",
       "0        2017-09-19 13:05:36.617000+00:00         BR 00:03:40.508000   \n",
       "1        2017-09-12 15:29:09.501000+00:00         NL 00:03:44.473000   \n",
       "2        2017-09-06 09:25:41.420000+00:00         NL 00:22:21.687000   \n",
       "3        2017-09-25 20:08:10.453000+00:00         IT 00:04:27.258000   \n",
       "4        2017-09-11 14:27:03.183000+00:00         NL 00:06:05.913000   \n",
       "...                                   ...        ...             ...   \n",
       "1117639                              None         FR 00:04:17.979000   \n",
       "1117650                              None         FR 00:02:16.933000   \n",
       "1117668                              None         FR 00:03:47.010000   \n",
       "1117680                              None         DE 00:20:27.071000   \n",
       "1117765                              None         DK 00:08:21.763000   \n",
       "\n",
       "         days_diff  \n",
       "0                0  \n",
       "1                0  \n",
       "2                0  \n",
       "3                0  \n",
       "4                0  \n",
       "...            ...  \n",
       "1117639          0  \n",
       "1117650          0  \n",
       "1117668          0  \n",
       "1117680          0  \n",
       "1117765          0  \n",
       "\n",
       "[566362 rows x 7 columns]"
      ]
     },
     "execution_count": 29,
     "metadata": {},
     "output_type": "execute_result"
    }
   ],
   "source": [
    "df_kyc[df_kyc['days_diff'] == 0]"
   ]
  },
  {
   "cell_type": "code",
   "execution_count": 14,
   "metadata": {},
   "outputs": [
    {
     "data": {
      "image/png": "[encoded data removed]",
      "text/plain": [
       "<Figure size 864x720 with 1 Axes>"
      ]
     },
     "metadata": {},
     "output_type": "display_data"
    }
   ],
   "source": [
    "plt.style.use('ggplot')\n",
    "df_kyc.days_diff.hist(bins = 40, log = True, figsize = (12,10),\n",
    "                     color = 'slateblue')\n",
    "plt.xlabel('Days')\n",
    "plt.title('Time from REG to KYC filling')\n",
    "plt.show()"
   ]
  },
  {
   "cell_type": "code",
   "execution_count": 20,
   "metadata": {},
   "outputs": [
    {
     "data": {
      "image/png": "[encoded data removed]",
      "text/plain": [
       "<Figure size 864x720 with 1 Axes>"
      ]
     },
     "metadata": {},
     "output_type": "display_data"
    }
   ],
   "source": [
    "plt.style.use('ggplot')\n",
    "df_kyc.days_diff.hist(bins = 800, log = True, figsize = (12,10),\n",
    "                     color = 'slateblue')\n",
    "plt.xlim(0,20)\n",
    "plt.xlabel('Days')\n",
    "plt.title('Time from REG to KYC filling')\n",
    "plt.show()"
   ]
  },
  {
   "cell_type": "markdown",
   "metadata": {},
   "source": [
    "- 88% of merchants filling KYC form within the day of REG\n",
    "- 90% of merchants filling KYC form within 1 day after REG\n",
    "- 97% of merchants filling KYC form within 1 month after REG"
   ]
  },
  {
   "cell_type": "code",
   "execution_count": 34,
   "metadata": {},
   "outputs": [
    {
     "data": {
      "text/plain": [
       "577816"
      ]
     },
     "execution_count": 34,
     "metadata": {},
     "output_type": "execute_result"
    }
   ],
   "source": [
    "df_kyc[df_kyc['days_diff'] <= 1].shape[0]"
   ]
  },
  {
   "cell_type": "code",
   "execution_count": 31,
   "metadata": {},
   "outputs": [
    {
     "data": {
      "text/plain": [
       "566362"
      ]
     },
     "execution_count": 31,
     "metadata": {},
     "output_type": "execute_result"
    }
   ],
   "source": [
    "df_kyc[df_kyc['days_diff'] == 0].shape[0]"
   ]
  },
  {
   "cell_type": "code",
   "execution_count": 36,
   "metadata": {},
   "outputs": [
    {
     "data": {
      "text/plain": [
       "622226"
      ]
     },
     "execution_count": 36,
     "metadata": {},
     "output_type": "execute_result"
    }
   ],
   "source": [
    "df_kyc[df_kyc['days_diff'] <= 30].shape[0]"
   ]
  },
  {
   "cell_type": "code",
   "execution_count": 37,
   "metadata": {},
   "outputs": [
    {
     "data": {
      "text/plain": [
       "0.9698459409076456"
      ]
     },
     "execution_count": 37,
     "metadata": {},
     "output_type": "execute_result"
    }
   ],
   "source": [
    "622226/df_kyc.shape[0]"
   ]
  },
  {
   "cell_type": "markdown",
   "metadata": {},
   "source": [
    "# 3. ACT1 and ACT10"
   ]
  },
  {
   "cell_type": "code",
   "execution_count": 20,
   "metadata": {
    "cell_style": "split"
   },
   "outputs": [
    {
     "data": {
      "text/html": [
       "<div>\n",
       "<style scoped>\n",
       "    .dataframe tbody tr th:only-of-type {\n",
       "        vertical-align: middle;\n",
       "    }\n",
       "\n",
       "    .dataframe tbody tr th {\n",
       "        vertical-align: top;\n",
       "    }\n",
       "\n",
       "    .dataframe thead th {\n",
       "        text-align: right;\n",
       "    }\n",
       "</style>\n",
       "<table border=\"1\" class=\"dataframe\">\n",
       "  <thead>\n",
       "    <tr style=\"text-align: right;\">\n",
       "      <th></th>\n",
       "      <th>organization_uuid</th>\n",
       "      <th>activation_date_1</th>\n",
       "      <th>activation_date_10</th>\n",
       "    </tr>\n",
       "  </thead>\n",
       "  <tbody>\n",
       "    <tr>\n",
       "      <td>0</td>\n",
       "      <td>b16b02b0-7ce7-11e8-9587-75fb4b5c9267</td>\n",
       "      <td>2018-07-17</td>\n",
       "      <td>2018-09-10</td>\n",
       "    </tr>\n",
       "    <tr>\n",
       "      <td>1</td>\n",
       "      <td>4fd57030-fa38-11e7-80be-c1101b5e2623</td>\n",
       "      <td>2018-01-15</td>\n",
       "      <td>2018-02-20</td>\n",
       "    </tr>\n",
       "    <tr>\n",
       "      <td>2</td>\n",
       "      <td>c8f07f30-97a2-11e7-9dcd-f28da440e39f</td>\n",
       "      <td>2017-09-19</td>\n",
       "      <td>2017-11-17</td>\n",
       "    </tr>\n",
       "    <tr>\n",
       "      <td>3</td>\n",
       "      <td>4a787160-c783-11e7-9c99-0b9614d19450</td>\n",
       "      <td>2017-11-29</td>\n",
       "      <td>2017-11-30</td>\n",
       "    </tr>\n",
       "    <tr>\n",
       "      <td>4</td>\n",
       "      <td>e6db70f0-00e2-11e8-aa72-9443b937c0c8</td>\n",
       "      <td>2018-04-13</td>\n",
       "      <td>2018-09-10</td>\n",
       "    </tr>\n",
       "  </tbody>\n",
       "</table>\n",
       "</div>"
      ],
      "text/plain": [
       "                      organization_uuid activation_date_1 activation_date_10\n",
       "0  b16b02b0-7ce7-11e8-9587-75fb4b5c9267        2018-07-17         2018-09-10\n",
       "1  4fd57030-fa38-11e7-80be-c1101b5e2623        2018-01-15         2018-02-20\n",
       "2  c8f07f30-97a2-11e7-9dcd-f28da440e39f        2017-09-19         2017-11-17\n",
       "3  4a787160-c783-11e7-9c99-0b9614d19450        2017-11-29         2017-11-30\n",
       "4  e6db70f0-00e2-11e8-aa72-9443b937c0c8        2018-04-13         2018-09-10"
      ]
     },
     "execution_count": 20,
     "metadata": {},
     "output_type": "execute_result"
    }
   ],
   "source": [
    "organization_atc.head()"
   ]
  },
  {
   "cell_type": "code",
   "execution_count": 21,
   "metadata": {
    "cell_style": "split"
   },
   "outputs": [
    {
     "name": "stdout",
     "output_type": "stream",
     "text": [
      "<class 'pandas.core.frame.DataFrame'>\n",
      "RangeIndex: 640574 entries, 0 to 640573\n",
      "Data columns (total 3 columns):\n",
      "organization_uuid     640574 non-null object\n",
      "activation_date_1     400908 non-null object\n",
      "activation_date_10    275301 non-null object\n",
      "dtypes: object(3)\n",
      "memory usage: 14.7+ MB\n"
     ]
    }
   ],
   "source": [
    "organization_atc.info()"
   ]
  },
  {
   "cell_type": "code",
   "execution_count": 22,
   "metadata": {},
   "outputs": [],
   "source": [
    "act1 = organization_atc[~organization_atc.activation_date_1.isna()].shape[0]\n",
    "act10 = organization_atc[~organization_atc.activation_date_10.isna()].shape[0]"
   ]
  },
  {
   "cell_type": "code",
   "execution_count": 28,
   "metadata": {},
   "outputs": [],
   "source": [
    "df_t.at['act1','nr_merchants'] = act1\n",
    "df_t.at['act10','nr_merchants'] = act10\n",
    "df_t.at['act1','per'] = act1*100/reg\n",
    "df_t.at['act10','per'] = act10*100/reg"
   ]
  },
  {
   "cell_type": "code",
   "execution_count": 29,
   "metadata": {},
   "outputs": [
    {
     "data": {
      "text/html": [
       "<div>\n",
       "<style scoped>\n",
       "    .dataframe tbody tr th:only-of-type {\n",
       "        vertical-align: middle;\n",
       "    }\n",
       "\n",
       "    .dataframe tbody tr th {\n",
       "        vertical-align: top;\n",
       "    }\n",
       "\n",
       "    .dataframe thead th {\n",
       "        text-align: right;\n",
       "    }\n",
       "</style>\n",
       "<table border=\"1\" class=\"dataframe\">\n",
       "  <thead>\n",
       "    <tr style=\"text-align: right;\">\n",
       "      <th></th>\n",
       "      <th>nr_merchants</th>\n",
       "      <th>per</th>\n",
       "    </tr>\n",
       "  </thead>\n",
       "  <tbody>\n",
       "    <tr>\n",
       "      <td>reg</td>\n",
       "      <td>1116249.0</td>\n",
       "      <td>100.000000</td>\n",
       "    </tr>\n",
       "    <tr>\n",
       "      <td>kyc_fill</td>\n",
       "      <td>640574.0</td>\n",
       "      <td>57.390000</td>\n",
       "    </tr>\n",
       "    <tr>\n",
       "      <td>kyc_accepted</td>\n",
       "      <td>598531.0</td>\n",
       "      <td>53.620000</td>\n",
       "    </tr>\n",
       "    <tr>\n",
       "      <td>act1</td>\n",
       "      <td>400908.0</td>\n",
       "      <td>35.915642</td>\n",
       "    </tr>\n",
       "    <tr>\n",
       "      <td>act10</td>\n",
       "      <td>275301.0</td>\n",
       "      <td>24.663046</td>\n",
       "    </tr>\n",
       "  </tbody>\n",
       "</table>\n",
       "</div>"
      ],
      "text/plain": [
       "              nr_merchants         per\n",
       "reg              1116249.0  100.000000\n",
       "kyc_fill          640574.0   57.390000\n",
       "kyc_accepted      598531.0   53.620000\n",
       "act1              400908.0   35.915642\n",
       "act10             275301.0   24.663046"
      ]
     },
     "execution_count": 29,
     "metadata": {},
     "output_type": "execute_result"
    }
   ],
   "source": [
    "df_t"
   ]
  },
  {
   "cell_type": "code",
   "execution_count": 36,
   "metadata": {},
   "outputs": [
    {
     "data": {
      "image/png": "[encoded data removed]",
      "text/plain": [
       "<Figure size 720x432 with 2 Axes>"
      ]
     },
     "metadata": {},
     "output_type": "display_data"
    }
   ],
   "source": [
    "fig = plt.figure()\n",
    "fig.add_subplot(1,2,1)\n",
    "df_t['nr_merchants'].plot(kind = 'bar', \n",
    "         color = 'slateblue', rot = 0, figsize = (10,6))\n",
    "plt.ylabel('nr_merchants')\n",
    "#plt.show()\n",
    "\n",
    "fig.add_subplot(1,2,2)\n",
    "df_t['per'].plot(kind = 'bar',\n",
    "         color = 'slateblue', rot = 0, figsize = (10,6))\n",
    "plt.ylabel('percentage')\n",
    "plt.show()"
   ]
  },
  {
   "cell_type": "code",
   "execution_count": null,
   "metadata": {},
   "outputs": [],
   "source": []
  }
 ],
 "metadata": {
  "kernelspec": {
   "display_name": "Python 3",
   "language": "python",
   "name": "python3"
  },
  "language_info": {
   "codemirror_mode": {
    "name": "ipython",
    "version": 3
   },
   "file_extension": ".py",
   "mimetype": "text/x-python",
   "name": "python",
   "nbconvert_exporter": "python",
   "pygments_lexer": "ipython3",
   "version": "3.7.3"
  },
  "toc": {
   "base_numbering": 1,
   "nav_menu": {},
   "number_sections": false,
   "sideBar": true,
   "skip_h1_title": false,
   "title_cell": "Table of Contents",
   "title_sidebar": "Contents",
   "toc_cell": false,
   "toc_position": {
    "height": "calc(100% - 180px)",
    "left": "10px",
    "top": "150px",
    "width": "336px"
   },
   "toc_section_display": true,
   "toc_window_display": true
  }
 },
 "nbformat": 4,
 "nbformat_minor": 2
}
