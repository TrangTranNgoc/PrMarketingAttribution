{
 "cells": [
  {
   "cell_type": "markdown",
   "metadata": {},
   "source": [
    "# Methodology"
   ]
  },
  {
   "cell_type": "markdown",
   "metadata": {},
   "source": [
    "**1. Conversion: REG**\n",
    "\n",
    "- Customer journey: upto REG\n",
    "- Apply: both last touch point and Shapley models\n",
    "\n",
    "**2. Conversion: KYC**\n",
    "\n",
    "- Customer journey: upto REG\n",
    "- Apply: both last touch point and Shapley models\n",
    "\n",
    "- Reasons:\n",
    "    - Time from REG to KYC filling:\n",
    "        - 88% of merchants filling KYC form within the day of REG \n",
    "        - 90% of merchants filling KYC form within 1 day after REG\n",
    "    - Journey time: \n",
    "        - ~50% of merchants register (REG) during the day they searched.\n",
    "    - KYC form: questions requires preparation: ~main friction to reduce REG to KYC (50%)!\n",
    "    - After registration, farmiliar with iZettle: remember name/ website link/ bookmark -> traffic: direct or SEM -> bias towards Google. While the aim is not to reduce Google SEM bias.\n",
    "\n",
    "**3. Conversion: ATC1**\n",
    "\n",
    "- Customer journey: upto REG\n",
    "- Apply: both last touch point and Shapley models\n",
    "- Reasons:\n",
    "    - Depend on external (non-online) factors (card reader sent, kyc acceptance, facilities at business ....)\n",
    "    - After registration, farmiliar with iZettle: remember name/ website link/ bookmark -> traffic: direct or SEM -> bias towards Google. While the aim is not to reduce Google SEM bias\n",
    "\n",
    "**4.Conversion: revenue**\n",
    "\n",
    "- Customer journey: upto REG\n",
    "- Apply: both last touch point and Shapley models\n",
    "- Segmentation: micro, nano, small\n",
    "- Reasons: revenue depends on the business itself. But the bigger one, more carefull in selecting payment methods (REG)\n",
    "- Hyposthesis: micro and nano find and register iZettle much quicker than small ones -> customer journey and time of micro and nano < these of small segment\n",
    "\n",
    "Dataset: card_payment_org_agg_month\n",
    "\n",
    "Challenge: segement of each merchant can vary by months?\n",
    "\n",
    "Solution: take the nearest month's revenue after REG?"
   ]
  },
  {
   "cell_type": "code",
   "execution_count": null,
   "metadata": {},
   "outputs": [],
   "source": []
  },
  {
   "cell_type": "code",
   "execution_count": null,
   "metadata": {},
   "outputs": [],
   "source": []
  },
  {
   "cell_type": "code",
   "execution_count": null,
   "metadata": {},
   "outputs": [],
   "source": []
  },
  {
   "cell_type": "code",
   "execution_count": null,
   "metadata": {},
   "outputs": [],
   "source": []
  }
 ],
 "metadata": {
  "kernelspec": {
   "display_name": "Python 3",
   "language": "python",
   "name": "python3"
  },
  "language_info": {
   "codemirror_mode": {
    "name": "ipython",
    "version": 3
   },
   "file_extension": ".py",
   "mimetype": "text/x-python",
   "name": "python",
   "nbconvert_exporter": "python",
   "pygments_lexer": "ipython3",
   "version": "3.7.3"
  },
  "toc": {
   "base_numbering": 1,
   "nav_menu": {},
   "number_sections": true,
   "sideBar": true,
   "skip_h1_title": false,
   "title_cell": "Table of Contents",
   "title_sidebar": "Contents",
   "toc_cell": false,
   "toc_position": {},
   "toc_section_display": true,
   "toc_window_display": false
  }
 },
 "nbformat": 4,
 "nbformat_minor": 2
}
